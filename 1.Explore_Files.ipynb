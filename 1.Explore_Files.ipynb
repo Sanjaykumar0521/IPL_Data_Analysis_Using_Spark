{
 "cells": [
  {
   "cell_type": "markdown",
   "metadata": {
    "application/vnd.databricks.v1+cell": {
     "cellMetadata": {},
     "inputWidgets": {},
     "nuid": "744fdaee-ed2d-47f3-b1a0-0f6cea61cff6",
     "showTitle": false,
     "title": ""
    }
   },
   "source": [
    "###STEP 1: Extract & Read files"
   ]
  },
  {
   "cell_type": "code",
   "execution_count": 0,
   "metadata": {
    "application/vnd.databricks.v1+cell": {
     "cellMetadata": {
      "byteLimit": 2048000,
      "rowLimit": 10000
     },
     "inputWidgets": {},
     "nuid": "47636f81-dd79-4d11-81b5-db2f4296e138",
     "showTitle": false,
     "title": ""
    }
   },
   "outputs": [],
   "source": [
    "%run \"./0.Configurations\""
   ]
  },
  {
   "cell_type": "code",
   "execution_count": 0,
   "metadata": {
    "application/vnd.databricks.v1+cell": {
     "cellMetadata": {
      "byteLimit": 2048000,
      "rowLimit": 10000
     },
     "inputWidgets": {},
     "nuid": "64e39540-110b-40f5-90a6-0a3e5f54369c",
     "showTitle": false,
     "title": ""
    }
   },
   "outputs": [
    {
     "output_type": "execute_result",
     "data": {
      "text/plain": [
       "'/mnt/ipl-data-analysis'"
      ]
     },
     "execution_count": 6,
     "metadata": {},
     "output_type": "execute_result"
    }
   ],
   "source": [
    "ipl_folder_path"
   ]
  },
  {
   "cell_type": "markdown",
   "metadata": {
    "application/vnd.databricks.v1+cell": {
     "cellMetadata": {},
     "inputWidgets": {},
     "nuid": "b94b97b4-cc84-407b-ad06-00ad35081f30",
     "showTitle": false,
     "title": ""
    }
   },
   "source": [
    "###Explore Ball By Ball File"
   ]
  },
  {
   "cell_type": "code",
   "execution_count": 0,
   "metadata": {
    "application/vnd.databricks.v1+cell": {
     "cellMetadata": {
      "byteLimit": 2048000,
      "rowLimit": 10000
     },
     "inputWidgets": {},
     "nuid": "d7508910-6679-4453-b396-e7344a2109d0",
     "showTitle": false,
     "title": ""
    }
   },
   "outputs": [
    {
     "output_type": "stream",
     "name": "stdout",
     "output_type": "stream",
     "text": [
      "+--------+-------+-------+----------+------------+------------+------------------------+----------+-----------+----------+-----+-------+----+-------+-------+-------------+--------------+------+------+-------+---+------------+-------+-----------------+----------+----------------+-------------+----------+------+-------+-----------+------+----------+--------+----------------+---------+-------------------+-------------+----------------+----------+---------------+---------+------------------+--------------+--------------+------------+-------------+-----------+\n|MatcH_id|Over_id|Ball_id|Innings_No|Team_Batting|Team_Bowling|Striker_Batting_Position|Extra_Type|Runs_Scored|Extra_runs|Wides|Legbyes|Byes|Noballs|Penalty|Bowler_Extras|      Out_type|Caught|Bowled|Run_out|LBW|Retired_hurt|Stumped|caught_and_bowled|hit_wicket|ObstructingFeild|Bowler_Wicket|Match_Date|Season|Striker|Non_Striker|Bowler|Player_Out|Fielders|Striker_match_SK|StrikerSK|NonStriker_match_SK|NONStriker_SK|Fielder_match_SK|Fielder_SK|Bowler_match_SK|BOWLER_SK|PlayerOut_match_SK|BattingTeam_SK|BowlingTeam_SK|Keeper_Catch|Player_out_sk|MatchDateSK|\n+--------+-------+-------+----------+------------+------------+------------------------+----------+-----------+----------+-----+-------+----+-------+-------+-------------+--------------+------+------+-------+---+------------+-------+-----------------+----------+----------------+-------------+----------+------+-------+-----------+------+----------+--------+----------------+---------+-------------------+-------------+----------------+----------+---------------+---------+------------------+--------------+--------------+------------+-------------+-----------+\n|  598028|     15|      6|         1|           5|           2|                       6| No Extras|          4|         0|    0|      0|   0|      0|      0|            0|Not Applicable|     0|     0|      0|  0|           0|      0|                0|         0|               0|            0|2013-04-20|  2013|    277|        104|    83|      NULL|    NULL|           20336|      276|              20333|          103|              -1|        -1|          20343|       82|                -1|             4|             1|           0|            0|   20130420|\n|  598028|     14|      1|         1|           5|           2|                       5| No Extras|          1|         0|    0|      0|   0|      0|      0|            0|Not Applicable|     0|     0|      0|  0|           0|      0|                0|         0|               0|            0|2013-04-20|  2013|    104|          6|   346|      NULL|    NULL|           20333|      103|              20328|            5|              -1|        -1|          20348|      345|                -1|             4|             1|           0|            0|   20130420|\n|  598028|     14|      2|         1|           5|           2|                       3| No Extras|          1|         0|    0|      0|   0|      0|      0|            0|Not Applicable|     0|     0|      0|  0|           0|      0|                0|         0|               0|            0|2013-04-20|  2013|      6|        104|   346|      NULL|    NULL|           20328|        5|              20333|          103|              -1|        -1|          20348|      345|                -1|             4|             1|           0|            0|   20130420|\n|  598028|     14|      3|         1|           5|           2|                       5| No Extras|          1|         0|    0|      0|   0|      0|      0|            0|Not Applicable|     0|     0|      0|  0|           0|      0|                0|         0|               0|            0|2013-04-20|  2013|    104|          6|   346|      NULL|    NULL|           20333|      103|              20328|            5|              -1|        -1|          20348|      345|                -1|             4|             1|           0|            0|   20130420|\n|  598028|     14|      4|         1|           5|           2|                       3| No Extras|          0|         0|    0|      0|   0|      0|      0|            0|Not Applicable|     0|     0|      0|  0|           0|      0|                0|         0|               0|            0|2013-04-20|  2013|      6|        104|   346|      NULL|    NULL|           20328|        5|              20333|          103|              -1|        -1|          20348|      345|                -1|             4|             1|           0|            0|   20130420|\n+--------+-------+-------+----------+------------+------------+------------------------+----------+-----------+----------+-----+-------+----+-------+-------+-------------+--------------+------+------+-------+---+------------+-------+-----------------+----------+----------------+-------------+----------+------+-------+-----------+------+----------+--------+----------------+---------+-------------------+-------------+----------------+----------+---------------+---------+------------------+--------------+--------------+------------+-------------+-----------+\nonly showing top 5 rows\n\n"
     ]
    }
   ],
   "source": [
    "### Ball By Ball Files\n",
    "bbb_df=spark.read.option('header','true').option('inferschema','true').csv(f'{ipl_folder_path}/raw/Ball_By_Ball.csv')\n",
    "bbb_df.show(5)"
   ]
  },
  {
   "cell_type": "code",
   "execution_count": 0,
   "metadata": {
    "application/vnd.databricks.v1+cell": {
     "cellMetadata": {
      "byteLimit": 2048000,
      "rowLimit": 10000
     },
     "inputWidgets": {},
     "nuid": "505a42a2-a3a1-423b-991d-fe57cf010af5",
     "showTitle": false,
     "title": ""
    }
   },
   "outputs": [
    {
     "output_type": "stream",
     "name": "stdout",
     "output_type": "stream",
     "text": [
      "root\n |-- MatcH_id: integer (nullable = true)\n |-- Over_id: integer (nullable = true)\n |-- Ball_id: integer (nullable = true)\n |-- Innings_No: integer (nullable = true)\n |-- Team_Batting: string (nullable = true)\n |-- Team_Bowling: string (nullable = true)\n |-- Striker_Batting_Position: integer (nullable = true)\n |-- Extra_Type: string (nullable = true)\n |-- Runs_Scored: integer (nullable = true)\n |-- Extra_runs: integer (nullable = true)\n |-- Wides: integer (nullable = true)\n |-- Legbyes: integer (nullable = true)\n |-- Byes: integer (nullable = true)\n |-- Noballs: integer (nullable = true)\n |-- Penalty: integer (nullable = true)\n |-- Bowler_Extras: integer (nullable = true)\n |-- Out_type: string (nullable = true)\n |-- Caught: integer (nullable = true)\n |-- Bowled: integer (nullable = true)\n |-- Run_out: integer (nullable = true)\n |-- LBW: integer (nullable = true)\n |-- Retired_hurt: integer (nullable = true)\n |-- Stumped: integer (nullable = true)\n |-- caught_and_bowled: integer (nullable = true)\n |-- hit_wicket: integer (nullable = true)\n |-- ObstructingFeild: integer (nullable = true)\n |-- Bowler_Wicket: integer (nullable = true)\n |-- Match_Date: date (nullable = true)\n |-- Season: integer (nullable = true)\n |-- Striker: integer (nullable = true)\n |-- Non_Striker: integer (nullable = true)\n |-- Bowler: integer (nullable = true)\n |-- Player_Out: integer (nullable = true)\n |-- Fielders: integer (nullable = true)\n |-- Striker_match_SK: integer (nullable = true)\n |-- StrikerSK: integer (nullable = true)\n |-- NonStriker_match_SK: integer (nullable = true)\n |-- NONStriker_SK: integer (nullable = true)\n |-- Fielder_match_SK: integer (nullable = true)\n |-- Fielder_SK: integer (nullable = true)\n |-- Bowler_match_SK: integer (nullable = true)\n |-- BOWLER_SK: integer (nullable = true)\n |-- PlayerOut_match_SK: integer (nullable = true)\n |-- BattingTeam_SK: integer (nullable = true)\n |-- BowlingTeam_SK: integer (nullable = true)\n |-- Keeper_Catch: integer (nullable = true)\n |-- Player_out_sk: integer (nullable = true)\n |-- MatchDateSK: integer (nullable = true)\n\n"
     ]
    }
   ],
   "source": [
    "##Check Schema\n",
    "bbb_df.printSchema()"
   ]
  },
  {
   "cell_type": "code",
   "execution_count": 0,
   "metadata": {
    "application/vnd.databricks.v1+cell": {
     "cellMetadata": {
      "byteLimit": 2048000,
      "rowLimit": 10000
     },
     "inputWidgets": {},
     "nuid": "58a5c1d1-bf9b-4388-8689-adc88d23ef65",
     "showTitle": false,
     "title": ""
    }
   },
   "outputs": [
    {
     "output_type": "stream",
     "name": "stdout",
     "output_type": "stream",
     "text": [
      "+--------+-------+-------+----------+------------+------------+------------------------+----------+-----------+----------+-----+-------+----+-------+-------+-------------+--------------+------+------+-------+---+------------+-------+-----------------+----------+----------------+-------------+----------+------+-------+-----------+------+----------+--------+----------------+---------+-------------------+-------------+----------------+----------+---------------+---------+------------------+--------------+--------------+------------+-------------+-----------+\n|MatcH_id|Over_id|Ball_id|Innings_No|Team_Batting|Team_Bowling|Striker_Batting_Position|Extra_Type|Runs_Scored|Extra_runs|Wides|Legbyes|Byes|Noballs|Penalty|Bowler_Extras|      Out_type|Caught|Bowled|Run_out|LBW|Retired_hurt|Stumped|caught_and_bowled|hit_wicket|ObstructingFeild|Bowler_Wicket|Match_Date|Season|Striker|Non_Striker|Bowler|Player_Out|Fielders|Striker_match_SK|StrikerSK|NonStriker_match_SK|NONStriker_SK|Fielder_match_SK|Fielder_SK|Bowler_match_SK|BOWLER_SK|PlayerOut_match_SK|BattingTeam_SK|BowlingTeam_SK|Keeper_Catch|Player_out_sk|MatchDateSK|\n+--------+-------+-------+----------+------------+------------+------------------------+----------+-----------+----------+-----+-------+----+-------+-------+-------------+--------------+------+------+-------+---+------------+-------+-----------------+----------+----------------+-------------+----------+------+-------+-----------+------+----------+--------+----------------+---------+-------------------+-------------+----------------+----------+---------------+---------+------------------+--------------+--------------+------------+-------------+-----------+\n|  598028|     15|      6|         1|           5|           2|                       6| No Extras|          4|         0|    0|      0|   0|      0|      0|            0|Not Applicable|     0|     0|      0|  0|           0|      0|                0|         0|               0|            0|2013-04-20|  2013|    277|        104|    83|      NULL|    NULL|           20336|      276|              20333|          103|              -1|        -1|          20343|       82|                -1|             4|             1|           0|            0|   20130420|\n|  598028|     14|      1|         1|           5|           2|                       5| No Extras|          1|         0|    0|      0|   0|      0|      0|            0|Not Applicable|     0|     0|      0|  0|           0|      0|                0|         0|               0|            0|2013-04-20|  2013|    104|          6|   346|      NULL|    NULL|           20333|      103|              20328|            5|              -1|        -1|          20348|      345|                -1|             4|             1|           0|            0|   20130420|\n|  598028|     14|      2|         1|           5|           2|                       3| No Extras|          1|         0|    0|      0|   0|      0|      0|            0|Not Applicable|     0|     0|      0|  0|           0|      0|                0|         0|               0|            0|2013-04-20|  2013|      6|        104|   346|      NULL|    NULL|           20328|        5|              20333|          103|              -1|        -1|          20348|      345|                -1|             4|             1|           0|            0|   20130420|\n|  598028|     14|      3|         1|           5|           2|                       5| No Extras|          1|         0|    0|      0|   0|      0|      0|            0|Not Applicable|     0|     0|      0|  0|           0|      0|                0|         0|               0|            0|2013-04-20|  2013|    104|          6|   346|      NULL|    NULL|           20333|      103|              20328|            5|              -1|        -1|          20348|      345|                -1|             4|             1|           0|            0|   20130420|\n|  598028|     14|      4|         1|           5|           2|                       3| No Extras|          0|         0|    0|      0|   0|      0|      0|            0|Not Applicable|     0|     0|      0|  0|           0|      0|                0|         0|               0|            0|2013-04-20|  2013|      6|        104|   346|      NULL|    NULL|           20328|        5|              20333|          103|              -1|        -1|          20348|      345|                -1|             4|             1|           0|            0|   20130420|\n+--------+-------+-------+----------+------------+------------+------------------------+----------+-----------+----------+-----+-------+----+-------+-------+-------------+--------------+------+------+-------+---+------------+-------+-----------------+----------+----------------+-------------+----------+------+-------+-----------+------+----------+--------+----------------+---------+-------------------+-------------+----------------+----------+---------------+---------+------------------+--------------+--------------+------------+-------------+-----------+\nonly showing top 5 rows\n\n"
     ]
    }
   ],
   "source": [
    "display(bbb_df.show(5))"
   ]
  },
  {
   "cell_type": "markdown",
   "metadata": {
    "application/vnd.databricks.v1+cell": {
     "cellMetadata": {},
     "inputWidgets": {},
     "nuid": "9ba44ecf-cfc3-4950-8f63-70de75bbcf5b",
     "showTitle": false,
     "title": ""
    }
   },
   "source": [
    "### Explore Match File"
   ]
  },
  {
   "cell_type": "code",
   "execution_count": 0,
   "metadata": {
    "application/vnd.databricks.v1+cell": {
     "cellMetadata": {
      "byteLimit": 2048000,
      "rowLimit": 10000
     },
     "inputWidgets": {},
     "nuid": "ccc2e6bd-cb81-4cc7-ac75-eb52aef83152",
     "showTitle": false,
     "title": ""
    }
   },
   "outputs": [
    {
     "output_type": "stream",
     "name": "stdout",
     "output_type": "stream",
     "text": [
      "+--------+--------+--------------------+--------------------+----------+-----------+--------------------+----------+------------+--------------------+--------------------+---------+--------+------------+-----------+----------+----------+\n|Match_SK|match_id|               Team1|               Team2|match_date|Season_Year|          Venue_Name| City_Name|Country_Name|         Toss_Winner|        match_winner|Toss_Name|Win_Type|Outcome_Type|  ManOfMach|Win_Margin|Country_id|\n+--------+--------+--------------------+--------------------+----------+-----------+--------------------+----------+------------+--------------------+--------------------+---------+--------+------------+-----------+----------+----------+\n|       0|  335987|Royal Challengers...|Kolkata Knight Ri...|2008-04-18|       2008|M Chinnaswamy Sta...| Bangalore|       India|Royal Challengers...|Kolkata Knight Ri...|    field|    runs|      Result|BB McCullum|       140|         1|\n|       1|  335988|     Kings XI Punjab| Chennai Super Kings|2008-04-19|       2008|Punjab Cricket As...|Chandigarh|       India| Chennai Super Kings| Chennai Super Kings|      bat|    runs|      Result| MEK Hussey|        33|         1|\n|       2|  335989|    Delhi Daredevils|    Rajasthan Royals|2008-04-19|       2008|    Feroz Shah Kotla|     Delhi|       India|    Rajasthan Royals|    Delhi Daredevils|      bat| wickets|      Result|MF Maharoof|         9|         1|\n|       3|  335990|      Mumbai Indians|Royal Challengers...|2008-04-20|       2008|    Wankhede Stadium|    Mumbai|       India|      Mumbai Indians|Royal Challengers...|      bat| wickets|      Result| MV Boucher|         5|         1|\n|       4|  335991|Kolkata Knight Ri...|     Deccan Chargers|2008-04-20|       2008|        Eden Gardens|   Kolkata|       India|     Deccan Chargers|Kolkata Knight Ri...|      bat| wickets|      Result|  DJ Hussey|         5|         1|\n+--------+--------+--------------------+--------------------+----------+-----------+--------------------+----------+------------+--------------------+--------------------+---------+--------+------------+-----------+----------+----------+\nonly showing top 5 rows\n\n"
     ]
    }
   ],
   "source": [
    "match_df=spark.read.option('header','true').option('inferschema','true').csv(f'{ipl_folder_path}/raw/Match.csv')\n",
    "match_df.show(5)"
   ]
  },
  {
   "cell_type": "markdown",
   "metadata": {
    "application/vnd.databricks.v1+cell": {
     "cellMetadata": {},
     "inputWidgets": {},
     "nuid": "db9d4504-5d23-435e-bac2-46c2ff1aba3e",
     "showTitle": false,
     "title": ""
    }
   },
   "source": [
    "###Explore Player Match File"
   ]
  },
  {
   "cell_type": "code",
   "execution_count": 0,
   "metadata": {
    "application/vnd.databricks.v1+cell": {
     "cellMetadata": {
      "byteLimit": 2048000,
      "rowLimit": 10000
     },
     "inputWidgets": {},
     "nuid": "51b6c7f1-2dad-43c8-9a33-0df2216a773d",
     "showTitle": false,
     "title": ""
    }
   },
   "outputs": [
    {
     "output_type": "stream",
     "name": "stdout",
     "output_type": "stream",
     "text": [
      "+---------------+---------------+--------+---------+-----------+----------+--------------+--------------------+------------+---------+--------------------+--------------------+-----------+----------------+---------------+------------------+--------------+--------------+--------------+---------------+-------------+--------------+\n|Player_match_SK|PlayerMatch_key|Match_Id|Player_Id|Player_Name|       DOB|  Batting_hand|       Bowling_skill|Country_Name|Role_Desc|         Player_team|        Opposit_Team|Season_year|is_manofThematch|Age_As_on_match|IsPlayers_Team_won|Batting_Status|Bowling_Status|Player_Captain|Opposit_captain|Player_keeper|Opposit_keeper|\n+---------------+---------------+--------+---------+-----------+----------+--------------+--------------------+------------+---------+--------------------+--------------------+-----------+----------------+---------------+------------------+--------------+--------------+--------------+---------------+-------------+--------------+\n|             -1|           -1.0|      -1|       -1|        N/A|      NULL|          NULL|                NULL|        NULL|     NULL|                NULL|                NULL|       NULL|            NULL|           NULL|              NULL|          NULL|          NULL|          NULL|           NULL|         NULL|          NULL|\n|          12694|3.3598700006E10|  335987|        6|   R Dravid|1973-01-11|Right-hand bat|  Right-arm offbreak|       India|  Captain|Royal Challengers...|Kolkata Knight Ri...|       2008|               0|             35|                 0|          NULL|          NULL|      R Dravid|     SC Ganguly|   MV Boucher|       WP Saha|\n|          12695|3.3598700007E10|  335987|        7|   W Jaffer|1978-02-16|Right-hand bat|  Right-arm offbreak|       India|   Player|Royal Challengers...|Kolkata Knight Ri...|       2008|               0|             30|                 0|          NULL|          NULL|      R Dravid|     SC Ganguly|   MV Boucher|       WP Saha|\n|          12696|3.3598700008E10|  335987|        8|    V Kohli|1988-11-05|Right-hand bat|    Right-arm medium|       India|   Player|Royal Challengers...|Kolkata Knight Ri...|       2008|               0|             20|                 0|          NULL|          NULL|      R Dravid|     SC Ganguly|   MV Boucher|       WP Saha|\n|          12697|3.3598700009E10|  335987|        9|  JH Kallis|1975-10-16|Right-hand bat|Right-arm fast-me...|South Africa|   Player|Royal Challengers...|Kolkata Knight Ri...|       2008|               0|             33|                 0|          NULL|          NULL|      R Dravid|     SC Ganguly|   MV Boucher|       WP Saha|\n+---------------+---------------+--------+---------+-----------+----------+--------------+--------------------+------------+---------+--------------------+--------------------+-----------+----------------+---------------+------------------+--------------+--------------+--------------+---------------+-------------+--------------+\nonly showing top 5 rows\n\n"
     ]
    }
   ],
   "source": [
    "player_match_df=spark.read.option('header','true').option('inferschema','true').csv(f'{ipl_folder_path}/raw/Player_match.csv')\n",
    "player_match_df.show(5)"
   ]
  },
  {
   "cell_type": "markdown",
   "metadata": {
    "application/vnd.databricks.v1+cell": {
     "cellMetadata": {},
     "inputWidgets": {},
     "nuid": "dc14506b-9c29-4d35-b620-ae21cc7cf212",
     "showTitle": false,
     "title": ""
    }
   },
   "source": [
    "###Explore Player file"
   ]
  },
  {
   "cell_type": "code",
   "execution_count": 0,
   "metadata": {
    "application/vnd.databricks.v1+cell": {
     "cellMetadata": {
      "byteLimit": 2048000,
      "rowLimit": 10000
     },
     "inputWidgets": {},
     "nuid": "cb880dd6-82e0-4fcf-b8e9-5dcd2cb5d560",
     "showTitle": false,
     "title": ""
    }
   },
   "outputs": [
    {
     "output_type": "stream",
     "name": "stdout",
     "output_type": "stream",
     "text": [
      "+---------+---------+---------------+----------+--------------+------------------+------------+\n|PLAYER_SK|Player_Id|    Player_Name|       DOB|  Batting_hand|     Bowling_skill|Country_Name|\n+---------+---------+---------------+----------+--------------+------------------+------------+\n|        0|        1|     SC Ganguly|1972-07-08| Left-hand bat|  Right-arm medium|       India|\n|        1|        2|    BB McCullum|1981-09-27|Right-hand bat|  Right-arm medium| New Zealand|\n|        2|        3|     RT Ponting|1974-12-19|Right-hand bat|  Right-arm medium|   Australia|\n|        3|        4|      DJ Hussey|1977-07-15|Right-hand bat|Right-arm offbreak|   Australia|\n|        4|        5|Mohammad Hafeez|1980-10-17|Right-hand bat|Right-arm offbreak|    Pakistan|\n+---------+---------+---------------+----------+--------------+------------------+------------+\nonly showing top 5 rows\n\n"
     ]
    }
   ],
   "source": [
    "player_df=spark.read.option('header','true').option('inferschema','true').csv(f'{ipl_folder_path}/raw/Player.csv')\n",
    "player_df.show(5)"
   ]
  },
  {
   "cell_type": "markdown",
   "metadata": {
    "application/vnd.databricks.v1+cell": {
     "cellMetadata": {},
     "inputWidgets": {},
     "nuid": "68eb54b7-ca98-448c-9105-0f540e416423",
     "showTitle": false,
     "title": ""
    }
   },
   "source": [
    "### Explore Team File"
   ]
  },
  {
   "cell_type": "code",
   "execution_count": 0,
   "metadata": {
    "application/vnd.databricks.v1+cell": {
     "cellMetadata": {
      "byteLimit": 2048000,
      "rowLimit": 10000
     },
     "inputWidgets": {},
     "nuid": "e167c1a0-59d0-4379-bb62-a4541ef09b52",
     "showTitle": false,
     "title": ""
    }
   },
   "outputs": [
    {
     "output_type": "stream",
     "name": "stdout",
     "output_type": "stream",
     "text": [
      "+-------+-------+---------------------------+\n|Team_SK|Team_Id|Team_Name                  |\n+-------+-------+---------------------------+\n|0      |1      |Kolkata Knight Riders      |\n|1      |2      |Royal Challengers Bangalore|\n|2      |3      |Chennai Super Kings        |\n|3      |4      |Kings XI Punjab            |\n|4      |5      |Rajasthan Royals           |\n|5      |6      |Delhi Daredevils           |\n|6      |7      |Mumbai Indians             |\n|7      |8      |Deccan Chargers            |\n|8      |9      |Kochi Tuskers Kerala       |\n|9      |10     |Pune Warriors              |\n|10     |11     |Sunrisers Hyderabad        |\n|11     |12     |Rising Pune Supergiants    |\n|12     |13     |Gujarat Lions              |\n+-------+-------+---------------------------+\n\n"
     ]
    }
   ],
   "source": [
    "team_df=spark.read.option('header','true').option('inferschema','true').csv(f'{ipl_folder_path}/raw/Team.csv')\n",
    "team_df.show(truncate=False)"
   ]
  },
  {
   "cell_type": "code",
   "execution_count": 0,
   "metadata": {
    "application/vnd.databricks.v1+cell": {
     "cellMetadata": {
      "byteLimit": 2048000,
      "rowLimit": 10000
     },
     "inputWidgets": {},
     "nuid": "ffda3ada-3a11-47a2-86fa-8608865aae90",
     "showTitle": false,
     "title": ""
    }
   },
   "outputs": [
    {
     "output_type": "execute_result",
     "data": {
      "text/plain": [
       "13"
      ]
     },
     "execution_count": 14,
     "metadata": {},
     "output_type": "execute_result"
    }
   ],
   "source": [
    "team_df.count()"
   ]
  },
  {
   "cell_type": "code",
   "execution_count": 0,
   "metadata": {
    "application/vnd.databricks.v1+cell": {
     "cellMetadata": {
      "byteLimit": 2048000,
      "rowLimit": 10000
     },
     "inputWidgets": {},
     "nuid": "af28b1c6-9c95-4b86-b5bf-0d6cd3da43af",
     "showTitle": false,
     "title": ""
    }
   },
   "outputs": [
    {
     "output_type": "stream",
     "name": "stdout",
     "output_type": "stream",
     "text": [
      "+---------+---------+-----------+----------+--------------+----------------+------------+\n|PLAYER_SK|Player_Id|Player_Name|       DOB|  Batting_hand|   Bowling_skill|Country_Name|\n+---------+---------+-----------+----------+--------------+----------------+------------+\n|        7|        8|    V Kohli|1988-11-05|Right-hand bat|Right-arm medium|       India|\n+---------+---------+-----------+----------+--------------+----------------+------------+\n\n"
     ]
    }
   ],
   "source": [
    "\n",
    "player_df.filter(player_df.Player_Name==\"V Kohli\").show()"
   ]
  },
  {
   "cell_type": "code",
   "execution_count": 0,
   "metadata": {
    "application/vnd.databricks.v1+cell": {
     "cellMetadata": {},
     "inputWidgets": {},
     "nuid": "979848c2-11a1-45ce-9c50-0c8f6079ac9e",
     "showTitle": false,
     "title": ""
    }
   },
   "outputs": [],
   "source": []
  }
 ],
 "metadata": {
  "application/vnd.databricks.v1+notebook": {
   "dashboards": [],
   "language": "python",
   "notebookMetadata": {
    "mostRecentlyExecutedCommandWithImplicitDF": {
     "commandId": 2033650434375554,
     "dataframes": [
      "_sqldf"
     ]
    },
    "pythonIndentUnit": 4
   },
   "notebookName": "1.Explore_Files",
   "widgets": {}
  }
 },
 "nbformat": 4,
 "nbformat_minor": 0
}
