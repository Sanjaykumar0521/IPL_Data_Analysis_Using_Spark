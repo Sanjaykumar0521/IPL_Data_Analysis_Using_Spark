{
 "cells": [
  {
   "cell_type": "markdown",
   "metadata": {
    "application/vnd.databricks.v1+cell": {
     "cellMetadata": {},
     "inputWidgets": {},
     "nuid": "689d278e-91c1-458d-bae4-3e5f009d8de1",
     "showTitle": false,
     "title": ""
    }
   },
   "source": [
    "### Analyze data Using Spark Sql"
   ]
  },
  {
   "cell_type": "code",
   "execution_count": 0,
   "metadata": {
    "application/vnd.databricks.v1+cell": {
     "cellMetadata": {
      "byteLimit": 2048000,
      "rowLimit": 10000
     },
     "inputWidgets": {},
     "nuid": "3108feb9-7f2e-427b-96f4-32eb18c58367",
     "showTitle": false,
     "title": ""
    }
   },
   "outputs": [],
   "source": [
    "%run \"./0.Configurations\""
   ]
  },
  {
   "cell_type": "code",
   "execution_count": 0,
   "metadata": {
    "application/vnd.databricks.v1+cell": {
     "cellMetadata": {
      "byteLimit": 2048000,
      "implicitDf": true,
      "rowLimit": 10000
     },
     "inputWidgets": {},
     "nuid": "4db213e0-ffb1-4879-bcee-0200025675bd",
     "showTitle": false,
     "title": ""
    }
   },
   "outputs": [],
   "source": [
    "%sql\n",
    "SELECT * FROM global_temp.ball_by_ball LIMIT 10;\n",
    "SELECT * FROM global_temp.match LIMIT 10;\n",
    "SELECT * FROM global_temp.player LIMIT 10;\n",
    "SELECT * FROM global_temp.player_match LIMIT 10;\n",
    "SELECT * FROM global_temp.team LIMIT 10;"
   ]
  },
  {
   "cell_type": "code",
   "execution_count": 0,
   "metadata": {
    "application/vnd.databricks.v1+cell": {
     "cellMetadata": {
      "byteLimit": 2048000,
      "implicitDf": true,
      "rowLimit": 10000
     },
     "inputWidgets": {},
     "nuid": "134a6e95-2a1d-479d-9098-8c5dd6230e29",
     "showTitle": false,
     "title": ""
    }
   },
   "outputs": [
    {
     "output_type": "display_data",
     "data": {
      "text/html": [
       "<style scoped>\n",
       "  .table-result-container {\n",
       "    max-height: 300px;\n",
       "    overflow: auto;\n",
       "  }\n",
       "  table, th, td {\n",
       "    border: 1px solid black;\n",
       "    border-collapse: collapse;\n",
       "  }\n",
       "  th, td {\n",
       "    padding: 5px;\n",
       "  }\n",
       "  th {\n",
       "    text-align: left;\n",
       "  }\n",
       "</style><div class='table-result-container'><table class='table-result'><thead style='background-color: white'><tr><th>player_name</th><th>avg_runs_per_ball</th><th>total_wickets</th></tr></thead><tbody><tr><td>sm harwood</td><td>0.3157894736842105</td><td>0</td></tr><tr><td>a zampa</td><td>0.42857142857142855</td><td>0</td></tr><tr><td>ankit soni</td><td>0.5</td><td>0</td></tr><tr><td>gr napier</td><td>0.5</td><td>0</td></tr><tr><td>aj finch</td><td>0.5</td><td>0</td></tr><tr><td>avesh khan</td><td>0.5</td><td>0</td></tr><tr><td>nb singh</td><td>0.56</td><td>0</td></tr><tr><td>ag murtaza</td><td>0.6455696202531646</td><td>0</td></tr><tr><td>fh edwards</td><td>0.6585365853658537</td><td>0</td></tr><tr><td>sb bangar</td><td>0.6666666666666666</td><td>0</td></tr><tr><td>d du preez</td><td>0.6666666666666666</td><td>0</td></tr><tr><td>s gopal</td><td>0.6666666666666666</td><td>0</td></tr><tr><td>kp pietersen</td><td>0.7</td><td>0</td></tr><tr><td>la carseldine</td><td>0.7142857142857143</td><td>0</td></tr><tr><td>ss mundhe</td><td>0.7142857142857143</td><td>0</td></tr><tr><td>a kumble</td><td>0.7614678899082569</td><td>0</td></tr><tr><td>umar gul</td><td>0.7619047619047619</td><td>0</td></tr><tr><td>j syed mohammad</td><td>0.7777777777777778</td><td>0</td></tr><tr><td>c de grandhomme</td><td>0.7857142857142857</td><td>0</td></tr><tr><td>smsm senanayake</td><td>0.8294573643410853</td><td>0</td></tr><tr><td>rj peterson</td><td>0.8333333333333334</td><td>0</td></tr><tr><td>tl suman</td><td>0.8333333333333334</td><td>0</td></tr><tr><td>a symonds</td><td>0.8559322033898306</td><td>0</td></tr><tr><td>sohail tanvir</td><td>0.8561643835616438</td><td>0</td></tr><tr><td>t thushara</td><td>0.8571428571428571</td><td>0</td></tr><tr><td>dp nannes</td><td>0.8858695652173914</td><td>0</td></tr><tr><td>mustafizur rahman</td><td>0.8867924528301887</td><td>0</td></tr><tr><td>sl malinga</td><td>0.9036259541984732</td><td>0</td></tr><tr><td>sp narine</td><td>0.9132149901380671</td><td>0</td></tr><tr><td>gd mcgrath</td><td>0.915929203539823</td><td>0</td></tr><tr><td>d wiese</td><td>0.9206349206349206</td><td>0</td></tr><tr><td>bw hilfenhaus</td><td>0.9206349206349206</td><td>0</td></tr><tr><td>b kumar</td><td>0.9211009174311927</td><td>0</td></tr><tr><td>dw steyn</td><td>0.9287622439893143</td><td>0</td></tr><tr><td>sb styris</td><td>0.9333333333333333</td><td>0</td></tr><tr><td>anand rajan</td><td>0.9347826086956522</td><td>0</td></tr><tr><td>sw tait</td><td>0.939622641509434</td><td>0</td></tr><tr><td>r ashwin</td><td>0.940771349862259</td><td>0</td></tr><tr><td>je taylor</td><td>0.9411764705882353</td><td>0</td></tr><tr><td>mohammad nabi</td><td>0.9444444444444444</td><td>0</td></tr><tr><td>r rampaul</td><td>0.9457831325301205</td><td>0</td></tr><tr><td>a chandila</td><td>0.9513888888888888</td><td>0</td></tr><tr><td>rj harris</td><td>0.9621380846325167</td><td>0</td></tr><tr><td>rashid khan</td><td>0.9824561403508771</td><td>0</td></tr><tr><td>sm pollock</td><td>0.9855769230769231</td><td>0</td></tr><tr><td>mn samuels</td><td>0.9875</td><td>0</td></tr><tr><td>ankit sharma</td><td>0.9928571428571429</td><td>0</td></tr><tr><td>m muralitharan</td><td>0.9935064935064936</td><td>0</td></tr><tr><td>wd parnell</td><td>0.9965397923875432</td><td>0</td></tr><tr><td>ma starc</td><td>0.9967948717948718</td><td>0</td></tr><tr><td>shahid afridi</td><td>1.0</td><td>0</td></tr><tr><td>kaj roach</td><td>1.0</td><td>0</td></tr><tr><td>se bond</td><td>1.0</td><td>0</td></tr><tr><td>pm sarvesh kumar</td><td>1.0</td><td>0</td></tr><tr><td>kk cooper</td><td>1.0</td><td>0</td></tr><tr><td>kuldeep yadav</td><td>1.0</td><td>0</td></tr><tr><td>ck langeveldt</td><td>1.0</td><td>0</td></tr><tr><td>a mishra</td><td>1.0</td><td>0</td></tr><tr><td>bipul sharma</td><td>1.0</td><td>0</td></tr><tr><td>nl mccullum</td><td>1.0</td><td>0</td></tr><tr><td>r tewatia</td><td>1.0</td><td>0</td></tr><tr><td>m vijay</td><td>1.0</td><td>0</td></tr><tr><td>ad russell</td><td>1.005</td><td>0</td></tr><tr><td>ac thomas</td><td>1.0054054054054054</td><td>0</td></tr><tr><td>aa chavan</td><td>1.0067114093959733</td><td>0</td></tr><tr><td>p kumar</td><td>1.007921998781231</td><td>0</td></tr><tr><td>wpujc vaas</td><td>1.01</td><td>0</td></tr><tr><td>a singh</td><td>1.0108695652173914</td><td>0</td></tr><tr><td>crd fernando</td><td>1.0121951219512195</td><td>0</td></tr><tr><td>iqbal abdulla</td><td>1.0178571428571428</td><td>0</td></tr><tr><td>jaskaran singh</td><td>1.0217391304347827</td><td>0</td></tr><tr><td>yk pathan</td><td>1.0298913043478262</td><td>0</td></tr><tr><td>z khan</td><td>1.0312035661218424</td><td>0</td></tr><tr><td>pp chawla</td><td>1.03125</td><td>0</td></tr><tr><td>al menaria</td><td>1.04</td><td>0</td></tr><tr><td>azhar mahmood</td><td>1.0405405405405406</td><td>0</td></tr><tr><td>gb hogg</td><td>1.0408163265306123</td><td>0</td></tr><tr><td>jj bumrah</td><td>1.0472222222222223</td><td>0</td></tr><tr><td>m ntini</td><td>1.0506329113924051</td><td>0</td></tr><tr><td>sr watson</td><td>1.0510585305105853</td><td>0</td></tr><tr><td>l balaji</td><td>1.0530785562632696</td><td>0</td></tr><tr><td>washington sundar</td><td>1.0545454545454545</td><td>0</td></tr><tr><td>dl vettori</td><td>1.054945054945055</td><td>0</td></tr><tr><td>m morkel</td><td>1.0553235908141962</td><td>0</td></tr><tr><td>s sreesanth</td><td>1.0576923076923077</td><td>0</td></tr><tr><td>kw richardson</td><td>1.0598802395209581</td><td>0</td></tr><tr><td>nm coulternile</td><td>1.0627062706270627</td><td>0</td></tr><tr><td>harbhajan singh</td><td>1.0629496402877698</td><td>0</td></tr><tr><td>ts mills</td><td>1.0666666666666667</td><td>0</td></tr><tr><td>b lee</td><td>1.0671936758893281</td><td>0</td></tr><tr><td>ik pathan</td><td>1.068893528183716</td><td>0</td></tr><tr><td>rp singh</td><td>1.069811320754717</td><td>0</td></tr><tr><td>sandeep sharma</td><td>1.0731707317073171</td><td>0</td></tr><tr><td>i sharma</td><td>1.0761904761904761</td><td>0</td></tr><tr><td>de bollinger</td><td>1.0766961651917404</td><td>0</td></tr><tr><td>nj rimmington</td><td>1.0833333333333333</td><td>0</td></tr><tr><td>jp duminy</td><td>1.0844155844155845</td><td>0</td></tr><tr><td>kmdn kulasekara</td><td>1.0845070422535212</td><td>0</td></tr><tr><td>shoaib akhtar</td><td>1.0869565217391304</td><td>0</td></tr><tr><td>m kartik</td><td>1.0923913043478262</td><td>0</td></tr><tr><td>ab dinda</td><td>1.095906432748538</td><td>0</td></tr><tr><td>r sharma</td><td>1.1</td><td>0</td></tr><tr><td>ta boult</td><td>1.1</td><td>0</td></tr><tr><td>ya abdulla</td><td>1.101123595505618</td><td>0</td></tr><tr><td>m de lange</td><td>1.1076923076923078</td><td>0</td></tr><tr><td>aj tye</td><td>1.1111111111111112</td><td>0</td></tr><tr><td>ic pandey</td><td>1.1115241635687731</td><td>0</td></tr><tr><td>ch morris</td><td>1.1124121779859484</td><td>0</td></tr><tr><td>mm patel</td><td>1.1150971599402093</td><td>0</td></tr><tr><td>baw mendis</td><td>1.11864406779661</td><td>0</td></tr><tr><td>rr powar</td><td>1.1214285714285714</td><td>0</td></tr><tr><td>kh pandya</td><td>1.1224489795918366</td><td>0</td></tr><tr><td>anureet singh</td><td>1.1265060240963856</td><td>0</td></tr><tr><td>ds kulkarni</td><td>1.1308290155440415</td><td>0</td></tr><tr><td>dt christian</td><td>1.1318681318681318</td><td>0</td></tr><tr><td>r vinay kumar</td><td>1.1319261213720317</td><td>0</td></tr><tr><td>ch gayle</td><td>1.1328125</td><td>0</td></tr><tr><td>am salvi</td><td>1.1343283582089552</td><td>0</td></tr><tr><td>jh kallis</td><td>1.1345794392523365</td><td>0</td></tr><tr><td>mf maharoof</td><td>1.1363636363636365</td><td>0</td></tr><tr><td>an ahmed</td><td>1.1398601398601398</td><td>0</td></tr><tr><td>rr raje</td><td>1.1428571428571428</td><td>0</td></tr><tr><td>jd unadkat</td><td>1.143222506393862</td><td>0</td></tr><tr><td>kv sharma</td><td>1.14375</td><td>0</td></tr><tr><td>mg johnson</td><td>1.1440261865793782</td><td>0</td></tr><tr><td>s nadeem</td><td>1.1486486486486487</td><td>0</td></tr><tr><td>jj van der wath</td><td>1.1515151515151516</td><td>0</td></tr><tr><td>s badree</td><td>1.15625</td><td>0</td></tr><tr><td>tg southee</td><td>1.16</td><td>0</td></tr><tr><td>vs malik</td><td>1.1615384615384616</td><td>0</td></tr><tr><td>gs sandhu</td><td>1.1666666666666667</td><td>0</td></tr><tr><td>daj bracewell</td><td>1.1666666666666667</td><td>0</td></tr><tr><td>jd ryder</td><td>1.1666666666666667</td><td>0</td></tr><tr><td>ks williamson</td><td>1.1666666666666667</td><td>0</td></tr><tr><td>gagandeep singh</td><td>1.1666666666666667</td><td>0</td></tr><tr><td>s aravind</td><td>1.167420814479638</td><td>0</td></tr><tr><td>a nehra</td><td>1.1688770999115827</td><td>0</td></tr><tr><td>dp vijaykumar</td><td>1.1730769230769231</td><td>0</td></tr><tr><td>sb wagh</td><td>1.173913043478261</td><td>0</td></tr><tr><td>j yadav</td><td>1.1744186046511629</td><td>0</td></tr><tr><td>ba stokes</td><td>1.1794871794871795</td><td>0</td></tr><tr><td>mj mcclenaghan</td><td>1.1835443037974684</td><td>0</td></tr><tr><td>ut yadav</td><td>1.1854219948849105</td><td>0</td></tr><tr><td>ba bhatt</td><td>1.1855670103092784</td><td>0</td></tr><tr><td>rg sharma</td><td>1.1886792452830188</td><td>0</td></tr><tr><td>dj bravo</td><td>1.1891891891891893</td><td>0</td></tr><tr><td>dnt zoysa</td><td>1.1891891891891893</td><td>0</td></tr><tr><td>shakib al hasan</td><td>1.1916376306620209</td><td>0</td></tr><tr><td>k rabada</td><td>1.1973684210526316</td><td>0</td></tr><tr><td>nltc perera</td><td>1.1978021978021978</td><td>0</td></tr><tr><td>ar patel</td><td>1.201219512195122</td><td>0</td></tr><tr><td>jw hastings</td><td>1.205128205128205</td><td>0</td></tr><tr><td>str binny</td><td>1.2056737588652482</td><td>0</td></tr><tr><td>b stanlake</td><td>1.2105263157894737</td><td>0</td></tr><tr><td>pankaj singh</td><td>1.2129032258064516</td><td>0</td></tr><tr><td>ad mascarenhas</td><td>1.2142857142857142</td><td>0</td></tr><tr><td>a choudhary</td><td>1.2162162162162162</td><td>0</td></tr><tr><td>jp faulkner</td><td>1.219895287958115</td><td>0</td></tr><tr><td>sm boland</td><td>1.2222222222222223</td><td>0</td></tr><tr><td>s kaul</td><td>1.2275449101796407</td><td>0</td></tr><tr><td>r dhawan</td><td>1.2375</td><td>0</td></tr><tr><td>sk raina</td><td>1.2424242424242424</td><td>0</td></tr><tr><td>j botha</td><td>1.25</td><td>0</td></tr><tr><td>kp appanna</td><td>1.25</td><td>0</td></tr><tr><td>vr aaron</td><td>1.2532894736842106</td><td>0</td></tr><tr><td>s tyagi</td><td>1.2586206896551724</td><td>0</td></tr><tr><td>mm sharma</td><td>1.271186440677966</td><td>0</td></tr><tr><td>p awana</td><td>1.2717391304347827</td><td>0</td></tr><tr><td>pj sangwan</td><td>1.2748538011695907</td><td>0</td></tr><tr><td>dj muthuswami</td><td>1.2777777777777777</td><td>0</td></tr><tr><td>t natarajan</td><td>1.28</td><td>0</td></tr><tr><td>ja morkel</td><td>1.282998944033791</td><td>0</td></tr><tr><td>p sahu</td><td>1.2857142857142858</td><td>0</td></tr><tr><td>r mclaren</td><td>1.2911392405063291</td><td>0</td></tr><tr><td>pp ojha</td><td>1.2921810699588476</td><td>0</td></tr><tr><td>hv patel</td><td>1.3073170731707318</td><td>0</td></tr><tr><td>djg sammy</td><td>1.32</td><td>0</td></tr><tr><td>v pratap singh</td><td>1.32</td><td>0</td></tr><tr><td>bb sran</td><td>1.3202614379084967</td><td>0</td></tr><tr><td>harmeet singh</td><td>1.3203883495145632</td><td>0</td></tr><tr><td>mohammed shami</td><td>1.3221884498480243</td><td>0</td></tr><tr><td>p suyal</td><td>1.323076923076923</td><td>0</td></tr><tr><td>r shukla</td><td>1.3272727272727274</td><td>0</td></tr><tr><td>jec franklin</td><td>1.3333333333333333</td><td>0</td></tr><tr><td>sa yadav</td><td>1.3333333333333333</td><td>0</td></tr><tr><td>tejas baroka</td><td>1.3333333333333333</td><td>0</td></tr><tr><td>sn thakur</td><td>1.3431372549019607</td><td>0</td></tr><tr><td>sj srivastava</td><td>1.3450704225352113</td><td>0</td></tr><tr><td>bj hodge</td><td>1.3513513513513513</td><td>0</td></tr><tr><td>mc henriques</td><td>1.3555555555555556</td><td>0</td></tr><tr><td>dj hooda</td><td>1.3571428571428572</td><td>0</td></tr><tr><td>s randiv</td><td>1.3571428571428572</td><td>0</td></tr><tr><td>as rajpoot</td><td>1.36</td><td>0</td></tr><tr><td>tm dilshan</td><td>1.3636363636363635</td><td>0</td></tr><tr><td>ms gony</td><td>1.3702970297029704</td><td>0</td></tr><tr><td>kamran khan</td><td>1.3736263736263736</td><td>0</td></tr><tr><td>pv tambe</td><td>1.375</td><td>0</td></tr><tr><td>sk trivedi</td><td>1.375</td><td>0</td></tr><tr><td>gh vihari</td><td>1.375</td><td>0</td></tr><tr><td>a mithun</td><td>1.380281690140845</td><td>0</td></tr><tr><td>lh ferguson</td><td>1.3823529411764706</td><td>0</td></tr><tr><td>cr brathwaite</td><td>1.3888888888888888</td><td>0</td></tr><tr><td>jr hopes</td><td>1.3888888888888888</td><td>0</td></tr><tr><td>ra jadeja</td><td>1.3908045977011494</td><td>0</td></tr><tr><td>j theron</td><td>1.391304347826087</td><td>0</td></tr><tr><td>ab agarkar</td><td>1.3917525773195876</td><td>0</td></tr><tr><td>ad mathews</td><td>1.3953488372093024</td><td>0</td></tr><tr><td>imran tahir</td><td>1.4054054054054055</td><td>0</td></tr><tr><td>aa jhunjhunwala</td><td>1.40625</td><td>0</td></tr><tr><td>ka pollard</td><td>1.4102564102564104</td><td>0</td></tr><tr><td>sb jakati</td><td>1.4123711340206186</td><td>0</td></tr><tr><td>cj jordan</td><td>1.4146341463414633</td><td>0</td></tr><tr><td>re van der merwe</td><td>1.4210526315789473</td><td>0</td></tr><tr><td>jo holder</td><td>1.4215686274509804</td><td>0</td></tr><tr><td>af milne</td><td>1.4222222222222223</td><td>0</td></tr><tr><td>pj cummins</td><td>1.4360902255639099</td><td>0</td></tr><tr><td>s dhawan</td><td>1.4444444444444444</td><td>0</td></tr><tr><td>k santokie</td><td>1.45</td><td>0</td></tr><tr><td>dl chahar</td><td>1.4507042253521127</td><td>0</td></tr><tr><td>tp sudhindra</td><td>1.4615384615384615</td><td>0</td></tr><tr><td>basil thampi</td><td>1.4622641509433962</td><td>0</td></tr><tr><td>ab mcdonald</td><td>1.4651162790697674</td><td>0</td></tr><tr><td>jdp oram</td><td>1.4690265486725664</td><td>0</td></tr><tr><td>bcj cutting</td><td>1.4736842105263157</td><td>0</td></tr><tr><td>s narwal</td><td>1.4782608695652173</td><td>0</td></tr><tr><td>ys chahal</td><td>1.494186046511628</td><td>0</td></tr><tr><td>kc cariappa</td><td>1.5</td><td>0</td></tr><tr><td>s ladda</td><td>1.5</td><td>0</td></tr><tr><td>mohammad asif</td><td>1.5</td><td>0</td></tr><tr><td>dj hussey</td><td>1.5135135135135136</td><td>0</td></tr><tr><td>parvez rasool</td><td>1.5151515151515151</td><td>0</td></tr><tr><td>mr marsh</td><td>1.5405405405405406</td><td>0</td></tr><tr><td>sk warne</td><td>1.5405405405405406</td><td>0</td></tr><tr><td>p negi</td><td>1.5555555555555556</td><td>0</td></tr><tr><td>be hendricks</td><td>1.5625</td><td>0</td></tr><tr><td>cj anderson</td><td>1.5675675675675675</td><td>0</td></tr><tr><td>k upadhyay</td><td>1.5675675675675675</td><td>0</td></tr><tr><td>sd chitnis</td><td>1.5714285714285714</td><td>0</td></tr><tr><td>joginder sharma</td><td>1.5714285714285714</td><td>0</td></tr><tr><td>gurkeerat singh</td><td>1.5833333333333333</td><td>0</td></tr><tr><td>kj abbott</td><td>1.5909090909090908</td><td>0</td></tr><tr><td>y venugopal rao</td><td>1.5952380952380953</td><td>0</td></tr><tr><td>a uniyal</td><td>1.6153846153846154</td><td>0</td></tr><tr><td>vrv singh</td><td>1.617283950617284</td><td>0</td></tr><tr><td>ap dole</td><td>1.6285714285714286</td><td>0</td></tr><tr><td>sc ganguly</td><td>1.631578947368421</td><td>0</td></tr><tr><td>cr woakes</td><td>1.6363636363636365</td><td>0</td></tr><tr><td>st jayasuriya</td><td>1.6666666666666667</td><td>0</td></tr><tr><td>am nayar</td><td>1.6666666666666667</td><td>0</td></tr><tr><td>hh pandya</td><td>1.6666666666666667</td><td>0</td></tr><tr><td>y nagar</td><td>1.6666666666666667</td><td>0</td></tr><tr><td>p parameswaran</td><td>1.7297297297297298</td><td>0</td></tr><tr><td>a flintoff</td><td>1.75</td><td>0</td></tr><tr><td>vy mahesh</td><td>1.7560975609756098</td><td>0</td></tr><tr><td>dr smith</td><td>1.7761194029850746</td><td>0</td></tr><tr><td>nd doshi</td><td>1.7777777777777777</td><td>0</td></tr><tr><td>mohammed siraj</td><td>1.7868852459016393</td><td>0</td></tr><tr><td>m ashwin</td><td>1.8</td><td>0</td></tr><tr><td>b geeves</td><td>1.8</td><td>0</td></tr><tr><td>lr shukla</td><td>1.8148148148148149</td><td>0</td></tr><tr><td>ss agarwal</td><td>1.8333333333333333</td><td>0</td></tr><tr><td>ra shaikh</td><td>1.8333333333333333</td><td>0</td></tr><tr><td>mp stoinis</td><td>1.836734693877551</td><td>0</td></tr><tr><td>j suchith</td><td>1.837837837837838</td><td>0</td></tr><tr><td>mb parmar</td><td>1.8571428571428572</td><td>0</td></tr><tr><td>s kaushik</td><td>1.894736842105263</td><td>0</td></tr><tr><td>ac voges</td><td>1.9230769230769231</td><td>0</td></tr><tr><td>mashrafe mortaza</td><td>1.9230769230769231</td><td>0</td></tr><tr><td>a nel</td><td>2.0</td><td>0</td></tr><tr><td>mj henry</td><td>2.0</td><td>0</td></tr><tr><td>p amarnath</td><td>2.0</td><td>0</td></tr><tr><td>sunny gupta</td><td>2.0</td><td>0</td></tr><tr><td>rr bose</td><td>2.0</td><td>0</td></tr><tr><td>vs yeligati</td><td>2.0</td><td>0</td></tr><tr><td>b akhil</td><td>2.0</td><td>0</td></tr><tr><td>lj wright</td><td>2.0</td><td>0</td></tr><tr><td>shoaib ahmed</td><td>2.0555555555555554</td><td>0</td></tr><tr><td>r bhatia</td><td>2.0833333333333335</td><td>0</td></tr><tr><td>sa abbott</td><td>2.111111111111111</td><td>0</td></tr><tr><td>cj mckay</td><td>2.1666666666666665</td><td>0</td></tr><tr><td>l ablish</td><td>2.1666666666666665</td><td>0</td></tr><tr><td>karanveer singh</td><td>2.1666666666666665</td><td>0</td></tr><tr><td>gj maxwell</td><td>2.2903225806451615</td><td>0</td></tr><tr><td>rw price</td><td>2.3333333333333335</td><td>0</td></tr><tr><td>jds neesham</td><td>2.3333333333333335</td><td>0</td></tr><tr><td>aa noffke</td><td>2.4285714285714284</td><td>0</td></tr><tr><td>rg more</td><td>2.5</td><td>0</td></tr><tr><td>ss sarkar</td><td>2.5</td><td>0</td></tr><tr><td>mg neser</td><td>3.0</td><td>0</td></tr><tr><td>v sehwag</td><td>3.2142857142857144</td><td>0</td></tr><tr><td>rr bhatkal</td><td>3.3333333333333335</td><td>0</td></tr><tr><td>a ashish reddy</td><td>3.3333333333333335</td><td>0</td></tr></tbody></table></div>"
      ]
     },
     "metadata": {
      "application/vnd.databricks.v1+output": {
       "addedWidgets": {},
       "aggData": [],
       "aggError": "",
       "aggOverflow": false,
       "aggSchema": [],
       "aggSeriesLimitReached": false,
       "aggType": "",
       "arguments": {},
       "columnCustomDisplayInfos": {},
       "data": [
        [
         "sm harwood",
         0.3157894736842105,
         0
        ],
        [
         "a zampa",
         0.42857142857142855,
         0
        ],
        [
         "ankit soni",
         0.5,
         0
        ],
        [
         "gr napier",
         0.5,
         0
        ],
        [
         "aj finch",
         0.5,
         0
        ],
        [
         "avesh khan",
         0.5,
         0
        ],
        [
         "nb singh",
         0.56,
         0
        ],
        [
         "ag murtaza",
         0.6455696202531646,
         0
        ],
        [
         "fh edwards",
         0.6585365853658537,
         0
        ],
        [
         "sb bangar",
         0.6666666666666666,
         0
        ],
        [
         "d du preez",
         0.6666666666666666,
         0
        ],
        [
         "s gopal",
         0.6666666666666666,
         0
        ],
        [
         "kp pietersen",
         0.7,
         0
        ],
        [
         "la carseldine",
         0.7142857142857143,
         0
        ],
        [
         "ss mundhe",
         0.7142857142857143,
         0
        ],
        [
         "a kumble",
         0.7614678899082569,
         0
        ],
        [
         "umar gul",
         0.7619047619047619,
         0
        ],
        [
         "j syed mohammad",
         0.7777777777777778,
         0
        ],
        [
         "c de grandhomme",
         0.7857142857142857,
         0
        ],
        [
         "smsm senanayake",
         0.8294573643410853,
         0
        ],
        [
         "rj peterson",
         0.8333333333333334,
         0
        ],
        [
         "tl suman",
         0.8333333333333334,
         0
        ],
        [
         "a symonds",
         0.8559322033898306,
         0
        ],
        [
         "sohail tanvir",
         0.8561643835616438,
         0
        ],
        [
         "t thushara",
         0.8571428571428571,
         0
        ],
        [
         "dp nannes",
         0.8858695652173914,
         0
        ],
        [
         "mustafizur rahman",
         0.8867924528301887,
         0
        ],
        [
         "sl malinga",
         0.9036259541984732,
         0
        ],
        [
         "sp narine",
         0.9132149901380671,
         0
        ],
        [
         "gd mcgrath",
         0.915929203539823,
         0
        ],
        [
         "d wiese",
         0.9206349206349206,
         0
        ],
        [
         "bw hilfenhaus",
         0.9206349206349206,
         0
        ],
        [
         "b kumar",
         0.9211009174311927,
         0
        ],
        [
         "dw steyn",
         0.9287622439893143,
         0
        ],
        [
         "sb styris",
         0.9333333333333333,
         0
        ],
        [
         "anand rajan",
         0.9347826086956522,
         0
        ],
        [
         "sw tait",
         0.939622641509434,
         0
        ],
        [
         "r ashwin",
         0.940771349862259,
         0
        ],
        [
         "je taylor",
         0.9411764705882353,
         0
        ],
        [
         "mohammad nabi",
         0.9444444444444444,
         0
        ],
        [
         "r rampaul",
         0.9457831325301205,
         0
        ],
        [
         "a chandila",
         0.9513888888888888,
         0
        ],
        [
         "rj harris",
         0.9621380846325167,
         0
        ],
        [
         "rashid khan",
         0.9824561403508771,
         0
        ],
        [
         "sm pollock",
         0.9855769230769231,
         0
        ],
        [
         "mn samuels",
         0.9875,
         0
        ],
        [
         "ankit sharma",
         0.9928571428571429,
         0
        ],
        [
         "m muralitharan",
         0.9935064935064936,
         0
        ],
        [
         "wd parnell",
         0.9965397923875432,
         0
        ],
        [
         "ma starc",
         0.9967948717948718,
         0
        ],
        [
         "shahid afridi",
         1.0,
         0
        ],
        [
         "kaj roach",
         1.0,
         0
        ],
        [
         "se bond",
         1.0,
         0
        ],
        [
         "pm sarvesh kumar",
         1.0,
         0
        ],
        [
         "kk cooper",
         1.0,
         0
        ],
        [
         "kuldeep yadav",
         1.0,
         0
        ],
        [
         "ck langeveldt",
         1.0,
         0
        ],
        [
         "a mishra",
         1.0,
         0
        ],
        [
         "bipul sharma",
         1.0,
         0
        ],
        [
         "nl mccullum",
         1.0,
         0
        ],
        [
         "r tewatia",
         1.0,
         0
        ],
        [
         "m vijay",
         1.0,
         0
        ],
        [
         "ad russell",
         1.005,
         0
        ],
        [
         "ac thomas",
         1.0054054054054054,
         0
        ],
        [
         "aa chavan",
         1.0067114093959733,
         0
        ],
        [
         "p kumar",
         1.007921998781231,
         0
        ],
        [
         "wpujc vaas",
         1.01,
         0
        ],
        [
         "a singh",
         1.0108695652173914,
         0
        ],
        [
         "crd fernando",
         1.0121951219512195,
         0
        ],
        [
         "iqbal abdulla",
         1.0178571428571428,
         0
        ],
        [
         "jaskaran singh",
         1.0217391304347827,
         0
        ],
        [
         "yk pathan",
         1.0298913043478262,
         0
        ],
        [
         "z khan",
         1.0312035661218424,
         0
        ],
        [
         "pp chawla",
         1.03125,
         0
        ],
        [
         "al menaria",
         1.04,
         0
        ],
        [
         "azhar mahmood",
         1.0405405405405406,
         0
        ],
        [
         "gb hogg",
         1.0408163265306123,
         0
        ],
        [
         "jj bumrah",
         1.0472222222222223,
         0
        ],
        [
         "m ntini",
         1.0506329113924051,
         0
        ],
        [
         "sr watson",
         1.0510585305105853,
         0
        ],
        [
         "l balaji",
         1.0530785562632696,
         0
        ],
        [
         "washington sundar",
         1.0545454545454545,
         0
        ],
        [
         "dl vettori",
         1.054945054945055,
         0
        ],
        [
         "m morkel",
         1.0553235908141962,
         0
        ],
        [
         "s sreesanth",
         1.0576923076923077,
         0
        ],
        [
         "kw richardson",
         1.0598802395209581,
         0
        ],
        [
         "nm coulternile",
         1.0627062706270627,
         0
        ],
        [
         "harbhajan singh",
         1.0629496402877698,
         0
        ],
        [
         "ts mills",
         1.0666666666666667,
         0
        ],
        [
         "b lee",
         1.0671936758893281,
         0
        ],
        [
         "ik pathan",
         1.068893528183716,
         0
        ],
        [
         "rp singh",
         1.069811320754717,
         0
        ],
        [
         "sandeep sharma",
         1.0731707317073171,
         0
        ],
        [
         "i sharma",
         1.0761904761904761,
         0
        ],
        [
         "de bollinger",
         1.0766961651917404,
         0
        ],
        [
         "nj rimmington",
         1.0833333333333333,
         0
        ],
        [
         "jp duminy",
         1.0844155844155845,
         0
        ],
        [
         "kmdn kulasekara",
         1.0845070422535212,
         0
        ],
        [
         "shoaib akhtar",
         1.0869565217391304,
         0
        ],
        [
         "m kartik",
         1.0923913043478262,
         0
        ],
        [
         "ab dinda",
         1.095906432748538,
         0
        ],
        [
         "r sharma",
         1.1,
         0
        ],
        [
         "ta boult",
         1.1,
         0
        ],
        [
         "ya abdulla",
         1.101123595505618,
         0
        ],
        [
         "m de lange",
         1.1076923076923078,
         0
        ],
        [
         "aj tye",
         1.1111111111111112,
         0
        ],
        [
         "ic pandey",
         1.1115241635687731,
         0
        ],
        [
         "ch morris",
         1.1124121779859484,
         0
        ],
        [
         "mm patel",
         1.1150971599402093,
         0
        ],
        [
         "baw mendis",
         1.11864406779661,
         0
        ],
        [
         "rr powar",
         1.1214285714285714,
         0
        ],
        [
         "kh pandya",
         1.1224489795918366,
         0
        ],
        [
         "anureet singh",
         1.1265060240963856,
         0
        ],
        [
         "ds kulkarni",
         1.1308290155440415,
         0
        ],
        [
         "dt christian",
         1.1318681318681318,
         0
        ],
        [
         "r vinay kumar",
         1.1319261213720317,
         0
        ],
        [
         "ch gayle",
         1.1328125,
         0
        ],
        [
         "am salvi",
         1.1343283582089552,
         0
        ],
        [
         "jh kallis",
         1.1345794392523365,
         0
        ],
        [
         "mf maharoof",
         1.1363636363636365,
         0
        ],
        [
         "an ahmed",
         1.1398601398601398,
         0
        ],
        [
         "rr raje",
         1.1428571428571428,
         0
        ],
        [
         "jd unadkat",
         1.143222506393862,
         0
        ],
        [
         "kv sharma",
         1.14375,
         0
        ],
        [
         "mg johnson",
         1.1440261865793782,
         0
        ],
        [
         "s nadeem",
         1.1486486486486487,
         0
        ],
        [
         "jj van der wath",
         1.1515151515151516,
         0
        ],
        [
         "s badree",
         1.15625,
         0
        ],
        [
         "tg southee",
         1.16,
         0
        ],
        [
         "vs malik",
         1.1615384615384616,
         0
        ],
        [
         "gs sandhu",
         1.1666666666666667,
         0
        ],
        [
         "daj bracewell",
         1.1666666666666667,
         0
        ],
        [
         "jd ryder",
         1.1666666666666667,
         0
        ],
        [
         "ks williamson",
         1.1666666666666667,
         0
        ],
        [
         "gagandeep singh",
         1.1666666666666667,
         0
        ],
        [
         "s aravind",
         1.167420814479638,
         0
        ],
        [
         "a nehra",
         1.1688770999115827,
         0
        ],
        [
         "dp vijaykumar",
         1.1730769230769231,
         0
        ],
        [
         "sb wagh",
         1.173913043478261,
         0
        ],
        [
         "j yadav",
         1.1744186046511629,
         0
        ],
        [
         "ba stokes",
         1.1794871794871795,
         0
        ],
        [
         "mj mcclenaghan",
         1.1835443037974684,
         0
        ],
        [
         "ut yadav",
         1.1854219948849105,
         0
        ],
        [
         "ba bhatt",
         1.1855670103092784,
         0
        ],
        [
         "rg sharma",
         1.1886792452830188,
         0
        ],
        [
         "dj bravo",
         1.1891891891891893,
         0
        ],
        [
         "dnt zoysa",
         1.1891891891891893,
         0
        ],
        [
         "shakib al hasan",
         1.1916376306620209,
         0
        ],
        [
         "k rabada",
         1.1973684210526316,
         0
        ],
        [
         "nltc perera",
         1.1978021978021978,
         0
        ],
        [
         "ar patel",
         1.201219512195122,
         0
        ],
        [
         "jw hastings",
         1.205128205128205,
         0
        ],
        [
         "str binny",
         1.2056737588652482,
         0
        ],
        [
         "b stanlake",
         1.2105263157894737,
         0
        ],
        [
         "pankaj singh",
         1.2129032258064516,
         0
        ],
        [
         "ad mascarenhas",
         1.2142857142857142,
         0
        ],
        [
         "a choudhary",
         1.2162162162162162,
         0
        ],
        [
         "jp faulkner",
         1.219895287958115,
         0
        ],
        [
         "sm boland",
         1.2222222222222223,
         0
        ],
        [
         "s kaul",
         1.2275449101796407,
         0
        ],
        [
         "r dhawan",
         1.2375,
         0
        ],
        [
         "sk raina",
         1.2424242424242424,
         0
        ],
        [
         "j botha",
         1.25,
         0
        ],
        [
         "kp appanna",
         1.25,
         0
        ],
        [
         "vr aaron",
         1.2532894736842106,
         0
        ],
        [
         "s tyagi",
         1.2586206896551724,
         0
        ],
        [
         "mm sharma",
         1.271186440677966,
         0
        ],
        [
         "p awana",
         1.2717391304347827,
         0
        ],
        [
         "pj sangwan",
         1.2748538011695907,
         0
        ],
        [
         "dj muthuswami",
         1.2777777777777777,
         0
        ],
        [
         "t natarajan",
         1.28,
         0
        ],
        [
         "ja morkel",
         1.282998944033791,
         0
        ],
        [
         "p sahu",
         1.2857142857142858,
         0
        ],
        [
         "r mclaren",
         1.2911392405063291,
         0
        ],
        [
         "pp ojha",
         1.2921810699588476,
         0
        ],
        [
         "hv patel",
         1.3073170731707318,
         0
        ],
        [
         "djg sammy",
         1.32,
         0
        ],
        [
         "v pratap singh",
         1.32,
         0
        ],
        [
         "bb sran",
         1.3202614379084967,
         0
        ],
        [
         "harmeet singh",
         1.3203883495145632,
         0
        ],
        [
         "mohammed shami",
         1.3221884498480243,
         0
        ],
        [
         "p suyal",
         1.323076923076923,
         0
        ],
        [
         "r shukla",
         1.3272727272727274,
         0
        ],
        [
         "jec franklin",
         1.3333333333333333,
         0
        ],
        [
         "sa yadav",
         1.3333333333333333,
         0
        ],
        [
         "tejas baroka",
         1.3333333333333333,
         0
        ],
        [
         "sn thakur",
         1.3431372549019607,
         0
        ],
        [
         "sj srivastava",
         1.3450704225352113,
         0
        ],
        [
         "bj hodge",
         1.3513513513513513,
         0
        ],
        [
         "mc henriques",
         1.3555555555555556,
         0
        ],
        [
         "dj hooda",
         1.3571428571428572,
         0
        ],
        [
         "s randiv",
         1.3571428571428572,
         0
        ],
        [
         "as rajpoot",
         1.36,
         0
        ],
        [
         "tm dilshan",
         1.3636363636363635,
         0
        ],
        [
         "ms gony",
         1.3702970297029704,
         0
        ],
        [
         "kamran khan",
         1.3736263736263736,
         0
        ],
        [
         "pv tambe",
         1.375,
         0
        ],
        [
         "sk trivedi",
         1.375,
         0
        ],
        [
         "gh vihari",
         1.375,
         0
        ],
        [
         "a mithun",
         1.380281690140845,
         0
        ],
        [
         "lh ferguson",
         1.3823529411764706,
         0
        ],
        [
         "cr brathwaite",
         1.3888888888888888,
         0
        ],
        [
         "jr hopes",
         1.3888888888888888,
         0
        ],
        [
         "ra jadeja",
         1.3908045977011494,
         0
        ],
        [
         "j theron",
         1.391304347826087,
         0
        ],
        [
         "ab agarkar",
         1.3917525773195876,
         0
        ],
        [
         "ad mathews",
         1.3953488372093024,
         0
        ],
        [
         "imran tahir",
         1.4054054054054055,
         0
        ],
        [
         "aa jhunjhunwala",
         1.40625,
         0
        ],
        [
         "ka pollard",
         1.4102564102564104,
         0
        ],
        [
         "sb jakati",
         1.4123711340206186,
         0
        ],
        [
         "cj jordan",
         1.4146341463414633,
         0
        ],
        [
         "re van der merwe",
         1.4210526315789473,
         0
        ],
        [
         "jo holder",
         1.4215686274509804,
         0
        ],
        [
         "af milne",
         1.4222222222222223,
         0
        ],
        [
         "pj cummins",
         1.4360902255639099,
         0
        ],
        [
         "s dhawan",
         1.4444444444444444,
         0
        ],
        [
         "k santokie",
         1.45,
         0
        ],
        [
         "dl chahar",
         1.4507042253521127,
         0
        ],
        [
         "tp sudhindra",
         1.4615384615384615,
         0
        ],
        [
         "basil thampi",
         1.4622641509433962,
         0
        ],
        [
         "ab mcdonald",
         1.4651162790697674,
         0
        ],
        [
         "jdp oram",
         1.4690265486725664,
         0
        ],
        [
         "bcj cutting",
         1.4736842105263157,
         0
        ],
        [
         "s narwal",
         1.4782608695652173,
         0
        ],
        [
         "ys chahal",
         1.494186046511628,
         0
        ],
        [
         "kc cariappa",
         1.5,
         0
        ],
        [
         "s ladda",
         1.5,
         0
        ],
        [
         "mohammad asif",
         1.5,
         0
        ],
        [
         "dj hussey",
         1.5135135135135136,
         0
        ],
        [
         "parvez rasool",
         1.5151515151515151,
         0
        ],
        [
         "mr marsh",
         1.5405405405405406,
         0
        ],
        [
         "sk warne",
         1.5405405405405406,
         0
        ],
        [
         "p negi",
         1.5555555555555556,
         0
        ],
        [
         "be hendricks",
         1.5625,
         0
        ],
        [
         "cj anderson",
         1.5675675675675675,
         0
        ],
        [
         "k upadhyay",
         1.5675675675675675,
         0
        ],
        [
         "sd chitnis",
         1.5714285714285714,
         0
        ],
        [
         "joginder sharma",
         1.5714285714285714,
         0
        ],
        [
         "gurkeerat singh",
         1.5833333333333333,
         0
        ],
        [
         "kj abbott",
         1.5909090909090908,
         0
        ],
        [
         "y venugopal rao",
         1.5952380952380953,
         0
        ],
        [
         "a uniyal",
         1.6153846153846154,
         0
        ],
        [
         "vrv singh",
         1.617283950617284,
         0
        ],
        [
         "ap dole",
         1.6285714285714286,
         0
        ],
        [
         "sc ganguly",
         1.631578947368421,
         0
        ],
        [
         "cr woakes",
         1.6363636363636365,
         0
        ],
        [
         "st jayasuriya",
         1.6666666666666667,
         0
        ],
        [
         "am nayar",
         1.6666666666666667,
         0
        ],
        [
         "hh pandya",
         1.6666666666666667,
         0
        ],
        [
         "y nagar",
         1.6666666666666667,
         0
        ],
        [
         "p parameswaran",
         1.7297297297297298,
         0
        ],
        [
         "a flintoff",
         1.75,
         0
        ],
        [
         "vy mahesh",
         1.7560975609756098,
         0
        ],
        [
         "dr smith",
         1.7761194029850746,
         0
        ],
        [
         "nd doshi",
         1.7777777777777777,
         0
        ],
        [
         "mohammed siraj",
         1.7868852459016393,
         0
        ],
        [
         "m ashwin",
         1.8,
         0
        ],
        [
         "b geeves",
         1.8,
         0
        ],
        [
         "lr shukla",
         1.8148148148148149,
         0
        ],
        [
         "ss agarwal",
         1.8333333333333333,
         0
        ],
        [
         "ra shaikh",
         1.8333333333333333,
         0
        ],
        [
         "mp stoinis",
         1.836734693877551,
         0
        ],
        [
         "j suchith",
         1.837837837837838,
         0
        ],
        [
         "mb parmar",
         1.8571428571428572,
         0
        ],
        [
         "s kaushik",
         1.894736842105263,
         0
        ],
        [
         "ac voges",
         1.9230769230769231,
         0
        ],
        [
         "mashrafe mortaza",
         1.9230769230769231,
         0
        ],
        [
         "a nel",
         2.0,
         0
        ],
        [
         "mj henry",
         2.0,
         0
        ],
        [
         "p amarnath",
         2.0,
         0
        ],
        [
         "sunny gupta",
         2.0,
         0
        ],
        [
         "rr bose",
         2.0,
         0
        ],
        [
         "vs yeligati",
         2.0,
         0
        ],
        [
         "b akhil",
         2.0,
         0
        ],
        [
         "lj wright",
         2.0,
         0
        ],
        [
         "shoaib ahmed",
         2.0555555555555554,
         0
        ],
        [
         "r bhatia",
         2.0833333333333335,
         0
        ],
        [
         "sa abbott",
         2.111111111111111,
         0
        ],
        [
         "cj mckay",
         2.1666666666666665,
         0
        ],
        [
         "l ablish",
         2.1666666666666665,
         0
        ],
        [
         "karanveer singh",
         2.1666666666666665,
         0
        ],
        [
         "gj maxwell",
         2.2903225806451615,
         0
        ],
        [
         "rw price",
         2.3333333333333335,
         0
        ],
        [
         "jds neesham",
         2.3333333333333335,
         0
        ],
        [
         "aa noffke",
         2.4285714285714284,
         0
        ],
        [
         "rg more",
         2.5,
         0
        ],
        [
         "ss sarkar",
         2.5,
         0
        ],
        [
         "mg neser",
         3.0,
         0
        ],
        [
         "v sehwag",
         3.2142857142857144,
         0
        ],
        [
         "rr bhatkal",
         3.3333333333333335,
         0
        ],
        [
         "a ashish reddy",
         3.3333333333333335,
         0
        ]
       ],
       "datasetInfos": [],
       "dbfsResultPath": null,
       "isJsonSchema": true,
       "metadata": {
        "dataframeName": "_sqldf",
        "executionCount": 13
       },
       "overflow": false,
       "plotOptions": {
        "customPlotOptions": {},
        "displayType": "table",
        "pivotAggregation": null,
        "pivotColumns": null,
        "xColumns": null,
        "yColumns": null
       },
       "removedWidgets": [],
       "schema": [
        {
         "metadata": "{}",
         "name": "player_name",
         "type": "\"string\""
        },
        {
         "metadata": "{}",
         "name": "avg_runs_per_ball",
         "type": "\"double\""
        },
        {
         "metadata": "{}",
         "name": "total_wickets",
         "type": "\"long\""
        }
       ],
       "type": "table"
      }
     },
     "output_type": "display_data"
    }
   ],
   "source": [
    "%sql\n",
    "---economical Bowlers In powerplay\n",
    "SELECT \n",
    "p.player_name, \n",
    "AVG(b.runs_scored) AS avg_runs_per_ball, \n",
    "COUNT(b.bowler_wicket) AS total_wickets\n",
    "FROM global_temp.ball_by_ball b\n",
    "JOIN global_temp.player_match pm ON b.match_id = pm.match_id AND b.bowler = pm.player_id\n",
    "JOIN global_temp.player p ON pm.player_id = p.player_id\n",
    "WHERE b.over_id <= 6\n",
    "GROUP BY p.player_name\n",
    "HAVING COUNT(*) >= 1\n",
    "ORDER BY avg_runs_per_ball, total_wickets DESC"
   ]
  },
  {
   "cell_type": "code",
   "execution_count": 0,
   "metadata": {
    "application/vnd.databricks.v1+cell": {
     "cellMetadata": {
      "byteLimit": 2048000,
      "implicitDf": true,
      "rowLimit": 10000
     },
     "inputWidgets": {},
     "nuid": "df1e6ddf-2283-454f-a3c8-2ec38afd14a9",
     "showTitle": false,
     "title": ""
    }
   },
   "outputs": [
    {
     "output_type": "display_data",
     "data": {
      "text/html": [
       "<style scoped>\n",
       "  .table-result-container {\n",
       "    max-height: 300px;\n",
       "    overflow: auto;\n",
       "  }\n",
       "  table, th, td {\n",
       "    border: 1px solid black;\n",
       "    border-collapse: collapse;\n",
       "  }\n",
       "  th, td {\n",
       "    padding: 5px;\n",
       "  }\n",
       "  th {\n",
       "    text-align: left;\n",
       "  }\n",
       "</style><div class='table-result-container'><table class='table-result'><thead style='background-color: white'><tr><th>match_id</th><th>toss_winner</th><th>toss_name</th><th>match_winner</th><th>match_outcome</th></tr></thead><tbody><tr><td>335987</td><td>Royal Challengers Bangalore</td><td>field</td><td>Kolkata Knight Riders</td><td>Lost</td></tr><tr><td>335988</td><td>Chennai Super Kings</td><td>bat</td><td>Chennai Super Kings</td><td>Won</td></tr><tr><td>335989</td><td>Rajasthan Royals</td><td>bat</td><td>Delhi Daredevils</td><td>Lost</td></tr><tr><td>335990</td><td>Mumbai Indians</td><td>bat</td><td>Royal Challengers Bangalore</td><td>Lost</td></tr><tr><td>335991</td><td>Deccan Chargers</td><td>bat</td><td>Kolkata Knight Riders</td><td>Lost</td></tr><tr><td>335992</td><td>Kings XI Punjab</td><td>bat</td><td>Rajasthan Royals</td><td>Lost</td></tr><tr><td>335993</td><td>Deccan Chargers</td><td>bat</td><td>Delhi Daredevils</td><td>Lost</td></tr><tr><td>335994</td><td>Mumbai Indians</td><td>field</td><td>Chennai Super Kings</td><td>Lost</td></tr><tr><td>335995</td><td>Rajasthan Royals</td><td>field</td><td>Rajasthan Royals</td><td>Won</td></tr><tr><td>335996</td><td>Mumbai Indians</td><td>field</td><td>Kings XI Punjab</td><td>Lost</td></tr><tr><td>335997</td><td>Rajasthan Royals</td><td>field</td><td>Rajasthan Royals</td><td>Won</td></tr><tr><td>335998</td><td>Kolkata Knight Riders</td><td>bat</td><td>Chennai Super Kings</td><td>Lost</td></tr><tr><td>335999</td><td>Deccan Chargers</td><td>field</td><td>Deccan Chargers</td><td>Won</td></tr><tr><td>336000</td><td>Delhi Daredevils</td><td>bat</td><td>Kings XI Punjab</td><td>Lost</td></tr><tr><td>336001</td><td>Chennai Super Kings</td><td>bat</td><td>Chennai Super Kings</td><td>Won</td></tr><tr><td>336002</td><td>Kolkata Knight Riders</td><td>bat</td><td>Mumbai Indians</td><td>Lost</td></tr><tr><td>336003</td><td>Royal Challengers Bangalore</td><td>field</td><td>Delhi Daredevils</td><td>Lost</td></tr><tr><td>336004</td><td>Kings XI Punjab</td><td>field</td><td>Kings XI Punjab</td><td>Won</td></tr><tr><td>336005</td><td>Rajasthan Royals</td><td>bat</td><td>Rajasthan Royals</td><td>Won</td></tr><tr><td>336006</td><td>Chennai Super Kings</td><td>bat</td><td>Delhi Daredevils</td><td>Lost</td></tr><tr><td>336007</td><td>Deccan Chargers</td><td>bat</td><td>Royal Challengers Bangalore</td><td>Lost</td></tr><tr><td>336008</td><td>Kings XI Punjab</td><td>bat</td><td>Kings XI Punjab</td><td>Won</td></tr><tr><td>336009</td><td>Delhi Daredevils</td><td>field</td><td>Mumbai Indians</td><td>Lost</td></tr><tr><td>336010</td><td>Chennai Super Kings</td><td>bat</td><td>Rajasthan Royals</td><td>Lost</td></tr><tr><td>336011</td><td>Kings XI Punjab</td><td>field</td><td>Kings XI Punjab</td><td>Won</td></tr><tr><td>336012</td><td>Deccan Chargers</td><td>field</td><td>Deccan Chargers</td><td>Won</td></tr><tr><td>336013</td><td>Mumbai Indians</td><td>field</td><td>Mumbai Indians</td><td>Won</td></tr><tr><td>336014</td><td>Chennai Super Kings</td><td>field</td><td>Chennai Super Kings</td><td>Won</td></tr><tr><td>336015</td><td>Kolkata Knight Riders</td><td>bat</td><td>Kolkata Knight Riders</td><td>Won</td></tr><tr><td>336016</td><td>Rajasthan Royals</td><td>field</td><td>Rajasthan Royals</td><td>Won</td></tr><tr><td>336017</td><td>Mumbai Indians</td><td>field</td><td>Mumbai Indians</td><td>Won</td></tr><tr><td>336018</td><td>Kings XI Punjab</td><td>field</td><td>Chennai Super Kings</td><td>Lost</td></tr><tr><td>336019</td><td>Kolkata Knight Riders</td><td>bat</td><td>Kolkata Knight Riders</td><td>Won</td></tr><tr><td>336020</td><td>Rajasthan Royals</td><td>field</td><td>Rajasthan Royals</td><td>Won</td></tr><tr><td>336021</td><td>Royal Challengers Bangalore</td><td>bat</td><td>Kings XI Punjab</td><td>Lost</td></tr><tr><td>336022</td><td>Kolkata Knight Riders</td><td>bat</td><td>Kolkata Knight Riders</td><td>Won</td></tr><tr><td>336023</td><td>Mumbai Indians</td><td>field</td><td>Mumbai Indians</td><td>Won</td></tr><tr><td>336024</td><td>Rajasthan Royals</td><td>field</td><td>Kings XI Punjab</td><td>Lost</td></tr><tr><td>336025</td><td>Deccan Chargers</td><td>field</td><td>Delhi Daredevils</td><td>Lost</td></tr><tr><td>336026</td><td>Mumbai Indians</td><td>field</td><td>Mumbai Indians</td><td>Won</td></tr><tr><td>336027</td><td>Delhi Daredevils</td><td>bat</td><td>Kings XI Punjab</td><td>Lost</td></tr><tr><td>336028</td><td>Royal Challengers Bangalore</td><td>field</td><td>Rajasthan Royals</td><td>Lost</td></tr><tr><td>336029</td><td>Deccan Chargers</td><td>field</td><td>Mumbai Indians</td><td>Lost</td></tr><tr><td>336030</td><td>Kolkata Knight Riders</td><td>bat</td><td>Chennai Super Kings</td><td>Lost</td></tr><tr><td>336031</td><td>Delhi Daredevils</td><td>field</td><td>Delhi Daredevils</td><td>Won</td></tr><tr><td>336032</td><td>Rajasthan Royals</td><td>field</td><td>Rajasthan Royals</td><td>Won</td></tr><tr><td>336033</td><td>Mumbai Indians</td><td>field</td><td>Kings XI Punjab</td><td>Lost</td></tr><tr><td>336034</td><td>Royal Challengers Bangalore</td><td>bat</td><td>Royal Challengers Bangalore</td><td>Won</td></tr><tr><td>336036</td><td>Kings XI Punjab</td><td>field</td><td>Kings XI Punjab</td><td>Won</td></tr><tr><td>336037</td><td>Delhi Daredevils</td><td>field</td><td>Delhi Daredevils</td><td>Won</td></tr><tr><td>336038</td><td>Rajasthan Royals</td><td>bat</td><td>Rajasthan Royals</td><td>Won</td></tr><tr><td>336039</td><td>Deccan Chargers</td><td>field</td><td>Royal Challengers Bangalore</td><td>Lost</td></tr><tr><td>336040</td><td>Kings XI Punjab</td><td>bat</td><td>Kolkata Knight Riders</td><td>Lost</td></tr><tr><td>336041</td><td>Rajasthan Royals</td><td>field</td><td>Rajasthan Royals</td><td>Won</td></tr><tr><td>336042</td><td>Deccan Chargers</td><td>bat</td><td>Chennai Super Kings</td><td>Lost</td></tr><tr><td>336043</td><td>Delhi Daredevils</td><td>field</td><td>Rajasthan Royals</td><td>Lost</td></tr><tr><td>336044</td><td>Kings XI Punjab</td><td>bat</td><td>Chennai Super Kings</td><td>Lost</td></tr><tr><td>336045</td><td>Rajasthan Royals</td><td>field</td><td>Rajasthan Royals</td><td>Won</td></tr><tr><td>392186</td><td>Chennai Super Kings</td><td>field</td><td>Mumbai Indians</td><td>Lost</td></tr><tr><td>392187</td><td>Royal Challengers Bangalore</td><td>bat</td><td>Royal Challengers Bangalore</td><td>Won</td></tr><tr><td>392188</td><td>Delhi Daredevils</td><td>field</td><td>Delhi Daredevils</td><td>Won</td></tr><tr><td>392189</td><td>Kolkata Knight Riders</td><td>bat</td><td>Deccan Chargers</td><td>Lost</td></tr><tr><td>392190</td><td>Chennai Super Kings</td><td>bat</td><td>Chennai Super Kings</td><td>Won</td></tr><tr><td>392191</td><td>Kolkata Knight Riders</td><td>field</td><td>Kolkata Knight Riders</td><td>Won</td></tr><tr><td>392193</td><td>Deccan Chargers</td><td>bat</td><td>Deccan Chargers</td><td>Won</td></tr><tr><td>392194</td><td>Delhi Daredevils</td><td>bat</td><td>Delhi Daredevils</td><td>Won</td></tr><tr><td>392195</td><td>Kolkata Knight Riders</td><td>field</td><td>Rajasthan Royals</td><td>Lost</td></tr><tr><td>392196</td><td>Royal Challengers Bangalore</td><td>bat</td><td>Kings XI Punjab</td><td>Lost</td></tr><tr><td>392197</td><td>Deccan Chargers</td><td>bat</td><td>Deccan Chargers</td><td>Won</td></tr><tr><td>392199</td><td>Royal Challengers Bangalore</td><td>bat</td><td>Delhi Daredevils</td><td>Lost</td></tr><tr><td>392200</td><td>Kings XI Punjab</td><td>bat</td><td>Kings XI Punjab</td><td>Won</td></tr><tr><td>392201</td><td>Deccan Chargers</td><td>field</td><td>Deccan Chargers</td><td>Won</td></tr><tr><td>392202</td><td>Mumbai Indians</td><td>bat</td><td>Mumbai Indians</td><td>Won</td></tr><tr><td>392203</td><td>Delhi Daredevils</td><td>bat</td><td>Rajasthan Royals</td><td>Lost</td></tr><tr><td>392204</td><td>Kolkata Knight Riders</td><td>bat</td><td>Royal Challengers Bangalore</td><td>Lost</td></tr><tr><td>392205</td><td>Kings XI Punjab</td><td>bat</td><td>Kings XI Punjab</td><td>Won</td></tr><tr><td>392206</td><td>Delhi Daredevils</td><td>field</td><td>Delhi Daredevils</td><td>Won</td></tr><tr><td>392207</td><td>Rajasthan Royals</td><td>field</td><td>Chennai Super Kings</td><td>Lost</td></tr><tr><td>392208</td><td>Mumbai Indians</td><td>bat</td><td>Mumbai Indians</td><td>Won</td></tr><tr><td>392209</td><td>Royal Challengers Bangalore</td><td>bat</td><td>Royal Challengers Bangalore</td><td>Won</td></tr><tr><td>392210</td><td>Deccan Chargers</td><td>bat</td><td>Rajasthan Royals</td><td>Lost</td></tr><tr><td>392211</td><td>Delhi Daredevils</td><td>field</td><td>Chennai Super Kings</td><td>Lost</td></tr><tr><td>392212</td><td>Kolkata Knight Riders</td><td>bat</td><td>Kings XI Punjab</td><td>Lost</td></tr><tr><td>392213</td><td>Mumbai Indians</td><td>bat</td><td>Royal Challengers Bangalore</td><td>Lost</td></tr><tr><td>392214</td><td>Chennai Super Kings</td><td>bat</td><td>Chennai Super Kings</td><td>Won</td></tr><tr><td>392215</td><td>Kings XI Punjab</td><td>field</td><td>Rajasthan Royals</td><td>Lost</td></tr><tr><td>392216</td><td>Kolkata Knight Riders</td><td>bat</td><td>Delhi Daredevils</td><td>Lost</td></tr><tr><td>392217</td><td>Deccan Chargers</td><td>bat</td><td>Deccan Chargers</td><td>Won</td></tr><tr><td>392218</td><td>Rajasthan Royals</td><td>field</td><td>Rajasthan Royals</td><td>Won</td></tr><tr><td>392219</td><td>Chennai Super Kings</td><td>bat</td><td>Chennai Super Kings</td><td>Won</td></tr><tr><td>392220</td><td>Mumbai Indians</td><td>bat</td><td>Delhi Daredevils</td><td>Lost</td></tr><tr><td>392221</td><td>Kings XI Punjab</td><td>field</td><td>Kings XI Punjab</td><td>Won</td></tr><tr><td>392222</td><td>Rajasthan Royals</td><td>bat</td><td>Chennai Super Kings</td><td>Lost</td></tr><tr><td>392223</td><td>Mumbai Indians</td><td>bat</td><td>Mumbai Indians</td><td>Won</td></tr><tr><td>392224</td><td>Delhi Daredevils</td><td>field</td><td>Delhi Daredevils</td><td>Won</td></tr><tr><td>392225</td><td>Deccan Chargers</td><td>bat</td><td>Deccan Chargers</td><td>Won</td></tr><tr><td>392226</td><td>Royal Challengers Bangalore</td><td>field</td><td>Royal Challengers Bangalore</td><td>Won</td></tr><tr><td>392227</td><td>Kings XI Punjab</td><td>bat</td><td>Mumbai Indians</td><td>Lost</td></tr><tr><td>392228</td><td>Deccan Chargers</td><td>field</td><td>Delhi Daredevils</td><td>Lost</td></tr><tr><td>392229</td><td>Chennai Super Kings</td><td>bat</td><td>Royal Challengers Bangalore</td><td>Lost</td></tr><tr><td>392230</td><td>Rajasthan Royals</td><td>bat</td><td>Rajasthan Royals</td><td>Won</td></tr><tr><td>392231</td><td>Kings XI Punjab</td><td>field</td><td>Kings XI Punjab</td><td>Won</td></tr><tr><td>392232</td><td>Mumbai Indians</td><td>bat</td><td>Chennai Super Kings</td><td>Lost</td></tr><tr><td>392233</td><td>Deccan Chargers</td><td>field</td><td>Deccan Chargers</td><td>Won</td></tr><tr><td>392234</td><td>Deccan Chargers</td><td>field</td><td>Kings XI Punjab</td><td>Lost</td></tr><tr><td>392235</td><td>Delhi Daredevils</td><td>bat</td><td>Delhi Daredevils</td><td>Won</td></tr><tr><td>392236</td><td>Chennai Super Kings</td><td>bat</td><td>Kolkata Knight Riders</td><td>Lost</td></tr><tr><td>392237</td><td>Delhi Daredevils</td><td>bat</td><td>Royal Challengers Bangalore</td><td>Lost</td></tr><tr><td>392238</td><td>Kolkata Knight Riders</td><td>field</td><td>Kolkata Knight Riders</td><td>Won</td></tr><tr><td>392239</td><td>Chennai Super Kings</td><td>bat</td><td>Chennai Super Kings</td><td>Won</td></tr><tr><td>392240</td><td>Delhi Daredevils</td><td>field</td><td>Delhi Daredevils</td><td>Won</td></tr><tr><td>392241</td><td>Royal Challengers Bangalore</td><td>bat</td><td>Royal Challengers Bangalore</td><td>Won</td></tr><tr><td>392242</td><td>Deccan Chargers</td><td>field</td><td>Deccan Chargers</td><td>Won</td></tr><tr><td>392243</td><td>Royal Challengers Bangalore</td><td>field</td><td>Royal Challengers Bangalore</td><td>Won</td></tr><tr><td>392244</td><td>Royal Challengers Bangalore</td><td>field</td><td>Deccan Chargers</td><td>Lost</td></tr><tr><td>419111</td><td>Deccan Chargers</td><td>field</td><td>Kolkata Knight Riders</td><td>Lost</td></tr><tr><td>419112</td><td>Mumbai Indians</td><td>bat</td><td>Mumbai Indians</td><td>Won</td></tr><tr><td>419113</td><td>Delhi Daredevils</td><td>field</td><td>Delhi Daredevils</td><td>Won</td></tr><tr><td>419114</td><td>Kolkata Knight Riders</td><td>field</td><td>Kolkata Knight Riders</td><td>Won</td></tr><tr><td>419115</td><td>Deccan Chargers</td><td>bat</td><td>Deccan Chargers</td><td>Won</td></tr><tr><td>419116</td><td>Delhi Daredevils</td><td>field</td><td>Delhi Daredevils</td><td>Won</td></tr><tr><td>419117</td><td>Kings XI Punjab</td><td>bat</td><td>Royal Challengers Bangalore</td><td>Lost</td></tr><tr><td>419118</td><td>Chennai Super Kings</td><td>bat</td><td>Chennai Super Kings</td><td>Won</td></tr><tr><td>419119</td><td>Delhi Daredevils</td><td>field</td><td>Mumbai Indians</td><td>Lost</td></tr><tr><td>419120</td><td>Royal Challengers Bangalore</td><td>field</td><td>Royal Challengers Bangalore</td><td>Won</td></tr><tr><td>419121</td><td>Delhi Daredevils</td><td>bat</td><td>Chennai Super Kings</td><td>Lost</td></tr><tr><td>419122</td><td>Kings XI Punjab</td><td>field</td><td>Deccan Chargers</td><td>Lost</td></tr><tr><td>419123</td><td>Rajasthan Royals</td><td>bat</td><td>Rajasthan Royals</td><td>Won</td></tr><tr><td>419124</td><td>Mumbai Indians</td><td>bat</td><td>Royal Challengers Bangalore</td><td>Lost</td></tr><tr><td>419125</td><td>Deccan Chargers</td><td>bat</td><td>Deccan Chargers</td><td>Won</td></tr><tr><td>419126</td><td>Chennai Super Kings</td><td>field</td><td>Kings XI Punjab</td><td>Lost</td></tr><tr><td>419127</td><td>Kolkata Knight Riders</td><td>bat</td><td>Mumbai Indians</td><td>Lost</td></tr><tr><td>419128</td><td>Chennai Super Kings</td><td>field</td><td>Royal Challengers Bangalore</td><td>Lost</td></tr><tr><td>419129</td><td>Kings XI Punjab</td><td>field</td><td>Rajasthan Royals</td><td>Lost</td></tr><tr><td>419130</td><td>Mumbai Indians</td><td>field</td><td>Mumbai Indians</td><td>Won</td></tr><tr><td>419131</td><td>Deccan Chargers</td><td>bat</td><td>Rajasthan Royals</td><td>Lost</td></tr><tr><td>419132</td><td>Kolkata Knight Riders</td><td>bat</td><td>Kolkata Knight Riders</td><td>Won</td></tr><tr><td>419133</td><td>Royal Challengers Bangalore</td><td>field</td><td>Delhi Daredevils</td><td>Lost</td></tr><tr><td>419134</td><td>Rajasthan Royals</td><td>bat</td><td>Rajasthan Royals</td><td>Won</td></tr><tr><td>419135</td><td>Deccan Chargers</td><td>field</td><td>Mumbai Indians</td><td>Lost</td></tr><tr><td>419136</td><td>Delhi Daredevils</td><td>bat</td><td>Delhi Daredevils</td><td>Won</td></tr><tr><td>419137</td><td>Mumbai Indians</td><td>field</td><td>Mumbai Indians</td><td>Won</td></tr><tr><td>419138</td><td>Royal Challengers Bangalore</td><td>bat</td><td>Chennai Super Kings</td><td>Lost</td></tr><tr><td>419139</td><td>Delhi Daredevils</td><td>bat</td><td>Delhi Daredevils</td><td>Won</td></tr><tr><td>419140</td><td>Kolkata Knight Riders</td><td>bat</td><td>Kolkata Knight Riders</td><td>Won</td></tr><tr><td>419141</td><td>Kings XI Punjab</td><td>bat</td><td>Royal Challengers Bangalore</td><td>Lost</td></tr><tr><td>419142</td><td>Chennai Super Kings</td><td>bat</td><td>Chennai Super Kings</td><td>Won</td></tr><tr><td>419143</td><td>Mumbai Indians</td><td>bat</td><td>Mumbai Indians</td><td>Won</td></tr><tr><td>419144</td><td>Kolkata Knight Riders</td><td>bat</td><td>Kings XI Punjab</td><td>Lost</td></tr><tr><td>419145</td><td>Delhi Daredevils</td><td>bat</td><td>Delhi Daredevils</td><td>Won</td></tr><tr><td>419146</td><td>Rajasthan Royals</td><td>bat</td><td>Rajasthan Royals</td><td>Won</td></tr><tr><td>419147</td><td>Chennai Super Kings</td><td>bat</td><td>Chennai Super Kings</td><td>Won</td></tr><tr><td>419148</td><td>Kings XI Punjab</td><td>bat</td><td>Rajasthan Royals</td><td>Lost</td></tr><tr><td>419149</td><td>Kolkata Knight Riders</td><td>bat</td><td>Kolkata Knight Riders</td><td>Won</td></tr><tr><td>419150</td><td>Deccan Chargers</td><td>field</td><td>Deccan Chargers</td><td>Won</td></tr><tr><td>419151</td><td>Mumbai Indians</td><td>bat</td><td>Kings XI Punjab</td><td>Lost</td></tr><tr><td>419152</td><td>Chennai Super Kings</td><td>bat</td><td>Deccan Chargers</td><td>Lost</td></tr><tr><td>419153</td><td>Royal Challengers Bangalore</td><td>field</td><td>Royal Challengers Bangalore</td><td>Won</td></tr><tr><td>419154</td><td>Delhi Daredevils</td><td>bat</td><td>Kings XI Punjab</td><td>Lost</td></tr><tr><td>419155</td><td>Rajasthan Royals</td><td>field</td><td>Mumbai Indians</td><td>Lost</td></tr><tr><td>419156</td><td>Royal Challengers Bangalore</td><td>field</td><td>Deccan Chargers</td><td>Lost</td></tr><tr><td>419157</td><td>Mumbai Indians</td><td>bat</td><td>Mumbai Indians</td><td>Won</td></tr><tr><td>419158</td><td>Kolkata Knight Riders</td><td>bat</td><td>Chennai Super Kings</td><td>Lost</td></tr><tr><td>419159</td><td>Rajasthan Royals</td><td>bat</td><td>Royal Challengers Bangalore</td><td>Lost</td></tr><tr><td>419160</td><td>Chennai Super Kings</td><td>bat</td><td>Delhi Daredevils</td><td>Lost</td></tr><tr><td>419161</td><td>Deccan Chargers</td><td>field</td><td>Deccan Chargers</td><td>Won</td></tr><tr><td>419162</td><td>Royal Challengers Bangalore</td><td>field</td><td>Mumbai Indians</td><td>Lost</td></tr><tr><td>419163</td><td>Rajasthan Royals</td><td>bat</td><td>Kolkata Knight Riders</td><td>Lost</td></tr><tr><td>419164</td><td>Chennai Super Kings</td><td>field</td><td>Chennai Super Kings</td><td>Won</td></tr><tr><td>419165</td><td>Deccan Chargers</td><td>bat</td><td>Deccan Chargers</td><td>Won</td></tr><tr><td>419166</td><td>Mumbai Indians</td><td>bat</td><td>Kolkata Knight Riders</td><td>Lost</td></tr><tr><td>419167</td><td>Mumbai Indians</td><td>bat</td><td>Mumbai Indians</td><td>Won</td></tr><tr><td>419168</td><td>Chennai Super Kings</td><td>bat</td><td>Chennai Super Kings</td><td>Won</td></tr><tr><td>419169</td><td>Deccan Chargers</td><td>bat</td><td>Royal Challengers Bangalore</td><td>Lost</td></tr><tr><td>419170</td><td>Chennai Super Kings</td><td>bat</td><td>Chennai Super Kings</td><td>Won</td></tr><tr><td>501203</td><td>Chennai Super Kings</td><td>bat</td><td>Chennai Super Kings</td><td>Won</td></tr><tr><td>501204</td><td>Rajasthan Royals</td><td>field</td><td>Rajasthan Royals</td><td>Won</td></tr><tr><td>501205</td><td>Kochi Tuskers Kerala</td><td>bat</td><td>Royal Challengers Bangalore</td><td>Lost</td></tr><tr><td>501206</td><td>Delhi Daredevils</td><td>bat</td><td>Mumbai Indians</td><td>Lost</td></tr><tr><td>501207</td><td>Kings XI Punjab</td><td>bat</td><td>Pune Warriors</td><td>Lost</td></tr><tr><td>501208</td><td>Kolkata Knight Riders</td><td>bat</td><td>Kolkata Knight Riders</td><td>Won</td></tr><tr><td>501209</td><td>Delhi Daredevils</td><td>bat</td><td>Rajasthan Royals</td><td>Lost</td></tr><tr><td>501210</td><td>Mumbai Indians</td><td>field</td><td>Mumbai Indians</td><td>Won</td></tr><tr><td>501211</td><td>Kings XI Punjab</td><td>field</td><td>Kings XI Punjab</td><td>Won</td></tr><tr><td>501212</td><td>Kochi Tuskers Kerala</td><td>bat</td><td>Pune Warriors</td><td>Lost</td></tr><tr><td>501213</td><td>Royal Challengers Bangalore</td><td>field</td><td>Deccan Chargers</td><td>Lost</td></tr><tr><td>501214</td><td>Kolkata Knight Riders</td><td>field</td><td>Kolkata Knight Riders</td><td>Won</td></tr><tr><td>501215</td><td>Kochi Tuskers Kerala</td><td>field</td><td>Kochi Tuskers Kerala</td><td>Won</td></tr><tr><td>501216</td><td>Chennai Super Kings</td><td>bat</td><td>Chennai Super Kings</td><td>Won</td></tr><tr><td>501217</td><td>Kings XI Punjab</td><td>field</td><td>Kings XI Punjab</td><td>Won</td></tr><tr><td>501218</td><td>Delhi Daredevils</td><td>field</td><td>Delhi Daredevils</td><td>Won</td></tr><tr><td>501219</td><td>Kolkata Knight Riders</td><td>field</td><td>Kolkata Knight Riders</td><td>Won</td></tr><tr><td>501220</td><td>Kochi Tuskers Kerala</td><td>field</td><td>Kochi Tuskers Kerala</td><td>Won</td></tr><tr><td>501221</td><td>Deccan Chargers</td><td>bat</td><td>Deccan Chargers</td><td>Won</td></tr><tr><td>501223</td><td>Pune Warriors</td><td>bat</td><td>Mumbai Indians</td><td>Lost</td></tr><tr><td>501224</td><td>Kolkata Knight Riders</td><td>field</td><td>Kochi Tuskers Kerala</td><td>Lost</td></tr><tr><td>501225</td><td>Rajasthan Royals</td><td>field</td><td>Kings XI Punjab</td><td>Lost</td></tr><tr><td>501226</td><td>Chennai Super Kings</td><td>field</td><td>Mumbai Indians</td><td>Lost</td></tr><tr><td>501227</td><td>Royal Challengers Bangalore</td><td>field</td><td>Royal Challengers Bangalore</td><td>Won</td></tr><tr><td>501228</td><td>Kings XI Punjab</td><td>field</td><td>Delhi Daredevils</td><td>Lost</td></tr><tr><td>501229</td><td>Deccan Chargers</td><td>field</td><td>Mumbai Indians</td><td>Lost</td></tr><tr><td>501230</td><td>Rajasthan Royals</td><td>field</td><td>Rajasthan Royals</td><td>Won</td></tr><tr><td>501231</td><td>Pune Warriors</td><td>field</td><td>Chennai Super Kings</td><td>Lost</td></tr><tr><td>501232</td><td>Royal Challengers Bangalore</td><td>field</td><td>Royal Challengers Bangalore</td><td>Won</td></tr><tr><td>501233</td><td>Pune Warriors</td><td>bat</td><td>Chennai Super Kings</td><td>Lost</td></tr><tr><td>501234</td><td>Kochi Tuskers Kerala</td><td>field</td><td>Deccan Chargers</td><td>Lost</td></tr><tr><td>501235</td><td>Delhi Daredevils</td><td>field</td><td>Kolkata Knight Riders</td><td>Lost</td></tr><tr><td>501236</td><td>Rajasthan Royals</td><td>field</td><td>Rajasthan Royals</td><td>Won</td></tr><tr><td>501237</td><td>Pune Warriors</td><td>field</td><td>Royal Challengers Bangalore</td><td>Lost</td></tr><tr><td>501238</td><td>Delhi Daredevils</td><td>bat</td><td>Delhi Daredevils</td><td>Won</td></tr><tr><td>501239</td><td>Kolkata Knight Riders</td><td>field</td><td>Kolkata Knight Riders</td><td>Won</td></tr><tr><td>501240</td><td>Rajasthan Royals</td><td>field</td><td>Rajasthan Royals</td><td>Won</td></tr><tr><td>501241</td><td>Chennai Super Kings</td><td>bat</td><td>Chennai Super Kings</td><td>Won</td></tr><tr><td>501242</td><td>Kings XI Punjab</td><td>field</td><td>Mumbai Indians</td><td>Lost</td></tr><tr><td>501243</td><td>Kochi Tuskers Kerala</td><td>field</td><td>Kochi Tuskers Kerala</td><td>Won</td></tr><tr><td>501244</td><td>Deccan Chargers</td><td>field</td><td>Kolkata Knight Riders</td><td>Lost</td></tr><tr><td>501245</td><td>Rajasthan Royals</td><td>bat</td><td>Chennai Super Kings</td><td>Lost</td></tr><tr><td>501246</td><td>Pune Warriors</td><td>field</td><td>Mumbai Indians</td><td>Lost</td></tr><tr><td>501247</td><td>Kolkata Knight Riders</td><td>field</td><td>Kochi Tuskers Kerala</td><td>Lost</td></tr><tr><td>501248</td><td>Delhi Daredevils</td><td>field</td><td>Delhi Daredevils</td><td>Won</td></tr><tr><td>501249</td><td>Kings XI Punjab</td><td>field</td><td>Royal Challengers Bangalore</td><td>Lost</td></tr><tr><td>501250</td><td>Chennai Super Kings</td><td>bat</td><td>Kolkata Knight Riders</td><td>Lost</td></tr><tr><td>501251</td><td>Delhi Daredevils</td><td>field</td><td>Mumbai Indians</td><td>Lost</td></tr><tr><td>501252</td><td>Kochi Tuskers Kerala</td><td>bat</td><td>Royal Challengers Bangalore</td><td>Lost</td></tr><tr><td>501253</td><td>Kings XI Punjab</td><td>bat</td><td>Pune Warriors</td><td>Lost</td></tr><tr><td>501254</td><td>Rajasthan Royals</td><td>field</td><td>Chennai Super Kings</td><td>Lost</td></tr><tr><td>501255</td><td>Deccan Chargers</td><td>bat</td><td>Pune Warriors</td><td>Lost</td></tr><tr><td>501256</td><td>Mumbai Indians</td><td>field</td><td>Kings XI Punjab</td><td>Lost</td></tr><tr><td>501257</td><td>Royal Challengers Bangalore</td><td>field</td><td>Royal Challengers Bangalore</td><td>Won</td></tr><tr><td>501258</td><td>Chennai Super Kings</td><td>bat</td><td>Chennai Super Kings</td><td>Won</td></tr><tr><td>501259</td><td>Kings XI Punjab</td><td>field</td><td>Kings XI Punjab</td><td>Won</td></tr><tr><td>501260</td><td>Royal Challengers Bangalore</td><td>field</td><td>Royal Challengers Bangalore</td><td>Won</td></tr><tr><td>501261</td><td>Deccan Chargers</td><td>bat</td><td>Deccan Chargers</td><td>Won</td></tr><tr><td>501262</td><td>Delhi Daredevils</td><td>field</td><td>Kings XI Punjab</td><td>Lost</td></tr><tr><td>501263</td><td>Kochi Tuskers Kerala</td><td>field</td><td>Kochi Tuskers Kerala</td><td>Won</td></tr><tr><td>501264</td><td>Deccan Chargers</td><td>field</td><td>Deccan Chargers</td><td>Won</td></tr><tr><td>501265</td><td>Kings XI Punjab</td><td>bat</td><td>Kings XI Punjab</td><td>Won</td></tr><tr><td>501266</td><td>Chennai Super Kings</td><td>bat</td><td>Chennai Super Kings</td><td>Won</td></tr><tr><td>501267</td><td>Kolkata Knight Riders</td><td>field</td><td>Kolkata Knight Riders</td><td>Won</td></tr><tr><td>501268</td><td>Mumbai Indians</td><td>bat</td><td>Rajasthan Royals</td><td>Lost</td></tr><tr><td>501269</td><td>Kings XI Punjab</td><td>field</td><td>Deccan Chargers</td><td>Lost</td></tr><tr><td>501270</td><td>Delhi Daredevils</td><td>bat</td><td>NULL</td><td>Lost</td></tr><tr><td>501271</td><td>Royal Challengers Bangalore</td><td>field</td><td>Royal Challengers Bangalore</td><td>Won</td></tr><tr><td>501272</td><td>Mumbai Indians</td><td>field</td><td>Mumbai Indians</td><td>Won</td></tr><tr><td>501273</td><td>Chennai Super Kings</td><td>field</td><td>Chennai Super Kings</td><td>Won</td></tr><tr><td>501274</td><td>Mumbai Indians</td><td>field</td><td>Mumbai Indians</td><td>Won</td></tr><tr><td>501275</td><td>Mumbai Indians</td><td>field</td><td>Royal Challengers Bangalore</td><td>Lost</td></tr><tr><td>501276</td><td>Chennai Super Kings</td><td>bat</td><td>Chennai Super Kings</td><td>Won</td></tr><tr><td>548311</td><td>Mumbai Indians</td><td>field</td><td>Mumbai Indians</td><td>Won</td></tr><tr><td>548312</td><td>Delhi Daredevils</td><td>field</td><td>Delhi Daredevils</td><td>Won</td></tr><tr><td>548313</td><td>Mumbai Indians</td><td>field</td><td>Pune Warriors</td><td>Lost</td></tr><tr><td>548314</td><td>Kings XI Punjab</td><td>field</td><td>Rajasthan Royals</td><td>Lost</td></tr><tr><td>548315</td><td>Delhi Daredevils</td><td>field</td><td>Royal Challengers Bangalore</td><td>Lost</td></tr><tr><td>548316</td><td>Deccan Chargers</td><td>field</td><td>Chennai Super Kings</td><td>Lost</td></tr><tr><td>548317</td><td>Kolkata Knight Riders</td><td>field</td><td>Rajasthan Royals</td><td>Lost</td></tr><tr><td>548318</td><td>Pune Warriors</td><td>bat</td><td>Pune Warriors</td><td>Won</td></tr><tr><td>548319</td><td>Deccan Chargers</td><td>bat</td><td>Mumbai Indians</td><td>Lost</td></tr><tr><td>548320</td><td>Royal Challengers Bangalore</td><td>field</td><td>Kolkata Knight Riders</td><td>Lost</td></tr><tr><td>548321</td><td>Delhi Daredevils</td><td>field</td><td>Delhi Daredevils</td><td>Won</td></tr><tr><td>548322</td><td>Rajasthan Royals</td><td>field</td><td>Mumbai Indians</td><td>Lost</td></tr><tr><td>548323</td><td>Royal Challengers Bangalore</td><td>bat</td><td>Chennai Super Kings</td><td>Lost</td></tr><tr><td>548324</td><td>Kings XI Punjab</td><td>field</td><td>Kings XI Punjab</td><td>Won</td></tr><tr><td>548325</td><td>Rajasthan Royals</td><td>bat</td><td>Kolkata Knight Riders</td><td>Lost</td></tr><tr><td>548326</td><td>Deccan Chargers</td><td>bat</td><td>Delhi Daredevils</td><td>Lost</td></tr><tr><td>548327</td><td>Chennai Super Kings</td><td>bat</td><td>Pune Warriors</td><td>Lost</td></tr><tr><td>548328</td><td>Kolkata Knight Riders</td><td>field</td><td>Kings XI Punjab</td><td>Lost</td></tr><tr><td>548329</td><td>Rajasthan Royals</td><td>bat</td><td>Rajasthan Royals</td><td>Won</td></tr><tr><td>548330</td><td>Delhi Daredevils</td><td>field</td><td>Delhi Daredevils</td><td>Won</td></tr><tr><td>548331</td><td>Deccan Chargers</td><td>bat</td><td>Rajasthan Royals</td><td>Lost</td></tr><tr><td>548332</td><td>Pune Warriors</td><td>bat</td><td>Royal Challengers Bangalore</td><td>Lost</td></tr><tr><td>548333</td><td>Kings XI Punjab</td><td>bat</td><td>Kolkata Knight Riders</td><td>Lost</td></tr><tr><td>548334</td><td>Deccan Chargers</td><td>bat</td><td>Delhi Daredevils</td><td>Lost</td></tr><tr><td>548335</td><td>Pune Warriors</td><td>field</td><td>Chennai Super Kings</td><td>Lost</td></tr><tr><td>548336</td><td>Royal Challengers Bangalore</td><td>field</td><td>Royal Challengers Bangalore</td><td>Won</td></tr><tr><td>548337</td><td>Rajasthan Royals</td><td>bat</td><td>Chennai Super Kings</td><td>Lost</td></tr><tr><td>548338</td><td>Delhi Daredevils</td><td>field</td><td>Pune Warriors</td><td>Lost</td></tr><tr><td>548339</td><td>Mumbai Indians</td><td>bat</td><td>Kings XI Punjab</td><td>Lost</td></tr><tr><td>548340</td><td>Kolkata Knight Riders</td><td>field</td><td>Kolkata Knight Riders</td><td>Won</td></tr><tr><td>548341</td><td>Rajasthan Royals</td><td>field</td><td>Royal Challengers Bangalore</td><td>Lost</td></tr><tr><td>548342</td><td>Pune Warriors</td><td>bat</td><td>Delhi Daredevils</td><td>Lost</td></tr><tr><td>548344</td><td>Kings XI Punjab</td><td>bat</td><td>Mumbai Indians</td><td>Lost</td></tr><tr><td>548346</td><td>Deccan Chargers</td><td>bat</td><td>Deccan Chargers</td><td>Won</td></tr><tr><td>548347</td><td>Mumbai Indians</td><td>field</td><td>Delhi Daredevils</td><td>Lost</td></tr><tr><td>548348</td><td>Kings XI Punjab</td><td>bat</td><td>Kings XI Punjab</td><td>Won</td></tr><tr><td>548349</td><td>Kolkata Knight Riders</td><td>bat</td><td>Kolkata Knight Riders</td><td>Won</td></tr><tr><td>548350</td><td>Delhi Daredevils</td><td>bat</td><td>Delhi Daredevils</td><td>Won</td></tr><tr><td>548351</td><td>Mumbai Indians</td><td>field</td><td>Mumbai Indians</td><td>Won</td></tr><tr><td>548352</td><td>Chennai Super Kings</td><td>bat</td><td>Kolkata Knight Riders</td><td>Lost</td></tr><tr><td>548353</td><td>Deccan Chargers</td><td>bat</td><td>Deccan Chargers</td><td>Won</td></tr><tr><td>548354</td><td>Rajasthan Royals</td><td>bat</td><td>Delhi Daredevils</td><td>Lost</td></tr><tr><td>548355</td><td>Kings XI Punjab</td><td>field</td><td>Kings XI Punjab</td><td>Won</td></tr><tr><td>548356</td><td>Mumbai Indians</td><td>bat</td><td>Mumbai Indians</td><td>Won</td></tr><tr><td>548357</td><td>Chennai Super Kings</td><td>bat</td><td>Chennai Super Kings</td><td>Won</td></tr><tr><td>548358</td><td>Kolkata Knight Riders</td><td>bat</td><td>Kolkata Knight Riders</td><td>Won</td></tr><tr><td>548359</td><td>Rajasthan Royals</td><td>bat</td><td>Rajasthan Royals</td><td>Won</td></tr><tr><td>548360</td><td>Mumbai Indians</td><td>field</td><td>Mumbai Indians</td><td>Won</td></tr><tr><td>548361</td><td>Royal Challengers Bangalore</td><td>field</td><td>Royal Challengers Bangalore</td><td>Won</td></tr><tr><td>548362</td><td>Delhi Daredevils</td><td>bat</td><td>Kolkata Knight Riders</td><td>Lost</td></tr><tr><td>548363</td><td>Pune Warriors</td><td>bat</td><td>Rajasthan Royals</td><td>Lost</td></tr><tr><td>548364</td><td>Deccan Chargers</td><td>field</td><td>Kings XI Punjab</td><td>Lost</td></tr><tr><td>548365</td><td>Royal Challengers Bangalore</td><td>field</td><td>Royal Challengers Bangalore</td><td>Won</td></tr><tr><td>548366</td><td>Chennai Super Kings</td><td>field</td><td>Chennai Super Kings</td><td>Won</td></tr><tr><td>548367</td><td>Pune Warriors</td><td>field</td><td>Royal Challengers Bangalore</td><td>Lost</td></tr><tr><td>548368</td><td>Mumbai Indians</td><td>bat</td><td>Mumbai Indians</td><td>Won</td></tr><tr><td>548369</td><td>Chennai Super Kings</td><td>field</td><td>Chennai Super Kings</td><td>Won</td></tr><tr><td>548370</td><td>Rajasthan Royals</td><td>bat</td><td>Rajasthan Royals</td><td>Won</td></tr><tr><td>548371</td><td>Deccan Chargers</td><td>bat</td><td>Kings XI Punjab</td><td>Lost</td></tr><tr><td>548372</td><td>Mumbai Indians</td><td>field</td><td>Mumbai Indians</td><td>Won</td></tr><tr><td>548373</td><td>Chennai Super Kings</td><td>field</td><td>Chennai Super Kings</td><td>Won</td></tr><tr><td>548374</td><td>Kings XI Punjab</td><td>bat</td><td>Delhi Daredevils</td><td>Lost</td></tr><tr><td>548375</td><td>Mumbai Indians</td><td>field</td><td>Kolkata Knight Riders</td><td>Lost</td></tr><tr><td>548376</td><td>Kings XI Punjab</td><td>field</td><td>Kings XI Punjab</td><td>Won</td></tr><tr><td>548377</td><td>Delhi Daredevils</td><td>field</td><td>Royal Challengers Bangalore</td><td>Lost</td></tr><tr><td>548378</td><td>Rajasthan Royals</td><td>bat</td><td>Deccan Chargers</td><td>Lost</td></tr><tr><td>548379</td><td>Delhi Daredevils</td><td>field</td><td>Delhi Daredevils</td><td>Won</td></tr><tr><td>548380</td><td>Kolkata Knight Riders</td><td>bat</td><td>Kolkata Knight Riders</td><td>Won</td></tr><tr><td>548381</td><td>Royal Challengers Bangalore</td><td>field</td><td>Deccan Chargers</td><td>Lost</td></tr><tr><td>548382</td><td>Rajasthan Royals</td><td>bat</td><td>Mumbai Indians</td><td>Lost</td></tr><tr><td>548383</td><td>Kolkata Knight Riders</td><td>bat</td><td>Kolkata Knight Riders</td><td>Won</td></tr><tr><td>548384</td><td>Mumbai Indians</td><td>field</td><td>Chennai Super Kings</td><td>Lost</td></tr><tr><td>548385</td><td>Delhi Daredevils</td><td>field</td><td>Chennai Super Kings</td><td>Lost</td></tr><tr><td>548386</td><td>Chennai Super Kings</td><td>bat</td><td>Kolkata Knight Riders</td><td>Lost</td></tr><tr><td>598003</td><td>Kolkata Knight Riders</td><td>field</td><td>Kolkata Knight Riders</td><td>Won</td></tr><tr><td>598004</td><td>Mumbai Indians</td><td>field</td><td>Royal Challengers Bangalore</td><td>Lost</td></tr><tr><td>598005</td><td>Pune Warriors</td><td>field</td><td>Sunrisers Hyderabad</td><td>Lost</td></tr><tr><td>598006</td><td>Rajasthan Royals</td><td>bat</td><td>Rajasthan Royals</td><td>Won</td></tr><tr><td>598007</td><td>Mumbai Indians</td><td>bat</td><td>Mumbai Indians</td><td>Won</td></tr><tr><td>598008</td><td>Pune Warriors</td><td>bat</td><td>Kings XI Punjab</td><td>Lost</td></tr><tr><td>598009</td><td>Royal Challengers Bangalore</td><td>bat</td><td>Sunrisers Hyderabad</td><td>Lost</td></tr><tr><td>598010</td><td>Kolkata Knight Riders</td><td>field</td><td>Rajasthan Royals</td><td>Lost</td></tr><tr><td>598011</td><td>Mumbai Indians</td><td>bat</td><td>Mumbai Indians</td><td>Won</td></tr><tr><td>598012</td><td>Chennai Super Kings</td><td>field</td><td>Chennai Super Kings</td><td>Won</td></tr><tr><td>598013</td><td>Royal Challengers Bangalore</td><td>field</td><td>Royal Challengers Bangalore</td><td>Won</td></tr><tr><td>598014</td><td>Rajasthan Royals</td><td>bat</td><td>Pune Warriors</td><td>Lost</td></tr><tr><td>598015</td><td>Delhi Daredevils</td><td>bat</td><td>Sunrisers Hyderabad</td><td>Lost</td></tr><tr><td>598016</td><td>Mumbai Indians</td><td>bat</td><td>Mumbai Indians</td><td>Won</td></tr><tr><td>598017</td><td>Chennai Super Kings</td><td>field</td><td>Chennai Super Kings</td><td>Won</td></tr><tr><td>598018</td><td>Kolkata Knight Riders</td><td>bat</td><td>Kolkata Knight Riders</td><td>Won</td></tr><tr><td>598019</td><td>Rajasthan Royals</td><td>field</td><td>Rajasthan Royals</td><td>Won</td></tr><tr><td>598020</td><td>Pune Warriors</td><td>bat</td><td>Pune Warriors</td><td>Won</td></tr><tr><td>598021</td><td>Kolkata Knight Riders</td><td>field</td><td>Kings XI Punjab</td><td>Lost</td></tr><tr><td>598022</td><td>Royal Challengers Bangalore</td><td>field</td><td>Royal Challengers Bangalore</td><td>Won</td></tr><tr><td>598023</td><td>Pune Warriors</td><td>field</td><td>Sunrisers Hyderabad</td><td>Lost</td></tr><tr><td>598024</td><td>Rajasthan Royals</td><td>bat</td><td>Rajasthan Royals</td><td>Won</td></tr><tr><td>598025</td><td>Chennai Super Kings</td><td>bat</td><td>Chennai Super Kings</td><td>Won</td></tr><tr><td>598026</td><td>Kings XI Punjab</td><td>bat</td><td>Sunrisers Hyderabad</td><td>Lost</td></tr><tr><td>598027</td><td>Kolkata Knight Riders</td><td>bat</td><td>Chennai Super Kings</td><td>Lost</td></tr><tr><td>598028</td><td>Royal Challengers Bangalore</td><td>field</td><td>Royal Challengers Bangalore</td><td>Won</td></tr><tr><td>598029</td><td>Mumbai Indians</td><td>bat</td><td>Delhi Daredevils</td><td>Lost</td></tr><tr><td>598030</td><td>Kings XI Punjab</td><td>field</td><td>Kings XI Punjab</td><td>Won</td></tr><tr><td>598031</td><td>Rajasthan Royals</td><td>bat</td><td>Chennai Super Kings</td><td>Lost</td></tr><tr><td>598032</td><td>Pune Warriors</td><td>field</td><td>Royal Challengers Bangalore</td><td>Lost</td></tr><tr><td>598033</td><td>Delhi Daredevils</td><td>field</td><td>Kings XI Punjab</td><td>Lost</td></tr><tr><td>598034</td><td>Kolkata Knight Riders</td><td>bat</td><td>Mumbai Indians</td><td>Lost</td></tr><tr><td>598035</td><td>Sunrisers Hyderabad</td><td>bat</td><td>Chennai Super Kings</td><td>Lost</td></tr><tr><td>598036</td><td>Kings XI Punjab</td><td>bat</td><td>Kolkata Knight Riders</td><td>Lost</td></tr><tr><td>598037</td><td>Sunrisers Hyderabad</td><td>bat</td><td>Rajasthan Royals</td><td>Lost</td></tr><tr><td>598038</td><td>Mumbai Indians</td><td>bat</td><td>Mumbai Indians</td><td>Won</td></tr><tr><td>598039</td><td>Kolkata Knight Riders</td><td>field</td><td>Chennai Super Kings</td><td>Lost</td></tr><tr><td>598040</td><td>Pune Warriors</td><td>field</td><td>Delhi Daredevils</td><td>Lost</td></tr><tr><td>598041</td><td>Rajasthan Royals</td><td>field</td><td>Rajasthan Royals</td><td>Won</td></tr><tr><td>598042</td><td>Mumbai Indians</td><td>bat</td><td>Mumbai Indians</td><td>Won</td></tr><tr><td>598043</td><td>Chennai Super Kings</td><td>bat</td><td>Chennai Super Kings</td><td>Won</td></tr><tr><td>598044</td><td>Mumbai Indians</td><td>bat</td><td>Sunrisers Hyderabad</td><td>Lost</td></tr><tr><td>598045</td><td>Kolkata Knight Riders</td><td>bat</td><td>Delhi Daredevils</td><td>Lost</td></tr><tr><td>598046</td><td>Chennai Super Kings</td><td>bat</td><td>Chennai Super Kings</td><td>Won</td></tr><tr><td>598047</td><td>Royal Challengers Bangalore</td><td>bat</td><td>Royal Challengers Bangalore</td><td>Won</td></tr><tr><td>598048</td><td>Rajasthan Royals</td><td>bat</td><td>Kolkata Knight Riders</td><td>Lost</td></tr><tr><td>598049</td><td>Delhi Daredevils</td><td>bat</td><td>Sunrisers Hyderabad</td><td>Lost</td></tr><tr><td>598050</td><td>Kings XI Punjab</td><td>field</td><td>Kings XI Punjab</td><td>Won</td></tr><tr><td>598051</td><td>Mumbai Indians</td><td>bat</td><td>Mumbai Indians</td><td>Won</td></tr><tr><td>598052</td><td>Pune Warriors</td><td>bat</td><td>Rajasthan Royals</td><td>Lost</td></tr><tr><td>598053</td><td>Sunrisers Hyderabad</td><td>bat</td><td>Royal Challengers Bangalore</td><td>Lost</td></tr><tr><td>598054</td><td>Delhi Daredevils</td><td>bat</td><td>Rajasthan Royals</td><td>Lost</td></tr><tr><td>598055</td><td>Mumbai Indians</td><td>bat</td><td>Mumbai Indians</td><td>Won</td></tr><tr><td>598056</td><td>Sunrisers Hyderabad</td><td>field</td><td>Chennai Super Kings</td><td>Lost</td></tr><tr><td>598057</td><td>Rajasthan Royals</td><td>field</td><td>Rajasthan Royals</td><td>Won</td></tr><tr><td>598058</td><td>Kolkata Knight Riders</td><td>bat</td><td>Kolkata Knight Riders</td><td>Won</td></tr><tr><td>598059</td><td>Delhi Daredevils</td><td>field</td><td>Royal Challengers Bangalore</td><td>Lost</td></tr><tr><td>598060</td><td>Pune Warriors</td><td>bat</td><td>Mumbai Indians</td><td>Lost</td></tr><tr><td>598061</td><td>Kings XI Punjab</td><td>field</td><td>Sunrisers Hyderabad</td><td>Lost</td></tr><tr><td>598062</td><td>Kolkata Knight Riders</td><td>field</td><td>Kolkata Knight Riders</td><td>Won</td></tr><tr><td>598063</td><td>Rajasthan Royals</td><td>field</td><td>Rajasthan Royals</td><td>Won</td></tr><tr><td>598064</td><td>Kings XI Punjab</td><td>field</td><td>Kings XI Punjab</td><td>Won</td></tr><tr><td>598065</td><td>Sunrisers Hyderabad</td><td>bat</td><td>Mumbai Indians</td><td>Lost</td></tr><tr><td>598066</td><td>Kolkata Knight Riders</td><td>field</td><td>Pune Warriors</td><td>Lost</td></tr><tr><td>598067</td><td>Chennai Super Kings</td><td>bat</td><td>Chennai Super Kings</td><td>Won</td></tr><tr><td>598068</td><td>Rajasthan Royals</td><td>field</td><td>Mumbai Indians</td><td>Lost</td></tr><tr><td>598069</td><td>Kings XI Punjab</td><td>field</td><td>Kings XI Punjab</td><td>Won</td></tr><tr><td>598070</td><td>Sunrisers Hyderabad</td><td>bat</td><td>Sunrisers Hyderabad</td><td>Won</td></tr><tr><td>598071</td><td>Mumbai Indians</td><td>field</td><td>Kings XI Punjab</td><td>Lost</td></tr><tr><td>598072</td><td>Pune Warriors</td><td>bat</td><td>Pune Warriors</td><td>Won</td></tr><tr><td>598073</td><td>Chennai Super Kings</td><td>field</td><td>Royal Challengers Bangalore</td><td>Lost</td></tr><tr><td>598074</td><td>Kolkata Knight Riders</td><td>bat</td><td>Sunrisers Hyderabad</td><td>Lost</td></tr><tr><td>598075</td><td>Chennai Super Kings</td><td>bat</td><td>Chennai Super Kings</td><td>Won</td></tr><tr><td>598076</td><td>Sunrisers Hyderabad</td><td>bat</td><td>Rajasthan Royals</td><td>Lost</td></tr><tr><td>598077</td><td>Rajasthan Royals</td><td>bat</td><td>Mumbai Indians</td><td>Lost</td></tr><tr><td>598078</td><td>Mumbai Indians</td><td>bat</td><td>Mumbai Indians</td><td>Won</td></tr><tr><td>729284</td><td>Kolkata Knight Riders</td><td>bat</td><td>Kolkata Knight Riders</td><td>Won</td></tr><tr><td>729286</td><td>Royal Challengers Bangalore</td><td>field</td><td>Royal Challengers Bangalore</td><td>Won</td></tr><tr><td>729288</td><td>Chennai Super Kings</td><td>bat</td><td>Kings XI Punjab</td><td>Lost</td></tr><tr><td>729290</td><td>Rajasthan Royals</td><td>field</td><td>Rajasthan Royals</td><td>Won</td></tr><tr><td>729292</td><td>Royal Challengers Bangalore</td><td>field</td><td>Royal Challengers Bangalore</td><td>Won</td></tr><tr><td>729294</td><td>Kolkata Knight Riders</td><td>bat</td><td>Delhi Daredevils</td><td>Lost</td></tr><tr><td>729296</td><td>Kings XI Punjab</td><td>field</td><td>Kings XI Punjab</td><td>Won</td></tr><tr><td>729298</td><td>Chennai Super Kings</td><td>bat</td><td>Chennai Super Kings</td><td>Won</td></tr><tr><td>729300</td><td>Sunrisers Hyderabad</td><td>field</td><td>Kings XI Punjab</td><td>Lost</td></tr><tr><td>729302</td><td>Rajasthan Royals</td><td>field</td><td>Chennai Super Kings</td><td>Lost</td></tr><tr><td>729304</td><td>Royal Challengers Bangalore</td><td>field</td><td>Kolkata Knight Riders</td><td>Lost</td></tr><tr><td>729306</td><td>Sunrisers Hyderabad</td><td>bat</td><td>Sunrisers Hyderabad</td><td>Won</td></tr><tr><td>729308</td><td>Mumbai Indians</td><td>bat</td><td>Chennai Super Kings</td><td>Lost</td></tr><tr><td>729310</td><td>Rajasthan Royals</td><td>field</td><td>Rajasthan Royals</td><td>Won</td></tr><tr><td>729312</td><td>Kolkata Knight Riders</td><td>field</td><td>Kings XI Punjab</td><td>Lost</td></tr><tr><td>729314</td><td>Mumbai Indians</td><td>bat</td><td>Delhi Daredevils</td><td>Lost</td></tr><tr><td>729316</td><td>Sunrisers Hyderabad</td><td>bat</td><td>Chennai Super Kings</td><td>Lost</td></tr><tr><td>729318</td><td>Kings XI Punjab</td><td>field</td><td>Kings XI Punjab</td><td>Won</td></tr><tr><td>729320</td><td>Rajasthan Royals</td><td>bat</td><td>Rajasthan Royals</td><td>Won</td></tr><tr><td>729322</td><td>Mumbai Indians</td><td>field</td><td>Sunrisers Hyderabad</td><td>Lost</td></tr><tr><td>733976</td><td>Chennai Super Kings</td><td>bat</td><td>Chennai Super Kings</td><td>Won</td></tr><tr><td>733978</td><td>Kings XI Punjab</td><td>bat</td><td>Mumbai Indians</td><td>Lost</td></tr><tr><td>733980</td><td>Rajasthan Royals</td><td>field</td><td>Rajasthan Royals</td><td>Won</td></tr><tr><td>733982</td><td>Royal Challengers Bangalore</td><td>field</td><td>Royal Challengers Bangalore</td><td>Won</td></tr><tr><td>733984</td><td>Kolkata Knight Riders</td><td>field</td><td>Rajasthan Royals</td><td>Lost</td></tr><tr><td>733986</td><td>Chennai Super Kings</td><td>field</td><td>Chennai Super Kings</td><td>Won</td></tr><tr><td>733988</td><td>Royal Challengers Bangalore</td><td>field</td><td>Mumbai Indians</td><td>Lost</td></tr><tr><td>733990</td><td>Delhi Daredevils</td><td>bat</td><td>Kolkata Knight Riders</td><td>Lost</td></tr><tr><td>733992</td><td>Chennai Super Kings</td><td>field</td><td>Kings XI Punjab</td><td>Lost</td></tr><tr><td>733994</td><td>Rajasthan Royals</td><td>field</td><td>Sunrisers Hyderabad</td><td>Lost</td></tr><tr><td>733996</td><td>Royal Challengers Bangalore</td><td>field</td><td>Kings XI Punjab</td><td>Lost</td></tr><tr><td>733998</td><td>Sunrisers Hyderabad</td><td>field</td><td>Sunrisers Hyderabad</td><td>Won</td></tr><tr><td>734000</td><td>Chennai Super Kings</td><td>field</td><td>Chennai Super Kings</td><td>Won</td></tr><tr><td>734002</td><td>Kolkata Knight Riders</td><td>field</td><td>Kolkata Knight Riders</td><td>Won</td></tr><tr><td>734004</td><td>Royal Challengers Bangalore</td><td>bat</td><td>Rajasthan Royals</td><td>Lost</td></tr><tr><td>734006</td><td>Sunrisers Hyderabad</td><td>bat</td><td>Mumbai Indians</td><td>Lost</td></tr><tr><td>734008</td><td>Rajasthan Royals</td><td>bat</td><td>Chennai Super Kings</td><td>Lost</td></tr><tr><td>734010</td><td>Delhi Daredevils</td><td>field</td><td>Royal Challengers Bangalore</td><td>Lost</td></tr><tr><td>734012</td><td>Kings XI Punjab</td><td>field</td><td>Kings XI Punjab</td><td>Won</td></tr><tr><td>734014</td><td>Kolkata Knight Riders</td><td>field</td><td>Kolkata Knight Riders</td><td>Won</td></tr><tr><td>734016</td><td>Delhi Daredevils</td><td>field</td><td>Rajasthan Royals</td><td>Lost</td></tr><tr><td>734018</td><td>Chennai Super Kings</td><td>bat</td><td>Royal Challengers Bangalore</td><td>Lost</td></tr><tr><td>734020</td><td>Sunrisers Hyderabad</td><td>bat</td><td>Kolkata Knight Riders</td><td>Lost</td></tr><tr><td>734022</td><td>Mumbai Indians</td><td>bat</td><td>Mumbai Indians</td><td>Won</td></tr><tr><td>734024</td><td>Kings XI Punjab</td><td>field</td><td>Kings XI Punjab</td><td>Won</td></tr><tr><td>734026</td><td>Royal Challengers Bangalore</td><td>bat</td><td>Sunrisers Hyderabad</td><td>Lost</td></tr><tr><td>734028</td><td>Kolkata Knight Riders</td><td>field</td><td>Kolkata Knight Riders</td><td>Won</td></tr><tr><td>734030</td><td>Mumbai Indians</td><td>field</td><td>Mumbai Indians</td><td>Won</td></tr><tr><td>734032</td><td>Royal Challengers Bangalore</td><td>field</td><td>Kolkata Knight Riders</td><td>Lost</td></tr><tr><td>734034</td><td>Sunrisers Hyderabad</td><td>field</td><td>Sunrisers Hyderabad</td><td>Won</td></tr><tr><td>734036</td><td>Delhi Daredevils</td><td>field</td><td>Mumbai Indians</td><td>Lost</td></tr><tr><td>734038</td><td>Rajasthan Royals</td><td>field</td><td>Kings XI Punjab</td><td>Lost</td></tr><tr><td>734040</td><td>Chennai Super Kings</td><td>field</td><td>Chennai Super Kings</td><td>Won</td></tr><tr><td>734042</td><td>Kolkata Knight Riders</td><td>field</td><td>Kolkata Knight Riders</td><td>Won</td></tr><tr><td>734044</td><td>Kings XI Punjab</td><td>field</td><td>Kings XI Punjab</td><td>Won</td></tr><tr><td>734046</td><td>Mumbai Indians</td><td>field</td><td>Mumbai Indians</td><td>Won</td></tr><tr><td>734048</td><td>Kings XI Punjab</td><td>field</td><td>Kolkata Knight Riders</td><td>Lost</td></tr><tr><td>734050</td><td>Chennai Super Kings</td><td>field</td><td>Chennai Super Kings</td><td>Won</td></tr><tr><td>734052</td><td>Chennai Super Kings</td><td>field</td><td>Kings XI Punjab</td><td>Lost</td></tr><tr><td>734054</td><td>Kolkata Knight Riders</td><td>field</td><td>Kolkata Knight Riders</td><td>Won</td></tr><tr><td>829710</td><td>Kolkata Knight Riders</td><td>field</td><td>Kolkata Knight Riders</td><td>Won</td></tr><tr><td>829712</td><td>Delhi Daredevils</td><td>field</td><td>Chennai Super Kings</td><td>Lost</td></tr><tr><td>829714</td><td>Kings XI Punjab</td><td>field</td><td>Rajasthan Royals</td><td>Lost</td></tr><tr><td>829716</td><td>Chennai Super Kings</td><td>bat</td><td>Chennai Super Kings</td><td>Won</td></tr><tr><td>829718</td><td>Royal Challengers Bangalore</td><td>field</td><td>Royal Challengers Bangalore</td><td>Won</td></tr><tr><td>829720</td><td>Rajasthan Royals</td><td>field</td><td>Rajasthan Royals</td><td>Won</td></tr><tr><td>829722</td><td>Mumbai Indians</td><td>field</td><td>Kings XI Punjab</td><td>Lost</td></tr><tr><td>829724</td><td>Sunrisers Hyderabad</td><td>field</td><td>Sunrisers Hyderabad</td><td>Won</td></tr><tr><td>829726</td><td>Mumbai Indians</td><td>bat</td><td>Rajasthan Royals</td><td>Lost</td></tr><tr><td>829728</td><td>Kolkata Knight Riders</td><td>field</td><td>Kolkata Knight Riders</td><td>Won</td></tr><tr><td>829730</td><td>Kings XI Punjab</td><td>bat</td><td>Delhi Daredevils</td><td>Lost</td></tr><tr><td>829732</td><td>Rajasthan Royals</td><td>field</td><td>Rajasthan Royals</td><td>Won</td></tr><tr><td>829734</td><td>Mumbai Indians</td><td>bat</td><td>Chennai Super Kings</td><td>Lost</td></tr><tr><td>829736</td><td>Delhi Daredevils</td><td>bat</td><td>Delhi Daredevils</td><td>Won</td></tr><tr><td>829738</td><td>Kolkata Knight Riders</td><td>field</td><td>Kolkata Knight Riders</td><td>Won</td></tr><tr><td>829740</td><td>Chennai Super Kings</td><td>bat</td><td>Rajasthan Royals</td><td>Lost</td></tr><tr><td>829742</td><td>Royal Challengers Bangalore</td><td>field</td><td>Mumbai Indians</td><td>Lost</td></tr><tr><td>829744</td><td>Kolkata Knight Riders</td><td>field</td><td>Kolkata Knight Riders</td><td>Won</td></tr><tr><td>829746</td><td>Kings XI Punjab</td><td>field</td><td>Kings XI Punjab</td><td>Won</td></tr><tr><td>829748</td><td>Kolkata Knight Riders</td><td>field</td><td>Sunrisers Hyderabad</td><td>Lost</td></tr><tr><td>829750</td><td>Royal Challengers Bangalore</td><td>field</td><td>Chennai Super Kings</td><td>Lost</td></tr><tr><td>829752</td><td>Mumbai Indians</td><td>field</td><td>Delhi Daredevils</td><td>Lost</td></tr><tr><td>829754</td><td>Royal Challengers Bangalore</td><td>field</td><td>Royal Challengers Bangalore</td><td>Won</td></tr><tr><td>829756</td><td>Mumbai Indians</td><td>bat</td><td>Mumbai Indians</td><td>Won</td></tr><tr><td>829758</td><td>Chennai Super Kings</td><td>bat</td><td>Chennai Super Kings</td><td>Won</td></tr><tr><td>829762</td><td>Royal Challengers Bangalore</td><td>field</td><td>Royal Challengers Bangalore</td><td>Won</td></tr><tr><td>829764</td><td>Kings XI Punjab</td><td>field</td><td>Sunrisers Hyderabad</td><td>Lost</td></tr><tr><td>829766</td><td>Kolkata Knight Riders</td><td>bat</td><td>Kolkata Knight Riders</td><td>Won</td></tr><tr><td>829768</td><td>Rajasthan Royals</td><td>field</td><td>NULL</td><td>Lost</td></tr><tr><td>829770</td><td>Kolkata Knight Riders</td><td>field</td><td>Chennai Super Kings</td><td>Lost</td></tr><tr><td>829772</td><td>Delhi Daredevils</td><td>field</td><td>Delhi Daredevils</td><td>Won</td></tr><tr><td>829774</td><td>Rajasthan Royals</td><td>field</td><td>Mumbai Indians</td><td>Lost</td></tr><tr><td>829776</td><td>Royal Challengers Bangalore</td><td>field</td><td>Royal Challengers Bangalore</td><td>Won</td></tr><tr><td>829778</td><td>Chennai Super Kings</td><td>field</td><td>Sunrisers Hyderabad</td><td>Lost</td></tr><tr><td>829780</td><td>Mumbai Indians</td><td>bat</td><td>Mumbai Indians</td><td>Won</td></tr><tr><td>829782</td><td>Delhi Daredevils</td><td>field</td><td>Rajasthan Royals</td><td>Lost</td></tr><tr><td>829784</td><td>Chennai Super Kings</td><td>bat</td><td>Chennai Super Kings</td><td>Won</td></tr><tr><td>829786</td><td>Sunrisers Hyderabad</td><td>field</td><td>Kolkata Knight Riders</td><td>Lost</td></tr><tr><td>829788</td><td>Delhi Daredevils</td><td>bat</td><td>Mumbai Indians</td><td>Lost</td></tr><tr><td>829790</td><td>Kings XI Punjab</td><td>field</td><td>Royal Challengers Bangalore</td><td>Lost</td></tr><tr><td>829792</td><td>Rajasthan Royals</td><td>field</td><td>Sunrisers Hyderabad</td><td>Lost</td></tr><tr><td>829794</td><td>Chennai Super Kings</td><td>bat</td><td>Mumbai Indians</td><td>Lost</td></tr><tr><td>829796</td><td>Kings XI Punjab</td><td>bat</td><td>Kolkata Knight Riders</td><td>Lost</td></tr><tr><td>829798</td><td>Sunrisers Hyderabad</td><td>bat</td><td>Sunrisers Hyderabad</td><td>Won</td></tr><tr><td>829800</td><td>Royal Challengers Bangalore</td><td>bat</td><td>Royal Challengers Bangalore</td><td>Won</td></tr><tr><td>829802</td><td>Chennai Super Kings</td><td>bat</td><td>Chennai Super Kings</td><td>Won</td></tr><tr><td>829804</td><td>Sunrisers Hyderabad</td><td>bat</td><td>Sunrisers Hyderabad</td><td>Won</td></tr><tr><td>829806</td><td>Chennai Super Kings</td><td>bat</td><td>Delhi Daredevils</td><td>Lost</td></tr><tr><td>829808</td><td>Royal Challengers Bangalore</td><td>field</td><td>Kings XI Punjab</td><td>Lost</td></tr><tr><td>829810</td><td>Kolkata Knight Riders</td><td>field</td><td>Mumbai Indians</td><td>Lost</td></tr><tr><td>829812</td><td>Sunrisers Hyderabad</td><td>bat</td><td>Royal Challengers Bangalore</td><td>Lost</td></tr><tr><td>829814</td><td>Kings XI Punjab</td><td>bat</td><td>Chennai Super Kings</td><td>Lost</td></tr><tr><td>829816</td><td>Rajasthan Royals</td><td>bat</td><td>Rajasthan Royals</td><td>Won</td></tr><tr><td>829818</td><td>Royal Challengers Bangalore</td><td>field</td><td>NULL</td><td>Lost</td></tr><tr><td>829820</td><td>Sunrisers Hyderabad</td><td>bat</td><td>Mumbai Indians</td><td>Lost</td></tr><tr><td>829822</td><td>Mumbai Indians</td><td>bat</td><td>Mumbai Indians</td><td>Won</td></tr><tr><td>829824</td><td>Royal Challengers Bangalore</td><td>bat</td><td>Royal Challengers Bangalore</td><td>Won</td></tr><tr><td>829826</td><td>Chennai Super Kings</td><td>field</td><td>Chennai Super Kings</td><td>Won</td></tr><tr><td>829828</td><td>Chennai Super Kings</td><td>field</td><td>Mumbai Indians</td><td>Lost</td></tr><tr><td>980906</td><td>Mumbai Indians</td><td>bat</td><td>Rising Pune Supergiants</td><td>Lost</td></tr><tr><td>980908</td><td>Kolkata Knight Riders</td><td>field</td><td>Kolkata Knight Riders</td><td>Won</td></tr><tr><td>980910</td><td>Gujarat Lions</td><td>field</td><td>Gujarat Lions</td><td>Won</td></tr><tr><td>980912</td><td>Sunrisers Hyderabad</td><td>field</td><td>Royal Challengers Bangalore</td><td>Lost</td></tr><tr><td>980914</td><td>Mumbai Indians</td><td>field</td><td>Mumbai Indians</td><td>Won</td></tr><tr><td>980916</td><td>Rising Pune Supergiants</td><td>bat</td><td>Gujarat Lions</td><td>Lost</td></tr><tr><td>980918</td><td>Delhi Daredevils</td><td>field</td><td>Delhi Daredevils</td><td>Won</td></tr><tr><td>980920</td><td>Sunrisers Hyderabad</td><td>bat</td><td>Kolkata Knight Riders</td><td>Lost</td></tr><tr><td>980922</td><td>Gujarat Lions</td><td>field</td><td>Gujarat Lions</td><td>Won</td></tr><tr><td>980924</td><td>Rising Pune Supergiants</td><td>bat</td><td>Kings XI Punjab</td><td>Lost</td></tr><tr><td>980926</td><td>Delhi Daredevils</td><td>field</td><td>Delhi Daredevils</td><td>Won</td></tr><tr><td>980928</td><td>Sunrisers Hyderabad</td><td>field</td><td>Sunrisers Hyderabad</td><td>Won</td></tr><tr><td>980930</td><td>Kolkata Knight Riders</td><td>field</td><td>Kolkata Knight Riders</td><td>Won</td></tr><tr><td>980932</td><td>Mumbai Indians</td><td>field</td><td>Mumbai Indians</td><td>Won</td></tr><tr><td>980934</td><td>Sunrisers Hyderabad</td><td>field</td><td>Sunrisers Hyderabad</td><td>Won</td></tr><tr><td>980936</td><td>Rising Pune Supergiants</td><td>field</td><td>Royal Challengers Bangalore</td><td>Lost</td></tr><tr><td>980938</td><td>Mumbai Indians</td><td>field</td><td>Delhi Daredevils</td><td>Lost</td></tr><tr><td>980940</td><td>Sunrisers Hyderabad</td><td>field</td><td>Sunrisers Hyderabad</td><td>Won</td></tr><tr><td>980942</td><td>Royal Challengers Bangalore</td><td>bat</td><td>Gujarat Lions</td><td>Lost</td></tr><tr><td>980944</td><td>Kolkata Knight Riders</td><td>field</td><td>Kolkata Knight Riders</td><td>Won</td></tr><tr><td>980946</td><td>Kings XI Punjab</td><td>field</td><td>Mumbai Indians</td><td>Lost</td></tr><tr><td>980948</td><td>Rising Pune Supergiants</td><td>field</td><td>Rising Pune Supergiants</td><td>Won</td></tr><tr><td>980950</td><td>Delhi Daredevils</td><td>field</td><td>Gujarat Lions</td><td>Lost</td></tr><tr><td>980952</td><td>Mumbai Indians</td><td>field</td><td>Mumbai Indians</td><td>Won</td></tr><tr><td>980954</td><td>Gujarat Lions</td><td>field</td><td>Gujarat Lions</td><td>Won</td></tr><tr><td>980956</td><td>Kolkata Knight Riders</td><td>field</td><td>Delhi Daredevils</td><td>Lost</td></tr><tr><td>980958</td><td>Royal Challengers Bangalore</td><td>field</td><td>Sunrisers Hyderabad</td><td>Lost</td></tr><tr><td>980960</td><td>Gujarat Lions</td><td>field</td><td>Kings XI Punjab</td><td>Lost</td></tr><tr><td>980962</td><td>Mumbai Indians</td><td>field</td><td>Mumbai Indians</td><td>Won</td></tr><tr><td>980964</td><td>Kolkata Knight Riders</td><td>field</td><td>Kolkata Knight Riders</td><td>Won</td></tr><tr><td>980966</td><td>Delhi Daredevils</td><td>field</td><td>Delhi Daredevils</td><td>Won</td></tr><tr><td>980968</td><td>Kings XI Punjab</td><td>field</td><td>Kolkata Knight Riders</td><td>Lost</td></tr><tr><td>980970</td><td>Rising Pune Supergiants</td><td>field</td><td>Rising Pune Supergiants</td><td>Won</td></tr><tr><td>980972</td><td>Sunrisers Hyderabad</td><td>field</td><td>Sunrisers Hyderabad</td><td>Won</td></tr><tr><td>980974</td><td>Royal Challengers Bangalore</td><td>field</td><td>Royal Challengers Bangalore</td><td>Won</td></tr><tr><td>980976</td><td>Delhi Daredevils</td><td>field</td><td>Kings XI Punjab</td><td>Lost</td></tr><tr><td>980978</td><td>Mumbai Indians</td><td>field</td><td>Sunrisers Hyderabad</td><td>Lost</td></tr><tr><td>980980</td><td>Gujarat Lions</td><td>field</td><td>Gujarat Lions</td><td>Won</td></tr><tr><td>980982</td><td>Kings XI Punjab</td><td>field</td><td>Royal Challengers Bangalore</td><td>Lost</td></tr><tr><td>980984</td><td>Sunrisers Hyderabad</td><td>bat</td><td>Sunrisers Hyderabad</td><td>Won</td></tr><tr><td>980986</td><td>Mumbai Indians</td><td>field</td><td>Mumbai Indians</td><td>Won</td></tr><tr><td>980988</td><td>Delhi Daredevils</td><td>field</td><td>Delhi Daredevils</td><td>Won</td></tr><tr><td>980990</td><td>Mumbai Indians</td><td>bat</td><td>Kings XI Punjab</td><td>Lost</td></tr><tr><td>980992</td><td>Gujarat Lions</td><td>field</td><td>Royal Challengers Bangalore</td><td>Lost</td></tr><tr><td>980994</td><td>Rising Pune Supergiants</td><td>bat</td><td>Kolkata Knight Riders</td><td>Lost</td></tr><tr><td>980996</td><td>Kings XI Punjab</td><td>bat</td><td>Sunrisers Hyderabad</td><td>Lost</td></tr><tr><td>980998</td><td>Delhi Daredevils</td><td>field</td><td>Mumbai Indians</td><td>Lost</td></tr><tr><td>981000</td><td>Royal Challengers Bangalore</td><td>field</td><td>Royal Challengers Bangalore</td><td>Won</td></tr><tr><td>981002</td><td>Rising Pune Supergiants</td><td>field</td><td>Rising Pune Supergiants</td><td>Won</td></tr><tr><td>981004</td><td>Kings XI Punjab</td><td>field</td><td>Royal Challengers Bangalore</td><td>Lost</td></tr><tr><td>981006</td><td>Gujarat Lions</td><td>field</td><td>Gujarat Lions</td><td>Won</td></tr><tr><td>981008</td><td>Delhi Daredevils</td><td>field</td><td>Delhi Daredevils</td><td>Won</td></tr><tr><td>981010</td><td>Kings XI Punjab</td><td>bat</td><td>Rising Pune Supergiants</td><td>Lost</td></tr><tr><td>981012</td><td>Gujarat Lions</td><td>field</td><td>Gujarat Lions</td><td>Won</td></tr><tr><td>981014</td><td>Sunrisers Hyderabad</td><td>field</td><td>Kolkata Knight Riders</td><td>Lost</td></tr><tr><td>981016</td><td>Royal Challengers Bangalore</td><td>field</td><td>Royal Challengers Bangalore</td><td>Won</td></tr><tr><td>981018</td><td>Royal Challengers Bangalore</td><td>field</td><td>Royal Challengers Bangalore</td><td>Won</td></tr><tr><td>981020</td><td>Kolkata Knight Riders</td><td>field</td><td>Sunrisers Hyderabad</td><td>Lost</td></tr><tr><td>981022</td><td>Sunrisers Hyderabad</td><td>field</td><td>Sunrisers Hyderabad</td><td>Won</td></tr><tr><td>981024</td><td>Sunrisers Hyderabad</td><td>bat</td><td>Sunrisers Hyderabad</td><td>Won</td></tr><tr><td>1082591</td><td>Royal Challengers Bangalore</td><td>Field</td><td>Sunrisers Hyderabad</td><td>Lost</td></tr><tr><td>1082592</td><td>Rising Pune Supergiant</td><td>Field</td><td>Rising Pune Supergiants</td><td>Lost</td></tr><tr><td>1082593</td><td>Kolkata Knight Riders</td><td>Field</td><td>Kolkata Knight Riders</td><td>Won</td></tr><tr><td>1082594</td><td>Kings XI Punjab</td><td>Field</td><td>Kings XI Punjab</td><td>Won</td></tr><tr><td>1082595</td><td>Royal Challengers Bangalore</td><td>Bat</td><td>Royal Challengers Bangalore</td><td>Won</td></tr><tr><td>1082596</td><td>Sunrisers Hyderabad</td><td>Field</td><td>Sunrisers Hyderabad</td><td>Won</td></tr><tr><td>1082597</td><td>Mumbai Indians</td><td>Field</td><td>Mumbai Indians</td><td>Won</td></tr><tr><td>1082598</td><td>Royal Challengers Bangalore</td><td>Bat</td><td>Kings XI Punjab</td><td>Lost</td></tr><tr><td>1082599</td><td>Rising Pune Supergiants</td><td>Field</td><td>Delhi Daredevils</td><td>Lost</td></tr><tr><td>1082600</td><td>Mumbai Indians</td><td>Field</td><td>Mumbai Indians</td><td>Won</td></tr><tr><td>1082601</td><td>Kolkata Knight Riders</td><td>Field</td><td>Kolkata Knight Riders</td><td>Won</td></tr><tr><td>1082602</td><td>Mumbai Indians</td><td>Field</td><td>Mumbai Indians</td><td>Won</td></tr><tr><td>1082603</td><td>Gujarat Lions</td><td>Field</td><td>Gujarat Lions</td><td>Won</td></tr><tr><td>1082604</td><td>Sunrisers Hyderabad</td><td>Field</td><td>Kolkata Knight Riders</td><td>Lost</td></tr><tr><td>1082605</td><td>Delhi Daredevils</td><td>Bat</td><td>Delhi Daredevils</td><td>Won</td></tr><tr><td>1082606</td><td>Mumbai Indians</td><td>Field</td><td>Mumbai Indians</td><td>Won</td></tr><tr><td>1082607</td><td>Royal Challengers Bangalore</td><td>Field</td><td>Rising Pune Supergiants</td><td>Lost</td></tr><tr><td>1082608</td><td>Delhi Daredevils</td><td>Bat</td><td>Kolkata Knight Riders</td><td>Lost</td></tr><tr><td>1082609</td><td>Kings XI Punjab</td><td>Field</td><td>Sunrisers Hyderabad</td><td>Lost</td></tr><tr><td>1082610</td><td>Gujarat Lions</td><td>Field</td><td>Royal Challengers Bangalore</td><td>Lost</td></tr><tr><td>1082611</td><td>Sunrisers Hyderabad</td><td>Bat</td><td>Sunrisers Hyderabad</td><td>Won</td></tr><tr><td>1082612</td><td>Mumbai Indians</td><td>Field</td><td>Mumbai Indians</td><td>Won</td></tr><tr><td>1082613</td><td>Gujarat Lions</td><td>Field</td><td>Gujarat Lions</td><td>Won</td></tr><tr><td>1082614</td><td>Delhi Daredevils</td><td>Field</td><td>Mumbai Indians</td><td>Lost</td></tr><tr><td>1082615</td><td>Rising Pune Supergiants</td><td>Field</td><td>Rising Pune Supergiants</td><td>Won</td></tr><tr><td>1082616</td><td>Gujarat Lions</td><td>Field</td><td>Kings XI Punjab</td><td>Lost</td></tr><tr><td>1082617</td><td>Royal Challengers Bangalore</td><td>Field</td><td>Kolkata Knight Riders</td><td>Lost</td></tr><tr><td>1082618</td><td>Mumbai Indians</td><td>Field</td><td>Rising Pune Supergiants</td><td>Lost</td></tr><tr><td>1082619</td><td>null</td><td>NA</td><td>abandoned</td><td>Lost</td></tr><tr><td>1082620</td><td>Kolkata Knight Riders</td><td>Field</td><td>Kolkata Knight Riders</td><td>Won</td></tr><tr><td>1082621</td><td>Gujarat Lions</td><td>Field</td><td>Gujarat Lions</td><td>Won</td></tr><tr><td>1082622</td><td>Kolkata Knight Riders</td><td>Field</td><td>Kolkata Knight Riders</td><td>Won</td></tr><tr><td>1082623</td><td>Kings XI Punjab</td><td>Field</td><td>Sunrisers Hyderabad</td><td>Lost</td></tr><tr><td>1082624</td><td>Royal Challengers Bangalore</td><td>Field</td><td>Rising Pune Supergiants</td><td>Lost</td></tr><tr><td>1082625</td><td>Gujarat Lions</td><td>Bat</td><td>tied</td><td>Lost</td></tr><tr><td>1082626</td><td>Kings XI Punjab</td><td>Field</td><td>Kings XI Punjab</td><td>Won</td></tr><tr><td>1082627</td><td>Kolkata Knight Riders</td><td>Field</td><td>Sunrisers Hyderabad</td><td>Lost</td></tr><tr><td>1082628</td><td>Royal Challengers Bangalore</td><td>Bat</td><td>Mumbai Indians</td><td>Lost</td></tr><tr><td>1082629</td><td>Rising Pune Supergiants</td><td>Field</td><td>Rising Pune Supergiants</td><td>Won</td></tr><tr><td>1082630</td><td>Delhi Daredevils</td><td>Field</td><td>Delhi Daredevils</td><td>Won</td></tr><tr><td>1082631</td><td>Rising Pune Supergiants</td><td>Field</td><td>Rising Pune Supergiants</td><td>Won</td></tr><tr><td>1082632</td><td>Delhi Daredevils</td><td>Field</td><td>Delhi Daredevils</td><td>Won</td></tr><tr><td>1082633</td><td>Royal Challengers Bangalore</td><td>Field</td><td>Kings XI Punjab</td><td>Lost</td></tr><tr><td>1082634</td><td>Sunrisers Hyderabad</td><td>Field</td><td>Rising Pune Supergiants</td><td>Lost</td></tr><tr><td>1082635</td><td>Delhi Daredevils</td><td>Field</td><td>Mumbai Indians</td><td>Lost</td></tr><tr><td>1082636</td><td>Kolkata Knight Riders</td><td>Field</td><td>Kolkata Knight Riders</td><td>Won</td></tr><tr><td>1082637</td><td>Gujarat Lions</td><td>Field</td><td>Gujarat Lions</td><td>Won</td></tr><tr><td>1082638</td><td>Mumbai Indians</td><td>Bat</td><td>Sunrisers Hyderabad</td><td>Lost</td></tr><tr><td>1082639</td><td>Kolkata Knight Riders</td><td>Field</td><td>Kings XI Punjab</td><td>Lost</td></tr><tr><td>1082640</td><td>Delhi Daredevils</td><td>Field</td><td>Delhi Daredevils</td><td>Won</td></tr><tr><td>1082641</td><td>Mumbai Indians</td><td>Field</td><td>Kings XI Punjab</td><td>Lost</td></tr><tr><td>1082642</td><td>Delhi Daredevils</td><td>Bat</td><td>Delhi Daredevils</td><td>Won</td></tr><tr><td>1082643</td><td>Sunrisers Hyderabad</td><td>Field</td><td>Sunrisers Hyderabad</td><td>Won</td></tr><tr><td>1082644</td><td>Kolkata Knight Riders</td><td>Field</td><td>Mumbai Indians</td><td>Lost</td></tr><tr><td>1082645</td><td>Rising Pune Supergiants</td><td>Field</td><td>Rising Pune Supergiants</td><td>Won</td></tr><tr><td>1082646</td><td>Royal Challengers Bangalore</td><td>Bat</td><td>Royal Challengers Bangalore</td><td>Won</td></tr><tr><td>1082647</td><td>Mumbai Indians</td><td>Field</td><td>Rising Pune Supergiants</td><td>Lost</td></tr><tr><td>1082648</td><td>Kolkata Knight Riders</td><td>Field</td><td>Kolkata Knight Riders</td><td>Won</td></tr><tr><td>1082649</td><td>Mumbai Indians</td><td>Field</td><td>Mumbai Indians</td><td>Won</td></tr><tr><td>1082650</td><td>Mumbai Indians</td><td>Bat</td><td>Mumbai Indians</td><td>Won</td></tr></tbody></table></div>"
      ]
     },
     "metadata": {
      "application/vnd.databricks.v1+output": {
       "addedWidgets": {},
       "aggData": [],
       "aggError": "",
       "aggOverflow": false,
       "aggSchema": [],
       "aggSeriesLimitReached": false,
       "aggType": "",
       "arguments": {},
       "columnCustomDisplayInfos": {},
       "data": [
        [
         335987,
         "Royal Challengers Bangalore",
         "field",
         "Kolkata Knight Riders",
         "Lost"
        ],
        [
         335988,
         "Chennai Super Kings",
         "bat",
         "Chennai Super Kings",
         "Won"
        ],
        [
         335989,
         "Rajasthan Royals",
         "bat",
         "Delhi Daredevils",
         "Lost"
        ],
        [
         335990,
         "Mumbai Indians",
         "bat",
         "Royal Challengers Bangalore",
         "Lost"
        ],
        [
         335991,
         "Deccan Chargers",
         "bat",
         "Kolkata Knight Riders",
         "Lost"
        ],
        [
         335992,
         "Kings XI Punjab",
         "bat",
         "Rajasthan Royals",
         "Lost"
        ],
        [
         335993,
         "Deccan Chargers",
         "bat",
         "Delhi Daredevils",
         "Lost"
        ],
        [
         335994,
         "Mumbai Indians",
         "field",
         "Chennai Super Kings",
         "Lost"
        ],
        [
         335995,
         "Rajasthan Royals",
         "field",
         "Rajasthan Royals",
         "Won"
        ],
        [
         335996,
         "Mumbai Indians",
         "field",
         "Kings XI Punjab",
         "Lost"
        ],
        [
         335997,
         "Rajasthan Royals",
         "field",
         "Rajasthan Royals",
         "Won"
        ],
        [
         335998,
         "Kolkata Knight Riders",
         "bat",
         "Chennai Super Kings",
         "Lost"
        ],
        [
         335999,
         "Deccan Chargers",
         "field",
         "Deccan Chargers",
         "Won"
        ],
        [
         336000,
         "Delhi Daredevils",
         "bat",
         "Kings XI Punjab",
         "Lost"
        ],
        [
         336001,
         "Chennai Super Kings",
         "bat",
         "Chennai Super Kings",
         "Won"
        ],
        [
         336002,
         "Kolkata Knight Riders",
         "bat",
         "Mumbai Indians",
         "Lost"
        ],
        [
         336003,
         "Royal Challengers Bangalore",
         "field",
         "Delhi Daredevils",
         "Lost"
        ],
        [
         336004,
         "Kings XI Punjab",
         "field",
         "Kings XI Punjab",
         "Won"
        ],
        [
         336005,
         "Rajasthan Royals",
         "bat",
         "Rajasthan Royals",
         "Won"
        ],
        [
         336006,
         "Chennai Super Kings",
         "bat",
         "Delhi Daredevils",
         "Lost"
        ],
        [
         336007,
         "Deccan Chargers",
         "bat",
         "Royal Challengers Bangalore",
         "Lost"
        ],
        [
         336008,
         "Kings XI Punjab",
         "bat",
         "Kings XI Punjab",
         "Won"
        ],
        [
         336009,
         "Delhi Daredevils",
         "field",
         "Mumbai Indians",
         "Lost"
        ],
        [
         336010,
         "Chennai Super Kings",
         "bat",
         "Rajasthan Royals",
         "Lost"
        ],
        [
         336011,
         "Kings XI Punjab",
         "field",
         "Kings XI Punjab",
         "Won"
        ],
        [
         336012,
         "Deccan Chargers",
         "field",
         "Deccan Chargers",
         "Won"
        ],
        [
         336013,
         "Mumbai Indians",
         "field",
         "Mumbai Indians",
         "Won"
        ],
        [
         336014,
         "Chennai Super Kings",
         "field",
         "Chennai Super Kings",
         "Won"
        ],
        [
         336015,
         "Kolkata Knight Riders",
         "bat",
         "Kolkata Knight Riders",
         "Won"
        ],
        [
         336016,
         "Rajasthan Royals",
         "field",
         "Rajasthan Royals",
         "Won"
        ],
        [
         336017,
         "Mumbai Indians",
         "field",
         "Mumbai Indians",
         "Won"
        ],
        [
         336018,
         "Kings XI Punjab",
         "field",
         "Chennai Super Kings",
         "Lost"
        ],
        [
         336019,
         "Kolkata Knight Riders",
         "bat",
         "Kolkata Knight Riders",
         "Won"
        ],
        [
         336020,
         "Rajasthan Royals",
         "field",
         "Rajasthan Royals",
         "Won"
        ],
        [
         336021,
         "Royal Challengers Bangalore",
         "bat",
         "Kings XI Punjab",
         "Lost"
        ],
        [
         336022,
         "Kolkata Knight Riders",
         "bat",
         "Kolkata Knight Riders",
         "Won"
        ],
        [
         336023,
         "Mumbai Indians",
         "field",
         "Mumbai Indians",
         "Won"
        ],
        [
         336024,
         "Rajasthan Royals",
         "field",
         "Kings XI Punjab",
         "Lost"
        ],
        [
         336025,
         "Deccan Chargers",
         "field",
         "Delhi Daredevils",
         "Lost"
        ],
        [
         336026,
         "Mumbai Indians",
         "field",
         "Mumbai Indians",
         "Won"
        ],
        [
         336027,
         "Delhi Daredevils",
         "bat",
         "Kings XI Punjab",
         "Lost"
        ],
        [
         336028,
         "Royal Challengers Bangalore",
         "field",
         "Rajasthan Royals",
         "Lost"
        ],
        [
         336029,
         "Deccan Chargers",
         "field",
         "Mumbai Indians",
         "Lost"
        ],
        [
         336030,
         "Kolkata Knight Riders",
         "bat",
         "Chennai Super Kings",
         "Lost"
        ],
        [
         336031,
         "Delhi Daredevils",
         "field",
         "Delhi Daredevils",
         "Won"
        ],
        [
         336032,
         "Rajasthan Royals",
         "field",
         "Rajasthan Royals",
         "Won"
        ],
        [
         336033,
         "Mumbai Indians",
         "field",
         "Kings XI Punjab",
         "Lost"
        ],
        [
         336034,
         "Royal Challengers Bangalore",
         "bat",
         "Royal Challengers Bangalore",
         "Won"
        ],
        [
         336036,
         "Kings XI Punjab",
         "field",
         "Kings XI Punjab",
         "Won"
        ],
        [
         336037,
         "Delhi Daredevils",
         "field",
         "Delhi Daredevils",
         "Won"
        ],
        [
         336038,
         "Rajasthan Royals",
         "bat",
         "Rajasthan Royals",
         "Won"
        ],
        [
         336039,
         "Deccan Chargers",
         "field",
         "Royal Challengers Bangalore",
         "Lost"
        ],
        [
         336040,
         "Kings XI Punjab",
         "bat",
         "Kolkata Knight Riders",
         "Lost"
        ],
        [
         336041,
         "Rajasthan Royals",
         "field",
         "Rajasthan Royals",
         "Won"
        ],
        [
         336042,
         "Deccan Chargers",
         "bat",
         "Chennai Super Kings",
         "Lost"
        ],
        [
         336043,
         "Delhi Daredevils",
         "field",
         "Rajasthan Royals",
         "Lost"
        ],
        [
         336044,
         "Kings XI Punjab",
         "bat",
         "Chennai Super Kings",
         "Lost"
        ],
        [
         336045,
         "Rajasthan Royals",
         "field",
         "Rajasthan Royals",
         "Won"
        ],
        [
         392186,
         "Chennai Super Kings",
         "field",
         "Mumbai Indians",
         "Lost"
        ],
        [
         392187,
         "Royal Challengers Bangalore",
         "bat",
         "Royal Challengers Bangalore",
         "Won"
        ],
        [
         392188,
         "Delhi Daredevils",
         "field",
         "Delhi Daredevils",
         "Won"
        ],
        [
         392189,
         "Kolkata Knight Riders",
         "bat",
         "Deccan Chargers",
         "Lost"
        ],
        [
         392190,
         "Chennai Super Kings",
         "bat",
         "Chennai Super Kings",
         "Won"
        ],
        [
         392191,
         "Kolkata Knight Riders",
         "field",
         "Kolkata Knight Riders",
         "Won"
        ],
        [
         392193,
         "Deccan Chargers",
         "bat",
         "Deccan Chargers",
         "Won"
        ],
        [
         392194,
         "Delhi Daredevils",
         "bat",
         "Delhi Daredevils",
         "Won"
        ],
        [
         392195,
         "Kolkata Knight Riders",
         "field",
         "Rajasthan Royals",
         "Lost"
        ],
        [
         392196,
         "Royal Challengers Bangalore",
         "bat",
         "Kings XI Punjab",
         "Lost"
        ],
        [
         392197,
         "Deccan Chargers",
         "bat",
         "Deccan Chargers",
         "Won"
        ],
        [
         392199,
         "Royal Challengers Bangalore",
         "bat",
         "Delhi Daredevils",
         "Lost"
        ],
        [
         392200,
         "Kings XI Punjab",
         "bat",
         "Kings XI Punjab",
         "Won"
        ],
        [
         392201,
         "Deccan Chargers",
         "field",
         "Deccan Chargers",
         "Won"
        ],
        [
         392202,
         "Mumbai Indians",
         "bat",
         "Mumbai Indians",
         "Won"
        ],
        [
         392203,
         "Delhi Daredevils",
         "bat",
         "Rajasthan Royals",
         "Lost"
        ],
        [
         392204,
         "Kolkata Knight Riders",
         "bat",
         "Royal Challengers Bangalore",
         "Lost"
        ],
        [
         392205,
         "Kings XI Punjab",
         "bat",
         "Kings XI Punjab",
         "Won"
        ],
        [
         392206,
         "Delhi Daredevils",
         "field",
         "Delhi Daredevils",
         "Won"
        ],
        [
         392207,
         "Rajasthan Royals",
         "field",
         "Chennai Super Kings",
         "Lost"
        ],
        [
         392208,
         "Mumbai Indians",
         "bat",
         "Mumbai Indians",
         "Won"
        ],
        [
         392209,
         "Royal Challengers Bangalore",
         "bat",
         "Royal Challengers Bangalore",
         "Won"
        ],
        [
         392210,
         "Deccan Chargers",
         "bat",
         "Rajasthan Royals",
         "Lost"
        ],
        [
         392211,
         "Delhi Daredevils",
         "field",
         "Chennai Super Kings",
         "Lost"
        ],
        [
         392212,
         "Kolkata Knight Riders",
         "bat",
         "Kings XI Punjab",
         "Lost"
        ],
        [
         392213,
         "Mumbai Indians",
         "bat",
         "Royal Challengers Bangalore",
         "Lost"
        ],
        [
         392214,
         "Chennai Super Kings",
         "bat",
         "Chennai Super Kings",
         "Won"
        ],
        [
         392215,
         "Kings XI Punjab",
         "field",
         "Rajasthan Royals",
         "Lost"
        ],
        [
         392216,
         "Kolkata Knight Riders",
         "bat",
         "Delhi Daredevils",
         "Lost"
        ],
        [
         392217,
         "Deccan Chargers",
         "bat",
         "Deccan Chargers",
         "Won"
        ],
        [
         392218,
         "Rajasthan Royals",
         "field",
         "Rajasthan Royals",
         "Won"
        ],
        [
         392219,
         "Chennai Super Kings",
         "bat",
         "Chennai Super Kings",
         "Won"
        ],
        [
         392220,
         "Mumbai Indians",
         "bat",
         "Delhi Daredevils",
         "Lost"
        ],
        [
         392221,
         "Kings XI Punjab",
         "field",
         "Kings XI Punjab",
         "Won"
        ],
        [
         392222,
         "Rajasthan Royals",
         "bat",
         "Chennai Super Kings",
         "Lost"
        ],
        [
         392223,
         "Mumbai Indians",
         "bat",
         "Mumbai Indians",
         "Won"
        ],
        [
         392224,
         "Delhi Daredevils",
         "field",
         "Delhi Daredevils",
         "Won"
        ],
        [
         392225,
         "Deccan Chargers",
         "bat",
         "Deccan Chargers",
         "Won"
        ],
        [
         392226,
         "Royal Challengers Bangalore",
         "field",
         "Royal Challengers Bangalore",
         "Won"
        ],
        [
         392227,
         "Kings XI Punjab",
         "bat",
         "Mumbai Indians",
         "Lost"
        ],
        [
         392228,
         "Deccan Chargers",
         "field",
         "Delhi Daredevils",
         "Lost"
        ],
        [
         392229,
         "Chennai Super Kings",
         "bat",
         "Royal Challengers Bangalore",
         "Lost"
        ],
        [
         392230,
         "Rajasthan Royals",
         "bat",
         "Rajasthan Royals",
         "Won"
        ],
        [
         392231,
         "Kings XI Punjab",
         "field",
         "Kings XI Punjab",
         "Won"
        ],
        [
         392232,
         "Mumbai Indians",
         "bat",
         "Chennai Super Kings",
         "Lost"
        ],
        [
         392233,
         "Deccan Chargers",
         "field",
         "Deccan Chargers",
         "Won"
        ],
        [
         392234,
         "Deccan Chargers",
         "field",
         "Kings XI Punjab",
         "Lost"
        ],
        [
         392235,
         "Delhi Daredevils",
         "bat",
         "Delhi Daredevils",
         "Won"
        ],
        [
         392236,
         "Chennai Super Kings",
         "bat",
         "Kolkata Knight Riders",
         "Lost"
        ],
        [
         392237,
         "Delhi Daredevils",
         "bat",
         "Royal Challengers Bangalore",
         "Lost"
        ],
        [
         392238,
         "Kolkata Knight Riders",
         "field",
         "Kolkata Knight Riders",
         "Won"
        ],
        [
         392239,
         "Chennai Super Kings",
         "bat",
         "Chennai Super Kings",
         "Won"
        ],
        [
         392240,
         "Delhi Daredevils",
         "field",
         "Delhi Daredevils",
         "Won"
        ],
        [
         392241,
         "Royal Challengers Bangalore",
         "bat",
         "Royal Challengers Bangalore",
         "Won"
        ],
        [
         392242,
         "Deccan Chargers",
         "field",
         "Deccan Chargers",
         "Won"
        ],
        [
         392243,
         "Royal Challengers Bangalore",
         "field",
         "Royal Challengers Bangalore",
         "Won"
        ],
        [
         392244,
         "Royal Challengers Bangalore",
         "field",
         "Deccan Chargers",
         "Lost"
        ],
        [
         419111,
         "Deccan Chargers",
         "field",
         "Kolkata Knight Riders",
         "Lost"
        ],
        [
         419112,
         "Mumbai Indians",
         "bat",
         "Mumbai Indians",
         "Won"
        ],
        [
         419113,
         "Delhi Daredevils",
         "field",
         "Delhi Daredevils",
         "Won"
        ],
        [
         419114,
         "Kolkata Knight Riders",
         "field",
         "Kolkata Knight Riders",
         "Won"
        ],
        [
         419115,
         "Deccan Chargers",
         "bat",
         "Deccan Chargers",
         "Won"
        ],
        [
         419116,
         "Delhi Daredevils",
         "field",
         "Delhi Daredevils",
         "Won"
        ],
        [
         419117,
         "Kings XI Punjab",
         "bat",
         "Royal Challengers Bangalore",
         "Lost"
        ],
        [
         419118,
         "Chennai Super Kings",
         "bat",
         "Chennai Super Kings",
         "Won"
        ],
        [
         419119,
         "Delhi Daredevils",
         "field",
         "Mumbai Indians",
         "Lost"
        ],
        [
         419120,
         "Royal Challengers Bangalore",
         "field",
         "Royal Challengers Bangalore",
         "Won"
        ],
        [
         419121,
         "Delhi Daredevils",
         "bat",
         "Chennai Super Kings",
         "Lost"
        ],
        [
         419122,
         "Kings XI Punjab",
         "field",
         "Deccan Chargers",
         "Lost"
        ],
        [
         419123,
         "Rajasthan Royals",
         "bat",
         "Rajasthan Royals",
         "Won"
        ],
        [
         419124,
         "Mumbai Indians",
         "bat",
         "Royal Challengers Bangalore",
         "Lost"
        ],
        [
         419125,
         "Deccan Chargers",
         "bat",
         "Deccan Chargers",
         "Won"
        ],
        [
         419126,
         "Chennai Super Kings",
         "field",
         "Kings XI Punjab",
         "Lost"
        ],
        [
         419127,
         "Kolkata Knight Riders",
         "bat",
         "Mumbai Indians",
         "Lost"
        ],
        [
         419128,
         "Chennai Super Kings",
         "field",
         "Royal Challengers Bangalore",
         "Lost"
        ],
        [
         419129,
         "Kings XI Punjab",
         "field",
         "Rajasthan Royals",
         "Lost"
        ],
        [
         419130,
         "Mumbai Indians",
         "field",
         "Mumbai Indians",
         "Won"
        ],
        [
         419131,
         "Deccan Chargers",
         "bat",
         "Rajasthan Royals",
         "Lost"
        ],
        [
         419132,
         "Kolkata Knight Riders",
         "bat",
         "Kolkata Knight Riders",
         "Won"
        ],
        [
         419133,
         "Royal Challengers Bangalore",
         "field",
         "Delhi Daredevils",
         "Lost"
        ],
        [
         419134,
         "Rajasthan Royals",
         "bat",
         "Rajasthan Royals",
         "Won"
        ],
        [
         419135,
         "Deccan Chargers",
         "field",
         "Mumbai Indians",
         "Lost"
        ],
        [
         419136,
         "Delhi Daredevils",
         "bat",
         "Delhi Daredevils",
         "Won"
        ],
        [
         419137,
         "Mumbai Indians",
         "field",
         "Mumbai Indians",
         "Won"
        ],
        [
         419138,
         "Royal Challengers Bangalore",
         "bat",
         "Chennai Super Kings",
         "Lost"
        ],
        [
         419139,
         "Delhi Daredevils",
         "bat",
         "Delhi Daredevils",
         "Won"
        ],
        [
         419140,
         "Kolkata Knight Riders",
         "bat",
         "Kolkata Knight Riders",
         "Won"
        ],
        [
         419141,
         "Kings XI Punjab",
         "bat",
         "Royal Challengers Bangalore",
         "Lost"
        ],
        [
         419142,
         "Chennai Super Kings",
         "bat",
         "Chennai Super Kings",
         "Won"
        ],
        [
         419143,
         "Mumbai Indians",
         "bat",
         "Mumbai Indians",
         "Won"
        ],
        [
         419144,
         "Kolkata Knight Riders",
         "bat",
         "Kings XI Punjab",
         "Lost"
        ],
        [
         419145,
         "Delhi Daredevils",
         "bat",
         "Delhi Daredevils",
         "Won"
        ],
        [
         419146,
         "Rajasthan Royals",
         "bat",
         "Rajasthan Royals",
         "Won"
        ],
        [
         419147,
         "Chennai Super Kings",
         "bat",
         "Chennai Super Kings",
         "Won"
        ],
        [
         419148,
         "Kings XI Punjab",
         "bat",
         "Rajasthan Royals",
         "Lost"
        ],
        [
         419149,
         "Kolkata Knight Riders",
         "bat",
         "Kolkata Knight Riders",
         "Won"
        ],
        [
         419150,
         "Deccan Chargers",
         "field",
         "Deccan Chargers",
         "Won"
        ],
        [
         419151,
         "Mumbai Indians",
         "bat",
         "Kings XI Punjab",
         "Lost"
        ],
        [
         419152,
         "Chennai Super Kings",
         "bat",
         "Deccan Chargers",
         "Lost"
        ],
        [
         419153,
         "Royal Challengers Bangalore",
         "field",
         "Royal Challengers Bangalore",
         "Won"
        ],
        [
         419154,
         "Delhi Daredevils",
         "bat",
         "Kings XI Punjab",
         "Lost"
        ],
        [
         419155,
         "Rajasthan Royals",
         "field",
         "Mumbai Indians",
         "Lost"
        ],
        [
         419156,
         "Royal Challengers Bangalore",
         "field",
         "Deccan Chargers",
         "Lost"
        ],
        [
         419157,
         "Mumbai Indians",
         "bat",
         "Mumbai Indians",
         "Won"
        ],
        [
         419158,
         "Kolkata Knight Riders",
         "bat",
         "Chennai Super Kings",
         "Lost"
        ],
        [
         419159,
         "Rajasthan Royals",
         "bat",
         "Royal Challengers Bangalore",
         "Lost"
        ],
        [
         419160,
         "Chennai Super Kings",
         "bat",
         "Delhi Daredevils",
         "Lost"
        ],
        [
         419161,
         "Deccan Chargers",
         "field",
         "Deccan Chargers",
         "Won"
        ],
        [
         419162,
         "Royal Challengers Bangalore",
         "field",
         "Mumbai Indians",
         "Lost"
        ],
        [
         419163,
         "Rajasthan Royals",
         "bat",
         "Kolkata Knight Riders",
         "Lost"
        ],
        [
         419164,
         "Chennai Super Kings",
         "field",
         "Chennai Super Kings",
         "Won"
        ],
        [
         419165,
         "Deccan Chargers",
         "bat",
         "Deccan Chargers",
         "Won"
        ],
        [
         419166,
         "Mumbai Indians",
         "bat",
         "Kolkata Knight Riders",
         "Lost"
        ],
        [
         419167,
         "Mumbai Indians",
         "bat",
         "Mumbai Indians",
         "Won"
        ],
        [
         419168,
         "Chennai Super Kings",
         "bat",
         "Chennai Super Kings",
         "Won"
        ],
        [
         419169,
         "Deccan Chargers",
         "bat",
         "Royal Challengers Bangalore",
         "Lost"
        ],
        [
         419170,
         "Chennai Super Kings",
         "bat",
         "Chennai Super Kings",
         "Won"
        ],
        [
         501203,
         "Chennai Super Kings",
         "bat",
         "Chennai Super Kings",
         "Won"
        ],
        [
         501204,
         "Rajasthan Royals",
         "field",
         "Rajasthan Royals",
         "Won"
        ],
        [
         501205,
         "Kochi Tuskers Kerala",
         "bat",
         "Royal Challengers Bangalore",
         "Lost"
        ],
        [
         501206,
         "Delhi Daredevils",
         "bat",
         "Mumbai Indians",
         "Lost"
        ],
        [
         501207,
         "Kings XI Punjab",
         "bat",
         "Pune Warriors",
         "Lost"
        ],
        [
         501208,
         "Kolkata Knight Riders",
         "bat",
         "Kolkata Knight Riders",
         "Won"
        ],
        [
         501209,
         "Delhi Daredevils",
         "bat",
         "Rajasthan Royals",
         "Lost"
        ],
        [
         501210,
         "Mumbai Indians",
         "field",
         "Mumbai Indians",
         "Won"
        ],
        [
         501211,
         "Kings XI Punjab",
         "field",
         "Kings XI Punjab",
         "Won"
        ],
        [
         501212,
         "Kochi Tuskers Kerala",
         "bat",
         "Pune Warriors",
         "Lost"
        ],
        [
         501213,
         "Royal Challengers Bangalore",
         "field",
         "Deccan Chargers",
         "Lost"
        ],
        [
         501214,
         "Kolkata Knight Riders",
         "field",
         "Kolkata Knight Riders",
         "Won"
        ],
        [
         501215,
         "Kochi Tuskers Kerala",
         "field",
         "Kochi Tuskers Kerala",
         "Won"
        ],
        [
         501216,
         "Chennai Super Kings",
         "bat",
         "Chennai Super Kings",
         "Won"
        ],
        [
         501217,
         "Kings XI Punjab",
         "field",
         "Kings XI Punjab",
         "Won"
        ],
        [
         501218,
         "Delhi Daredevils",
         "field",
         "Delhi Daredevils",
         "Won"
        ],
        [
         501219,
         "Kolkata Knight Riders",
         "field",
         "Kolkata Knight Riders",
         "Won"
        ],
        [
         501220,
         "Kochi Tuskers Kerala",
         "field",
         "Kochi Tuskers Kerala",
         "Won"
        ],
        [
         501221,
         "Deccan Chargers",
         "bat",
         "Deccan Chargers",
         "Won"
        ],
        [
         501223,
         "Pune Warriors",
         "bat",
         "Mumbai Indians",
         "Lost"
        ],
        [
         501224,
         "Kolkata Knight Riders",
         "field",
         "Kochi Tuskers Kerala",
         "Lost"
        ],
        [
         501225,
         "Rajasthan Royals",
         "field",
         "Kings XI Punjab",
         "Lost"
        ],
        [
         501226,
         "Chennai Super Kings",
         "field",
         "Mumbai Indians",
         "Lost"
        ],
        [
         501227,
         "Royal Challengers Bangalore",
         "field",
         "Royal Challengers Bangalore",
         "Won"
        ],
        [
         501228,
         "Kings XI Punjab",
         "field",
         "Delhi Daredevils",
         "Lost"
        ],
        [
         501229,
         "Deccan Chargers",
         "field",
         "Mumbai Indians",
         "Lost"
        ],
        [
         501230,
         "Rajasthan Royals",
         "field",
         "Rajasthan Royals",
         "Won"
        ],
        [
         501231,
         "Pune Warriors",
         "field",
         "Chennai Super Kings",
         "Lost"
        ],
        [
         501232,
         "Royal Challengers Bangalore",
         "field",
         "Royal Challengers Bangalore",
         "Won"
        ],
        [
         501233,
         "Pune Warriors",
         "bat",
         "Chennai Super Kings",
         "Lost"
        ],
        [
         501234,
         "Kochi Tuskers Kerala",
         "field",
         "Deccan Chargers",
         "Lost"
        ],
        [
         501235,
         "Delhi Daredevils",
         "field",
         "Kolkata Knight Riders",
         "Lost"
        ],
        [
         501236,
         "Rajasthan Royals",
         "field",
         "Rajasthan Royals",
         "Won"
        ],
        [
         501237,
         "Pune Warriors",
         "field",
         "Royal Challengers Bangalore",
         "Lost"
        ],
        [
         501238,
         "Delhi Daredevils",
         "bat",
         "Delhi Daredevils",
         "Won"
        ],
        [
         501239,
         "Kolkata Knight Riders",
         "field",
         "Kolkata Knight Riders",
         "Won"
        ],
        [
         501240,
         "Rajasthan Royals",
         "field",
         "Rajasthan Royals",
         "Won"
        ],
        [
         501241,
         "Chennai Super Kings",
         "bat",
         "Chennai Super Kings",
         "Won"
        ],
        [
         501242,
         "Kings XI Punjab",
         "field",
         "Mumbai Indians",
         "Lost"
        ],
        [
         501243,
         "Kochi Tuskers Kerala",
         "field",
         "Kochi Tuskers Kerala",
         "Won"
        ],
        [
         501244,
         "Deccan Chargers",
         "field",
         "Kolkata Knight Riders",
         "Lost"
        ],
        [
         501245,
         "Rajasthan Royals",
         "bat",
         "Chennai Super Kings",
         "Lost"
        ],
        [
         501246,
         "Pune Warriors",
         "field",
         "Mumbai Indians",
         "Lost"
        ],
        [
         501247,
         "Kolkata Knight Riders",
         "field",
         "Kochi Tuskers Kerala",
         "Lost"
        ],
        [
         501248,
         "Delhi Daredevils",
         "field",
         "Delhi Daredevils",
         "Won"
        ],
        [
         501249,
         "Kings XI Punjab",
         "field",
         "Royal Challengers Bangalore",
         "Lost"
        ],
        [
         501250,
         "Chennai Super Kings",
         "bat",
         "Kolkata Knight Riders",
         "Lost"
        ],
        [
         501251,
         "Delhi Daredevils",
         "field",
         "Mumbai Indians",
         "Lost"
        ],
        [
         501252,
         "Kochi Tuskers Kerala",
         "bat",
         "Royal Challengers Bangalore",
         "Lost"
        ],
        [
         501253,
         "Kings XI Punjab",
         "bat",
         "Pune Warriors",
         "Lost"
        ],
        [
         501254,
         "Rajasthan Royals",
         "field",
         "Chennai Super Kings",
         "Lost"
        ],
        [
         501255,
         "Deccan Chargers",
         "bat",
         "Pune Warriors",
         "Lost"
        ],
        [
         501256,
         "Mumbai Indians",
         "field",
         "Kings XI Punjab",
         "Lost"
        ],
        [
         501257,
         "Royal Challengers Bangalore",
         "field",
         "Royal Challengers Bangalore",
         "Won"
        ],
        [
         501258,
         "Chennai Super Kings",
         "bat",
         "Chennai Super Kings",
         "Won"
        ],
        [
         501259,
         "Kings XI Punjab",
         "field",
         "Kings XI Punjab",
         "Won"
        ],
        [
         501260,
         "Royal Challengers Bangalore",
         "field",
         "Royal Challengers Bangalore",
         "Won"
        ],
        [
         501261,
         "Deccan Chargers",
         "bat",
         "Deccan Chargers",
         "Won"
        ],
        [
         501262,
         "Delhi Daredevils",
         "field",
         "Kings XI Punjab",
         "Lost"
        ],
        [
         501263,
         "Kochi Tuskers Kerala",
         "field",
         "Kochi Tuskers Kerala",
         "Won"
        ],
        [
         501264,
         "Deccan Chargers",
         "field",
         "Deccan Chargers",
         "Won"
        ],
        [
         501265,
         "Kings XI Punjab",
         "bat",
         "Kings XI Punjab",
         "Won"
        ],
        [
         501266,
         "Chennai Super Kings",
         "bat",
         "Chennai Super Kings",
         "Won"
        ],
        [
         501267,
         "Kolkata Knight Riders",
         "field",
         "Kolkata Knight Riders",
         "Won"
        ],
        [
         501268,
         "Mumbai Indians",
         "bat",
         "Rajasthan Royals",
         "Lost"
        ],
        [
         501269,
         "Kings XI Punjab",
         "field",
         "Deccan Chargers",
         "Lost"
        ],
        [
         501270,
         "Delhi Daredevils",
         "bat",
         "NULL",
         "Lost"
        ],
        [
         501271,
         "Royal Challengers Bangalore",
         "field",
         "Royal Challengers Bangalore",
         "Won"
        ],
        [
         501272,
         "Mumbai Indians",
         "field",
         "Mumbai Indians",
         "Won"
        ],
        [
         501273,
         "Chennai Super Kings",
         "field",
         "Chennai Super Kings",
         "Won"
        ],
        [
         501274,
         "Mumbai Indians",
         "field",
         "Mumbai Indians",
         "Won"
        ],
        [
         501275,
         "Mumbai Indians",
         "field",
         "Royal Challengers Bangalore",
         "Lost"
        ],
        [
         501276,
         "Chennai Super Kings",
         "bat",
         "Chennai Super Kings",
         "Won"
        ],
        [
         548311,
         "Mumbai Indians",
         "field",
         "Mumbai Indians",
         "Won"
        ],
        [
         548312,
         "Delhi Daredevils",
         "field",
         "Delhi Daredevils",
         "Won"
        ],
        [
         548313,
         "Mumbai Indians",
         "field",
         "Pune Warriors",
         "Lost"
        ],
        [
         548314,
         "Kings XI Punjab",
         "field",
         "Rajasthan Royals",
         "Lost"
        ],
        [
         548315,
         "Delhi Daredevils",
         "field",
         "Royal Challengers Bangalore",
         "Lost"
        ],
        [
         548316,
         "Deccan Chargers",
         "field",
         "Chennai Super Kings",
         "Lost"
        ],
        [
         548317,
         "Kolkata Knight Riders",
         "field",
         "Rajasthan Royals",
         "Lost"
        ],
        [
         548318,
         "Pune Warriors",
         "bat",
         "Pune Warriors",
         "Won"
        ],
        [
         548319,
         "Deccan Chargers",
         "bat",
         "Mumbai Indians",
         "Lost"
        ],
        [
         548320,
         "Royal Challengers Bangalore",
         "field",
         "Kolkata Knight Riders",
         "Lost"
        ],
        [
         548321,
         "Delhi Daredevils",
         "field",
         "Delhi Daredevils",
         "Won"
        ],
        [
         548322,
         "Rajasthan Royals",
         "field",
         "Mumbai Indians",
         "Lost"
        ],
        [
         548323,
         "Royal Challengers Bangalore",
         "bat",
         "Chennai Super Kings",
         "Lost"
        ],
        [
         548324,
         "Kings XI Punjab",
         "field",
         "Kings XI Punjab",
         "Won"
        ],
        [
         548325,
         "Rajasthan Royals",
         "bat",
         "Kolkata Knight Riders",
         "Lost"
        ],
        [
         548326,
         "Deccan Chargers",
         "bat",
         "Delhi Daredevils",
         "Lost"
        ],
        [
         548327,
         "Chennai Super Kings",
         "bat",
         "Pune Warriors",
         "Lost"
        ],
        [
         548328,
         "Kolkata Knight Riders",
         "field",
         "Kings XI Punjab",
         "Lost"
        ],
        [
         548329,
         "Rajasthan Royals",
         "bat",
         "Rajasthan Royals",
         "Won"
        ],
        [
         548330,
         "Delhi Daredevils",
         "field",
         "Delhi Daredevils",
         "Won"
        ],
        [
         548331,
         "Deccan Chargers",
         "bat",
         "Rajasthan Royals",
         "Lost"
        ],
        [
         548332,
         "Pune Warriors",
         "bat",
         "Royal Challengers Bangalore",
         "Lost"
        ],
        [
         548333,
         "Kings XI Punjab",
         "bat",
         "Kolkata Knight Riders",
         "Lost"
        ],
        [
         548334,
         "Deccan Chargers",
         "bat",
         "Delhi Daredevils",
         "Lost"
        ],
        [
         548335,
         "Pune Warriors",
         "field",
         "Chennai Super Kings",
         "Lost"
        ],
        [
         548336,
         "Royal Challengers Bangalore",
         "field",
         "Royal Challengers Bangalore",
         "Won"
        ],
        [
         548337,
         "Rajasthan Royals",
         "bat",
         "Chennai Super Kings",
         "Lost"
        ],
        [
         548338,
         "Delhi Daredevils",
         "field",
         "Pune Warriors",
         "Lost"
        ],
        [
         548339,
         "Mumbai Indians",
         "bat",
         "Kings XI Punjab",
         "Lost"
        ],
        [
         548340,
         "Kolkata Knight Riders",
         "field",
         "Kolkata Knight Riders",
         "Won"
        ],
        [
         548341,
         "Rajasthan Royals",
         "field",
         "Royal Challengers Bangalore",
         "Lost"
        ],
        [
         548342,
         "Pune Warriors",
         "bat",
         "Delhi Daredevils",
         "Lost"
        ],
        [
         548344,
         "Kings XI Punjab",
         "bat",
         "Mumbai Indians",
         "Lost"
        ],
        [
         548346,
         "Deccan Chargers",
         "bat",
         "Deccan Chargers",
         "Won"
        ],
        [
         548347,
         "Mumbai Indians",
         "field",
         "Delhi Daredevils",
         "Lost"
        ],
        [
         548348,
         "Kings XI Punjab",
         "bat",
         "Kings XI Punjab",
         "Won"
        ],
        [
         548349,
         "Kolkata Knight Riders",
         "bat",
         "Kolkata Knight Riders",
         "Won"
        ],
        [
         548350,
         "Delhi Daredevils",
         "bat",
         "Delhi Daredevils",
         "Won"
        ],
        [
         548351,
         "Mumbai Indians",
         "field",
         "Mumbai Indians",
         "Won"
        ],
        [
         548352,
         "Chennai Super Kings",
         "bat",
         "Kolkata Knight Riders",
         "Lost"
        ],
        [
         548353,
         "Deccan Chargers",
         "bat",
         "Deccan Chargers",
         "Won"
        ],
        [
         548354,
         "Rajasthan Royals",
         "bat",
         "Delhi Daredevils",
         "Lost"
        ],
        [
         548355,
         "Kings XI Punjab",
         "field",
         "Kings XI Punjab",
         "Won"
        ],
        [
         548356,
         "Mumbai Indians",
         "bat",
         "Mumbai Indians",
         "Won"
        ],
        [
         548357,
         "Chennai Super Kings",
         "bat",
         "Chennai Super Kings",
         "Won"
        ],
        [
         548358,
         "Kolkata Knight Riders",
         "bat",
         "Kolkata Knight Riders",
         "Won"
        ],
        [
         548359,
         "Rajasthan Royals",
         "bat",
         "Rajasthan Royals",
         "Won"
        ],
        [
         548360,
         "Mumbai Indians",
         "field",
         "Mumbai Indians",
         "Won"
        ],
        [
         548361,
         "Royal Challengers Bangalore",
         "field",
         "Royal Challengers Bangalore",
         "Won"
        ],
        [
         548362,
         "Delhi Daredevils",
         "bat",
         "Kolkata Knight Riders",
         "Lost"
        ],
        [
         548363,
         "Pune Warriors",
         "bat",
         "Rajasthan Royals",
         "Lost"
        ],
        [
         548364,
         "Deccan Chargers",
         "field",
         "Kings XI Punjab",
         "Lost"
        ],
        [
         548365,
         "Royal Challengers Bangalore",
         "field",
         "Royal Challengers Bangalore",
         "Won"
        ],
        [
         548366,
         "Chennai Super Kings",
         "field",
         "Chennai Super Kings",
         "Won"
        ],
        [
         548367,
         "Pune Warriors",
         "field",
         "Royal Challengers Bangalore",
         "Lost"
        ],
        [
         548368,
         "Mumbai Indians",
         "bat",
         "Mumbai Indians",
         "Won"
        ],
        [
         548369,
         "Chennai Super Kings",
         "field",
         "Chennai Super Kings",
         "Won"
        ],
        [
         548370,
         "Rajasthan Royals",
         "bat",
         "Rajasthan Royals",
         "Won"
        ],
        [
         548371,
         "Deccan Chargers",
         "bat",
         "Kings XI Punjab",
         "Lost"
        ],
        [
         548372,
         "Mumbai Indians",
         "field",
         "Mumbai Indians",
         "Won"
        ],
        [
         548373,
         "Chennai Super Kings",
         "field",
         "Chennai Super Kings",
         "Won"
        ],
        [
         548374,
         "Kings XI Punjab",
         "bat",
         "Delhi Daredevils",
         "Lost"
        ],
        [
         548375,
         "Mumbai Indians",
         "field",
         "Kolkata Knight Riders",
         "Lost"
        ],
        [
         548376,
         "Kings XI Punjab",
         "field",
         "Kings XI Punjab",
         "Won"
        ],
        [
         548377,
         "Delhi Daredevils",
         "field",
         "Royal Challengers Bangalore",
         "Lost"
        ],
        [
         548378,
         "Rajasthan Royals",
         "bat",
         "Deccan Chargers",
         "Lost"
        ],
        [
         548379,
         "Delhi Daredevils",
         "field",
         "Delhi Daredevils",
         "Won"
        ],
        [
         548380,
         "Kolkata Knight Riders",
         "bat",
         "Kolkata Knight Riders",
         "Won"
        ],
        [
         548381,
         "Royal Challengers Bangalore",
         "field",
         "Deccan Chargers",
         "Lost"
        ],
        [
         548382,
         "Rajasthan Royals",
         "bat",
         "Mumbai Indians",
         "Lost"
        ],
        [
         548383,
         "Kolkata Knight Riders",
         "bat",
         "Kolkata Knight Riders",
         "Won"
        ],
        [
         548384,
         "Mumbai Indians",
         "field",
         "Chennai Super Kings",
         "Lost"
        ],
        [
         548385,
         "Delhi Daredevils",
         "field",
         "Chennai Super Kings",
         "Lost"
        ],
        [
         548386,
         "Chennai Super Kings",
         "bat",
         "Kolkata Knight Riders",
         "Lost"
        ],
        [
         598003,
         "Kolkata Knight Riders",
         "field",
         "Kolkata Knight Riders",
         "Won"
        ],
        [
         598004,
         "Mumbai Indians",
         "field",
         "Royal Challengers Bangalore",
         "Lost"
        ],
        [
         598005,
         "Pune Warriors",
         "field",
         "Sunrisers Hyderabad",
         "Lost"
        ],
        [
         598006,
         "Rajasthan Royals",
         "bat",
         "Rajasthan Royals",
         "Won"
        ],
        [
         598007,
         "Mumbai Indians",
         "bat",
         "Mumbai Indians",
         "Won"
        ],
        [
         598008,
         "Pune Warriors",
         "bat",
         "Kings XI Punjab",
         "Lost"
        ],
        [
         598009,
         "Royal Challengers Bangalore",
         "bat",
         "Sunrisers Hyderabad",
         "Lost"
        ],
        [
         598010,
         "Kolkata Knight Riders",
         "field",
         "Rajasthan Royals",
         "Lost"
        ],
        [
         598011,
         "Mumbai Indians",
         "bat",
         "Mumbai Indians",
         "Won"
        ],
        [
         598012,
         "Chennai Super Kings",
         "field",
         "Chennai Super Kings",
         "Won"
        ],
        [
         598013,
         "Royal Challengers Bangalore",
         "field",
         "Royal Challengers Bangalore",
         "Won"
        ],
        [
         598014,
         "Rajasthan Royals",
         "bat",
         "Pune Warriors",
         "Lost"
        ],
        [
         598015,
         "Delhi Daredevils",
         "bat",
         "Sunrisers Hyderabad",
         "Lost"
        ],
        [
         598016,
         "Mumbai Indians",
         "bat",
         "Mumbai Indians",
         "Won"
        ],
        [
         598017,
         "Chennai Super Kings",
         "field",
         "Chennai Super Kings",
         "Won"
        ],
        [
         598018,
         "Kolkata Knight Riders",
         "bat",
         "Kolkata Knight Riders",
         "Won"
        ],
        [
         598019,
         "Rajasthan Royals",
         "field",
         "Rajasthan Royals",
         "Won"
        ],
        [
         598020,
         "Pune Warriors",
         "bat",
         "Pune Warriors",
         "Won"
        ],
        [
         598021,
         "Kolkata Knight Riders",
         "field",
         "Kings XI Punjab",
         "Lost"
        ],
        [
         598022,
         "Royal Challengers Bangalore",
         "field",
         "Royal Challengers Bangalore",
         "Won"
        ],
        [
         598023,
         "Pune Warriors",
         "field",
         "Sunrisers Hyderabad",
         "Lost"
        ],
        [
         598024,
         "Rajasthan Royals",
         "bat",
         "Rajasthan Royals",
         "Won"
        ],
        [
         598025,
         "Chennai Super Kings",
         "bat",
         "Chennai Super Kings",
         "Won"
        ],
        [
         598026,
         "Kings XI Punjab",
         "bat",
         "Sunrisers Hyderabad",
         "Lost"
        ],
        [
         598027,
         "Kolkata Knight Riders",
         "bat",
         "Chennai Super Kings",
         "Lost"
        ],
        [
         598028,
         "Royal Challengers Bangalore",
         "field",
         "Royal Challengers Bangalore",
         "Won"
        ],
        [
         598029,
         "Mumbai Indians",
         "bat",
         "Delhi Daredevils",
         "Lost"
        ],
        [
         598030,
         "Kings XI Punjab",
         "field",
         "Kings XI Punjab",
         "Won"
        ],
        [
         598031,
         "Rajasthan Royals",
         "bat",
         "Chennai Super Kings",
         "Lost"
        ],
        [
         598032,
         "Pune Warriors",
         "field",
         "Royal Challengers Bangalore",
         "Lost"
        ],
        [
         598033,
         "Delhi Daredevils",
         "field",
         "Kings XI Punjab",
         "Lost"
        ],
        [
         598034,
         "Kolkata Knight Riders",
         "bat",
         "Mumbai Indians",
         "Lost"
        ],
        [
         598035,
         "Sunrisers Hyderabad",
         "bat",
         "Chennai Super Kings",
         "Lost"
        ],
        [
         598036,
         "Kings XI Punjab",
         "bat",
         "Kolkata Knight Riders",
         "Lost"
        ],
        [
         598037,
         "Sunrisers Hyderabad",
         "bat",
         "Rajasthan Royals",
         "Lost"
        ],
        [
         598038,
         "Mumbai Indians",
         "bat",
         "Mumbai Indians",
         "Won"
        ],
        [
         598039,
         "Kolkata Knight Riders",
         "field",
         "Chennai Super Kings",
         "Lost"
        ],
        [
         598040,
         "Pune Warriors",
         "field",
         "Delhi Daredevils",
         "Lost"
        ],
        [
         598041,
         "Rajasthan Royals",
         "field",
         "Rajasthan Royals",
         "Won"
        ],
        [
         598042,
         "Mumbai Indians",
         "bat",
         "Mumbai Indians",
         "Won"
        ],
        [
         598043,
         "Chennai Super Kings",
         "bat",
         "Chennai Super Kings",
         "Won"
        ],
        [
         598044,
         "Mumbai Indians",
         "bat",
         "Sunrisers Hyderabad",
         "Lost"
        ],
        [
         598045,
         "Kolkata Knight Riders",
         "bat",
         "Delhi Daredevils",
         "Lost"
        ],
        [
         598046,
         "Chennai Super Kings",
         "bat",
         "Chennai Super Kings",
         "Won"
        ],
        [
         598047,
         "Royal Challengers Bangalore",
         "bat",
         "Royal Challengers Bangalore",
         "Won"
        ],
        [
         598048,
         "Rajasthan Royals",
         "bat",
         "Kolkata Knight Riders",
         "Lost"
        ],
        [
         598049,
         "Delhi Daredevils",
         "bat",
         "Sunrisers Hyderabad",
         "Lost"
        ],
        [
         598050,
         "Kings XI Punjab",
         "field",
         "Kings XI Punjab",
         "Won"
        ],
        [
         598051,
         "Mumbai Indians",
         "bat",
         "Mumbai Indians",
         "Won"
        ],
        [
         598052,
         "Pune Warriors",
         "bat",
         "Rajasthan Royals",
         "Lost"
        ],
        [
         598053,
         "Sunrisers Hyderabad",
         "bat",
         "Royal Challengers Bangalore",
         "Lost"
        ],
        [
         598054,
         "Delhi Daredevils",
         "bat",
         "Rajasthan Royals",
         "Lost"
        ],
        [
         598055,
         "Mumbai Indians",
         "bat",
         "Mumbai Indians",
         "Won"
        ],
        [
         598056,
         "Sunrisers Hyderabad",
         "field",
         "Chennai Super Kings",
         "Lost"
        ],
        [
         598057,
         "Rajasthan Royals",
         "field",
         "Rajasthan Royals",
         "Won"
        ],
        [
         598058,
         "Kolkata Knight Riders",
         "bat",
         "Kolkata Knight Riders",
         "Won"
        ],
        [
         598059,
         "Delhi Daredevils",
         "field",
         "Royal Challengers Bangalore",
         "Lost"
        ],
        [
         598060,
         "Pune Warriors",
         "bat",
         "Mumbai Indians",
         "Lost"
        ],
        [
         598061,
         "Kings XI Punjab",
         "field",
         "Sunrisers Hyderabad",
         "Lost"
        ],
        [
         598062,
         "Kolkata Knight Riders",
         "field",
         "Kolkata Knight Riders",
         "Won"
        ],
        [
         598063,
         "Rajasthan Royals",
         "field",
         "Rajasthan Royals",
         "Won"
        ],
        [
         598064,
         "Kings XI Punjab",
         "field",
         "Kings XI Punjab",
         "Won"
        ],
        [
         598065,
         "Sunrisers Hyderabad",
         "bat",
         "Mumbai Indians",
         "Lost"
        ],
        [
         598066,
         "Kolkata Knight Riders",
         "field",
         "Pune Warriors",
         "Lost"
        ],
        [
         598067,
         "Chennai Super Kings",
         "bat",
         "Chennai Super Kings",
         "Won"
        ],
        [
         598068,
         "Rajasthan Royals",
         "field",
         "Mumbai Indians",
         "Lost"
        ],
        [
         598069,
         "Kings XI Punjab",
         "field",
         "Kings XI Punjab",
         "Won"
        ],
        [
         598070,
         "Sunrisers Hyderabad",
         "bat",
         "Sunrisers Hyderabad",
         "Won"
        ],
        [
         598071,
         "Mumbai Indians",
         "field",
         "Kings XI Punjab",
         "Lost"
        ],
        [
         598072,
         "Pune Warriors",
         "bat",
         "Pune Warriors",
         "Won"
        ],
        [
         598073,
         "Chennai Super Kings",
         "field",
         "Royal Challengers Bangalore",
         "Lost"
        ],
        [
         598074,
         "Kolkata Knight Riders",
         "bat",
         "Sunrisers Hyderabad",
         "Lost"
        ],
        [
         598075,
         "Chennai Super Kings",
         "bat",
         "Chennai Super Kings",
         "Won"
        ],
        [
         598076,
         "Sunrisers Hyderabad",
         "bat",
         "Rajasthan Royals",
         "Lost"
        ],
        [
         598077,
         "Rajasthan Royals",
         "bat",
         "Mumbai Indians",
         "Lost"
        ],
        [
         598078,
         "Mumbai Indians",
         "bat",
         "Mumbai Indians",
         "Won"
        ],
        [
         729284,
         "Kolkata Knight Riders",
         "bat",
         "Kolkata Knight Riders",
         "Won"
        ],
        [
         729286,
         "Royal Challengers Bangalore",
         "field",
         "Royal Challengers Bangalore",
         "Won"
        ],
        [
         729288,
         "Chennai Super Kings",
         "bat",
         "Kings XI Punjab",
         "Lost"
        ],
        [
         729290,
         "Rajasthan Royals",
         "field",
         "Rajasthan Royals",
         "Won"
        ],
        [
         729292,
         "Royal Challengers Bangalore",
         "field",
         "Royal Challengers Bangalore",
         "Won"
        ],
        [
         729294,
         "Kolkata Knight Riders",
         "bat",
         "Delhi Daredevils",
         "Lost"
        ],
        [
         729296,
         "Kings XI Punjab",
         "field",
         "Kings XI Punjab",
         "Won"
        ],
        [
         729298,
         "Chennai Super Kings",
         "bat",
         "Chennai Super Kings",
         "Won"
        ],
        [
         729300,
         "Sunrisers Hyderabad",
         "field",
         "Kings XI Punjab",
         "Lost"
        ],
        [
         729302,
         "Rajasthan Royals",
         "field",
         "Chennai Super Kings",
         "Lost"
        ],
        [
         729304,
         "Royal Challengers Bangalore",
         "field",
         "Kolkata Knight Riders",
         "Lost"
        ],
        [
         729306,
         "Sunrisers Hyderabad",
         "bat",
         "Sunrisers Hyderabad",
         "Won"
        ],
        [
         729308,
         "Mumbai Indians",
         "bat",
         "Chennai Super Kings",
         "Lost"
        ],
        [
         729310,
         "Rajasthan Royals",
         "field",
         "Rajasthan Royals",
         "Won"
        ],
        [
         729312,
         "Kolkata Knight Riders",
         "field",
         "Kings XI Punjab",
         "Lost"
        ],
        [
         729314,
         "Mumbai Indians",
         "bat",
         "Delhi Daredevils",
         "Lost"
        ],
        [
         729316,
         "Sunrisers Hyderabad",
         "bat",
         "Chennai Super Kings",
         "Lost"
        ],
        [
         729318,
         "Kings XI Punjab",
         "field",
         "Kings XI Punjab",
         "Won"
        ],
        [
         729320,
         "Rajasthan Royals",
         "bat",
         "Rajasthan Royals",
         "Won"
        ],
        [
         729322,
         "Mumbai Indians",
         "field",
         "Sunrisers Hyderabad",
         "Lost"
        ],
        [
         733976,
         "Chennai Super Kings",
         "bat",
         "Chennai Super Kings",
         "Won"
        ],
        [
         733978,
         "Kings XI Punjab",
         "bat",
         "Mumbai Indians",
         "Lost"
        ],
        [
         733980,
         "Rajasthan Royals",
         "field",
         "Rajasthan Royals",
         "Won"
        ],
        [
         733982,
         "Royal Challengers Bangalore",
         "field",
         "Royal Challengers Bangalore",
         "Won"
        ],
        [
         733984,
         "Kolkata Knight Riders",
         "field",
         "Rajasthan Royals",
         "Lost"
        ],
        [
         733986,
         "Chennai Super Kings",
         "field",
         "Chennai Super Kings",
         "Won"
        ],
        [
         733988,
         "Royal Challengers Bangalore",
         "field",
         "Mumbai Indians",
         "Lost"
        ],
        [
         733990,
         "Delhi Daredevils",
         "bat",
         "Kolkata Knight Riders",
         "Lost"
        ],
        [
         733992,
         "Chennai Super Kings",
         "field",
         "Kings XI Punjab",
         "Lost"
        ],
        [
         733994,
         "Rajasthan Royals",
         "field",
         "Sunrisers Hyderabad",
         "Lost"
        ],
        [
         733996,
         "Royal Challengers Bangalore",
         "field",
         "Kings XI Punjab",
         "Lost"
        ],
        [
         733998,
         "Sunrisers Hyderabad",
         "field",
         "Sunrisers Hyderabad",
         "Won"
        ],
        [
         734000,
         "Chennai Super Kings",
         "field",
         "Chennai Super Kings",
         "Won"
        ],
        [
         734002,
         "Kolkata Knight Riders",
         "field",
         "Kolkata Knight Riders",
         "Won"
        ],
        [
         734004,
         "Royal Challengers Bangalore",
         "bat",
         "Rajasthan Royals",
         "Lost"
        ],
        [
         734006,
         "Sunrisers Hyderabad",
         "bat",
         "Mumbai Indians",
         "Lost"
        ],
        [
         734008,
         "Rajasthan Royals",
         "bat",
         "Chennai Super Kings",
         "Lost"
        ],
        [
         734010,
         "Delhi Daredevils",
         "field",
         "Royal Challengers Bangalore",
         "Lost"
        ],
        [
         734012,
         "Kings XI Punjab",
         "field",
         "Kings XI Punjab",
         "Won"
        ],
        [
         734014,
         "Kolkata Knight Riders",
         "field",
         "Kolkata Knight Riders",
         "Won"
        ],
        [
         734016,
         "Delhi Daredevils",
         "field",
         "Rajasthan Royals",
         "Lost"
        ],
        [
         734018,
         "Chennai Super Kings",
         "bat",
         "Royal Challengers Bangalore",
         "Lost"
        ],
        [
         734020,
         "Sunrisers Hyderabad",
         "bat",
         "Kolkata Knight Riders",
         "Lost"
        ],
        [
         734022,
         "Mumbai Indians",
         "bat",
         "Mumbai Indians",
         "Won"
        ],
        [
         734024,
         "Kings XI Punjab",
         "field",
         "Kings XI Punjab",
         "Won"
        ],
        [
         734026,
         "Royal Challengers Bangalore",
         "bat",
         "Sunrisers Hyderabad",
         "Lost"
        ],
        [
         734028,
         "Kolkata Knight Riders",
         "field",
         "Kolkata Knight Riders",
         "Won"
        ],
        [
         734030,
         "Mumbai Indians",
         "field",
         "Mumbai Indians",
         "Won"
        ],
        [
         734032,
         "Royal Challengers Bangalore",
         "field",
         "Kolkata Knight Riders",
         "Lost"
        ],
        [
         734034,
         "Sunrisers Hyderabad",
         "field",
         "Sunrisers Hyderabad",
         "Won"
        ],
        [
         734036,
         "Delhi Daredevils",
         "field",
         "Mumbai Indians",
         "Lost"
        ],
        [
         734038,
         "Rajasthan Royals",
         "field",
         "Kings XI Punjab",
         "Lost"
        ],
        [
         734040,
         "Chennai Super Kings",
         "field",
         "Chennai Super Kings",
         "Won"
        ],
        [
         734042,
         "Kolkata Knight Riders",
         "field",
         "Kolkata Knight Riders",
         "Won"
        ],
        [
         734044,
         "Kings XI Punjab",
         "field",
         "Kings XI Punjab",
         "Won"
        ],
        [
         734046,
         "Mumbai Indians",
         "field",
         "Mumbai Indians",
         "Won"
        ],
        [
         734048,
         "Kings XI Punjab",
         "field",
         "Kolkata Knight Riders",
         "Lost"
        ],
        [
         734050,
         "Chennai Super Kings",
         "field",
         "Chennai Super Kings",
         "Won"
        ],
        [
         734052,
         "Chennai Super Kings",
         "field",
         "Kings XI Punjab",
         "Lost"
        ],
        [
         734054,
         "Kolkata Knight Riders",
         "field",
         "Kolkata Knight Riders",
         "Won"
        ],
        [
         829710,
         "Kolkata Knight Riders",
         "field",
         "Kolkata Knight Riders",
         "Won"
        ],
        [
         829712,
         "Delhi Daredevils",
         "field",
         "Chennai Super Kings",
         "Lost"
        ],
        [
         829714,
         "Kings XI Punjab",
         "field",
         "Rajasthan Royals",
         "Lost"
        ],
        [
         829716,
         "Chennai Super Kings",
         "bat",
         "Chennai Super Kings",
         "Won"
        ],
        [
         829718,
         "Royal Challengers Bangalore",
         "field",
         "Royal Challengers Bangalore",
         "Won"
        ],
        [
         829720,
         "Rajasthan Royals",
         "field",
         "Rajasthan Royals",
         "Won"
        ],
        [
         829722,
         "Mumbai Indians",
         "field",
         "Kings XI Punjab",
         "Lost"
        ],
        [
         829724,
         "Sunrisers Hyderabad",
         "field",
         "Sunrisers Hyderabad",
         "Won"
        ],
        [
         829726,
         "Mumbai Indians",
         "bat",
         "Rajasthan Royals",
         "Lost"
        ],
        [
         829728,
         "Kolkata Knight Riders",
         "field",
         "Kolkata Knight Riders",
         "Won"
        ],
        [
         829730,
         "Kings XI Punjab",
         "bat",
         "Delhi Daredevils",
         "Lost"
        ],
        [
         829732,
         "Rajasthan Royals",
         "field",
         "Rajasthan Royals",
         "Won"
        ],
        [
         829734,
         "Mumbai Indians",
         "bat",
         "Chennai Super Kings",
         "Lost"
        ],
        [
         829736,
         "Delhi Daredevils",
         "bat",
         "Delhi Daredevils",
         "Won"
        ],
        [
         829738,
         "Kolkata Knight Riders",
         "field",
         "Kolkata Knight Riders",
         "Won"
        ],
        [
         829740,
         "Chennai Super Kings",
         "bat",
         "Rajasthan Royals",
         "Lost"
        ],
        [
         829742,
         "Royal Challengers Bangalore",
         "field",
         "Mumbai Indians",
         "Lost"
        ],
        [
         829744,
         "Kolkata Knight Riders",
         "field",
         "Kolkata Knight Riders",
         "Won"
        ],
        [
         829746,
         "Kings XI Punjab",
         "field",
         "Kings XI Punjab",
         "Won"
        ],
        [
         829748,
         "Kolkata Knight Riders",
         "field",
         "Sunrisers Hyderabad",
         "Lost"
        ],
        [
         829750,
         "Royal Challengers Bangalore",
         "field",
         "Chennai Super Kings",
         "Lost"
        ],
        [
         829752,
         "Mumbai Indians",
         "field",
         "Delhi Daredevils",
         "Lost"
        ],
        [
         829754,
         "Royal Challengers Bangalore",
         "field",
         "Royal Challengers Bangalore",
         "Won"
        ],
        [
         829756,
         "Mumbai Indians",
         "bat",
         "Mumbai Indians",
         "Won"
        ],
        [
         829758,
         "Chennai Super Kings",
         "bat",
         "Chennai Super Kings",
         "Won"
        ],
        [
         829762,
         "Royal Challengers Bangalore",
         "field",
         "Royal Challengers Bangalore",
         "Won"
        ],
        [
         829764,
         "Kings XI Punjab",
         "field",
         "Sunrisers Hyderabad",
         "Lost"
        ],
        [
         829766,
         "Kolkata Knight Riders",
         "bat",
         "Kolkata Knight Riders",
         "Won"
        ],
        [
         829768,
         "Rajasthan Royals",
         "field",
         "NULL",
         "Lost"
        ],
        [
         829770,
         "Kolkata Knight Riders",
         "field",
         "Chennai Super Kings",
         "Lost"
        ],
        [
         829772,
         "Delhi Daredevils",
         "field",
         "Delhi Daredevils",
         "Won"
        ],
        [
         829774,
         "Rajasthan Royals",
         "field",
         "Mumbai Indians",
         "Lost"
        ],
        [
         829776,
         "Royal Challengers Bangalore",
         "field",
         "Royal Challengers Bangalore",
         "Won"
        ],
        [
         829778,
         "Chennai Super Kings",
         "field",
         "Sunrisers Hyderabad",
         "Lost"
        ],
        [
         829780,
         "Mumbai Indians",
         "bat",
         "Mumbai Indians",
         "Won"
        ],
        [
         829782,
         "Delhi Daredevils",
         "field",
         "Rajasthan Royals",
         "Lost"
        ],
        [
         829784,
         "Chennai Super Kings",
         "bat",
         "Chennai Super Kings",
         "Won"
        ],
        [
         829786,
         "Sunrisers Hyderabad",
         "field",
         "Kolkata Knight Riders",
         "Lost"
        ],
        [
         829788,
         "Delhi Daredevils",
         "bat",
         "Mumbai Indians",
         "Lost"
        ],
        [
         829790,
         "Kings XI Punjab",
         "field",
         "Royal Challengers Bangalore",
         "Lost"
        ],
        [
         829792,
         "Rajasthan Royals",
         "field",
         "Sunrisers Hyderabad",
         "Lost"
        ],
        [
         829794,
         "Chennai Super Kings",
         "bat",
         "Mumbai Indians",
         "Lost"
        ],
        [
         829796,
         "Kings XI Punjab",
         "bat",
         "Kolkata Knight Riders",
         "Lost"
        ],
        [
         829798,
         "Sunrisers Hyderabad",
         "bat",
         "Sunrisers Hyderabad",
         "Won"
        ],
        [
         829800,
         "Royal Challengers Bangalore",
         "bat",
         "Royal Challengers Bangalore",
         "Won"
        ],
        [
         829802,
         "Chennai Super Kings",
         "bat",
         "Chennai Super Kings",
         "Won"
        ],
        [
         829804,
         "Sunrisers Hyderabad",
         "bat",
         "Sunrisers Hyderabad",
         "Won"
        ],
        [
         829806,
         "Chennai Super Kings",
         "bat",
         "Delhi Daredevils",
         "Lost"
        ],
        [
         829808,
         "Royal Challengers Bangalore",
         "field",
         "Kings XI Punjab",
         "Lost"
        ],
        [
         829810,
         "Kolkata Knight Riders",
         "field",
         "Mumbai Indians",
         "Lost"
        ],
        [
         829812,
         "Sunrisers Hyderabad",
         "bat",
         "Royal Challengers Bangalore",
         "Lost"
        ],
        [
         829814,
         "Kings XI Punjab",
         "bat",
         "Chennai Super Kings",
         "Lost"
        ],
        [
         829816,
         "Rajasthan Royals",
         "bat",
         "Rajasthan Royals",
         "Won"
        ],
        [
         829818,
         "Royal Challengers Bangalore",
         "field",
         "NULL",
         "Lost"
        ],
        [
         829820,
         "Sunrisers Hyderabad",
         "bat",
         "Mumbai Indians",
         "Lost"
        ],
        [
         829822,
         "Mumbai Indians",
         "bat",
         "Mumbai Indians",
         "Won"
        ],
        [
         829824,
         "Royal Challengers Bangalore",
         "bat",
         "Royal Challengers Bangalore",
         "Won"
        ],
        [
         829826,
         "Chennai Super Kings",
         "field",
         "Chennai Super Kings",
         "Won"
        ],
        [
         829828,
         "Chennai Super Kings",
         "field",
         "Mumbai Indians",
         "Lost"
        ],
        [
         980906,
         "Mumbai Indians",
         "bat",
         "Rising Pune Supergiants",
         "Lost"
        ],
        [
         980908,
         "Kolkata Knight Riders",
         "field",
         "Kolkata Knight Riders",
         "Won"
        ],
        [
         980910,
         "Gujarat Lions",
         "field",
         "Gujarat Lions",
         "Won"
        ],
        [
         980912,
         "Sunrisers Hyderabad",
         "field",
         "Royal Challengers Bangalore",
         "Lost"
        ],
        [
         980914,
         "Mumbai Indians",
         "field",
         "Mumbai Indians",
         "Won"
        ],
        [
         980916,
         "Rising Pune Supergiants",
         "bat",
         "Gujarat Lions",
         "Lost"
        ],
        [
         980918,
         "Delhi Daredevils",
         "field",
         "Delhi Daredevils",
         "Won"
        ],
        [
         980920,
         "Sunrisers Hyderabad",
         "bat",
         "Kolkata Knight Riders",
         "Lost"
        ],
        [
         980922,
         "Gujarat Lions",
         "field",
         "Gujarat Lions",
         "Won"
        ],
        [
         980924,
         "Rising Pune Supergiants",
         "bat",
         "Kings XI Punjab",
         "Lost"
        ],
        [
         980926,
         "Delhi Daredevils",
         "field",
         "Delhi Daredevils",
         "Won"
        ],
        [
         980928,
         "Sunrisers Hyderabad",
         "field",
         "Sunrisers Hyderabad",
         "Won"
        ],
        [
         980930,
         "Kolkata Knight Riders",
         "field",
         "Kolkata Knight Riders",
         "Won"
        ],
        [
         980932,
         "Mumbai Indians",
         "field",
         "Mumbai Indians",
         "Won"
        ],
        [
         980934,
         "Sunrisers Hyderabad",
         "field",
         "Sunrisers Hyderabad",
         "Won"
        ],
        [
         980936,
         "Rising Pune Supergiants",
         "field",
         "Royal Challengers Bangalore",
         "Lost"
        ],
        [
         980938,
         "Mumbai Indians",
         "field",
         "Delhi Daredevils",
         "Lost"
        ],
        [
         980940,
         "Sunrisers Hyderabad",
         "field",
         "Sunrisers Hyderabad",
         "Won"
        ],
        [
         980942,
         "Royal Challengers Bangalore",
         "bat",
         "Gujarat Lions",
         "Lost"
        ],
        [
         980944,
         "Kolkata Knight Riders",
         "field",
         "Kolkata Knight Riders",
         "Won"
        ],
        [
         980946,
         "Kings XI Punjab",
         "field",
         "Mumbai Indians",
         "Lost"
        ],
        [
         980948,
         "Rising Pune Supergiants",
         "field",
         "Rising Pune Supergiants",
         "Won"
        ],
        [
         980950,
         "Delhi Daredevils",
         "field",
         "Gujarat Lions",
         "Lost"
        ],
        [
         980952,
         "Mumbai Indians",
         "field",
         "Mumbai Indians",
         "Won"
        ],
        [
         980954,
         "Gujarat Lions",
         "field",
         "Gujarat Lions",
         "Won"
        ],
        [
         980956,
         "Kolkata Knight Riders",
         "field",
         "Delhi Daredevils",
         "Lost"
        ],
        [
         980958,
         "Royal Challengers Bangalore",
         "field",
         "Sunrisers Hyderabad",
         "Lost"
        ],
        [
         980960,
         "Gujarat Lions",
         "field",
         "Kings XI Punjab",
         "Lost"
        ],
        [
         980962,
         "Mumbai Indians",
         "field",
         "Mumbai Indians",
         "Won"
        ],
        [
         980964,
         "Kolkata Knight Riders",
         "field",
         "Kolkata Knight Riders",
         "Won"
        ],
        [
         980966,
         "Delhi Daredevils",
         "field",
         "Delhi Daredevils",
         "Won"
        ],
        [
         980968,
         "Kings XI Punjab",
         "field",
         "Kolkata Knight Riders",
         "Lost"
        ],
        [
         980970,
         "Rising Pune Supergiants",
         "field",
         "Rising Pune Supergiants",
         "Won"
        ],
        [
         980972,
         "Sunrisers Hyderabad",
         "field",
         "Sunrisers Hyderabad",
         "Won"
        ],
        [
         980974,
         "Royal Challengers Bangalore",
         "field",
         "Royal Challengers Bangalore",
         "Won"
        ],
        [
         980976,
         "Delhi Daredevils",
         "field",
         "Kings XI Punjab",
         "Lost"
        ],
        [
         980978,
         "Mumbai Indians",
         "field",
         "Sunrisers Hyderabad",
         "Lost"
        ],
        [
         980980,
         "Gujarat Lions",
         "field",
         "Gujarat Lions",
         "Won"
        ],
        [
         980982,
         "Kings XI Punjab",
         "field",
         "Royal Challengers Bangalore",
         "Lost"
        ],
        [
         980984,
         "Sunrisers Hyderabad",
         "bat",
         "Sunrisers Hyderabad",
         "Won"
        ],
        [
         980986,
         "Mumbai Indians",
         "field",
         "Mumbai Indians",
         "Won"
        ],
        [
         980988,
         "Delhi Daredevils",
         "field",
         "Delhi Daredevils",
         "Won"
        ],
        [
         980990,
         "Mumbai Indians",
         "bat",
         "Kings XI Punjab",
         "Lost"
        ],
        [
         980992,
         "Gujarat Lions",
         "field",
         "Royal Challengers Bangalore",
         "Lost"
        ],
        [
         980994,
         "Rising Pune Supergiants",
         "bat",
         "Kolkata Knight Riders",
         "Lost"
        ],
        [
         980996,
         "Kings XI Punjab",
         "bat",
         "Sunrisers Hyderabad",
         "Lost"
        ],
        [
         980998,
         "Delhi Daredevils",
         "field",
         "Mumbai Indians",
         "Lost"
        ],
        [
         981000,
         "Royal Challengers Bangalore",
         "field",
         "Royal Challengers Bangalore",
         "Won"
        ],
        [
         981002,
         "Rising Pune Supergiants",
         "field",
         "Rising Pune Supergiants",
         "Won"
        ],
        [
         981004,
         "Kings XI Punjab",
         "field",
         "Royal Challengers Bangalore",
         "Lost"
        ],
        [
         981006,
         "Gujarat Lions",
         "field",
         "Gujarat Lions",
         "Won"
        ],
        [
         981008,
         "Delhi Daredevils",
         "field",
         "Delhi Daredevils",
         "Won"
        ],
        [
         981010,
         "Kings XI Punjab",
         "bat",
         "Rising Pune Supergiants",
         "Lost"
        ],
        [
         981012,
         "Gujarat Lions",
         "field",
         "Gujarat Lions",
         "Won"
        ],
        [
         981014,
         "Sunrisers Hyderabad",
         "field",
         "Kolkata Knight Riders",
         "Lost"
        ],
        [
         981016,
         "Royal Challengers Bangalore",
         "field",
         "Royal Challengers Bangalore",
         "Won"
        ],
        [
         981018,
         "Royal Challengers Bangalore",
         "field",
         "Royal Challengers Bangalore",
         "Won"
        ],
        [
         981020,
         "Kolkata Knight Riders",
         "field",
         "Sunrisers Hyderabad",
         "Lost"
        ],
        [
         981022,
         "Sunrisers Hyderabad",
         "field",
         "Sunrisers Hyderabad",
         "Won"
        ],
        [
         981024,
         "Sunrisers Hyderabad",
         "bat",
         "Sunrisers Hyderabad",
         "Won"
        ],
        [
         1082591,
         "Royal Challengers Bangalore",
         "Field",
         "Sunrisers Hyderabad",
         "Lost"
        ],
        [
         1082592,
         "Rising Pune Supergiant",
         "Field",
         "Rising Pune Supergiants",
         "Lost"
        ],
        [
         1082593,
         "Kolkata Knight Riders",
         "Field",
         "Kolkata Knight Riders",
         "Won"
        ],
        [
         1082594,
         "Kings XI Punjab",
         "Field",
         "Kings XI Punjab",
         "Won"
        ],
        [
         1082595,
         "Royal Challengers Bangalore",
         "Bat",
         "Royal Challengers Bangalore",
         "Won"
        ],
        [
         1082596,
         "Sunrisers Hyderabad",
         "Field",
         "Sunrisers Hyderabad",
         "Won"
        ],
        [
         1082597,
         "Mumbai Indians",
         "Field",
         "Mumbai Indians",
         "Won"
        ],
        [
         1082598,
         "Royal Challengers Bangalore",
         "Bat",
         "Kings XI Punjab",
         "Lost"
        ],
        [
         1082599,
         "Rising Pune Supergiants",
         "Field",
         "Delhi Daredevils",
         "Lost"
        ],
        [
         1082600,
         "Mumbai Indians",
         "Field",
         "Mumbai Indians",
         "Won"
        ],
        [
         1082601,
         "Kolkata Knight Riders",
         "Field",
         "Kolkata Knight Riders",
         "Won"
        ],
        [
         1082602,
         "Mumbai Indians",
         "Field",
         "Mumbai Indians",
         "Won"
        ],
        [
         1082603,
         "Gujarat Lions",
         "Field",
         "Gujarat Lions",
         "Won"
        ],
        [
         1082604,
         "Sunrisers Hyderabad",
         "Field",
         "Kolkata Knight Riders",
         "Lost"
        ],
        [
         1082605,
         "Delhi Daredevils",
         "Bat",
         "Delhi Daredevils",
         "Won"
        ],
        [
         1082606,
         "Mumbai Indians",
         "Field",
         "Mumbai Indians",
         "Won"
        ],
        [
         1082607,
         "Royal Challengers Bangalore",
         "Field",
         "Rising Pune Supergiants",
         "Lost"
        ],
        [
         1082608,
         "Delhi Daredevils",
         "Bat",
         "Kolkata Knight Riders",
         "Lost"
        ],
        [
         1082609,
         "Kings XI Punjab",
         "Field",
         "Sunrisers Hyderabad",
         "Lost"
        ],
        [
         1082610,
         "Gujarat Lions",
         "Field",
         "Royal Challengers Bangalore",
         "Lost"
        ],
        [
         1082611,
         "Sunrisers Hyderabad",
         "Bat",
         "Sunrisers Hyderabad",
         "Won"
        ],
        [
         1082612,
         "Mumbai Indians",
         "Field",
         "Mumbai Indians",
         "Won"
        ],
        [
         1082613,
         "Gujarat Lions",
         "Field",
         "Gujarat Lions",
         "Won"
        ],
        [
         1082614,
         "Delhi Daredevils",
         "Field",
         "Mumbai Indians",
         "Lost"
        ],
        [
         1082615,
         "Rising Pune Supergiants",
         "Field",
         "Rising Pune Supergiants",
         "Won"
        ],
        [
         1082616,
         "Gujarat Lions",
         "Field",
         "Kings XI Punjab",
         "Lost"
        ],
        [
         1082617,
         "Royal Challengers Bangalore",
         "Field",
         "Kolkata Knight Riders",
         "Lost"
        ],
        [
         1082618,
         "Mumbai Indians",
         "Field",
         "Rising Pune Supergiants",
         "Lost"
        ],
        [
         1082619,
         null,
         "NA",
         "abandoned",
         "Lost"
        ],
        [
         1082620,
         "Kolkata Knight Riders",
         "Field",
         "Kolkata Knight Riders",
         "Won"
        ],
        [
         1082621,
         "Gujarat Lions",
         "Field",
         "Gujarat Lions",
         "Won"
        ],
        [
         1082622,
         "Kolkata Knight Riders",
         "Field",
         "Kolkata Knight Riders",
         "Won"
        ],
        [
         1082623,
         "Kings XI Punjab",
         "Field",
         "Sunrisers Hyderabad",
         "Lost"
        ],
        [
         1082624,
         "Royal Challengers Bangalore",
         "Field",
         "Rising Pune Supergiants",
         "Lost"
        ],
        [
         1082625,
         "Gujarat Lions",
         "Bat",
         "tied",
         "Lost"
        ],
        [
         1082626,
         "Kings XI Punjab",
         "Field",
         "Kings XI Punjab",
         "Won"
        ],
        [
         1082627,
         "Kolkata Knight Riders",
         "Field",
         "Sunrisers Hyderabad",
         "Lost"
        ],
        [
         1082628,
         "Royal Challengers Bangalore",
         "Bat",
         "Mumbai Indians",
         "Lost"
        ],
        [
         1082629,
         "Rising Pune Supergiants",
         "Field",
         "Rising Pune Supergiants",
         "Won"
        ],
        [
         1082630,
         "Delhi Daredevils",
         "Field",
         "Delhi Daredevils",
         "Won"
        ],
        [
         1082631,
         "Rising Pune Supergiants",
         "Field",
         "Rising Pune Supergiants",
         "Won"
        ],
        [
         1082632,
         "Delhi Daredevils",
         "Field",
         "Delhi Daredevils",
         "Won"
        ],
        [
         1082633,
         "Royal Challengers Bangalore",
         "Field",
         "Kings XI Punjab",
         "Lost"
        ],
        [
         1082634,
         "Sunrisers Hyderabad",
         "Field",
         "Rising Pune Supergiants",
         "Lost"
        ],
        [
         1082635,
         "Delhi Daredevils",
         "Field",
         "Mumbai Indians",
         "Lost"
        ],
        [
         1082636,
         "Kolkata Knight Riders",
         "Field",
         "Kolkata Knight Riders",
         "Won"
        ],
        [
         1082637,
         "Gujarat Lions",
         "Field",
         "Gujarat Lions",
         "Won"
        ],
        [
         1082638,
         "Mumbai Indians",
         "Bat",
         "Sunrisers Hyderabad",
         "Lost"
        ],
        [
         1082639,
         "Kolkata Knight Riders",
         "Field",
         "Kings XI Punjab",
         "Lost"
        ],
        [
         1082640,
         "Delhi Daredevils",
         "Field",
         "Delhi Daredevils",
         "Won"
        ],
        [
         1082641,
         "Mumbai Indians",
         "Field",
         "Kings XI Punjab",
         "Lost"
        ],
        [
         1082642,
         "Delhi Daredevils",
         "Bat",
         "Delhi Daredevils",
         "Won"
        ],
        [
         1082643,
         "Sunrisers Hyderabad",
         "Field",
         "Sunrisers Hyderabad",
         "Won"
        ],
        [
         1082644,
         "Kolkata Knight Riders",
         "Field",
         "Mumbai Indians",
         "Lost"
        ],
        [
         1082645,
         "Rising Pune Supergiants",
         "Field",
         "Rising Pune Supergiants",
         "Won"
        ],
        [
         1082646,
         "Royal Challengers Bangalore",
         "Bat",
         "Royal Challengers Bangalore",
         "Won"
        ],
        [
         1082647,
         "Mumbai Indians",
         "Field",
         "Rising Pune Supergiants",
         "Lost"
        ],
        [
         1082648,
         "Kolkata Knight Riders",
         "Field",
         "Kolkata Knight Riders",
         "Won"
        ],
        [
         1082649,
         "Mumbai Indians",
         "Field",
         "Mumbai Indians",
         "Won"
        ],
        [
         1082650,
         "Mumbai Indians",
         "Bat",
         "Mumbai Indians",
         "Won"
        ]
       ],
       "datasetInfos": [],
       "dbfsResultPath": null,
       "isJsonSchema": true,
       "metadata": {
        "dataframeName": "_sqldf",
        "executionCount": 14
       },
       "overflow": false,
       "plotOptions": {
        "customPlotOptions": {},
        "displayType": "table",
        "pivotAggregation": null,
        "pivotColumns": null,
        "xColumns": null,
        "yColumns": null
       },
       "removedWidgets": [],
       "schema": [
        {
         "metadata": "{}",
         "name": "match_id",
         "type": "\"integer\""
        },
        {
         "metadata": "{}",
         "name": "toss_winner",
         "type": "\"string\""
        },
        {
         "metadata": "{}",
         "name": "toss_name",
         "type": "\"string\""
        },
        {
         "metadata": "{}",
         "name": "match_winner",
         "type": "\"string\""
        },
        {
         "metadata": "{}",
         "name": "match_outcome",
         "type": "\"string\""
        }
       ],
       "type": "table"
      }
     },
     "output_type": "display_data"
    }
   ],
   "source": [
    "%sql\n",
    "---Toss Impact on Matches\n",
    "SELECT m.match_id, m.toss_winner, m.toss_name, m.match_winner,\n",
    "       CASE WHEN m.toss_winner = m.match_winner THEN 'Won' ELSE 'Lost' END AS match_outcome\n",
    "FROM global_temp.match m\n",
    "WHERE m.toss_name IS NOT NULL\n",
    "ORDER BY m.match_id"
   ]
  },
  {
   "cell_type": "code",
   "execution_count": 0,
   "metadata": {
    "application/vnd.databricks.v1+cell": {
     "cellMetadata": {
      "byteLimit": 2048000,
      "implicitDf": true,
      "rowLimit": 10000
     },
     "inputWidgets": {},
     "nuid": "2f394733-4dac-4bc9-9e39-096fdeb02ae3",
     "showTitle": false,
     "title": ""
    }
   },
   "outputs": [
    {
     "output_type": "display_data",
     "data": {
      "text/html": [
       "<style scoped>\n",
       "  .table-result-container {\n",
       "    max-height: 300px;\n",
       "    overflow: auto;\n",
       "  }\n",
       "  table, th, td {\n",
       "    border: 1px solid black;\n",
       "    border-collapse: collapse;\n",
       "  }\n",
       "  th, td {\n",
       "    padding: 5px;\n",
       "  }\n",
       "  th {\n",
       "    text-align: left;\n",
       "  }\n",
       "</style><div class='table-result-container'><table class='table-result'><thead style='background-color: white'><tr><th>player_name</th><th>avg_runs_in_wins</th><th>innings_played</th></tr></thead><tbody><tr><td>smsm senanayake</td><td>0.0</td><td>1</td></tr><tr><td>kp appanna</td><td>0.0</td><td>1</td></tr><tr><td>jj bumrah</td><td>0.0</td><td>3</td></tr><tr><td>i sharma</td><td>0.0</td><td>1</td></tr><tr><td>j theron</td><td>0.0</td><td>2</td></tr><tr><td>ts mills</td><td>0.0</td><td>3</td></tr><tr><td>vr aaron</td><td>0.0</td><td>5</td></tr><tr><td>a nehra</td><td>0.0</td><td>2</td></tr><tr><td>sn thakur</td><td>0.0</td><td>2</td></tr><tr><td>anirudh singh</td><td>0.0</td><td>1</td></tr><tr><td>t thushara</td><td>0.2</td><td>5</td></tr><tr><td>sa abbott</td><td>0.25</td><td>4</td></tr><tr><td>yashpal singh</td><td>0.3</td><td>20</td></tr><tr><td>kc cariappa</td><td>0.3333333333333333</td><td>3</td></tr><tr><td>s sreesanth</td><td>0.3333333333333333</td><td>3</td></tr><tr><td>jd unadkat</td><td>0.4</td><td>5</td></tr><tr><td>sm harwood</td><td>0.42857142857142855</td><td>7</td></tr><tr><td>jm kemp</td><td>0.4444444444444444</td><td>9</td></tr><tr><td>nm coulternile</td><td>0.5</td><td>4</td></tr><tr><td>sandeep sharma</td><td>0.5</td><td>6</td></tr><tr><td>b kumar</td><td>0.5</td><td>10</td></tr><tr><td>r shukla</td><td>0.5</td><td>2</td></tr><tr><td>m de lange</td><td>0.5</td><td>2</td></tr><tr><td>washington sundar</td><td>0.5</td><td>8</td></tr><tr><td>kuldeep yadav</td><td>0.5714285714285714</td><td>7</td></tr><tr><td>wd parnell</td><td>0.5714285714285714</td><td>21</td></tr><tr><td>a kumble</td><td>0.6</td><td>5</td></tr><tr><td>rr rossouw</td><td>0.6086956521739131</td><td>23</td></tr><tr><td>l balaji</td><td>0.6153846153846154</td><td>13</td></tr><tr><td>ma starc</td><td>0.625</td><td>8</td></tr><tr><td>aa bilakhia</td><td>0.6511627906976745</td><td>43</td></tr><tr><td>pp ojha</td><td>0.6666666666666666</td><td>6</td></tr><tr><td>mohammad nabi</td><td>0.6666666666666666</td><td>3</td></tr><tr><td>wa mota</td><td>0.6774193548387096</td><td>31</td></tr><tr><td>p dogra</td><td>0.7142857142857143</td><td>21</td></tr><tr><td>c madan</td><td>0.7142857142857143</td><td>21</td></tr><tr><td>m rawat</td><td>0.7272727272727273</td><td>11</td></tr><tr><td>jds neesham</td><td>0.7272727272727273</td><td>11</td></tr><tr><td>rt ponting</td><td>0.7407407407407407</td><td>54</td></tr><tr><td>ms wade</td><td>0.75</td><td>4</td></tr><tr><td>yv takawale</td><td>0.7540983606557377</td><td>61</td></tr><tr><td>tm srivastava</td><td>0.7777777777777778</td><td>9</td></tr><tr><td>mr marsh</td><td>0.7804878048780488</td><td>41</td></tr><tr><td>sl malinga</td><td>0.7894736842105263</td><td>19</td></tr><tr><td>fh edwards</td><td>0.8</td><td>5</td></tr><tr><td>m muralitharan</td><td>0.8</td><td>5</td></tr><tr><td>z khan</td><td>0.8</td><td>5</td></tr><tr><td>a chopra</td><td>0.803921568627451</td><td>51</td></tr><tr><td>dj thornely</td><td>0.8125</td><td>48</td></tr><tr><td>cr woakes</td><td>0.8148148148148148</td><td>27</td></tr><tr><td>jdp oram</td><td>0.82</td><td>50</td></tr><tr><td>cj ferguson</td><td>0.8372093023255814</td><td>43</td></tr><tr><td>sd chitnis</td><td>0.85</td><td>40</td></tr><tr><td>mohammed shami</td><td>0.8571428571428571</td><td>7</td></tr><tr><td>ss shaikh</td><td>0.8571428571428571</td><td>7</td></tr><tr><td>vishnu vinod</td><td>0.8571428571428571</td><td>14</td></tr><tr><td>s sriram</td><td>0.8709677419354839</td><td>31</td></tr><tr><td>k goel</td><td>0.875</td><td>64</td></tr><tr><td>gh vihari</td><td>0.8820960698689956</td><td>229</td></tr><tr><td>rr powar</td><td>0.8823529411764706</td><td>17</td></tr><tr><td>dt christian</td><td>0.8846153846153846</td><td>104</td></tr><tr><td>ck kapugedera</td><td>0.8888888888888888</td><td>9</td></tr><tr><td>sp goswami</td><td>0.9047619047619048</td><td>126</td></tr><tr><td>dl vettori</td><td>0.9130434782608695</td><td>46</td></tr><tr><td>r ashwin</td><td>0.9166666666666666</td><td>84</td></tr><tr><td>r mclaren</td><td>0.9178082191780822</td><td>73</td></tr><tr><td>pa reddy</td><td>0.9197080291970803</td><td>137</td></tr><tr><td>ca pujara</td><td>0.919831223628692</td><td>237</td></tr><tr><td>kb arun karthik</td><td>0.9259259259259259</td><td>27</td></tr><tr><td>ag paunikar</td><td>0.9259259259259259</td><td>27</td></tr><tr><td>mm sharma</td><td>0.9375</td><td>16</td></tr><tr><td>ir jaggi</td><td>0.9375</td><td>16</td></tr><tr><td>gr napier</td><td>0.9375</td><td>16</td></tr><tr><td>c de grandhomme</td><td>0.9411764705882353</td><td>34</td></tr><tr><td>rr sarwan</td><td>0.9464285714285714</td><td>56</td></tr><tr><td>ab agarkar</td><td>0.9545454545454546</td><td>22</td></tr><tr><td>ad mascarenhas</td><td>0.972972972972973</td><td>37</td></tr><tr><td>gb hogg</td><td>1.0</td><td>5</td></tr><tr><td>db das</td><td>1.0</td><td>38</td></tr><tr><td>rr raje</td><td>1.0</td><td>7</td></tr><tr><td>cm gautam</td><td>1.0</td><td>64</td></tr><tr><td>rj peterson</td><td>1.0</td><td>30</td></tr><tr><td>s rana</td><td>1.0</td><td>16</td></tr><tr><td>d salunkhe</td><td>1.0</td><td>1</td></tr><tr><td>t kohli</td><td>1.0</td><td>3</td></tr><tr><td>m klinger</td><td>1.0</td><td>47</td></tr><tr><td>sw tait</td><td>1.0</td><td>1</td></tr><tr><td>s narwal</td><td>1.0</td><td>2</td></tr><tr><td>swapnil singh</td><td>1.0</td><td>2</td></tr><tr><td>bb sran</td><td>1.0</td><td>1</td></tr><tr><td>b sumanth</td><td>1.0</td><td>19</td></tr><tr><td>m morkel</td><td>1.0</td><td>7</td></tr><tr><td>ap dole</td><td>1.0</td><td>4</td></tr><tr><td>jo holder</td><td>1.0</td><td>3</td></tr><tr><td>jaskaran singh</td><td>1.0</td><td>3</td></tr><tr><td>ds lehmann</td><td>1.0</td><td>17</td></tr><tr><td>jec franklin</td><td>1.0115606936416186</td><td>173</td></tr><tr><td>ishan kishan</td><td>1.0163934426229508</td><td>61</td></tr><tr><td>sachin baby</td><td>1.0227272727272727</td><td>44</td></tr><tr><td>mn samuels</td><td>1.0238095238095237</td><td>84</td></tr><tr><td>kv sharma</td><td>1.0416666666666667</td><td>72</td></tr><tr><td>ubt chand</td><td>1.049645390070922</td><td>141</td></tr><tr><td>misbahulhaq</td><td>1.0512820512820513</td><td>39</td></tr><tr><td>sb styris</td><td>1.0576923076923077</td><td>52</td></tr><tr><td>ab barath</td><td>1.0606060606060606</td><td>33</td></tr><tr><td>m manhas</td><td>1.0636942675159236</td><td>157</td></tr><tr><td>ut khawaja</td><td>1.0675675675675675</td><td>74</td></tr><tr><td>bb samantray</td><td>1.0686274509803921</td><td>102</td></tr><tr><td>rs bopara</td><td>1.069767441860465</td><td>129</td></tr><tr><td>nk patel</td><td>1.069767441860465</td><td>43</td></tr><tr><td>salman butt</td><td>1.0704225352112675</td><td>71</td></tr><tr><td>w jaffer</td><td>1.0769230769230769</td><td>52</td></tr><tr><td>s sohal</td><td>1.0776699029126213</td><td>206</td></tr><tr><td>jh kallis</td><td>1.0803500397772474</td><td>1257</td></tr><tr><td>y venugopal rao</td><td>1.080536912751678</td><td>149</td></tr><tr><td>m kaif</td><td>1.086021505376344</td><td>186</td></tr><tr><td>ad nath</td><td>1.0909090909090908</td><td>11</td></tr><tr><td>tr birt</td><td>1.0909090909090908</td><td>22</td></tr><tr><td>n saini</td><td>1.0952380952380953</td><td>84</td></tr><tr><td>vvs laxman</td><td>1.0985915492957747</td><td>71</td></tr><tr><td>ms bisla</td><td>1.1</td><td>330</td></tr><tr><td>y nagar</td><td>1.1</td><td>90</td></tr><tr><td>s gopal</td><td>1.1</td><td>10</td></tr><tr><td>br dunk</td><td>1.1111111111111112</td><td>18</td></tr><tr><td>sk trivedi</td><td>1.1111111111111112</td><td>9</td></tr><tr><td>fy fazal</td><td>1.113821138211382</td><td>123</td></tr><tr><td>r dravid</td><td>1.1147540983606556</td><td>976</td></tr><tr><td>djg sammy</td><td>1.1168831168831168</td><td>77</td></tr><tr><td>hh gibbs</td><td>1.1185185185185185</td><td>405</td></tr><tr><td>sk warne</td><td>1.121212121212121</td><td>66</td></tr><tr><td>r dhawan</td><td>1.1228070175438596</td><td>57</td></tr><tr><td>mg johnson</td><td>1.125</td><td>80</td></tr><tr><td>mohammad hafeez</td><td>1.125</td><td>16</td></tr><tr><td>d wiese</td><td>1.125</td><td>8</td></tr><tr><td>pa patel</td><td>1.129287598944591</td><td>1137</td></tr><tr><td>r sharma</td><td>1.1428571428571428</td><td>21</td></tr><tr><td>nj maddinson</td><td>1.1428571428571428</td><td>14</td></tr><tr><td>lr shukla</td><td>1.145631067961165</td><td>103</td></tr><tr><td>iqbal abdulla</td><td>1.1470588235294117</td><td>34</td></tr><tr><td>rj quiney</td><td>1.150943396226415</td><td>53</td></tr><tr><td>sc ganguly</td><td>1.153061224489796</td><td>588</td></tr><tr><td>gc smith</td><td>1.156648451730419</td><td>549</td></tr><tr><td>ik pathan</td><td>1.1607142857142858</td><td>336</td></tr><tr><td>al menaria</td><td>1.1643835616438356</td><td>146</td></tr><tr><td>mdkj perera</td><td>1.1666666666666667</td><td>12</td></tr><tr><td>sr tendulkar</td><td>1.1728971962616823</td><td>1284</td></tr><tr><td>am nayar</td><td>1.173913043478261</td><td>138</td></tr><tr><td>tm dilshan</td><td>1.174298375184638</td><td>677</td></tr><tr><td>ss tiwary</td><td>1.1844827586206896</td><td>580</td></tr><tr><td>t taibu</td><td>1.1923076923076923</td><td>26</td></tr><tr><td>re van der merwe</td><td>1.1935483870967742</td><td>62</td></tr><tr><td>mp stoinis</td><td>1.1944444444444444</td><td>72</td></tr><tr><td>s badrinath</td><td>1.1947873799725652</td><td>729</td></tr><tr><td>mk tiwary</td><td>1.1982881597717547</td><td>701</td></tr><tr><td>a mithun</td><td>1.2</td><td>5</td></tr><tr><td>wpujc vaas</td><td>1.2</td><td>35</td></tr><tr><td>sohail tanvir</td><td>1.2</td><td>25</td></tr><tr><td>dm bravo</td><td>1.2</td><td>5</td></tr><tr><td>f du plessis</td><td>1.2002989536621824</td><td>669</td></tr><tr><td>sv samson</td><td>1.20125786163522</td><td>636</td></tr><tr><td>dj hussey</td><td>1.2017353579175705</td><td>461</td></tr><tr><td>ma agarwal</td><td>1.2021660649819494</td><td>277</td></tr><tr><td>cl white</td><td>1.2028985507246377</td><td>276</td></tr><tr><td>md mishra</td><td>1.203125</td><td>128</td></tr><tr><td>q de kock</td><td>1.2033195020746887</td><td>241</td></tr><tr><td>re levi</td><td>1.2058823529411764</td><td>68</td></tr><tr><td>am rahane</td><td>1.210693825588797</td><td>1571</td></tr><tr><td>b lee</td><td>1.2121212121212122</td><td>33</td></tr><tr><td>mk pandey</td><td>1.2169260700389104</td><td>1028</td></tr><tr><td>s dhawan</td><td>1.2176395939086295</td><td>1576</td></tr><tr><td>g gambhir</td><td>1.2193436960276338</td><td>2316</td></tr><tr><td>lrpl taylor</td><td>1.2193732193732194</td><td>351</td></tr><tr><td>mj guptill</td><td>1.2209302325581395</td><td>86</td></tr><tr><td>kc sangakkara</td><td>1.2218045112781954</td><td>798</td></tr><tr><td>dj jacobs</td><td>1.2264150943396226</td><td>53</td></tr><tr><td>r vinay kumar</td><td>1.2307692307692308</td><td>39</td></tr><tr><td>dw steyn</td><td>1.2380952380952381</td><td>21</td></tr><tr><td>aa jhunjhunwala</td><td>1.2407407407407407</td><td>54</td></tr><tr><td>nv ojha</td><td>1.2410865874363328</td><td>589</td></tr><tr><td>pr shah</td><td>1.25</td><td>8</td></tr><tr><td>shakib al hasan</td><td>1.25</td><td>204</td></tr><tr><td>sm katich</td><td>1.25</td><td>116</td></tr><tr><td>c munro</td><td>1.25</td><td>8</td></tr><tr><td>rv gomez</td><td>1.25</td><td>12</td></tr><tr><td>ra jadeja</td><td>1.2508305647840532</td><td>602</td></tr><tr><td>m vijay</td><td>1.2537577365163572</td><td>1131</td></tr><tr><td>la carseldine</td><td>1.2549019607843137</td><td>51</td></tr><tr><td>dpmd jayawardene</td><td>1.257183908045977</td><td>696</td></tr><tr><td>lmp simmons</td><td>1.2574568288854002</td><td>637</td></tr><tr><td>n rana</td><td>1.2619047619047619</td><td>210</td></tr><tr><td>jp duminy</td><td>1.263157894736842</td><td>589</td></tr><tr><td>gurkeerat singh</td><td>1.2666666666666666</td><td>45</td></tr><tr><td>tl suman</td><td>1.271341463414634</td><td>328</td></tr><tr><td>r sathish</td><td>1.2783505154639174</td><td>97</td></tr><tr><td>mc henriques</td><td>1.2805429864253393</td><td>442</td></tr><tr><td>kl rahul</td><td>1.2811059907834101</td><td>217</td></tr><tr><td>ut yadav</td><td>1.2857142857142858</td><td>7</td></tr><tr><td>rp singh</td><td>1.2857142857142858</td><td>7</td></tr><tr><td>hm amla</td><td>1.2857142857142858</td><td>119</td></tr><tr><td>r bishnoi</td><td>1.2857142857142858</td><td>14</td></tr><tr><td>p kumar</td><td>1.2884615384615385</td><td>52</td></tr><tr><td>at rayudu</td><td>1.2941176470588236</td><td>1207</td></tr><tr><td>mek hussey</td><td>1.295942720763723</td><td>1257</td></tr><tr><td>str binny</td><td>1.296943231441048</td><td>229</td></tr><tr><td>ml hayden</td><td>1.3035714285714286</td><td>560</td></tr><tr><td>mandeep singh</td><td>1.3046875</td><td>512</td></tr><tr><td>kd karthik</td><td>1.3135345666991236</td><td>1027</td></tr><tr><td>as raut</td><td>1.3181818181818181</td><td>44</td></tr><tr><td>r bhatia</td><td>1.320754716981132</td><td>53</td></tr><tr><td>yuvraj singh</td><td>1.3223039215686274</td><td>816</td></tr><tr><td>s anirudha</td><td>1.326086956521739</td><td>92</td></tr><tr><td>sa asnodkar</td><td>1.3286384976525822</td><td>213</td></tr><tr><td>jd ryder</td><td>1.3317972350230414</td><td>217</td></tr><tr><td>se marsh</td><td>1.3333333333333333</td><td>993</td></tr><tr><td>pankaj singh</td><td>1.3333333333333333</td><td>3</td></tr><tr><td>s chanderpaul</td><td>1.3333333333333333</td><td>12</td></tr><tr><td>mm patel</td><td>1.3333333333333333</td><td>3</td></tr><tr><td>kk nair</td><td>1.3365949119373777</td><td>511</td></tr><tr><td>ss iyer</td><td>1.3381502890173411</td><td>346</td></tr><tr><td>ar patel</td><td>1.339080459770115</td><td>174</td></tr><tr><td>rg sharma</td><td>1.339304531085353</td><td>1898</td></tr><tr><td>dh yagnik</td><td>1.3409090909090908</td><td>44</td></tr><tr><td>a symonds</td><td>1.3422459893048129</td><td>374</td></tr><tr><td>ejg morgan</td><td>1.3450980392156864</td><td>255</td></tr><tr><td>bb mccullum</td><td>1.3458015267175572</td><td>1310</td></tr><tr><td>gj bailey</td><td>1.35</td><td>200</td></tr><tr><td>v kohli</td><td>1.351027397260274</td><td>1752</td></tr><tr><td>rv uthappa</td><td>1.3524011299435028</td><td>1416</td></tr><tr><td>bj rohrer</td><td>1.3529411764705883</td><td>17</td></tr><tr><td>j botha</td><td>1.3535911602209945</td><td>181</td></tr><tr><td>b chipli</td><td>1.3571428571428572</td><td>70</td></tr><tr><td>ks williamson</td><td>1.3627450980392157</td><td>204</td></tr><tr><td>nltc perera</td><td>1.368421052631579</td><td>114</td></tr><tr><td>v shankar</td><td>1.368421052631579</td><td>57</td></tr><tr><td>sa yadav</td><td>1.3693693693693694</td><td>222</td></tr><tr><td>sk raina</td><td>1.3731060606060606</td><td>2112</td></tr><tr><td>dr smith</td><td>1.3742222222222222</td><td>1125</td></tr><tr><td>wp saha</td><td>1.3791748526522594</td><td>509</td></tr><tr><td>j syed mohammad</td><td>1.3846153846153846</td><td>13</td></tr><tr><td>db ravi teja</td><td>1.3888888888888888</td><td>72</td></tr><tr><td>bj hodge</td><td>1.389010989010989</td><td>455</td></tr><tr><td>m vohra</td><td>1.3898809523809523</td><td>336</td></tr><tr><td>azhar mahmood</td><td>1.3928571428571428</td><td>168</td></tr><tr><td>pc valthaty</td><td>1.396078431372549</td><td>255</td></tr><tr><td>a ashish reddy</td><td>1.4</td><td>80</td></tr><tr><td>ab mcdonald</td><td>1.4</td><td>50</td></tr><tr><td>sp fleming</td><td>1.4</td><td>65</td></tr><tr><td>tm head</td><td>1.4</td><td>35</td></tr><tr><td>dj bravo</td><td>1.400990099009901</td><td>404</td></tr><tr><td>ra tripathi</td><td>1.408450704225352</td><td>213</td></tr><tr><td>m kartik</td><td>1.4090909090909092</td><td>22</td></tr><tr><td>spd smith</td><td>1.4145383104125737</td><td>509</td></tr><tr><td>sw billings</td><td>1.4148936170212767</td><td>94</td></tr><tr><td>la pomersbach</td><td>1.4184397163120568</td><td>141</td></tr><tr><td>s vidyut</td><td>1.4210526315789473</td><td>38</td></tr><tr><td>mv boucher</td><td>1.422680412371134</td><td>97</td></tr><tr><td>aj finch</td><td>1.4250440917107583</td><td>567</td></tr><tr><td>hv patel</td><td>1.4285714285714286</td><td>7</td></tr><tr><td>j suchith</td><td>1.4285714285714286</td><td>7</td></tr><tr><td>ba stokes</td><td>1.4305555555555556</td><td>144</td></tr><tr><td>pd collingwood</td><td>1.44</td><td>100</td></tr><tr><td>pp chawla</td><td>1.4444444444444444</td><td>153</td></tr><tr><td>sb jakati</td><td>1.4444444444444444</td><td>9</td></tr><tr><td>p negi</td><td>1.446808510638298</td><td>47</td></tr><tr><td>a mishra</td><td>1.4492753623188406</td><td>69</td></tr><tr><td>ms dhoni</td><td>1.4498697916666667</td><td>1536</td></tr><tr><td>jr hopes</td><td>1.4516129032258065</td><td>93</td></tr><tr><td>b akhil</td><td>1.4516129032258065</td><td>31</td></tr><tr><td>rj harris</td><td>1.4583333333333333</td><td>24</td></tr><tr><td>ad mathews</td><td>1.4615384615384615</td><td>143</td></tr><tr><td>kp pietersen</td><td>1.4621848739495797</td><td>357</td></tr><tr><td>sr watson</td><td>1.4655013799448022</td><td>1087</td></tr><tr><td>oa shah</td><td>1.4745762711864407</td><td>118</td></tr><tr><td>ac gilchrist</td><td>1.4839537869062902</td><td>779</td></tr><tr><td>kamran akmal</td><td>1.4857142857142858</td><td>70</td></tr><tr><td>rn ten doeschate</td><td>1.488888888888889</td><td>90</td></tr><tr><td>ka pollard</td><td>1.493</td><td>1000</td></tr><tr><td>yk pathan</td><td>1.497865072587532</td><td>1171</td></tr><tr><td>shoaib malik</td><td>1.5</td><td>4</td></tr><tr><td>km jadhav</td><td>1.5</td><td>182</td></tr><tr><td>sj srivastava</td><td>1.5</td><td>2</td></tr><tr><td>r rampaul</td><td>1.5</td><td>8</td></tr><tr><td>ap tare</td><td>1.5044247787610618</td><td>113</td></tr><tr><td>kh pandya</td><td>1.5078534031413613</td><td>191</td></tr><tr><td>da warner</td><td>1.518087063151441</td><td>1631</td></tr><tr><td>da miller</td><td>1.5223880597014925</td><td>603</td></tr><tr><td>jp faulkner</td><td>1.5310344827586206</td><td>145</td></tr><tr><td>hh pandya</td><td>1.5357142857142858</td><td>168</td></tr><tr><td>harbhajan singh</td><td>1.5401069518716577</td><td>187</td></tr><tr><td>st jayasuriya</td><td>1.5460526315789473</td><td>304</td></tr><tr><td>mj lumb</td><td>1.5507246376811594</td><td>138</td></tr><tr><td>sunny singh</td><td>1.5625</td><td>16</td></tr><tr><td>ac blizzard</td><td>1.5666666666666667</td><td>60</td></tr><tr><td>ac voges</td><td>1.5692307692307692</td><td>65</td></tr><tr><td>a flintoff</td><td>1.5714285714285714</td><td>14</td></tr><tr><td>ch gayle</td><td>1.5775295663600526</td><td>1522</td></tr><tr><td>jc buttler</td><td>1.5789473684210527</td><td>247</td></tr><tr><td>ab de villiers</td><td>1.5797752808988763</td><td>1335</td></tr><tr><td>dj hooda</td><td>1.5849056603773586</td><td>159</td></tr><tr><td>ad russell</td><td>1.5949367088607596</td><td>158</td></tr><tr><td>auk pathan</td><td>1.6</td><td>10</td></tr><tr><td>cj anderson</td><td>1.6013071895424837</td><td>153</td></tr><tr><td>mf maharoof</td><td>1.606060606060606</td><td>33</td></tr><tr><td>v sehwag</td><td>1.613392857142857</td><td>1120</td></tr><tr><td>ja morkel</td><td>1.6232558139534883</td><td>215</td></tr><tr><td>rr pant</td><td>1.663594470046083</td><td>217</td></tr><tr><td>ca lynn</td><td>1.72</td><td>125</td></tr><tr><td>kk cooper</td><td>1.7241379310344827</td><td>29</td></tr><tr><td>sp narine</td><td>1.7340425531914894</td><td>94</td></tr><tr><td>gj maxwell</td><td>1.75</td><td>460</td></tr><tr><td>tg southee</td><td>1.75</td><td>4</td></tr><tr><td>bipul sharma</td><td>1.775</td><td>40</td></tr><tr><td>pj cummins</td><td>1.8076923076923077</td><td>26</td></tr><tr><td>bcj cutting</td><td>1.816326530612245</td><td>49</td></tr><tr><td>cr brathwaite</td><td>1.8333333333333333</td><td>30</td></tr><tr><td>lj wright</td><td>1.8333333333333333</td><td>24</td></tr><tr><td>r tewatia</td><td>1.875</td><td>8</td></tr><tr><td>ch morris</td><td>1.9230769230769231</td><td>52</td></tr><tr><td>sm pollock</td><td>1.9411764705882353</td><td>17</td></tr><tr><td>mj mcclenaghan</td><td>2.0</td><td>11</td></tr><tr><td>ds kulkarni</td><td>2.0</td><td>3</td></tr><tr><td>ms gony</td><td>2.0</td><td>31</td></tr><tr><td>shivam sharma</td><td>2.0</td><td>2</td></tr><tr><td>rs sodhi</td><td>2.0</td><td>2</td></tr><tr><td>vrv singh</td><td>2.0</td><td>2</td></tr><tr><td>umar gul</td><td>2.3076923076923075</td><td>13</td></tr><tr><td>harmeet singh</td><td>2.3333333333333335</td><td>6</td></tr><tr><td>sp jackson</td><td>2.4</td><td>5</td></tr><tr><td>sn khan</td><td>2.5789473684210527</td><td>19</td></tr><tr><td>an ahmed</td><td>3.0</td><td>3</td></tr><tr><td>ba bhatt</td><td>3.0</td><td>2</td></tr><tr><td>shahid afridi</td><td>3.3333333333333335</td><td>6</td></tr><tr><td>rashid khan</td><td>6.0</td><td>1</td></tr></tbody></table></div>"
      ]
     },
     "metadata": {
      "application/vnd.databricks.v1+output": {
       "addedWidgets": {},
       "aggData": [],
       "aggError": "",
       "aggOverflow": false,
       "aggSchema": [],
       "aggSeriesLimitReached": false,
       "aggType": "",
       "arguments": {},
       "columnCustomDisplayInfos": {},
       "data": [
        [
         "smsm senanayake",
         0.0,
         1
        ],
        [
         "kp appanna",
         0.0,
         1
        ],
        [
         "jj bumrah",
         0.0,
         3
        ],
        [
         "i sharma",
         0.0,
         1
        ],
        [
         "j theron",
         0.0,
         2
        ],
        [
         "ts mills",
         0.0,
         3
        ],
        [
         "vr aaron",
         0.0,
         5
        ],
        [
         "a nehra",
         0.0,
         2
        ],
        [
         "sn thakur",
         0.0,
         2
        ],
        [
         "anirudh singh",
         0.0,
         1
        ],
        [
         "t thushara",
         0.2,
         5
        ],
        [
         "sa abbott",
         0.25,
         4
        ],
        [
         "yashpal singh",
         0.3,
         20
        ],
        [
         "kc cariappa",
         0.3333333333333333,
         3
        ],
        [
         "s sreesanth",
         0.3333333333333333,
         3
        ],
        [
         "jd unadkat",
         0.4,
         5
        ],
        [
         "sm harwood",
         0.42857142857142855,
         7
        ],
        [
         "jm kemp",
         0.4444444444444444,
         9
        ],
        [
         "nm coulternile",
         0.5,
         4
        ],
        [
         "sandeep sharma",
         0.5,
         6
        ],
        [
         "b kumar",
         0.5,
         10
        ],
        [
         "r shukla",
         0.5,
         2
        ],
        [
         "m de lange",
         0.5,
         2
        ],
        [
         "washington sundar",
         0.5,
         8
        ],
        [
         "kuldeep yadav",
         0.5714285714285714,
         7
        ],
        [
         "wd parnell",
         0.5714285714285714,
         21
        ],
        [
         "a kumble",
         0.6,
         5
        ],
        [
         "rr rossouw",
         0.6086956521739131,
         23
        ],
        [
         "l balaji",
         0.6153846153846154,
         13
        ],
        [
         "ma starc",
         0.625,
         8
        ],
        [
         "aa bilakhia",
         0.6511627906976745,
         43
        ],
        [
         "pp ojha",
         0.6666666666666666,
         6
        ],
        [
         "mohammad nabi",
         0.6666666666666666,
         3
        ],
        [
         "wa mota",
         0.6774193548387096,
         31
        ],
        [
         "p dogra",
         0.7142857142857143,
         21
        ],
        [
         "c madan",
         0.7142857142857143,
         21
        ],
        [
         "m rawat",
         0.7272727272727273,
         11
        ],
        [
         "jds neesham",
         0.7272727272727273,
         11
        ],
        [
         "rt ponting",
         0.7407407407407407,
         54
        ],
        [
         "ms wade",
         0.75,
         4
        ],
        [
         "yv takawale",
         0.7540983606557377,
         61
        ],
        [
         "tm srivastava",
         0.7777777777777778,
         9
        ],
        [
         "mr marsh",
         0.7804878048780488,
         41
        ],
        [
         "sl malinga",
         0.7894736842105263,
         19
        ],
        [
         "fh edwards",
         0.8,
         5
        ],
        [
         "m muralitharan",
         0.8,
         5
        ],
        [
         "z khan",
         0.8,
         5
        ],
        [
         "a chopra",
         0.803921568627451,
         51
        ],
        [
         "dj thornely",
         0.8125,
         48
        ],
        [
         "cr woakes",
         0.8148148148148148,
         27
        ],
        [
         "jdp oram",
         0.82,
         50
        ],
        [
         "cj ferguson",
         0.8372093023255814,
         43
        ],
        [
         "sd chitnis",
         0.85,
         40
        ],
        [
         "mohammed shami",
         0.8571428571428571,
         7
        ],
        [
         "ss shaikh",
         0.8571428571428571,
         7
        ],
        [
         "vishnu vinod",
         0.8571428571428571,
         14
        ],
        [
         "s sriram",
         0.8709677419354839,
         31
        ],
        [
         "k goel",
         0.875,
         64
        ],
        [
         "gh vihari",
         0.8820960698689956,
         229
        ],
        [
         "rr powar",
         0.8823529411764706,
         17
        ],
        [
         "dt christian",
         0.8846153846153846,
         104
        ],
        [
         "ck kapugedera",
         0.8888888888888888,
         9
        ],
        [
         "sp goswami",
         0.9047619047619048,
         126
        ],
        [
         "dl vettori",
         0.9130434782608695,
         46
        ],
        [
         "r ashwin",
         0.9166666666666666,
         84
        ],
        [
         "r mclaren",
         0.9178082191780822,
         73
        ],
        [
         "pa reddy",
         0.9197080291970803,
         137
        ],
        [
         "ca pujara",
         0.919831223628692,
         237
        ],
        [
         "kb arun karthik",
         0.9259259259259259,
         27
        ],
        [
         "ag paunikar",
         0.9259259259259259,
         27
        ],
        [
         "mm sharma",
         0.9375,
         16
        ],
        [
         "ir jaggi",
         0.9375,
         16
        ],
        [
         "gr napier",
         0.9375,
         16
        ],
        [
         "c de grandhomme",
         0.9411764705882353,
         34
        ],
        [
         "rr sarwan",
         0.9464285714285714,
         56
        ],
        [
         "ab agarkar",
         0.9545454545454546,
         22
        ],
        [
         "ad mascarenhas",
         0.972972972972973,
         37
        ],
        [
         "gb hogg",
         1.0,
         5
        ],
        [
         "db das",
         1.0,
         38
        ],
        [
         "rr raje",
         1.0,
         7
        ],
        [
         "cm gautam",
         1.0,
         64
        ],
        [
         "rj peterson",
         1.0,
         30
        ],
        [
         "s rana",
         1.0,
         16
        ],
        [
         "d salunkhe",
         1.0,
         1
        ],
        [
         "t kohli",
         1.0,
         3
        ],
        [
         "m klinger",
         1.0,
         47
        ],
        [
         "sw tait",
         1.0,
         1
        ],
        [
         "s narwal",
         1.0,
         2
        ],
        [
         "swapnil singh",
         1.0,
         2
        ],
        [
         "bb sran",
         1.0,
         1
        ],
        [
         "b sumanth",
         1.0,
         19
        ],
        [
         "m morkel",
         1.0,
         7
        ],
        [
         "ap dole",
         1.0,
         4
        ],
        [
         "jo holder",
         1.0,
         3
        ],
        [
         "jaskaran singh",
         1.0,
         3
        ],
        [
         "ds lehmann",
         1.0,
         17
        ],
        [
         "jec franklin",
         1.0115606936416186,
         173
        ],
        [
         "ishan kishan",
         1.0163934426229508,
         61
        ],
        [
         "sachin baby",
         1.0227272727272727,
         44
        ],
        [
         "mn samuels",
         1.0238095238095237,
         84
        ],
        [
         "kv sharma",
         1.0416666666666667,
         72
        ],
        [
         "ubt chand",
         1.049645390070922,
         141
        ],
        [
         "misbahulhaq",
         1.0512820512820513,
         39
        ],
        [
         "sb styris",
         1.0576923076923077,
         52
        ],
        [
         "ab barath",
         1.0606060606060606,
         33
        ],
        [
         "m manhas",
         1.0636942675159236,
         157
        ],
        [
         "ut khawaja",
         1.0675675675675675,
         74
        ],
        [
         "bb samantray",
         1.0686274509803921,
         102
        ],
        [
         "rs bopara",
         1.069767441860465,
         129
        ],
        [
         "nk patel",
         1.069767441860465,
         43
        ],
        [
         "salman butt",
         1.0704225352112675,
         71
        ],
        [
         "w jaffer",
         1.0769230769230769,
         52
        ],
        [
         "s sohal",
         1.0776699029126213,
         206
        ],
        [
         "jh kallis",
         1.0803500397772474,
         1257
        ],
        [
         "y venugopal rao",
         1.080536912751678,
         149
        ],
        [
         "m kaif",
         1.086021505376344,
         186
        ],
        [
         "ad nath",
         1.0909090909090908,
         11
        ],
        [
         "tr birt",
         1.0909090909090908,
         22
        ],
        [
         "n saini",
         1.0952380952380953,
         84
        ],
        [
         "vvs laxman",
         1.0985915492957747,
         71
        ],
        [
         "ms bisla",
         1.1,
         330
        ],
        [
         "y nagar",
         1.1,
         90
        ],
        [
         "s gopal",
         1.1,
         10
        ],
        [
         "br dunk",
         1.1111111111111112,
         18
        ],
        [
         "sk trivedi",
         1.1111111111111112,
         9
        ],
        [
         "fy fazal",
         1.113821138211382,
         123
        ],
        [
         "r dravid",
         1.1147540983606556,
         976
        ],
        [
         "djg sammy",
         1.1168831168831168,
         77
        ],
        [
         "hh gibbs",
         1.1185185185185185,
         405
        ],
        [
         "sk warne",
         1.121212121212121,
         66
        ],
        [
         "r dhawan",
         1.1228070175438596,
         57
        ],
        [
         "mg johnson",
         1.125,
         80
        ],
        [
         "mohammad hafeez",
         1.125,
         16
        ],
        [
         "d wiese",
         1.125,
         8
        ],
        [
         "pa patel",
         1.129287598944591,
         1137
        ],
        [
         "r sharma",
         1.1428571428571428,
         21
        ],
        [
         "nj maddinson",
         1.1428571428571428,
         14
        ],
        [
         "lr shukla",
         1.145631067961165,
         103
        ],
        [
         "iqbal abdulla",
         1.1470588235294117,
         34
        ],
        [
         "rj quiney",
         1.150943396226415,
         53
        ],
        [
         "sc ganguly",
         1.153061224489796,
         588
        ],
        [
         "gc smith",
         1.156648451730419,
         549
        ],
        [
         "ik pathan",
         1.1607142857142858,
         336
        ],
        [
         "al menaria",
         1.1643835616438356,
         146
        ],
        [
         "mdkj perera",
         1.1666666666666667,
         12
        ],
        [
         "sr tendulkar",
         1.1728971962616823,
         1284
        ],
        [
         "am nayar",
         1.173913043478261,
         138
        ],
        [
         "tm dilshan",
         1.174298375184638,
         677
        ],
        [
         "ss tiwary",
         1.1844827586206896,
         580
        ],
        [
         "t taibu",
         1.1923076923076923,
         26
        ],
        [
         "re van der merwe",
         1.1935483870967742,
         62
        ],
        [
         "mp stoinis",
         1.1944444444444444,
         72
        ],
        [
         "s badrinath",
         1.1947873799725652,
         729
        ],
        [
         "mk tiwary",
         1.1982881597717547,
         701
        ],
        [
         "a mithun",
         1.2,
         5
        ],
        [
         "wpujc vaas",
         1.2,
         35
        ],
        [
         "sohail tanvir",
         1.2,
         25
        ],
        [
         "dm bravo",
         1.2,
         5
        ],
        [
         "f du plessis",
         1.2002989536621824,
         669
        ],
        [
         "sv samson",
         1.20125786163522,
         636
        ],
        [
         "dj hussey",
         1.2017353579175705,
         461
        ],
        [
         "ma agarwal",
         1.2021660649819494,
         277
        ],
        [
         "cl white",
         1.2028985507246377,
         276
        ],
        [
         "md mishra",
         1.203125,
         128
        ],
        [
         "q de kock",
         1.2033195020746887,
         241
        ],
        [
         "re levi",
         1.2058823529411764,
         68
        ],
        [
         "am rahane",
         1.210693825588797,
         1571
        ],
        [
         "b lee",
         1.2121212121212122,
         33
        ],
        [
         "mk pandey",
         1.2169260700389104,
         1028
        ],
        [
         "s dhawan",
         1.2176395939086295,
         1576
        ],
        [
         "g gambhir",
         1.2193436960276338,
         2316
        ],
        [
         "lrpl taylor",
         1.2193732193732194,
         351
        ],
        [
         "mj guptill",
         1.2209302325581395,
         86
        ],
        [
         "kc sangakkara",
         1.2218045112781954,
         798
        ],
        [
         "dj jacobs",
         1.2264150943396226,
         53
        ],
        [
         "r vinay kumar",
         1.2307692307692308,
         39
        ],
        [
         "dw steyn",
         1.2380952380952381,
         21
        ],
        [
         "aa jhunjhunwala",
         1.2407407407407407,
         54
        ],
        [
         "nv ojha",
         1.2410865874363328,
         589
        ],
        [
         "pr shah",
         1.25,
         8
        ],
        [
         "shakib al hasan",
         1.25,
         204
        ],
        [
         "sm katich",
         1.25,
         116
        ],
        [
         "c munro",
         1.25,
         8
        ],
        [
         "rv gomez",
         1.25,
         12
        ],
        [
         "ra jadeja",
         1.2508305647840532,
         602
        ],
        [
         "m vijay",
         1.2537577365163572,
         1131
        ],
        [
         "la carseldine",
         1.2549019607843137,
         51
        ],
        [
         "dpmd jayawardene",
         1.257183908045977,
         696
        ],
        [
         "lmp simmons",
         1.2574568288854002,
         637
        ],
        [
         "n rana",
         1.2619047619047619,
         210
        ],
        [
         "jp duminy",
         1.263157894736842,
         589
        ],
        [
         "gurkeerat singh",
         1.2666666666666666,
         45
        ],
        [
         "tl suman",
         1.271341463414634,
         328
        ],
        [
         "r sathish",
         1.2783505154639174,
         97
        ],
        [
         "mc henriques",
         1.2805429864253393,
         442
        ],
        [
         "kl rahul",
         1.2811059907834101,
         217
        ],
        [
         "ut yadav",
         1.2857142857142858,
         7
        ],
        [
         "rp singh",
         1.2857142857142858,
         7
        ],
        [
         "hm amla",
         1.2857142857142858,
         119
        ],
        [
         "r bishnoi",
         1.2857142857142858,
         14
        ],
        [
         "p kumar",
         1.2884615384615385,
         52
        ],
        [
         "at rayudu",
         1.2941176470588236,
         1207
        ],
        [
         "mek hussey",
         1.295942720763723,
         1257
        ],
        [
         "str binny",
         1.296943231441048,
         229
        ],
        [
         "ml hayden",
         1.3035714285714286,
         560
        ],
        [
         "mandeep singh",
         1.3046875,
         512
        ],
        [
         "kd karthik",
         1.3135345666991236,
         1027
        ],
        [
         "as raut",
         1.3181818181818181,
         44
        ],
        [
         "r bhatia",
         1.320754716981132,
         53
        ],
        [
         "yuvraj singh",
         1.3223039215686274,
         816
        ],
        [
         "s anirudha",
         1.326086956521739,
         92
        ],
        [
         "sa asnodkar",
         1.3286384976525822,
         213
        ],
        [
         "jd ryder",
         1.3317972350230414,
         217
        ],
        [
         "se marsh",
         1.3333333333333333,
         993
        ],
        [
         "pankaj singh",
         1.3333333333333333,
         3
        ],
        [
         "s chanderpaul",
         1.3333333333333333,
         12
        ],
        [
         "mm patel",
         1.3333333333333333,
         3
        ],
        [
         "kk nair",
         1.3365949119373777,
         511
        ],
        [
         "ss iyer",
         1.3381502890173411,
         346
        ],
        [
         "ar patel",
         1.339080459770115,
         174
        ],
        [
         "rg sharma",
         1.339304531085353,
         1898
        ],
        [
         "dh yagnik",
         1.3409090909090908,
         44
        ],
        [
         "a symonds",
         1.3422459893048129,
         374
        ],
        [
         "ejg morgan",
         1.3450980392156864,
         255
        ],
        [
         "bb mccullum",
         1.3458015267175572,
         1310
        ],
        [
         "gj bailey",
         1.35,
         200
        ],
        [
         "v kohli",
         1.351027397260274,
         1752
        ],
        [
         "rv uthappa",
         1.3524011299435028,
         1416
        ],
        [
         "bj rohrer",
         1.3529411764705883,
         17
        ],
        [
         "j botha",
         1.3535911602209945,
         181
        ],
        [
         "b chipli",
         1.3571428571428572,
         70
        ],
        [
         "ks williamson",
         1.3627450980392157,
         204
        ],
        [
         "nltc perera",
         1.368421052631579,
         114
        ],
        [
         "v shankar",
         1.368421052631579,
         57
        ],
        [
         "sa yadav",
         1.3693693693693694,
         222
        ],
        [
         "sk raina",
         1.3731060606060606,
         2112
        ],
        [
         "dr smith",
         1.3742222222222222,
         1125
        ],
        [
         "wp saha",
         1.3791748526522594,
         509
        ],
        [
         "j syed mohammad",
         1.3846153846153846,
         13
        ],
        [
         "db ravi teja",
         1.3888888888888888,
         72
        ],
        [
         "bj hodge",
         1.389010989010989,
         455
        ],
        [
         "m vohra",
         1.3898809523809523,
         336
        ],
        [
         "azhar mahmood",
         1.3928571428571428,
         168
        ],
        [
         "pc valthaty",
         1.396078431372549,
         255
        ],
        [
         "a ashish reddy",
         1.4,
         80
        ],
        [
         "ab mcdonald",
         1.4,
         50
        ],
        [
         "sp fleming",
         1.4,
         65
        ],
        [
         "tm head",
         1.4,
         35
        ],
        [
         "dj bravo",
         1.400990099009901,
         404
        ],
        [
         "ra tripathi",
         1.408450704225352,
         213
        ],
        [
         "m kartik",
         1.4090909090909092,
         22
        ],
        [
         "spd smith",
         1.4145383104125737,
         509
        ],
        [
         "sw billings",
         1.4148936170212767,
         94
        ],
        [
         "la pomersbach",
         1.4184397163120568,
         141
        ],
        [
         "s vidyut",
         1.4210526315789473,
         38
        ],
        [
         "mv boucher",
         1.422680412371134,
         97
        ],
        [
         "aj finch",
         1.4250440917107583,
         567
        ],
        [
         "hv patel",
         1.4285714285714286,
         7
        ],
        [
         "j suchith",
         1.4285714285714286,
         7
        ],
        [
         "ba stokes",
         1.4305555555555556,
         144
        ],
        [
         "pd collingwood",
         1.44,
         100
        ],
        [
         "pp chawla",
         1.4444444444444444,
         153
        ],
        [
         "sb jakati",
         1.4444444444444444,
         9
        ],
        [
         "p negi",
         1.446808510638298,
         47
        ],
        [
         "a mishra",
         1.4492753623188406,
         69
        ],
        [
         "ms dhoni",
         1.4498697916666667,
         1536
        ],
        [
         "jr hopes",
         1.4516129032258065,
         93
        ],
        [
         "b akhil",
         1.4516129032258065,
         31
        ],
        [
         "rj harris",
         1.4583333333333333,
         24
        ],
        [
         "ad mathews",
         1.4615384615384615,
         143
        ],
        [
         "kp pietersen",
         1.4621848739495797,
         357
        ],
        [
         "sr watson",
         1.4655013799448022,
         1087
        ],
        [
         "oa shah",
         1.4745762711864407,
         118
        ],
        [
         "ac gilchrist",
         1.4839537869062902,
         779
        ],
        [
         "kamran akmal",
         1.4857142857142858,
         70
        ],
        [
         "rn ten doeschate",
         1.488888888888889,
         90
        ],
        [
         "ka pollard",
         1.493,
         1000
        ],
        [
         "yk pathan",
         1.497865072587532,
         1171
        ],
        [
         "shoaib malik",
         1.5,
         4
        ],
        [
         "km jadhav",
         1.5,
         182
        ],
        [
         "sj srivastava",
         1.5,
         2
        ],
        [
         "r rampaul",
         1.5,
         8
        ],
        [
         "ap tare",
         1.5044247787610618,
         113
        ],
        [
         "kh pandya",
         1.5078534031413613,
         191
        ],
        [
         "da warner",
         1.518087063151441,
         1631
        ],
        [
         "da miller",
         1.5223880597014925,
         603
        ],
        [
         "jp faulkner",
         1.5310344827586206,
         145
        ],
        [
         "hh pandya",
         1.5357142857142858,
         168
        ],
        [
         "harbhajan singh",
         1.5401069518716577,
         187
        ],
        [
         "st jayasuriya",
         1.5460526315789473,
         304
        ],
        [
         "mj lumb",
         1.5507246376811594,
         138
        ],
        [
         "sunny singh",
         1.5625,
         16
        ],
        [
         "ac blizzard",
         1.5666666666666667,
         60
        ],
        [
         "ac voges",
         1.5692307692307692,
         65
        ],
        [
         "a flintoff",
         1.5714285714285714,
         14
        ],
        [
         "ch gayle",
         1.5775295663600526,
         1522
        ],
        [
         "jc buttler",
         1.5789473684210527,
         247
        ],
        [
         "ab de villiers",
         1.5797752808988763,
         1335
        ],
        [
         "dj hooda",
         1.5849056603773586,
         159
        ],
        [
         "ad russell",
         1.5949367088607596,
         158
        ],
        [
         "auk pathan",
         1.6,
         10
        ],
        [
         "cj anderson",
         1.6013071895424837,
         153
        ],
        [
         "mf maharoof",
         1.606060606060606,
         33
        ],
        [
         "v sehwag",
         1.613392857142857,
         1120
        ],
        [
         "ja morkel",
         1.6232558139534883,
         215
        ],
        [
         "rr pant",
         1.663594470046083,
         217
        ],
        [
         "ca lynn",
         1.72,
         125
        ],
        [
         "kk cooper",
         1.7241379310344827,
         29
        ],
        [
         "sp narine",
         1.7340425531914894,
         94
        ],
        [
         "gj maxwell",
         1.75,
         460
        ],
        [
         "tg southee",
         1.75,
         4
        ],
        [
         "bipul sharma",
         1.775,
         40
        ],
        [
         "pj cummins",
         1.8076923076923077,
         26
        ],
        [
         "bcj cutting",
         1.816326530612245,
         49
        ],
        [
         "cr brathwaite",
         1.8333333333333333,
         30
        ],
        [
         "lj wright",
         1.8333333333333333,
         24
        ],
        [
         "r tewatia",
         1.875,
         8
        ],
        [
         "ch morris",
         1.9230769230769231,
         52
        ],
        [
         "sm pollock",
         1.9411764705882353,
         17
        ],
        [
         "mj mcclenaghan",
         2.0,
         11
        ],
        [
         "ds kulkarni",
         2.0,
         3
        ],
        [
         "ms gony",
         2.0,
         31
        ],
        [
         "shivam sharma",
         2.0,
         2
        ],
        [
         "rs sodhi",
         2.0,
         2
        ],
        [
         "vrv singh",
         2.0,
         2
        ],
        [
         "umar gul",
         2.3076923076923075,
         13
        ],
        [
         "harmeet singh",
         2.3333333333333335,
         6
        ],
        [
         "sp jackson",
         2.4,
         5
        ],
        [
         "sn khan",
         2.5789473684210527,
         19
        ],
        [
         "an ahmed",
         3.0,
         3
        ],
        [
         "ba bhatt",
         3.0,
         2
        ],
        [
         "shahid afridi",
         3.3333333333333335,
         6
        ],
        [
         "rashid khan",
         6.0,
         1
        ]
       ],
       "datasetInfos": [],
       "dbfsResultPath": null,
       "isJsonSchema": true,
       "metadata": {
        "dataframeName": "_sqldf",
        "executionCount": 15
       },
       "overflow": false,
       "plotOptions": {
        "customPlotOptions": {},
        "displayType": "table",
        "pivotAggregation": null,
        "pivotColumns": null,
        "xColumns": null,
        "yColumns": null
       },
       "removedWidgets": [],
       "schema": [
        {
         "metadata": "{}",
         "name": "player_name",
         "type": "\"string\""
        },
        {
         "metadata": "{}",
         "name": "avg_runs_in_wins",
         "type": "\"double\""
        },
        {
         "metadata": "{}",
         "name": "innings_played",
         "type": "\"long\""
        }
       ],
       "type": "table"
      }
     },
     "output_type": "display_data"
    }
   ],
   "source": [
    "%sql\n",
    "---Average runs in wins\n",
    "SELECT p.player_name, AVG(b.runs_scored) AS avg_runs_in_wins, COUNT(*) AS innings_played\n",
    "FROM global_temp.ball_by_ball b\n",
    "JOIN global_temp.player_match pm ON b.match_id = pm.match_id AND b.striker = pm.player_id\n",
    "JOIN global_temp.player p ON pm.player_id = p.player_id\n",
    "JOIN global_temp.match m ON pm.match_id = m.match_id\n",
    "WHERE m.match_winner = pm.player_team\n",
    "GROUP BY p.player_name\n",
    "ORDER BY avg_runs_in_wins ASC"
   ]
  },
  {
   "cell_type": "code",
   "execution_count": 0,
   "metadata": {
    "application/vnd.databricks.v1+cell": {
     "cellMetadata": {},
     "inputWidgets": {},
     "nuid": "f0f385c7-418f-43d5-a0d7-6a026c20fb26",
     "showTitle": false,
     "title": ""
    }
   },
   "outputs": [],
   "source": []
  }
 ],
 "metadata": {
  "application/vnd.databricks.v1+notebook": {
   "dashboards": [],
   "language": "python",
   "notebookMetadata": {
    "mostRecentlyExecutedCommandWithImplicitDF": {
     "commandId": 386651501500327,
     "dataframes": [
      "_sqldf"
     ]
    },
    "pythonIndentUnit": 4
   },
   "notebookName": "3.Analysis_Using_Pyspark",
   "widgets": {}
  }
 },
 "nbformat": 4,
 "nbformat_minor": 0
}
