{
 "cells": [
  {
   "cell_type": "code",
   "execution_count": 0,
   "metadata": {
    "application/vnd.databricks.v1+cell": {
     "cellMetadata": {
      "byteLimit": 2048000,
      "rowLimit": 10000
     },
     "inputWidgets": {},
     "nuid": "4d91978c-b269-452b-b169-b69c6f544750",
     "showTitle": false,
     "title": ""
    }
   },
   "outputs": [],
   "source": [
    "%python\n",
    "## Following Global Temporary Views are Created in Analysis Using Pyspark Notebook\n",
    "## 1. ball_by_ball\n",
    "## 2. match\n",
    "## 3. player\n",
    "## 4. player_match\n",
    "## 5. team"
   ]
  },
  {
   "cell_type": "code",
   "execution_count": 0,
   "metadata": {
    "application/vnd.databricks.v1+cell": {
     "cellMetadata": {
      "byteLimit": 2048000,
      "rowLimit": 10000
     },
     "inputWidgets": {},
     "nuid": "94cbed43-80e1-4b0e-a929-8c19909cbf1f",
     "showTitle": false,
     "title": ""
    }
   },
   "outputs": [
    {
     "output_type": "display_data",
     "data": {
      "text/html": [
       "<style scoped>\n",
       "  .table-result-container {\n",
       "    max-height: 300px;\n",
       "    overflow: auto;\n",
       "  }\n",
       "  table, th, td {\n",
       "    border: 1px solid black;\n",
       "    border-collapse: collapse;\n",
       "  }\n",
       "  th, td {\n",
       "    padding: 5px;\n",
       "  }\n",
       "  th {\n",
       "    text-align: left;\n",
       "  }\n",
       "</style><div class='table-result-container'><table class='table-result'><thead style='background-color: white'><tr><th>match_id</th><th>over_id</th><th>ball_id</th><th>innings_no</th><th>team_batting</th><th>team_bowling</th><th>striker_batting_position</th><th>extra_type</th><th>runs_scored</th><th>extra_runs</th><th>wides</th><th>legbyes</th><th>byes</th><th>noballs</th><th>penalty</th><th>bowler_extras</th><th>out_type</th><th>caught</th><th>bowled</th><th>run_out</th><th>lbw</th><th>retired_hurt</th><th>stumped</th><th>caught_and_bowled</th><th>hit_wicket</th><th>obstructingfeild</th><th>bowler_wicket</th><th>match_date</th><th>season</th><th>striker</th><th>non_striker</th><th>bowler</th><th>player_out</th><th>fielders</th><th>striker_match_sk</th><th>strikersk</th><th>nonstriker_match_sk</th><th>nonstriker_sk</th><th>fielder_match_sk</th><th>fielder_sk</th><th>bowler_match_sk</th><th>bowler_sk</th><th>playerout_match_sk</th><th>battingteam_sk</th><th>bowlingteam_sk</th><th>keeper_catch</th><th>player_out_sk</th><th>matchdatesk</th><th>running_total_runs</th><th>high_impact</th></tr></thead><tbody><tr><td>335987</td><td>1</td><td>1</td><td>1</td><td>1</td><td>2</td><td>1</td><td>legbyes</td><td>0</td><td>1</td><td>0</td><td>1</td><td>0</td><td>0</td><td>0</td><td>0</td><td>Not Applicable</td><td>null</td><td>null</td><td>null</td><td>null</td><td>null</td><td>null</td><td>null</td><td>null</td><td>null</td><td>null</td><td>null</td><td>2008</td><td>1</td><td>2</td><td>14</td><td>null</td><td>null</td><td>12705</td><td>0</td><td>12706</td><td>1</td><td>-1</td><td>-1</td><td>12702</td><td>13</td><td>-1</td><td>0</td><td>1</td><td>null</td><td>0</td><td>null</td><td>0</td><td>false</td></tr><tr><td>335987</td><td>1</td><td>2</td><td>1</td><td>1</td><td>2</td><td>2</td><td>No Extras</td><td>0</td><td>0</td><td>0</td><td>0</td><td>0</td><td>0</td><td>0</td><td>0</td><td>Not Applicable</td><td>null</td><td>null</td><td>null</td><td>null</td><td>null</td><td>null</td><td>null</td><td>null</td><td>null</td><td>null</td><td>null</td><td>2008</td><td>2</td><td>1</td><td>14</td><td>null</td><td>null</td><td>12706</td><td>1</td><td>12705</td><td>0</td><td>-1</td><td>-1</td><td>12702</td><td>13</td><td>-1</td><td>0</td><td>1</td><td>null</td><td>0</td><td>null</td><td>0</td><td>false</td></tr><tr><td>335987</td><td>1</td><td>3</td><td>1</td><td>1</td><td>2</td><td>2</td><td>wides</td><td>0</td><td>1</td><td>1</td><td>0</td><td>0</td><td>0</td><td>0</td><td>1</td><td>Not Applicable</td><td>null</td><td>null</td><td>null</td><td>null</td><td>null</td><td>null</td><td>null</td><td>null</td><td>null</td><td>null</td><td>null</td><td>2008</td><td>2</td><td>1</td><td>14</td><td>null</td><td>null</td><td>12706</td><td>1</td><td>12705</td><td>0</td><td>-1</td><td>-1</td><td>12702</td><td>13</td><td>-1</td><td>0</td><td>1</td><td>null</td><td>0</td><td>null</td><td>0</td><td>false</td></tr><tr><td>335987</td><td>1</td><td>4</td><td>1</td><td>1</td><td>2</td><td>2</td><td>No Extras</td><td>0</td><td>0</td><td>0</td><td>0</td><td>0</td><td>0</td><td>0</td><td>0</td><td>Not Applicable</td><td>null</td><td>null</td><td>null</td><td>null</td><td>null</td><td>null</td><td>null</td><td>null</td><td>null</td><td>null</td><td>null</td><td>2008</td><td>2</td><td>1</td><td>14</td><td>null</td><td>null</td><td>12706</td><td>1</td><td>12705</td><td>0</td><td>-1</td><td>-1</td><td>12702</td><td>13</td><td>-1</td><td>0</td><td>1</td><td>null</td><td>0</td><td>null</td><td>0</td><td>false</td></tr><tr><td>335987</td><td>1</td><td>5</td><td>1</td><td>1</td><td>2</td><td>2</td><td>No Extras</td><td>0</td><td>0</td><td>0</td><td>0</td><td>0</td><td>0</td><td>0</td><td>0</td><td>Not Applicable</td><td>null</td><td>null</td><td>null</td><td>null</td><td>null</td><td>null</td><td>null</td><td>null</td><td>null</td><td>null</td><td>null</td><td>2008</td><td>2</td><td>1</td><td>14</td><td>null</td><td>null</td><td>12706</td><td>1</td><td>12705</td><td>0</td><td>-1</td><td>-1</td><td>12702</td><td>13</td><td>-1</td><td>0</td><td>1</td><td>null</td><td>0</td><td>null</td><td>0</td><td>false</td></tr><tr><td>335987</td><td>1</td><td>6</td><td>1</td><td>1</td><td>2</td><td>2</td><td>No Extras</td><td>0</td><td>0</td><td>0</td><td>0</td><td>0</td><td>0</td><td>0</td><td>0</td><td>Not Applicable</td><td>null</td><td>null</td><td>null</td><td>null</td><td>null</td><td>null</td><td>null</td><td>null</td><td>null</td><td>null</td><td>null</td><td>2008</td><td>2</td><td>1</td><td>14</td><td>null</td><td>null</td><td>12706</td><td>1</td><td>12705</td><td>0</td><td>-1</td><td>-1</td><td>12702</td><td>13</td><td>-1</td><td>0</td><td>1</td><td>null</td><td>0</td><td>null</td><td>0</td><td>false</td></tr><tr><td>335987</td><td>1</td><td>7</td><td>1</td><td>1</td><td>2</td><td>2</td><td>legbyes</td><td>0</td><td>1</td><td>0</td><td>1</td><td>0</td><td>0</td><td>0</td><td>0</td><td>Not Applicable</td><td>null</td><td>null</td><td>null</td><td>null</td><td>null</td><td>null</td><td>null</td><td>null</td><td>null</td><td>null</td><td>null</td><td>2008</td><td>2</td><td>1</td><td>14</td><td>null</td><td>null</td><td>12706</td><td>1</td><td>12705</td><td>0</td><td>-1</td><td>-1</td><td>12702</td><td>13</td><td>-1</td><td>0</td><td>1</td><td>null</td><td>0</td><td>null</td><td>0</td><td>false</td></tr><tr><td>335987</td><td>2</td><td>1</td><td>1</td><td>1</td><td>2</td><td>2</td><td>No Extras</td><td>0</td><td>0</td><td>0</td><td>0</td><td>0</td><td>0</td><td>0</td><td>0</td><td>Not Applicable</td><td>null</td><td>null</td><td>null</td><td>null</td><td>null</td><td>null</td><td>null</td><td>null</td><td>null</td><td>null</td><td>null</td><td>2008</td><td>2</td><td>1</td><td>15</td><td>null</td><td>null</td><td>12706</td><td>1</td><td>12705</td><td>0</td><td>-1</td><td>-1</td><td>12703</td><td>14</td><td>-1</td><td>0</td><td>1</td><td>null</td><td>0</td><td>null</td><td>18</td><td>false</td></tr><tr><td>335987</td><td>2</td><td>2</td><td>1</td><td>1</td><td>2</td><td>2</td><td>No Extras</td><td>4</td><td>0</td><td>0</td><td>0</td><td>0</td><td>0</td><td>0</td><td>0</td><td>Not Applicable</td><td>null</td><td>null</td><td>null</td><td>null</td><td>null</td><td>null</td><td>null</td><td>null</td><td>null</td><td>null</td><td>null</td><td>2008</td><td>2</td><td>1</td><td>15</td><td>null</td><td>null</td><td>12706</td><td>1</td><td>12705</td><td>0</td><td>-1</td><td>-1</td><td>12703</td><td>14</td><td>-1</td><td>0</td><td>1</td><td>null</td><td>0</td><td>null</td><td>18</td><td>false</td></tr><tr><td>335987</td><td>2</td><td>3</td><td>1</td><td>1</td><td>2</td><td>2</td><td>No Extras</td><td>4</td><td>0</td><td>0</td><td>0</td><td>0</td><td>0</td><td>0</td><td>0</td><td>Not Applicable</td><td>null</td><td>null</td><td>null</td><td>null</td><td>null</td><td>null</td><td>null</td><td>null</td><td>null</td><td>null</td><td>null</td><td>2008</td><td>2</td><td>1</td><td>15</td><td>null</td><td>null</td><td>12706</td><td>1</td><td>12705</td><td>0</td><td>-1</td><td>-1</td><td>12703</td><td>14</td><td>-1</td><td>0</td><td>1</td><td>null</td><td>0</td><td>null</td><td>18</td><td>false</td></tr></tbody></table></div>"
      ]
     },
     "metadata": {
      "application/vnd.databricks.v1+output": {
       "addedWidgets": {},
       "aggData": [],
       "aggError": "",
       "aggOverflow": false,
       "aggSchema": [],
       "aggSeriesLimitReached": false,
       "aggType": "",
       "arguments": {},
       "columnCustomDisplayInfos": {},
       "data": [
        [
         335987,
         1,
         1,
         1,
         "1",
         "2",
         1,
         "legbyes",
         0,
         1,
         0,
         1,
         0,
         0,
         0,
         0,
         "Not Applicable",
         null,
         null,
         null,
         null,
         null,
         null,
         null,
         null,
         null,
         null,
         null,
         2008,
         1,
         2,
         14,
         null,
         null,
         12705,
         0,
         12706,
         1,
         -1,
         -1,
         12702,
         13,
         -1,
         0,
         1,
         null,
         0,
         null,
         0,
         false
        ],
        [
         335987,
         1,
         2,
         1,
         "1",
         "2",
         2,
         "No Extras",
         0,
         0,
         0,
         0,
         0,
         0,
         0,
         0,
         "Not Applicable",
         null,
         null,
         null,
         null,
         null,
         null,
         null,
         null,
         null,
         null,
         null,
         2008,
         2,
         1,
         14,
         null,
         null,
         12706,
         1,
         12705,
         0,
         -1,
         -1,
         12702,
         13,
         -1,
         0,
         1,
         null,
         0,
         null,
         0,
         false
        ],
        [
         335987,
         1,
         3,
         1,
         "1",
         "2",
         2,
         "wides",
         0,
         1,
         1,
         0,
         0,
         0,
         0,
         1,
         "Not Applicable",
         null,
         null,
         null,
         null,
         null,
         null,
         null,
         null,
         null,
         null,
         null,
         2008,
         2,
         1,
         14,
         null,
         null,
         12706,
         1,
         12705,
         0,
         -1,
         -1,
         12702,
         13,
         -1,
         0,
         1,
         null,
         0,
         null,
         0,
         false
        ],
        [
         335987,
         1,
         4,
         1,
         "1",
         "2",
         2,
         "No Extras",
         0,
         0,
         0,
         0,
         0,
         0,
         0,
         0,
         "Not Applicable",
         null,
         null,
         null,
         null,
         null,
         null,
         null,
         null,
         null,
         null,
         null,
         2008,
         2,
         1,
         14,
         null,
         null,
         12706,
         1,
         12705,
         0,
         -1,
         -1,
         12702,
         13,
         -1,
         0,
         1,
         null,
         0,
         null,
         0,
         false
        ],
        [
         335987,
         1,
         5,
         1,
         "1",
         "2",
         2,
         "No Extras",
         0,
         0,
         0,
         0,
         0,
         0,
         0,
         0,
         "Not Applicable",
         null,
         null,
         null,
         null,
         null,
         null,
         null,
         null,
         null,
         null,
         null,
         2008,
         2,
         1,
         14,
         null,
         null,
         12706,
         1,
         12705,
         0,
         -1,
         -1,
         12702,
         13,
         -1,
         0,
         1,
         null,
         0,
         null,
         0,
         false
        ],
        [
         335987,
         1,
         6,
         1,
         "1",
         "2",
         2,
         "No Extras",
         0,
         0,
         0,
         0,
         0,
         0,
         0,
         0,
         "Not Applicable",
         null,
         null,
         null,
         null,
         null,
         null,
         null,
         null,
         null,
         null,
         null,
         2008,
         2,
         1,
         14,
         null,
         null,
         12706,
         1,
         12705,
         0,
         -1,
         -1,
         12702,
         13,
         -1,
         0,
         1,
         null,
         0,
         null,
         0,
         false
        ],
        [
         335987,
         1,
         7,
         1,
         "1",
         "2",
         2,
         "legbyes",
         0,
         1,
         0,
         1,
         0,
         0,
         0,
         0,
         "Not Applicable",
         null,
         null,
         null,
         null,
         null,
         null,
         null,
         null,
         null,
         null,
         null,
         2008,
         2,
         1,
         14,
         null,
         null,
         12706,
         1,
         12705,
         0,
         -1,
         -1,
         12702,
         13,
         -1,
         0,
         1,
         null,
         0,
         null,
         0,
         false
        ],
        [
         335987,
         2,
         1,
         1,
         "1",
         "2",
         2,
         "No Extras",
         0,
         0,
         0,
         0,
         0,
         0,
         0,
         0,
         "Not Applicable",
         null,
         null,
         null,
         null,
         null,
         null,
         null,
         null,
         null,
         null,
         null,
         2008,
         2,
         1,
         15,
         null,
         null,
         12706,
         1,
         12705,
         0,
         -1,
         -1,
         12703,
         14,
         -1,
         0,
         1,
         null,
         0,
         null,
         18,
         false
        ],
        [
         335987,
         2,
         2,
         1,
         "1",
         "2",
         2,
         "No Extras",
         4,
         0,
         0,
         0,
         0,
         0,
         0,
         0,
         "Not Applicable",
         null,
         null,
         null,
         null,
         null,
         null,
         null,
         null,
         null,
         null,
         null,
         2008,
         2,
         1,
         15,
         null,
         null,
         12706,
         1,
         12705,
         0,
         -1,
         -1,
         12703,
         14,
         -1,
         0,
         1,
         null,
         0,
         null,
         18,
         false
        ],
        [
         335987,
         2,
         3,
         1,
         "1",
         "2",
         2,
         "No Extras",
         4,
         0,
         0,
         0,
         0,
         0,
         0,
         0,
         "Not Applicable",
         null,
         null,
         null,
         null,
         null,
         null,
         null,
         null,
         null,
         null,
         null,
         2008,
         2,
         1,
         15,
         null,
         null,
         12706,
         1,
         12705,
         0,
         -1,
         -1,
         12703,
         14,
         -1,
         0,
         1,
         null,
         0,
         null,
         18,
         false
        ]
       ],
       "datasetInfos": [],
       "dbfsResultPath": null,
       "isJsonSchema": true,
       "metadata": {
        "isDbfsCommandResult": false
       },
       "overflow": false,
       "plotOptions": {
        "customPlotOptions": {},
        "displayType": "table",
        "pivotAggregation": null,
        "pivotColumns": null,
        "xColumns": null,
        "yColumns": null
       },
       "removedWidgets": [],
       "schema": [
        {
         "metadata": "{}",
         "name": "match_id",
         "type": "\"integer\""
        },
        {
         "metadata": "{}",
         "name": "over_id",
         "type": "\"integer\""
        },
        {
         "metadata": "{}",
         "name": "ball_id",
         "type": "\"integer\""
        },
        {
         "metadata": "{}",
         "name": "innings_no",
         "type": "\"integer\""
        },
        {
         "metadata": "{}",
         "name": "team_batting",
         "type": "\"string\""
        },
        {
         "metadata": "{}",
         "name": "team_bowling",
         "type": "\"string\""
        },
        {
         "metadata": "{}",
         "name": "striker_batting_position",
         "type": "\"integer\""
        },
        {
         "metadata": "{}",
         "name": "extra_type",
         "type": "\"string\""
        },
        {
         "metadata": "{}",
         "name": "runs_scored",
         "type": "\"integer\""
        },
        {
         "metadata": "{}",
         "name": "extra_runs",
         "type": "\"integer\""
        },
        {
         "metadata": "{}",
         "name": "wides",
         "type": "\"integer\""
        },
        {
         "metadata": "{}",
         "name": "legbyes",
         "type": "\"integer\""
        },
        {
         "metadata": "{}",
         "name": "byes",
         "type": "\"integer\""
        },
        {
         "metadata": "{}",
         "name": "noballs",
         "type": "\"integer\""
        },
        {
         "metadata": "{}",
         "name": "penalty",
         "type": "\"integer\""
        },
        {
         "metadata": "{}",
         "name": "bowler_extras",
         "type": "\"integer\""
        },
        {
         "metadata": "{}",
         "name": "out_type",
         "type": "\"string\""
        },
        {
         "metadata": "{}",
         "name": "caught",
         "type": "\"boolean\""
        },
        {
         "metadata": "{}",
         "name": "bowled",
         "type": "\"boolean\""
        },
        {
         "metadata": "{}",
         "name": "run_out",
         "type": "\"boolean\""
        },
        {
         "metadata": "{}",
         "name": "lbw",
         "type": "\"boolean\""
        },
        {
         "metadata": "{}",
         "name": "retired_hurt",
         "type": "\"boolean\""
        },
        {
         "metadata": "{}",
         "name": "stumped",
         "type": "\"boolean\""
        },
        {
         "metadata": "{}",
         "name": "caught_and_bowled",
         "type": "\"boolean\""
        },
        {
         "metadata": "{}",
         "name": "hit_wicket",
         "type": "\"boolean\""
        },
        {
         "metadata": "{}",
         "name": "obstructingfeild",
         "type": "\"boolean\""
        },
        {
         "metadata": "{}",
         "name": "bowler_wicket",
         "type": "\"boolean\""
        },
        {
         "metadata": "{}",
         "name": "match_date",
         "type": "\"date\""
        },
        {
         "metadata": "{}",
         "name": "season",
         "type": "\"integer\""
        },
        {
         "metadata": "{}",
         "name": "striker",
         "type": "\"integer\""
        },
        {
         "metadata": "{}",
         "name": "non_striker",
         "type": "\"integer\""
        },
        {
         "metadata": "{}",
         "name": "bowler",
         "type": "\"integer\""
        },
        {
         "metadata": "{}",
         "name": "player_out",
         "type": "\"integer\""
        },
        {
         "metadata": "{}",
         "name": "fielders",
         "type": "\"integer\""
        },
        {
         "metadata": "{}",
         "name": "striker_match_sk",
         "type": "\"integer\""
        },
        {
         "metadata": "{}",
         "name": "strikersk",
         "type": "\"integer\""
        },
        {
         "metadata": "{}",
         "name": "nonstriker_match_sk",
         "type": "\"integer\""
        },
        {
         "metadata": "{}",
         "name": "nonstriker_sk",
         "type": "\"integer\""
        },
        {
         "metadata": "{}",
         "name": "fielder_match_sk",
         "type": "\"integer\""
        },
        {
         "metadata": "{}",
         "name": "fielder_sk",
         "type": "\"integer\""
        },
        {
         "metadata": "{}",
         "name": "bowler_match_sk",
         "type": "\"integer\""
        },
        {
         "metadata": "{}",
         "name": "bowler_sk",
         "type": "\"integer\""
        },
        {
         "metadata": "{}",
         "name": "playerout_match_sk",
         "type": "\"integer\""
        },
        {
         "metadata": "{}",
         "name": "battingteam_sk",
         "type": "\"integer\""
        },
        {
         "metadata": "{}",
         "name": "bowlingteam_sk",
         "type": "\"integer\""
        },
        {
         "metadata": "{}",
         "name": "keeper_catch",
         "type": "\"boolean\""
        },
        {
         "metadata": "{}",
         "name": "player_out_sk",
         "type": "\"integer\""
        },
        {
         "metadata": "{}",
         "name": "matchdatesk",
         "type": "\"date\""
        },
        {
         "metadata": "{}",
         "name": "running_total_runs",
         "type": "\"long\""
        },
        {
         "metadata": "{}",
         "name": "high_impact",
         "type": "\"boolean\""
        }
       ],
       "type": "table"
      }
     },
     "output_type": "display_data"
    }
   ],
   "source": [
    "%sql\n",
    "/*** Access ball by ball view **/\n",
    "SELECT * FROM global_temp.ball_by_ball LIMIT 10;"
   ]
  },
  {
   "cell_type": "code",
   "execution_count": 0,
   "metadata": {
    "application/vnd.databricks.v1+cell": {
     "cellMetadata": {
      "byteLimit": 2048000,
      "rowLimit": 10000
     },
     "inputWidgets": {},
     "nuid": "276f21a2-5586-46fe-a9a9-7d07318bd5b7",
     "showTitle": false,
     "title": ""
    }
   },
   "outputs": [
    {
     "output_type": "display_data",
     "data": {
      "text/html": [
       "<style scoped>\n",
       "  .table-result-container {\n",
       "    max-height: 300px;\n",
       "    overflow: auto;\n",
       "  }\n",
       "  table, th, td {\n",
       "    border: 1px solid black;\n",
       "    border-collapse: collapse;\n",
       "  }\n",
       "  th, td {\n",
       "    padding: 5px;\n",
       "  }\n",
       "  th {\n",
       "    text-align: left;\n",
       "  }\n",
       "</style><div class='table-result-container'><table class='table-result'><thead style='background-color: white'><tr><th>match_sk</th><th>match_id</th><th>team1</th><th>team2</th><th>match_date</th><th>season_year</th><th>venue_name</th><th>city_name</th><th>country_name</th><th>toss_winner</th><th>match_winner</th><th>toss_name</th><th>win_type</th><th>outcome_type</th><th>manofmach</th><th>win_margin</th><th>country_id</th><th>year</th><th>month</th><th>day</th><th>win_margin_category</th><th>toss_match_winner</th></tr></thead><tbody><tr><td>0</td><td>335987</td><td>Royal Challengers Bangalore</td><td>Kolkata Knight Riders</td><td>null</td><td>2008</td><td>M Chinnaswamy Stadium</td><td>Bangalore</td><td>India</td><td>Royal Challengers Bangalore</td><td>Kolkata Knight Riders</td><td>field</td><td>runs</td><td>Result</td><td>BB McCullum</td><td>140</td><td>1</td><td>null</td><td>null</td><td>null</td><td>High</td><td>No</td></tr><tr><td>1</td><td>335988</td><td>Kings XI Punjab</td><td>Chennai Super Kings</td><td>null</td><td>2008</td><td>Punjab Cricket Association Stadium, Mohali</td><td>Chandigarh</td><td>India</td><td>Chennai Super Kings</td><td>Chennai Super Kings</td><td>bat</td><td>runs</td><td>Result</td><td>MEK Hussey</td><td>33</td><td>1</td><td>null</td><td>null</td><td>null</td><td>Low</td><td>Yes</td></tr><tr><td>2</td><td>335989</td><td>Delhi Daredevils</td><td>Rajasthan Royals</td><td>null</td><td>2008</td><td>Feroz Shah Kotla</td><td>Delhi</td><td>India</td><td>Rajasthan Royals</td><td>Delhi Daredevils</td><td>bat</td><td>wickets</td><td>Result</td><td>MF Maharoof</td><td>9</td><td>1</td><td>null</td><td>null</td><td>null</td><td>Low</td><td>No</td></tr><tr><td>3</td><td>335990</td><td>Mumbai Indians</td><td>Royal Challengers Bangalore</td><td>null</td><td>2008</td><td>Wankhede Stadium</td><td>Mumbai</td><td>India</td><td>Mumbai Indians</td><td>Royal Challengers Bangalore</td><td>bat</td><td>wickets</td><td>Result</td><td>MV Boucher</td><td>5</td><td>1</td><td>null</td><td>null</td><td>null</td><td>Low</td><td>No</td></tr><tr><td>4</td><td>335991</td><td>Kolkata Knight Riders</td><td>Deccan Chargers</td><td>null</td><td>2008</td><td>Eden Gardens</td><td>Kolkata</td><td>India</td><td>Deccan Chargers</td><td>Kolkata Knight Riders</td><td>bat</td><td>wickets</td><td>Result</td><td>DJ Hussey</td><td>5</td><td>1</td><td>null</td><td>null</td><td>null</td><td>Low</td><td>No</td></tr><tr><td>5</td><td>335992</td><td>Rajasthan Royals</td><td>Kings XI Punjab</td><td>null</td><td>2008</td><td>Sawai Mansingh Stadium</td><td>Jaipur</td><td>India</td><td>Kings XI Punjab</td><td>Rajasthan Royals</td><td>bat</td><td>wickets</td><td>Result</td><td>SR Watson</td><td>6</td><td>1</td><td>null</td><td>null</td><td>null</td><td>Low</td><td>No</td></tr><tr><td>6</td><td>335993</td><td>Deccan Chargers</td><td>Delhi Daredevils</td><td>null</td><td>2008</td><td>Rajiv Gandhi International Stadium, Uppal</td><td>Hyderabad</td><td>India</td><td>Deccan Chargers</td><td>Delhi Daredevils</td><td>bat</td><td>wickets</td><td>Result</td><td>V Sehwag</td><td>9</td><td>1</td><td>null</td><td>null</td><td>null</td><td>Low</td><td>No</td></tr><tr><td>7</td><td>335994</td><td>Chennai Super Kings</td><td>Mumbai Indians</td><td>null</td><td>2008</td><td>MA Chidambaram Stadium, Chepauk</td><td>Chennai</td><td>India</td><td>Mumbai Indians</td><td>Chennai Super Kings</td><td>field</td><td>runs</td><td>Result</td><td>ML Hayden</td><td>6</td><td>1</td><td>null</td><td>null</td><td>null</td><td>Low</td><td>No</td></tr><tr><td>8</td><td>335995</td><td>Deccan Chargers</td><td>Rajasthan Royals</td><td>null</td><td>2008</td><td>Rajiv Gandhi International Stadium, Uppal</td><td>Hyderabad</td><td>India</td><td>Rajasthan Royals</td><td>Rajasthan Royals</td><td>field</td><td>wickets</td><td>Result</td><td>YK Pathan</td><td>3</td><td>1</td><td>null</td><td>null</td><td>null</td><td>Low</td><td>Yes</td></tr><tr><td>9</td><td>335996</td><td>Kings XI Punjab</td><td>Mumbai Indians</td><td>null</td><td>2008</td><td>Punjab Cricket Association Stadium, Mohali</td><td>Chandigarh</td><td>India</td><td>Mumbai Indians</td><td>Kings XI Punjab</td><td>field</td><td>runs</td><td>Result</td><td>KC Sangakkara</td><td>66</td><td>1</td><td>null</td><td>null</td><td>null</td><td>Medium</td><td>No</td></tr></tbody></table></div>"
      ]
     },
     "metadata": {
      "application/vnd.databricks.v1+output": {
       "addedWidgets": {},
       "aggData": [],
       "aggError": "",
       "aggOverflow": false,
       "aggSchema": [],
       "aggSeriesLimitReached": false,
       "aggType": "",
       "arguments": {},
       "columnCustomDisplayInfos": {},
       "data": [
        [
         0,
         335987,
         "Royal Challengers Bangalore",
         "Kolkata Knight Riders",
         null,
         2008,
         "M Chinnaswamy Stadium",
         "Bangalore",
         "India",
         "Royal Challengers Bangalore",
         "Kolkata Knight Riders",
         "field",
         "runs",
         "Result",
         "BB McCullum",
         140,
         1,
         null,
         null,
         null,
         "High",
         "No"
        ],
        [
         1,
         335988,
         "Kings XI Punjab",
         "Chennai Super Kings",
         null,
         2008,
         "Punjab Cricket Association Stadium, Mohali",
         "Chandigarh",
         "India",
         "Chennai Super Kings",
         "Chennai Super Kings",
         "bat",
         "runs",
         "Result",
         "MEK Hussey",
         33,
         1,
         null,
         null,
         null,
         "Low",
         "Yes"
        ],
        [
         2,
         335989,
         "Delhi Daredevils",
         "Rajasthan Royals",
         null,
         2008,
         "Feroz Shah Kotla",
         "Delhi",
         "India",
         "Rajasthan Royals",
         "Delhi Daredevils",
         "bat",
         "wickets",
         "Result",
         "MF Maharoof",
         9,
         1,
         null,
         null,
         null,
         "Low",
         "No"
        ],
        [
         3,
         335990,
         "Mumbai Indians",
         "Royal Challengers Bangalore",
         null,
         2008,
         "Wankhede Stadium",
         "Mumbai",
         "India",
         "Mumbai Indians",
         "Royal Challengers Bangalore",
         "bat",
         "wickets",
         "Result",
         "MV Boucher",
         5,
         1,
         null,
         null,
         null,
         "Low",
         "No"
        ],
        [
         4,
         335991,
         "Kolkata Knight Riders",
         "Deccan Chargers",
         null,
         2008,
         "Eden Gardens",
         "Kolkata",
         "India",
         "Deccan Chargers",
         "Kolkata Knight Riders",
         "bat",
         "wickets",
         "Result",
         "DJ Hussey",
         5,
         1,
         null,
         null,
         null,
         "Low",
         "No"
        ],
        [
         5,
         335992,
         "Rajasthan Royals",
         "Kings XI Punjab",
         null,
         2008,
         "Sawai Mansingh Stadium",
         "Jaipur",
         "India",
         "Kings XI Punjab",
         "Rajasthan Royals",
         "bat",
         "wickets",
         "Result",
         "SR Watson",
         6,
         1,
         null,
         null,
         null,
         "Low",
         "No"
        ],
        [
         6,
         335993,
         "Deccan Chargers",
         "Delhi Daredevils",
         null,
         2008,
         "Rajiv Gandhi International Stadium, Uppal",
         "Hyderabad",
         "India",
         "Deccan Chargers",
         "Delhi Daredevils",
         "bat",
         "wickets",
         "Result",
         "V Sehwag",
         9,
         1,
         null,
         null,
         null,
         "Low",
         "No"
        ],
        [
         7,
         335994,
         "Chennai Super Kings",
         "Mumbai Indians",
         null,
         2008,
         "MA Chidambaram Stadium, Chepauk",
         "Chennai",
         "India",
         "Mumbai Indians",
         "Chennai Super Kings",
         "field",
         "runs",
         "Result",
         "ML Hayden",
         6,
         1,
         null,
         null,
         null,
         "Low",
         "No"
        ],
        [
         8,
         335995,
         "Deccan Chargers",
         "Rajasthan Royals",
         null,
         2008,
         "Rajiv Gandhi International Stadium, Uppal",
         "Hyderabad",
         "India",
         "Rajasthan Royals",
         "Rajasthan Royals",
         "field",
         "wickets",
         "Result",
         "YK Pathan",
         3,
         1,
         null,
         null,
         null,
         "Low",
         "Yes"
        ],
        [
         9,
         335996,
         "Kings XI Punjab",
         "Mumbai Indians",
         null,
         2008,
         "Punjab Cricket Association Stadium, Mohali",
         "Chandigarh",
         "India",
         "Mumbai Indians",
         "Kings XI Punjab",
         "field",
         "runs",
         "Result",
         "KC Sangakkara",
         66,
         1,
         null,
         null,
         null,
         "Medium",
         "No"
        ]
       ],
       "datasetInfos": [],
       "dbfsResultPath": null,
       "isJsonSchema": true,
       "metadata": {
        "isDbfsCommandResult": false
       },
       "overflow": false,
       "plotOptions": {
        "customPlotOptions": {},
        "displayType": "table",
        "pivotAggregation": null,
        "pivotColumns": null,
        "xColumns": null,
        "yColumns": null
       },
       "removedWidgets": [],
       "schema": [
        {
         "metadata": "{}",
         "name": "match_sk",
         "type": "\"integer\""
        },
        {
         "metadata": "{}",
         "name": "match_id",
         "type": "\"integer\""
        },
        {
         "metadata": "{}",
         "name": "team1",
         "type": "\"string\""
        },
        {
         "metadata": "{}",
         "name": "team2",
         "type": "\"string\""
        },
        {
         "metadata": "{}",
         "name": "match_date",
         "type": "\"date\""
        },
        {
         "metadata": "{}",
         "name": "season_year",
         "type": "\"integer\""
        },
        {
         "metadata": "{}",
         "name": "venue_name",
         "type": "\"string\""
        },
        {
         "metadata": "{}",
         "name": "city_name",
         "type": "\"string\""
        },
        {
         "metadata": "{}",
         "name": "country_name",
         "type": "\"string\""
        },
        {
         "metadata": "{}",
         "name": "toss_winner",
         "type": "\"string\""
        },
        {
         "metadata": "{}",
         "name": "match_winner",
         "type": "\"string\""
        },
        {
         "metadata": "{}",
         "name": "toss_name",
         "type": "\"string\""
        },
        {
         "metadata": "{}",
         "name": "win_type",
         "type": "\"string\""
        },
        {
         "metadata": "{}",
         "name": "outcome_type",
         "type": "\"string\""
        },
        {
         "metadata": "{}",
         "name": "manofmach",
         "type": "\"string\""
        },
        {
         "metadata": "{}",
         "name": "win_margin",
         "type": "\"integer\""
        },
        {
         "metadata": "{}",
         "name": "country_id",
         "type": "\"integer\""
        },
        {
         "metadata": "{}",
         "name": "year",
         "type": "\"integer\""
        },
        {
         "metadata": "{}",
         "name": "month",
         "type": "\"integer\""
        },
        {
         "metadata": "{}",
         "name": "day",
         "type": "\"integer\""
        },
        {
         "metadata": "{}",
         "name": "win_margin_category",
         "type": "\"string\""
        },
        {
         "metadata": "{}",
         "name": "toss_match_winner",
         "type": "\"string\""
        }
       ],
       "type": "table"
      }
     },
     "output_type": "display_data"
    }
   ],
   "source": [
    "%sql\n",
    "/*** Access match view **/\n",
    "SELECT * FROM global_temp.match LIMIT 10;"
   ]
  },
  {
   "cell_type": "code",
   "execution_count": 0,
   "metadata": {
    "application/vnd.databricks.v1+cell": {
     "cellMetadata": {
      "byteLimit": 2048000,
      "rowLimit": 10000
     },
     "inputWidgets": {},
     "nuid": "2ba3e1f0-d606-4af9-974e-3372e8a4b7b9",
     "showTitle": false,
     "title": ""
    }
   },
   "outputs": [
    {
     "output_type": "display_data",
     "data": {
      "text/html": [
       "<style scoped>\n",
       "  .table-result-container {\n",
       "    max-height: 300px;\n",
       "    overflow: auto;\n",
       "  }\n",
       "  table, th, td {\n",
       "    border: 1px solid black;\n",
       "    border-collapse: collapse;\n",
       "  }\n",
       "  th, td {\n",
       "    padding: 5px;\n",
       "  }\n",
       "  th {\n",
       "    text-align: left;\n",
       "  }\n",
       "</style><div class='table-result-container'><table class='table-result'><thead style='background-color: white'><tr><th>player_sk</th><th>player_id</th><th>player_name</th><th>dob</th><th>batting_hand</th><th>bowling_skill</th><th>country_name</th><th>batting_style</th></tr></thead><tbody><tr><td>0</td><td>1</td><td>sc ganguly</td><td>null</td><td>Left-hand bat</td><td>Right-arm medium</td><td>India</td><td>Right-Handed</td></tr><tr><td>1</td><td>2</td><td>bb mccullum</td><td>null</td><td>Right-hand bat</td><td>Right-arm medium</td><td>New Zealand</td><td>Right-Handed</td></tr><tr><td>2</td><td>3</td><td>rt ponting</td><td>null</td><td>Right-hand bat</td><td>Right-arm medium</td><td>Australia</td><td>Right-Handed</td></tr><tr><td>3</td><td>4</td><td>dj hussey</td><td>null</td><td>Right-hand bat</td><td>Right-arm offbreak</td><td>Australia</td><td>Right-Handed</td></tr><tr><td>4</td><td>5</td><td>mohammad hafeez</td><td>null</td><td>Right-hand bat</td><td>Right-arm offbreak</td><td>Pakistan</td><td>Right-Handed</td></tr><tr><td>5</td><td>6</td><td>r dravid</td><td>null</td><td>Right-hand bat</td><td>Right-arm offbreak</td><td>India</td><td>Right-Handed</td></tr><tr><td>6</td><td>7</td><td>w jaffer</td><td>null</td><td>Right-hand bat</td><td>Right-arm offbreak</td><td>India</td><td>Right-Handed</td></tr><tr><td>7</td><td>8</td><td>v kohli</td><td>null</td><td>Right-hand bat</td><td>Right-arm medium</td><td>India</td><td>Right-Handed</td></tr><tr><td>8</td><td>9</td><td>jh kallis</td><td>null</td><td>Right-hand bat</td><td>Right-arm fast-medium</td><td>South Africa</td><td>Right-Handed</td></tr><tr><td>9</td><td>10</td><td>cl white</td><td>null</td><td>Right-hand bat</td><td>Legbreak googly</td><td>Australia</td><td>Right-Handed</td></tr></tbody></table></div>"
      ]
     },
     "metadata": {
      "application/vnd.databricks.v1+output": {
       "addedWidgets": {},
       "aggData": [],
       "aggError": "",
       "aggOverflow": false,
       "aggSchema": [],
       "aggSeriesLimitReached": false,
       "aggType": "",
       "arguments": {},
       "columnCustomDisplayInfos": {},
       "data": [
        [
         0,
         1,
         "sc ganguly",
         null,
         "Left-hand bat",
         "Right-arm medium",
         "India",
         "Right-Handed"
        ],
        [
         1,
         2,
         "bb mccullum",
         null,
         "Right-hand bat",
         "Right-arm medium",
         "New Zealand",
         "Right-Handed"
        ],
        [
         2,
         3,
         "rt ponting",
         null,
         "Right-hand bat",
         "Right-arm medium",
         "Australia",
         "Right-Handed"
        ],
        [
         3,
         4,
         "dj hussey",
         null,
         "Right-hand bat",
         "Right-arm offbreak",
         "Australia",
         "Right-Handed"
        ],
        [
         4,
         5,
         "mohammad hafeez",
         null,
         "Right-hand bat",
         "Right-arm offbreak",
         "Pakistan",
         "Right-Handed"
        ],
        [
         5,
         6,
         "r dravid",
         null,
         "Right-hand bat",
         "Right-arm offbreak",
         "India",
         "Right-Handed"
        ],
        [
         6,
         7,
         "w jaffer",
         null,
         "Right-hand bat",
         "Right-arm offbreak",
         "India",
         "Right-Handed"
        ],
        [
         7,
         8,
         "v kohli",
         null,
         "Right-hand bat",
         "Right-arm medium",
         "India",
         "Right-Handed"
        ],
        [
         8,
         9,
         "jh kallis",
         null,
         "Right-hand bat",
         "Right-arm fast-medium",
         "South Africa",
         "Right-Handed"
        ],
        [
         9,
         10,
         "cl white",
         null,
         "Right-hand bat",
         "Legbreak googly",
         "Australia",
         "Right-Handed"
        ]
       ],
       "datasetInfos": [],
       "dbfsResultPath": null,
       "isJsonSchema": true,
       "metadata": {
        "isDbfsCommandResult": false
       },
       "overflow": false,
       "plotOptions": {
        "customPlotOptions": {},
        "displayType": "table",
        "pivotAggregation": null,
        "pivotColumns": null,
        "xColumns": null,
        "yColumns": null
       },
       "removedWidgets": [],
       "schema": [
        {
         "metadata": "{}",
         "name": "player_sk",
         "type": "\"integer\""
        },
        {
         "metadata": "{}",
         "name": "player_id",
         "type": "\"integer\""
        },
        {
         "metadata": "{}",
         "name": "player_name",
         "type": "\"string\""
        },
        {
         "metadata": "{}",
         "name": "dob",
         "type": "\"date\""
        },
        {
         "metadata": "{}",
         "name": "batting_hand",
         "type": "\"string\""
        },
        {
         "metadata": "{}",
         "name": "bowling_skill",
         "type": "\"string\""
        },
        {
         "metadata": "{}",
         "name": "country_name",
         "type": "\"string\""
        },
        {
         "metadata": "{}",
         "name": "batting_style",
         "type": "\"string\""
        }
       ],
       "type": "table"
      }
     },
     "output_type": "display_data"
    }
   ],
   "source": [
    "%sql\n",
    "/*** Access player view **/\n",
    "SELECT * FROM global_temp.player LIMIT 10;"
   ]
  },
  {
   "cell_type": "code",
   "execution_count": 0,
   "metadata": {
    "application/vnd.databricks.v1+cell": {
     "cellMetadata": {
      "byteLimit": 2048000,
      "rowLimit": 10000
     },
     "inputWidgets": {},
     "nuid": "d3bb4f5e-84be-4a31-9e12-2f96876b104d",
     "showTitle": false,
     "title": ""
    }
   },
   "outputs": [
    {
     "output_type": "display_data",
     "data": {
      "text/html": [
       "<style scoped>\n",
       "  .table-result-container {\n",
       "    max-height: 300px;\n",
       "    overflow: auto;\n",
       "  }\n",
       "  table, th, td {\n",
       "    border: 1px solid black;\n",
       "    border-collapse: collapse;\n",
       "  }\n",
       "  th, td {\n",
       "    padding: 5px;\n",
       "  }\n",
       "  th {\n",
       "    text-align: left;\n",
       "  }\n",
       "</style><div class='table-result-container'><table class='table-result'><thead style='background-color: white'><tr><th>player_match_sk</th><th>playermatch_key</th><th>match_id</th><th>player_id</th><th>player_name</th><th>dob</th><th>batting_hand</th><th>bowling_skill</th><th>country_name</th><th>role_desc</th><th>player_team</th><th>opposit_team</th><th>season_year</th><th>is_manofthematch</th><th>age_as_on_match</th><th>isplayers_team_won</th><th>batting_status</th><th>bowling_status</th><th>player_captain</th><th>opposit_captain</th><th>player_keeper</th><th>opposit_keeper</th><th>veteran_status</th><th>years_since_debut</th></tr></thead><tbody><tr><td>-1</td><td>-1</td><td>-1</td><td>-1</td><td>N/A</td><td>null</td><td>null</td><td>null</td><td>null</td><td>null</td><td>null</td><td>null</td><td>null</td><td>null</td><td>null</td><td>null</td><td>null</td><td>null</td><td>null</td><td>null</td><td>null</td><td>null</td><td>Non-Veteran</td><td>null</td></tr><tr><td>12694</td><td>null</td><td>335987</td><td>6</td><td>R Dravid</td><td>null</td><td>Right-hand bat</td><td>Right-arm offbreak</td><td>India</td><td>Captain</td><td>Royal Challengers Bangalore</td><td>Kolkata Knight Riders</td><td>2008</td><td>null</td><td>35</td><td>null</td><td>null</td><td>null</td><td>R Dravid</td><td>SC Ganguly</td><td>MV Boucher</td><td>WP Saha</td><td>Veteran</td><td>16</td></tr><tr><td>12695</td><td>null</td><td>335987</td><td>7</td><td>W Jaffer</td><td>null</td><td>Right-hand bat</td><td>Right-arm offbreak</td><td>India</td><td>Player</td><td>Royal Challengers Bangalore</td><td>Kolkata Knight Riders</td><td>2008</td><td>null</td><td>30</td><td>null</td><td>null</td><td>null</td><td>R Dravid</td><td>SC Ganguly</td><td>MV Boucher</td><td>WP Saha</td><td>Non-Veteran</td><td>16</td></tr><tr><td>12696</td><td>null</td><td>335987</td><td>8</td><td>V Kohli</td><td>null</td><td>Right-hand bat</td><td>Right-arm medium</td><td>India</td><td>Player</td><td>Royal Challengers Bangalore</td><td>Kolkata Knight Riders</td><td>2008</td><td>null</td><td>20</td><td>null</td><td>null</td><td>null</td><td>R Dravid</td><td>SC Ganguly</td><td>MV Boucher</td><td>WP Saha</td><td>Non-Veteran</td><td>16</td></tr><tr><td>12697</td><td>null</td><td>335987</td><td>9</td><td>JH Kallis</td><td>null</td><td>Right-hand bat</td><td>Right-arm fast-medium</td><td>South Africa</td><td>Player</td><td>Royal Challengers Bangalore</td><td>Kolkata Knight Riders</td><td>2008</td><td>null</td><td>33</td><td>null</td><td>null</td><td>null</td><td>R Dravid</td><td>SC Ganguly</td><td>MV Boucher</td><td>WP Saha</td><td>Non-Veteran</td><td>16</td></tr><tr><td>12698</td><td>null</td><td>335987</td><td>10</td><td>CL White</td><td>null</td><td>Right-hand bat</td><td>Legbreak googly</td><td>Australia</td><td>Player</td><td>Royal Challengers Bangalore</td><td>Kolkata Knight Riders</td><td>2008</td><td>null</td><td>25</td><td>null</td><td>null</td><td>null</td><td>R Dravid</td><td>SC Ganguly</td><td>MV Boucher</td><td>WP Saha</td><td>Non-Veteran</td><td>16</td></tr><tr><td>12699</td><td>null</td><td>335987</td><td>11</td><td>MV Boucher</td><td>null</td><td>Right-hand bat</td><td>Right-arm medium</td><td>South Africa</td><td>Keeper</td><td>Royal Challengers Bangalore</td><td>Kolkata Knight Riders</td><td>2008</td><td>null</td><td>32</td><td>null</td><td>null</td><td>null</td><td>R Dravid</td><td>SC Ganguly</td><td>MV Boucher</td><td>WP Saha</td><td>Non-Veteran</td><td>16</td></tr><tr><td>12700</td><td>null</td><td>335987</td><td>12</td><td>B Akhil</td><td>null</td><td>Right-hand bat</td><td>Right-arm medium-fast</td><td>India</td><td>Player</td><td>Royal Challengers Bangalore</td><td>Kolkata Knight Riders</td><td>2008</td><td>null</td><td>31</td><td>null</td><td>null</td><td>null</td><td>R Dravid</td><td>SC Ganguly</td><td>MV Boucher</td><td>WP Saha</td><td>Non-Veteran</td><td>16</td></tr><tr><td>12701</td><td>null</td><td>335987</td><td>13</td><td>AA Noffke</td><td>null</td><td>Right-hand bat</td><td>Right-arm fast-medium</td><td>Australia</td><td>Player</td><td>Royal Challengers Bangalore</td><td>Kolkata Knight Riders</td><td>2008</td><td>null</td><td>31</td><td>null</td><td>null</td><td>null</td><td>R Dravid</td><td>SC Ganguly</td><td>MV Boucher</td><td>WP Saha</td><td>Non-Veteran</td><td>16</td></tr><tr><td>12702</td><td>null</td><td>335987</td><td>14</td><td>P Kumar</td><td>null</td><td>Right-hand bat</td><td>Right-arm medium</td><td>India</td><td>Player</td><td>Royal Challengers Bangalore</td><td>Kolkata Knight Riders</td><td>2008</td><td>null</td><td>22</td><td>null</td><td>null</td><td>null</td><td>R Dravid</td><td>SC Ganguly</td><td>MV Boucher</td><td>WP Saha</td><td>Non-Veteran</td><td>16</td></tr></tbody></table></div>"
      ]
     },
     "metadata": {
      "application/vnd.databricks.v1+output": {
       "addedWidgets": {},
       "aggData": [],
       "aggError": "",
       "aggOverflow": false,
       "aggSchema": [],
       "aggSeriesLimitReached": false,
       "aggType": "",
       "arguments": {},
       "columnCustomDisplayInfos": {},
       "data": [
        [
         -1,
         "-1",
         -1,
         -1,
         "N/A",
         null,
         null,
         null,
         null,
         null,
         null,
         null,
         null,
         null,
         null,
         null,
         null,
         null,
         null,
         null,
         null,
         null,
         "Non-Veteran",
         null
        ],
        [
         12694,
         null,
         335987,
         6,
         "R Dravid",
         null,
         "Right-hand bat",
         "Right-arm offbreak",
         "India",
         "Captain",
         "Royal Challengers Bangalore",
         "Kolkata Knight Riders",
         2008,
         null,
         35,
         null,
         null,
         null,
         "R Dravid",
         "SC Ganguly",
         "MV Boucher",
         "WP Saha",
         "Veteran",
         16
        ],
        [
         12695,
         null,
         335987,
         7,
         "W Jaffer",
         null,
         "Right-hand bat",
         "Right-arm offbreak",
         "India",
         "Player",
         "Royal Challengers Bangalore",
         "Kolkata Knight Riders",
         2008,
         null,
         30,
         null,
         null,
         null,
         "R Dravid",
         "SC Ganguly",
         "MV Boucher",
         "WP Saha",
         "Non-Veteran",
         16
        ],
        [
         12696,
         null,
         335987,
         8,
         "V Kohli",
         null,
         "Right-hand bat",
         "Right-arm medium",
         "India",
         "Player",
         "Royal Challengers Bangalore",
         "Kolkata Knight Riders",
         2008,
         null,
         20,
         null,
         null,
         null,
         "R Dravid",
         "SC Ganguly",
         "MV Boucher",
         "WP Saha",
         "Non-Veteran",
         16
        ],
        [
         12697,
         null,
         335987,
         9,
         "JH Kallis",
         null,
         "Right-hand bat",
         "Right-arm fast-medium",
         "South Africa",
         "Player",
         "Royal Challengers Bangalore",
         "Kolkata Knight Riders",
         2008,
         null,
         33,
         null,
         null,
         null,
         "R Dravid",
         "SC Ganguly",
         "MV Boucher",
         "WP Saha",
         "Non-Veteran",
         16
        ],
        [
         12698,
         null,
         335987,
         10,
         "CL White",
         null,
         "Right-hand bat",
         "Legbreak googly",
         "Australia",
         "Player",
         "Royal Challengers Bangalore",
         "Kolkata Knight Riders",
         2008,
         null,
         25,
         null,
         null,
         null,
         "R Dravid",
         "SC Ganguly",
         "MV Boucher",
         "WP Saha",
         "Non-Veteran",
         16
        ],
        [
         12699,
         null,
         335987,
         11,
         "MV Boucher",
         null,
         "Right-hand bat",
         "Right-arm medium",
         "South Africa",
         "Keeper",
         "Royal Challengers Bangalore",
         "Kolkata Knight Riders",
         2008,
         null,
         32,
         null,
         null,
         null,
         "R Dravid",
         "SC Ganguly",
         "MV Boucher",
         "WP Saha",
         "Non-Veteran",
         16
        ],
        [
         12700,
         null,
         335987,
         12,
         "B Akhil",
         null,
         "Right-hand bat",
         "Right-arm medium-fast",
         "India",
         "Player",
         "Royal Challengers Bangalore",
         "Kolkata Knight Riders",
         2008,
         null,
         31,
         null,
         null,
         null,
         "R Dravid",
         "SC Ganguly",
         "MV Boucher",
         "WP Saha",
         "Non-Veteran",
         16
        ],
        [
         12701,
         null,
         335987,
         13,
         "AA Noffke",
         null,
         "Right-hand bat",
         "Right-arm fast-medium",
         "Australia",
         "Player",
         "Royal Challengers Bangalore",
         "Kolkata Knight Riders",
         2008,
         null,
         31,
         null,
         null,
         null,
         "R Dravid",
         "SC Ganguly",
         "MV Boucher",
         "WP Saha",
         "Non-Veteran",
         16
        ],
        [
         12702,
         null,
         335987,
         14,
         "P Kumar",
         null,
         "Right-hand bat",
         "Right-arm medium",
         "India",
         "Player",
         "Royal Challengers Bangalore",
         "Kolkata Knight Riders",
         2008,
         null,
         22,
         null,
         null,
         null,
         "R Dravid",
         "SC Ganguly",
         "MV Boucher",
         "WP Saha",
         "Non-Veteran",
         16
        ]
       ],
       "datasetInfos": [],
       "dbfsResultPath": null,
       "isJsonSchema": true,
       "metadata": {
        "isDbfsCommandResult": false
       },
       "overflow": false,
       "plotOptions": {
        "customPlotOptions": {},
        "displayType": "table",
        "pivotAggregation": null,
        "pivotColumns": null,
        "xColumns": null,
        "yColumns": null
       },
       "removedWidgets": [],
       "schema": [
        {
         "metadata": "{}",
         "name": "player_match_sk",
         "type": "\"integer\""
        },
        {
         "metadata": "{}",
         "name": "playermatch_key",
         "type": "\"decimal(10,0)\""
        },
        {
         "metadata": "{}",
         "name": "match_id",
         "type": "\"integer\""
        },
        {
         "metadata": "{}",
         "name": "player_id",
         "type": "\"integer\""
        },
        {
         "metadata": "{}",
         "name": "player_name",
         "type": "\"string\""
        },
        {
         "metadata": "{}",
         "name": "dob",
         "type": "\"date\""
        },
        {
         "metadata": "{}",
         "name": "batting_hand",
         "type": "\"string\""
        },
        {
         "metadata": "{}",
         "name": "bowling_skill",
         "type": "\"string\""
        },
        {
         "metadata": "{}",
         "name": "country_name",
         "type": "\"string\""
        },
        {
         "metadata": "{}",
         "name": "role_desc",
         "type": "\"string\""
        },
        {
         "metadata": "{}",
         "name": "player_team",
         "type": "\"string\""
        },
        {
         "metadata": "{}",
         "name": "opposit_team",
         "type": "\"string\""
        },
        {
         "metadata": "{}",
         "name": "season_year",
         "type": "\"integer\""
        },
        {
         "metadata": "{}",
         "name": "is_manofthematch",
         "type": "\"boolean\""
        },
        {
         "metadata": "{}",
         "name": "age_as_on_match",
         "type": "\"integer\""
        },
        {
         "metadata": "{}",
         "name": "isplayers_team_won",
         "type": "\"boolean\""
        },
        {
         "metadata": "{}",
         "name": "batting_status",
         "type": "\"string\""
        },
        {
         "metadata": "{}",
         "name": "bowling_status",
         "type": "\"string\""
        },
        {
         "metadata": "{}",
         "name": "player_captain",
         "type": "\"string\""
        },
        {
         "metadata": "{}",
         "name": "opposit_captain",
         "type": "\"string\""
        },
        {
         "metadata": "{}",
         "name": "player_keeper",
         "type": "\"string\""
        },
        {
         "metadata": "{}",
         "name": "opposit_keeper",
         "type": "\"string\""
        },
        {
         "metadata": "{}",
         "name": "veteran_status",
         "type": "\"string\""
        },
        {
         "metadata": "{}",
         "name": "years_since_debut",
         "type": "\"integer\""
        }
       ],
       "type": "table"
      }
     },
     "output_type": "display_data"
    }
   ],
   "source": [
    "%sql\n",
    "/*** Access player match view **/\n",
    "SELECT * FROM global_temp.player_match LIMIT 10;"
   ]
  },
  {
   "cell_type": "code",
   "execution_count": 0,
   "metadata": {
    "application/vnd.databricks.v1+cell": {
     "cellMetadata": {
      "byteLimit": 2048000,
      "rowLimit": 10000
     },
     "inputWidgets": {},
     "nuid": "daa1c5cd-5c93-4de0-99e8-52c4fd3f72b0",
     "showTitle": false,
     "title": ""
    }
   },
   "outputs": [
    {
     "output_type": "display_data",
     "data": {
      "text/html": [
       "<style scoped>\n",
       "  .table-result-container {\n",
       "    max-height: 300px;\n",
       "    overflow: auto;\n",
       "  }\n",
       "  table, th, td {\n",
       "    border: 1px solid black;\n",
       "    border-collapse: collapse;\n",
       "  }\n",
       "  th, td {\n",
       "    padding: 5px;\n",
       "  }\n",
       "  th {\n",
       "    text-align: left;\n",
       "  }\n",
       "</style><div class='table-result-container'><table class='table-result'><thead style='background-color: white'><tr><th>team_sk</th><th>team_id</th><th>team_name</th></tr></thead><tbody><tr><td>0</td><td>1</td><td>Kolkata Knight Riders</td></tr><tr><td>1</td><td>2</td><td>Royal Challengers Bangalore</td></tr><tr><td>2</td><td>3</td><td>Chennai Super Kings</td></tr><tr><td>3</td><td>4</td><td>Kings XI Punjab</td></tr><tr><td>4</td><td>5</td><td>Rajasthan Royals</td></tr><tr><td>5</td><td>6</td><td>Delhi Daredevils</td></tr><tr><td>6</td><td>7</td><td>Mumbai Indians</td></tr><tr><td>7</td><td>8</td><td>Deccan Chargers</td></tr><tr><td>8</td><td>9</td><td>Kochi Tuskers Kerala</td></tr><tr><td>9</td><td>10</td><td>Pune Warriors</td></tr></tbody></table></div>"
      ]
     },
     "metadata": {
      "application/vnd.databricks.v1+output": {
       "addedWidgets": {},
       "aggData": [],
       "aggError": "",
       "aggOverflow": false,
       "aggSchema": [],
       "aggSeriesLimitReached": false,
       "aggType": "",
       "arguments": {},
       "columnCustomDisplayInfos": {},
       "data": [
        [
         0,
         1,
         "Kolkata Knight Riders"
        ],
        [
         1,
         2,
         "Royal Challengers Bangalore"
        ],
        [
         2,
         3,
         "Chennai Super Kings"
        ],
        [
         3,
         4,
         "Kings XI Punjab"
        ],
        [
         4,
         5,
         "Rajasthan Royals"
        ],
        [
         5,
         6,
         "Delhi Daredevils"
        ],
        [
         6,
         7,
         "Mumbai Indians"
        ],
        [
         7,
         8,
         "Deccan Chargers"
        ],
        [
         8,
         9,
         "Kochi Tuskers Kerala"
        ],
        [
         9,
         10,
         "Pune Warriors"
        ]
       ],
       "datasetInfos": [],
       "dbfsResultPath": null,
       "isJsonSchema": true,
       "metadata": {
        "isDbfsCommandResult": false
       },
       "overflow": false,
       "plotOptions": {
        "customPlotOptions": {},
        "displayType": "table",
        "pivotAggregation": null,
        "pivotColumns": null,
        "xColumns": null,
        "yColumns": null
       },
       "removedWidgets": [],
       "schema": [
        {
         "metadata": "{}",
         "name": "team_sk",
         "type": "\"integer\""
        },
        {
         "metadata": "{}",
         "name": "team_id",
         "type": "\"integer\""
        },
        {
         "metadata": "{}",
         "name": "team_name",
         "type": "\"string\""
        }
       ],
       "type": "table"
      }
     },
     "output_type": "display_data"
    }
   ],
   "source": [
    "%sql\n",
    "/*** Access team view **/\n",
    "SELECT * FROM global_temp.team LIMIT 10;"
   ]
  },
  {
   "cell_type": "code",
   "execution_count": 0,
   "metadata": {
    "application/vnd.databricks.v1+cell": {
     "cellMetadata": {
      "byteLimit": 2048000,
      "rowLimit": 10000
     },
     "inputWidgets": {},
     "nuid": "dafabecc-4730-4cda-b0ce-a94ff079ddb3",
     "showTitle": false,
     "title": ""
    }
   },
   "outputs": [
    {
     "output_type": "display_data",
     "data": {
      "text/html": [
       "<style scoped>\n",
       "  .table-result-container {\n",
       "    max-height: 300px;\n",
       "    overflow: auto;\n",
       "  }\n",
       "  table, th, td {\n",
       "    border: 1px solid black;\n",
       "    border-collapse: collapse;\n",
       "  }\n",
       "  th, td {\n",
       "    padding: 5px;\n",
       "  }\n",
       "  th {\n",
       "    text-align: left;\n",
       "  }\n",
       "</style><div class='table-result-container'><table class='table-result'><thead style='background-color: white'><tr><th>season_year</th><th>player_name</th><th>total_runs</th></tr></thead><tbody><tr><td>2017</td><td>da warner</td><td>641</td></tr><tr><td>2016</td><td>v kohli</td><td>969</td></tr><tr><td>2015</td><td>da warner</td><td>562</td></tr><tr><td>2014</td><td>rv uthappa</td><td>660</td></tr><tr><td>2013</td><td>mek hussey</td><td>733</td></tr><tr><td>2012</td><td>ch gayle</td><td>733</td></tr><tr><td>2011</td><td>ch gayle</td><td>604</td></tr><tr><td>2010</td><td>sr tendulkar</td><td>617</td></tr><tr><td>2009</td><td>ml hayden</td><td>572</td></tr><tr><td>2008</td><td>se marsh</td><td>616</td></tr></tbody></table></div>"
      ]
     },
     "metadata": {
      "application/vnd.databricks.v1+output": {
       "addedWidgets": {},
       "aggData": [],
       "aggError": "",
       "aggOverflow": false,
       "aggSchema": [],
       "aggSeriesLimitReached": false,
       "aggType": "",
       "arguments": {},
       "columnCustomDisplayInfos": {},
       "data": [
        [
         2017,
         "da warner",
         641
        ],
        [
         2016,
         "v kohli",
         969
        ],
        [
         2015,
         "da warner",
         562
        ],
        [
         2014,
         "rv uthappa",
         660
        ],
        [
         2013,
         "mek hussey",
         733
        ],
        [
         2012,
         "ch gayle",
         733
        ],
        [
         2011,
         "ch gayle",
         604
        ],
        [
         2010,
         "sr tendulkar",
         617
        ],
        [
         2009,
         "ml hayden",
         572
        ],
        [
         2008,
         "se marsh",
         616
        ]
       ],
       "datasetInfos": [],
       "dbfsResultPath": null,
       "isJsonSchema": true,
       "metadata": {
        "isDbfsCommandResult": false
       },
       "overflow": false,
       "plotOptions": {
        "customPlotOptions": {},
        "displayType": "table",
        "pivotAggregation": null,
        "pivotColumns": null,
        "xColumns": null,
        "yColumns": null
       },
       "removedWidgets": [],
       "schema": [
        {
         "metadata": "{}",
         "name": "season_year",
         "type": "\"integer\""
        },
        {
         "metadata": "{}",
         "name": "player_name",
         "type": "\"string\""
        },
        {
         "metadata": "{}",
         "name": "total_runs",
         "type": "\"long\""
        }
       ],
       "type": "table"
      }
     },
     "output_type": "display_data"
    }
   ],
   "source": [
    "%sql\n",
    "/** TOP Scoring batsman per season ***/\n",
    "SELECT season_year,player_name,total_runs FROM (\n",
    "SELECT p.player_name,\n",
    "m.season_year,\n",
    "SUM(bbb.runs_scored) as total_runs,\n",
    "Rank() over(partition by m.season_year order by SUM(bbb.runs_scored) desc) as rnk\n",
    "FROM global_temp.ball_by_ball bbb\n",
    "INNER JOIN global_temp.match m\n",
    "ON bbb.match_id=m.match_id\n",
    "INNER JOIN global_temp.player_match pm\n",
    "ON pm.match_id=m.match_id\n",
    "AND pm.player_id=bbb.striker\n",
    "INNER JOIN global_temp.player p\n",
    "ON p.player_id=pm.player_id\n",
    "GROUP BY p.player_name,m.season_year\n",
    "ORDER BY m.season_year,total_runs Desc\n",
    ") inner_query\n",
    "WHERE rnk=1\n",
    "order by season_year desc"
   ]
  },
  {
   "cell_type": "code",
   "execution_count": 0,
   "metadata": {
    "application/vnd.databricks.v1+cell": {
     "cellMetadata": {
      "byteLimit": 2048000,
      "rowLimit": 10000
     },
     "inputWidgets": {},
     "nuid": "08e81163-8a7b-4669-9a35-75916c2268f7",
     "showTitle": false,
     "title": ""
    }
   },
   "outputs": [
    {
     "output_type": "stream",
     "name": "stdout",
     "output_type": "stream",
     "text": [
      "+---------------+-------------------+-------------+\n|    player_name|  avg_runs_per_ball|total_wickets|\n+---------------+-------------------+-------------+\n|     sm harwood| 0.3157894736842105|            0|\n|        a zampa|0.42857142857142855|            0|\n|     ankit soni|                0.5|            0|\n|     avesh khan|                0.5|            0|\n|      gr napier|                0.5|            0|\n|       aj finch|                0.5|            0|\n|       nb singh|               0.56|            0|\n|     ag murtaza| 0.6455696202531646|            0|\n|     fh edwards| 0.6585365853658537|            0|\n|      sb bangar| 0.6666666666666666|            0|\n|     d du preez| 0.6666666666666666|            0|\n|        s gopal| 0.6666666666666666|            0|\n|   kp pietersen|                0.7|            0|\n|  la carseldine| 0.7142857142857143|            0|\n|      ss mundhe| 0.7142857142857143|            0|\n|       a kumble| 0.7614678899082569|            0|\n|       umar gul| 0.7619047619047619|            0|\n|j syed mohammad| 0.7777777777777778|            0|\n|c de grandhomme| 0.7857142857142857|            0|\n|smsm senanayake| 0.8294573643410853|            0|\n+---------------+-------------------+-------------+\nonly showing top 20 rows\n\n"
     ]
    }
   ],
   "source": [
    "%python\n",
    "economical_bowlers_powerplay = spark.sql(\"\"\"\n",
    "SELECT \n",
    "p.player_name, \n",
    "AVG(b.runs_scored) AS avg_runs_per_ball, \n",
    "COUNT(b.bowler_wicket) AS total_wickets\n",
    "FROM global_temp.ball_by_ball b\n",
    "JOIN global_temp.player_match pm ON b.match_id = pm.match_id AND b.bowler = pm.player_id\n",
    "JOIN global_temp.player p ON pm.player_id = p.player_id\n",
    "WHERE b.over_id <= 6\n",
    "GROUP BY p.player_name\n",
    "HAVING COUNT(*) >= 1\n",
    "ORDER BY avg_runs_per_ball, total_wickets DESC\n",
    "\"\"\")\n",
    "economical_bowlers_powerplay.show()"
   ]
  },
  {
   "cell_type": "code",
   "execution_count": 0,
   "metadata": {
    "application/vnd.databricks.v1+cell": {
     "cellMetadata": {
      "byteLimit": 2048000,
      "rowLimit": 10000
     },
     "inputWidgets": {},
     "nuid": "6579e934-cc66-4c01-8a44-160216d4138d",
     "showTitle": false,
     "title": ""
    }
   },
   "outputs": [
    {
     "output_type": "display_data",
     "data": {
      "text/html": [
       "<style scoped>\n",
       "  .table-result-container {\n",
       "    max-height: 300px;\n",
       "    overflow: auto;\n",
       "  }\n",
       "  table, th, td {\n",
       "    border: 1px solid black;\n",
       "    border-collapse: collapse;\n",
       "  }\n",
       "  th, td {\n",
       "    padding: 5px;\n",
       "  }\n",
       "  th {\n",
       "    text-align: left;\n",
       "  }\n",
       "</style><div class='table-result-container'><table class='table-result'><thead style='background-color: white'><tr><th>match_id</th><th>toss_winner</th><th>toss_name</th><th>match_winner</th><th>match_outcome</th></tr></thead><tbody><tr><td>335987</td><td>Royal Challengers Bangalore</td><td>field</td><td>Kolkata Knight Riders</td><td>Lost</td></tr><tr><td>335988</td><td>Chennai Super Kings</td><td>bat</td><td>Chennai Super Kings</td><td>Won</td></tr><tr><td>335989</td><td>Rajasthan Royals</td><td>bat</td><td>Delhi Daredevils</td><td>Lost</td></tr><tr><td>335990</td><td>Mumbai Indians</td><td>bat</td><td>Royal Challengers Bangalore</td><td>Lost</td></tr><tr><td>335991</td><td>Deccan Chargers</td><td>bat</td><td>Kolkata Knight Riders</td><td>Lost</td></tr><tr><td>335992</td><td>Kings XI Punjab</td><td>bat</td><td>Rajasthan Royals</td><td>Lost</td></tr><tr><td>335993</td><td>Deccan Chargers</td><td>bat</td><td>Delhi Daredevils</td><td>Lost</td></tr><tr><td>335994</td><td>Mumbai Indians</td><td>field</td><td>Chennai Super Kings</td><td>Lost</td></tr><tr><td>335995</td><td>Rajasthan Royals</td><td>field</td><td>Rajasthan Royals</td><td>Won</td></tr><tr><td>335996</td><td>Mumbai Indians</td><td>field</td><td>Kings XI Punjab</td><td>Lost</td></tr><tr><td>335997</td><td>Rajasthan Royals</td><td>field</td><td>Rajasthan Royals</td><td>Won</td></tr><tr><td>335998</td><td>Kolkata Knight Riders</td><td>bat</td><td>Chennai Super Kings</td><td>Lost</td></tr><tr><td>335999</td><td>Deccan Chargers</td><td>field</td><td>Deccan Chargers</td><td>Won</td></tr><tr><td>336000</td><td>Delhi Daredevils</td><td>bat</td><td>Kings XI Punjab</td><td>Lost</td></tr><tr><td>336001</td><td>Chennai Super Kings</td><td>bat</td><td>Chennai Super Kings</td><td>Won</td></tr><tr><td>336002</td><td>Kolkata Knight Riders</td><td>bat</td><td>Mumbai Indians</td><td>Lost</td></tr><tr><td>336003</td><td>Royal Challengers Bangalore</td><td>field</td><td>Delhi Daredevils</td><td>Lost</td></tr><tr><td>336004</td><td>Kings XI Punjab</td><td>field</td><td>Kings XI Punjab</td><td>Won</td></tr><tr><td>336005</td><td>Rajasthan Royals</td><td>bat</td><td>Rajasthan Royals</td><td>Won</td></tr><tr><td>336006</td><td>Chennai Super Kings</td><td>bat</td><td>Delhi Daredevils</td><td>Lost</td></tr><tr><td>336007</td><td>Deccan Chargers</td><td>bat</td><td>Royal Challengers Bangalore</td><td>Lost</td></tr><tr><td>336008</td><td>Kings XI Punjab</td><td>bat</td><td>Kings XI Punjab</td><td>Won</td></tr><tr><td>336009</td><td>Delhi Daredevils</td><td>field</td><td>Mumbai Indians</td><td>Lost</td></tr><tr><td>336010</td><td>Chennai Super Kings</td><td>bat</td><td>Rajasthan Royals</td><td>Lost</td></tr><tr><td>336011</td><td>Kings XI Punjab</td><td>field</td><td>Kings XI Punjab</td><td>Won</td></tr><tr><td>336012</td><td>Deccan Chargers</td><td>field</td><td>Deccan Chargers</td><td>Won</td></tr><tr><td>336013</td><td>Mumbai Indians</td><td>field</td><td>Mumbai Indians</td><td>Won</td></tr><tr><td>336014</td><td>Chennai Super Kings</td><td>field</td><td>Chennai Super Kings</td><td>Won</td></tr><tr><td>336015</td><td>Kolkata Knight Riders</td><td>bat</td><td>Kolkata Knight Riders</td><td>Won</td></tr><tr><td>336016</td><td>Rajasthan Royals</td><td>field</td><td>Rajasthan Royals</td><td>Won</td></tr><tr><td>336017</td><td>Mumbai Indians</td><td>field</td><td>Mumbai Indians</td><td>Won</td></tr><tr><td>336018</td><td>Kings XI Punjab</td><td>field</td><td>Chennai Super Kings</td><td>Lost</td></tr><tr><td>336019</td><td>Kolkata Knight Riders</td><td>bat</td><td>Kolkata Knight Riders</td><td>Won</td></tr><tr><td>336020</td><td>Rajasthan Royals</td><td>field</td><td>Rajasthan Royals</td><td>Won</td></tr><tr><td>336021</td><td>Royal Challengers Bangalore</td><td>bat</td><td>Kings XI Punjab</td><td>Lost</td></tr><tr><td>336022</td><td>Kolkata Knight Riders</td><td>bat</td><td>Kolkata Knight Riders</td><td>Won</td></tr><tr><td>336023</td><td>Mumbai Indians</td><td>field</td><td>Mumbai Indians</td><td>Won</td></tr><tr><td>336024</td><td>Rajasthan Royals</td><td>field</td><td>Kings XI Punjab</td><td>Lost</td></tr><tr><td>336025</td><td>Deccan Chargers</td><td>field</td><td>Delhi Daredevils</td><td>Lost</td></tr><tr><td>336026</td><td>Mumbai Indians</td><td>field</td><td>Mumbai Indians</td><td>Won</td></tr><tr><td>336027</td><td>Delhi Daredevils</td><td>bat</td><td>Kings XI Punjab</td><td>Lost</td></tr><tr><td>336028</td><td>Royal Challengers Bangalore</td><td>field</td><td>Rajasthan Royals</td><td>Lost</td></tr><tr><td>336029</td><td>Deccan Chargers</td><td>field</td><td>Mumbai Indians</td><td>Lost</td></tr><tr><td>336030</td><td>Kolkata Knight Riders</td><td>bat</td><td>Chennai Super Kings</td><td>Lost</td></tr><tr><td>336031</td><td>Delhi Daredevils</td><td>field</td><td>Delhi Daredevils</td><td>Won</td></tr><tr><td>336032</td><td>Rajasthan Royals</td><td>field</td><td>Rajasthan Royals</td><td>Won</td></tr><tr><td>336033</td><td>Mumbai Indians</td><td>field</td><td>Kings XI Punjab</td><td>Lost</td></tr><tr><td>336034</td><td>Royal Challengers Bangalore</td><td>bat</td><td>Royal Challengers Bangalore</td><td>Won</td></tr><tr><td>336036</td><td>Kings XI Punjab</td><td>field</td><td>Kings XI Punjab</td><td>Won</td></tr><tr><td>336037</td><td>Delhi Daredevils</td><td>field</td><td>Delhi Daredevils</td><td>Won</td></tr><tr><td>336038</td><td>Rajasthan Royals</td><td>bat</td><td>Rajasthan Royals</td><td>Won</td></tr><tr><td>336039</td><td>Deccan Chargers</td><td>field</td><td>Royal Challengers Bangalore</td><td>Lost</td></tr><tr><td>336040</td><td>Kings XI Punjab</td><td>bat</td><td>Kolkata Knight Riders</td><td>Lost</td></tr><tr><td>336041</td><td>Rajasthan Royals</td><td>field</td><td>Rajasthan Royals</td><td>Won</td></tr><tr><td>336042</td><td>Deccan Chargers</td><td>bat</td><td>Chennai Super Kings</td><td>Lost</td></tr><tr><td>336043</td><td>Delhi Daredevils</td><td>field</td><td>Rajasthan Royals</td><td>Lost</td></tr><tr><td>336044</td><td>Kings XI Punjab</td><td>bat</td><td>Chennai Super Kings</td><td>Lost</td></tr><tr><td>336045</td><td>Rajasthan Royals</td><td>field</td><td>Rajasthan Royals</td><td>Won</td></tr><tr><td>392186</td><td>Chennai Super Kings</td><td>field</td><td>Mumbai Indians</td><td>Lost</td></tr><tr><td>392187</td><td>Royal Challengers Bangalore</td><td>bat</td><td>Royal Challengers Bangalore</td><td>Won</td></tr><tr><td>392188</td><td>Delhi Daredevils</td><td>field</td><td>Delhi Daredevils</td><td>Won</td></tr><tr><td>392189</td><td>Kolkata Knight Riders</td><td>bat</td><td>Deccan Chargers</td><td>Lost</td></tr><tr><td>392190</td><td>Chennai Super Kings</td><td>bat</td><td>Chennai Super Kings</td><td>Won</td></tr><tr><td>392191</td><td>Kolkata Knight Riders</td><td>field</td><td>Kolkata Knight Riders</td><td>Won</td></tr><tr><td>392193</td><td>Deccan Chargers</td><td>bat</td><td>Deccan Chargers</td><td>Won</td></tr><tr><td>392194</td><td>Delhi Daredevils</td><td>bat</td><td>Delhi Daredevils</td><td>Won</td></tr><tr><td>392195</td><td>Kolkata Knight Riders</td><td>field</td><td>Rajasthan Royals</td><td>Lost</td></tr><tr><td>392196</td><td>Royal Challengers Bangalore</td><td>bat</td><td>Kings XI Punjab</td><td>Lost</td></tr><tr><td>392197</td><td>Deccan Chargers</td><td>bat</td><td>Deccan Chargers</td><td>Won</td></tr><tr><td>392199</td><td>Royal Challengers Bangalore</td><td>bat</td><td>Delhi Daredevils</td><td>Lost</td></tr><tr><td>392200</td><td>Kings XI Punjab</td><td>bat</td><td>Kings XI Punjab</td><td>Won</td></tr><tr><td>392201</td><td>Deccan Chargers</td><td>field</td><td>Deccan Chargers</td><td>Won</td></tr><tr><td>392202</td><td>Mumbai Indians</td><td>bat</td><td>Mumbai Indians</td><td>Won</td></tr><tr><td>392203</td><td>Delhi Daredevils</td><td>bat</td><td>Rajasthan Royals</td><td>Lost</td></tr><tr><td>392204</td><td>Kolkata Knight Riders</td><td>bat</td><td>Royal Challengers Bangalore</td><td>Lost</td></tr><tr><td>392205</td><td>Kings XI Punjab</td><td>bat</td><td>Kings XI Punjab</td><td>Won</td></tr><tr><td>392206</td><td>Delhi Daredevils</td><td>field</td><td>Delhi Daredevils</td><td>Won</td></tr><tr><td>392207</td><td>Rajasthan Royals</td><td>field</td><td>Chennai Super Kings</td><td>Lost</td></tr><tr><td>392208</td><td>Mumbai Indians</td><td>bat</td><td>Mumbai Indians</td><td>Won</td></tr><tr><td>392209</td><td>Royal Challengers Bangalore</td><td>bat</td><td>Royal Challengers Bangalore</td><td>Won</td></tr><tr><td>392210</td><td>Deccan Chargers</td><td>bat</td><td>Rajasthan Royals</td><td>Lost</td></tr><tr><td>392211</td><td>Delhi Daredevils</td><td>field</td><td>Chennai Super Kings</td><td>Lost</td></tr><tr><td>392212</td><td>Kolkata Knight Riders</td><td>bat</td><td>Kings XI Punjab</td><td>Lost</td></tr><tr><td>392213</td><td>Mumbai Indians</td><td>bat</td><td>Royal Challengers Bangalore</td><td>Lost</td></tr><tr><td>392214</td><td>Chennai Super Kings</td><td>bat</td><td>Chennai Super Kings</td><td>Won</td></tr><tr><td>392215</td><td>Kings XI Punjab</td><td>field</td><td>Rajasthan Royals</td><td>Lost</td></tr><tr><td>392216</td><td>Kolkata Knight Riders</td><td>bat</td><td>Delhi Daredevils</td><td>Lost</td></tr><tr><td>392217</td><td>Deccan Chargers</td><td>bat</td><td>Deccan Chargers</td><td>Won</td></tr><tr><td>392218</td><td>Rajasthan Royals</td><td>field</td><td>Rajasthan Royals</td><td>Won</td></tr><tr><td>392219</td><td>Chennai Super Kings</td><td>bat</td><td>Chennai Super Kings</td><td>Won</td></tr><tr><td>392220</td><td>Mumbai Indians</td><td>bat</td><td>Delhi Daredevils</td><td>Lost</td></tr><tr><td>392221</td><td>Kings XI Punjab</td><td>field</td><td>Kings XI Punjab</td><td>Won</td></tr><tr><td>392222</td><td>Rajasthan Royals</td><td>bat</td><td>Chennai Super Kings</td><td>Lost</td></tr><tr><td>392223</td><td>Mumbai Indians</td><td>bat</td><td>Mumbai Indians</td><td>Won</td></tr><tr><td>392224</td><td>Delhi Daredevils</td><td>field</td><td>Delhi Daredevils</td><td>Won</td></tr><tr><td>392225</td><td>Deccan Chargers</td><td>bat</td><td>Deccan Chargers</td><td>Won</td></tr><tr><td>392226</td><td>Royal Challengers Bangalore</td><td>field</td><td>Royal Challengers Bangalore</td><td>Won</td></tr><tr><td>392227</td><td>Kings XI Punjab</td><td>bat</td><td>Mumbai Indians</td><td>Lost</td></tr><tr><td>392228</td><td>Deccan Chargers</td><td>field</td><td>Delhi Daredevils</td><td>Lost</td></tr><tr><td>392229</td><td>Chennai Super Kings</td><td>bat</td><td>Royal Challengers Bangalore</td><td>Lost</td></tr><tr><td>392230</td><td>Rajasthan Royals</td><td>bat</td><td>Rajasthan Royals</td><td>Won</td></tr><tr><td>392231</td><td>Kings XI Punjab</td><td>field</td><td>Kings XI Punjab</td><td>Won</td></tr><tr><td>392232</td><td>Mumbai Indians</td><td>bat</td><td>Chennai Super Kings</td><td>Lost</td></tr><tr><td>392233</td><td>Deccan Chargers</td><td>field</td><td>Deccan Chargers</td><td>Won</td></tr><tr><td>392234</td><td>Deccan Chargers</td><td>field</td><td>Kings XI Punjab</td><td>Lost</td></tr><tr><td>392235</td><td>Delhi Daredevils</td><td>bat</td><td>Delhi Daredevils</td><td>Won</td></tr><tr><td>392236</td><td>Chennai Super Kings</td><td>bat</td><td>Kolkata Knight Riders</td><td>Lost</td></tr><tr><td>392237</td><td>Delhi Daredevils</td><td>bat</td><td>Royal Challengers Bangalore</td><td>Lost</td></tr><tr><td>392238</td><td>Kolkata Knight Riders</td><td>field</td><td>Kolkata Knight Riders</td><td>Won</td></tr><tr><td>392239</td><td>Chennai Super Kings</td><td>bat</td><td>Chennai Super Kings</td><td>Won</td></tr><tr><td>392240</td><td>Delhi Daredevils</td><td>field</td><td>Delhi Daredevils</td><td>Won</td></tr><tr><td>392241</td><td>Royal Challengers Bangalore</td><td>bat</td><td>Royal Challengers Bangalore</td><td>Won</td></tr><tr><td>392242</td><td>Deccan Chargers</td><td>field</td><td>Deccan Chargers</td><td>Won</td></tr><tr><td>392243</td><td>Royal Challengers Bangalore</td><td>field</td><td>Royal Challengers Bangalore</td><td>Won</td></tr><tr><td>392244</td><td>Royal Challengers Bangalore</td><td>field</td><td>Deccan Chargers</td><td>Lost</td></tr><tr><td>419111</td><td>Deccan Chargers</td><td>field</td><td>Kolkata Knight Riders</td><td>Lost</td></tr><tr><td>419112</td><td>Mumbai Indians</td><td>bat</td><td>Mumbai Indians</td><td>Won</td></tr><tr><td>419113</td><td>Delhi Daredevils</td><td>field</td><td>Delhi Daredevils</td><td>Won</td></tr><tr><td>419114</td><td>Kolkata Knight Riders</td><td>field</td><td>Kolkata Knight Riders</td><td>Won</td></tr><tr><td>419115</td><td>Deccan Chargers</td><td>bat</td><td>Deccan Chargers</td><td>Won</td></tr><tr><td>419116</td><td>Delhi Daredevils</td><td>field</td><td>Delhi Daredevils</td><td>Won</td></tr><tr><td>419117</td><td>Kings XI Punjab</td><td>bat</td><td>Royal Challengers Bangalore</td><td>Lost</td></tr><tr><td>419118</td><td>Chennai Super Kings</td><td>bat</td><td>Chennai Super Kings</td><td>Won</td></tr><tr><td>419119</td><td>Delhi Daredevils</td><td>field</td><td>Mumbai Indians</td><td>Lost</td></tr><tr><td>419120</td><td>Royal Challengers Bangalore</td><td>field</td><td>Royal Challengers Bangalore</td><td>Won</td></tr><tr><td>419121</td><td>Delhi Daredevils</td><td>bat</td><td>Chennai Super Kings</td><td>Lost</td></tr><tr><td>419122</td><td>Kings XI Punjab</td><td>field</td><td>Deccan Chargers</td><td>Lost</td></tr><tr><td>419123</td><td>Rajasthan Royals</td><td>bat</td><td>Rajasthan Royals</td><td>Won</td></tr><tr><td>419124</td><td>Mumbai Indians</td><td>bat</td><td>Royal Challengers Bangalore</td><td>Lost</td></tr><tr><td>419125</td><td>Deccan Chargers</td><td>bat</td><td>Deccan Chargers</td><td>Won</td></tr><tr><td>419126</td><td>Chennai Super Kings</td><td>field</td><td>Kings XI Punjab</td><td>Lost</td></tr><tr><td>419127</td><td>Kolkata Knight Riders</td><td>bat</td><td>Mumbai Indians</td><td>Lost</td></tr><tr><td>419128</td><td>Chennai Super Kings</td><td>field</td><td>Royal Challengers Bangalore</td><td>Lost</td></tr><tr><td>419129</td><td>Kings XI Punjab</td><td>field</td><td>Rajasthan Royals</td><td>Lost</td></tr><tr><td>419130</td><td>Mumbai Indians</td><td>field</td><td>Mumbai Indians</td><td>Won</td></tr><tr><td>419131</td><td>Deccan Chargers</td><td>bat</td><td>Rajasthan Royals</td><td>Lost</td></tr><tr><td>419132</td><td>Kolkata Knight Riders</td><td>bat</td><td>Kolkata Knight Riders</td><td>Won</td></tr><tr><td>419133</td><td>Royal Challengers Bangalore</td><td>field</td><td>Delhi Daredevils</td><td>Lost</td></tr><tr><td>419134</td><td>Rajasthan Royals</td><td>bat</td><td>Rajasthan Royals</td><td>Won</td></tr><tr><td>419135</td><td>Deccan Chargers</td><td>field</td><td>Mumbai Indians</td><td>Lost</td></tr><tr><td>419136</td><td>Delhi Daredevils</td><td>bat</td><td>Delhi Daredevils</td><td>Won</td></tr><tr><td>419137</td><td>Mumbai Indians</td><td>field</td><td>Mumbai Indians</td><td>Won</td></tr><tr><td>419138</td><td>Royal Challengers Bangalore</td><td>bat</td><td>Chennai Super Kings</td><td>Lost</td></tr><tr><td>419139</td><td>Delhi Daredevils</td><td>bat</td><td>Delhi Daredevils</td><td>Won</td></tr><tr><td>419140</td><td>Kolkata Knight Riders</td><td>bat</td><td>Kolkata Knight Riders</td><td>Won</td></tr><tr><td>419141</td><td>Kings XI Punjab</td><td>bat</td><td>Royal Challengers Bangalore</td><td>Lost</td></tr><tr><td>419142</td><td>Chennai Super Kings</td><td>bat</td><td>Chennai Super Kings</td><td>Won</td></tr><tr><td>419143</td><td>Mumbai Indians</td><td>bat</td><td>Mumbai Indians</td><td>Won</td></tr><tr><td>419144</td><td>Kolkata Knight Riders</td><td>bat</td><td>Kings XI Punjab</td><td>Lost</td></tr><tr><td>419145</td><td>Delhi Daredevils</td><td>bat</td><td>Delhi Daredevils</td><td>Won</td></tr><tr><td>419146</td><td>Rajasthan Royals</td><td>bat</td><td>Rajasthan Royals</td><td>Won</td></tr><tr><td>419147</td><td>Chennai Super Kings</td><td>bat</td><td>Chennai Super Kings</td><td>Won</td></tr><tr><td>419148</td><td>Kings XI Punjab</td><td>bat</td><td>Rajasthan Royals</td><td>Lost</td></tr><tr><td>419149</td><td>Kolkata Knight Riders</td><td>bat</td><td>Kolkata Knight Riders</td><td>Won</td></tr><tr><td>419150</td><td>Deccan Chargers</td><td>field</td><td>Deccan Chargers</td><td>Won</td></tr><tr><td>419151</td><td>Mumbai Indians</td><td>bat</td><td>Kings XI Punjab</td><td>Lost</td></tr><tr><td>419152</td><td>Chennai Super Kings</td><td>bat</td><td>Deccan Chargers</td><td>Lost</td></tr><tr><td>419153</td><td>Royal Challengers Bangalore</td><td>field</td><td>Royal Challengers Bangalore</td><td>Won</td></tr><tr><td>419154</td><td>Delhi Daredevils</td><td>bat</td><td>Kings XI Punjab</td><td>Lost</td></tr><tr><td>419155</td><td>Rajasthan Royals</td><td>field</td><td>Mumbai Indians</td><td>Lost</td></tr><tr><td>419156</td><td>Royal Challengers Bangalore</td><td>field</td><td>Deccan Chargers</td><td>Lost</td></tr><tr><td>419157</td><td>Mumbai Indians</td><td>bat</td><td>Mumbai Indians</td><td>Won</td></tr><tr><td>419158</td><td>Kolkata Knight Riders</td><td>bat</td><td>Chennai Super Kings</td><td>Lost</td></tr><tr><td>419159</td><td>Rajasthan Royals</td><td>bat</td><td>Royal Challengers Bangalore</td><td>Lost</td></tr><tr><td>419160</td><td>Chennai Super Kings</td><td>bat</td><td>Delhi Daredevils</td><td>Lost</td></tr><tr><td>419161</td><td>Deccan Chargers</td><td>field</td><td>Deccan Chargers</td><td>Won</td></tr><tr><td>419162</td><td>Royal Challengers Bangalore</td><td>field</td><td>Mumbai Indians</td><td>Lost</td></tr><tr><td>419163</td><td>Rajasthan Royals</td><td>bat</td><td>Kolkata Knight Riders</td><td>Lost</td></tr><tr><td>419164</td><td>Chennai Super Kings</td><td>field</td><td>Chennai Super Kings</td><td>Won</td></tr><tr><td>419165</td><td>Deccan Chargers</td><td>bat</td><td>Deccan Chargers</td><td>Won</td></tr><tr><td>419166</td><td>Mumbai Indians</td><td>bat</td><td>Kolkata Knight Riders</td><td>Lost</td></tr><tr><td>419167</td><td>Mumbai Indians</td><td>bat</td><td>Mumbai Indians</td><td>Won</td></tr><tr><td>419168</td><td>Chennai Super Kings</td><td>bat</td><td>Chennai Super Kings</td><td>Won</td></tr><tr><td>419169</td><td>Deccan Chargers</td><td>bat</td><td>Royal Challengers Bangalore</td><td>Lost</td></tr><tr><td>419170</td><td>Chennai Super Kings</td><td>bat</td><td>Chennai Super Kings</td><td>Won</td></tr><tr><td>501203</td><td>Chennai Super Kings</td><td>bat</td><td>Chennai Super Kings</td><td>Won</td></tr><tr><td>501204</td><td>Rajasthan Royals</td><td>field</td><td>Rajasthan Royals</td><td>Won</td></tr><tr><td>501205</td><td>Kochi Tuskers Kerala</td><td>bat</td><td>Royal Challengers Bangalore</td><td>Lost</td></tr><tr><td>501206</td><td>Delhi Daredevils</td><td>bat</td><td>Mumbai Indians</td><td>Lost</td></tr><tr><td>501207</td><td>Kings XI Punjab</td><td>bat</td><td>Pune Warriors</td><td>Lost</td></tr><tr><td>501208</td><td>Kolkata Knight Riders</td><td>bat</td><td>Kolkata Knight Riders</td><td>Won</td></tr><tr><td>501209</td><td>Delhi Daredevils</td><td>bat</td><td>Rajasthan Royals</td><td>Lost</td></tr><tr><td>501210</td><td>Mumbai Indians</td><td>field</td><td>Mumbai Indians</td><td>Won</td></tr><tr><td>501211</td><td>Kings XI Punjab</td><td>field</td><td>Kings XI Punjab</td><td>Won</td></tr><tr><td>501212</td><td>Kochi Tuskers Kerala</td><td>bat</td><td>Pune Warriors</td><td>Lost</td></tr><tr><td>501213</td><td>Royal Challengers Bangalore</td><td>field</td><td>Deccan Chargers</td><td>Lost</td></tr><tr><td>501214</td><td>Kolkata Knight Riders</td><td>field</td><td>Kolkata Knight Riders</td><td>Won</td></tr><tr><td>501215</td><td>Kochi Tuskers Kerala</td><td>field</td><td>Kochi Tuskers Kerala</td><td>Won</td></tr><tr><td>501216</td><td>Chennai Super Kings</td><td>bat</td><td>Chennai Super Kings</td><td>Won</td></tr><tr><td>501217</td><td>Kings XI Punjab</td><td>field</td><td>Kings XI Punjab</td><td>Won</td></tr><tr><td>501218</td><td>Delhi Daredevils</td><td>field</td><td>Delhi Daredevils</td><td>Won</td></tr><tr><td>501219</td><td>Kolkata Knight Riders</td><td>field</td><td>Kolkata Knight Riders</td><td>Won</td></tr><tr><td>501220</td><td>Kochi Tuskers Kerala</td><td>field</td><td>Kochi Tuskers Kerala</td><td>Won</td></tr><tr><td>501221</td><td>Deccan Chargers</td><td>bat</td><td>Deccan Chargers</td><td>Won</td></tr><tr><td>501223</td><td>Pune Warriors</td><td>bat</td><td>Mumbai Indians</td><td>Lost</td></tr><tr><td>501224</td><td>Kolkata Knight Riders</td><td>field</td><td>Kochi Tuskers Kerala</td><td>Lost</td></tr><tr><td>501225</td><td>Rajasthan Royals</td><td>field</td><td>Kings XI Punjab</td><td>Lost</td></tr><tr><td>501226</td><td>Chennai Super Kings</td><td>field</td><td>Mumbai Indians</td><td>Lost</td></tr><tr><td>501227</td><td>Royal Challengers Bangalore</td><td>field</td><td>Royal Challengers Bangalore</td><td>Won</td></tr><tr><td>501228</td><td>Kings XI Punjab</td><td>field</td><td>Delhi Daredevils</td><td>Lost</td></tr><tr><td>501229</td><td>Deccan Chargers</td><td>field</td><td>Mumbai Indians</td><td>Lost</td></tr><tr><td>501230</td><td>Rajasthan Royals</td><td>field</td><td>Rajasthan Royals</td><td>Won</td></tr><tr><td>501231</td><td>Pune Warriors</td><td>field</td><td>Chennai Super Kings</td><td>Lost</td></tr><tr><td>501232</td><td>Royal Challengers Bangalore</td><td>field</td><td>Royal Challengers Bangalore</td><td>Won</td></tr><tr><td>501233</td><td>Pune Warriors</td><td>bat</td><td>Chennai Super Kings</td><td>Lost</td></tr><tr><td>501234</td><td>Kochi Tuskers Kerala</td><td>field</td><td>Deccan Chargers</td><td>Lost</td></tr><tr><td>501235</td><td>Delhi Daredevils</td><td>field</td><td>Kolkata Knight Riders</td><td>Lost</td></tr><tr><td>501236</td><td>Rajasthan Royals</td><td>field</td><td>Rajasthan Royals</td><td>Won</td></tr><tr><td>501237</td><td>Pune Warriors</td><td>field</td><td>Royal Challengers Bangalore</td><td>Lost</td></tr><tr><td>501238</td><td>Delhi Daredevils</td><td>bat</td><td>Delhi Daredevils</td><td>Won</td></tr><tr><td>501239</td><td>Kolkata Knight Riders</td><td>field</td><td>Kolkata Knight Riders</td><td>Won</td></tr><tr><td>501240</td><td>Rajasthan Royals</td><td>field</td><td>Rajasthan Royals</td><td>Won</td></tr><tr><td>501241</td><td>Chennai Super Kings</td><td>bat</td><td>Chennai Super Kings</td><td>Won</td></tr><tr><td>501242</td><td>Kings XI Punjab</td><td>field</td><td>Mumbai Indians</td><td>Lost</td></tr><tr><td>501243</td><td>Kochi Tuskers Kerala</td><td>field</td><td>Kochi Tuskers Kerala</td><td>Won</td></tr><tr><td>501244</td><td>Deccan Chargers</td><td>field</td><td>Kolkata Knight Riders</td><td>Lost</td></tr><tr><td>501245</td><td>Rajasthan Royals</td><td>bat</td><td>Chennai Super Kings</td><td>Lost</td></tr><tr><td>501246</td><td>Pune Warriors</td><td>field</td><td>Mumbai Indians</td><td>Lost</td></tr><tr><td>501247</td><td>Kolkata Knight Riders</td><td>field</td><td>Kochi Tuskers Kerala</td><td>Lost</td></tr><tr><td>501248</td><td>Delhi Daredevils</td><td>field</td><td>Delhi Daredevils</td><td>Won</td></tr><tr><td>501249</td><td>Kings XI Punjab</td><td>field</td><td>Royal Challengers Bangalore</td><td>Lost</td></tr><tr><td>501250</td><td>Chennai Super Kings</td><td>bat</td><td>Kolkata Knight Riders</td><td>Lost</td></tr><tr><td>501251</td><td>Delhi Daredevils</td><td>field</td><td>Mumbai Indians</td><td>Lost</td></tr><tr><td>501252</td><td>Kochi Tuskers Kerala</td><td>bat</td><td>Royal Challengers Bangalore</td><td>Lost</td></tr><tr><td>501253</td><td>Kings XI Punjab</td><td>bat</td><td>Pune Warriors</td><td>Lost</td></tr><tr><td>501254</td><td>Rajasthan Royals</td><td>field</td><td>Chennai Super Kings</td><td>Lost</td></tr><tr><td>501255</td><td>Deccan Chargers</td><td>bat</td><td>Pune Warriors</td><td>Lost</td></tr><tr><td>501256</td><td>Mumbai Indians</td><td>field</td><td>Kings XI Punjab</td><td>Lost</td></tr><tr><td>501257</td><td>Royal Challengers Bangalore</td><td>field</td><td>Royal Challengers Bangalore</td><td>Won</td></tr><tr><td>501258</td><td>Chennai Super Kings</td><td>bat</td><td>Chennai Super Kings</td><td>Won</td></tr><tr><td>501259</td><td>Kings XI Punjab</td><td>field</td><td>Kings XI Punjab</td><td>Won</td></tr><tr><td>501260</td><td>Royal Challengers Bangalore</td><td>field</td><td>Royal Challengers Bangalore</td><td>Won</td></tr><tr><td>501261</td><td>Deccan Chargers</td><td>bat</td><td>Deccan Chargers</td><td>Won</td></tr><tr><td>501262</td><td>Delhi Daredevils</td><td>field</td><td>Kings XI Punjab</td><td>Lost</td></tr><tr><td>501263</td><td>Kochi Tuskers Kerala</td><td>field</td><td>Kochi Tuskers Kerala</td><td>Won</td></tr><tr><td>501264</td><td>Deccan Chargers</td><td>field</td><td>Deccan Chargers</td><td>Won</td></tr><tr><td>501265</td><td>Kings XI Punjab</td><td>bat</td><td>Kings XI Punjab</td><td>Won</td></tr><tr><td>501266</td><td>Chennai Super Kings</td><td>bat</td><td>Chennai Super Kings</td><td>Won</td></tr><tr><td>501267</td><td>Kolkata Knight Riders</td><td>field</td><td>Kolkata Knight Riders</td><td>Won</td></tr><tr><td>501268</td><td>Mumbai Indians</td><td>bat</td><td>Rajasthan Royals</td><td>Lost</td></tr><tr><td>501269</td><td>Kings XI Punjab</td><td>field</td><td>Deccan Chargers</td><td>Lost</td></tr><tr><td>501270</td><td>Delhi Daredevils</td><td>bat</td><td>NULL</td><td>Lost</td></tr><tr><td>501271</td><td>Royal Challengers Bangalore</td><td>field</td><td>Royal Challengers Bangalore</td><td>Won</td></tr><tr><td>501272</td><td>Mumbai Indians</td><td>field</td><td>Mumbai Indians</td><td>Won</td></tr><tr><td>501273</td><td>Chennai Super Kings</td><td>field</td><td>Chennai Super Kings</td><td>Won</td></tr><tr><td>501274</td><td>Mumbai Indians</td><td>field</td><td>Mumbai Indians</td><td>Won</td></tr><tr><td>501275</td><td>Mumbai Indians</td><td>field</td><td>Royal Challengers Bangalore</td><td>Lost</td></tr><tr><td>501276</td><td>Chennai Super Kings</td><td>bat</td><td>Chennai Super Kings</td><td>Won</td></tr><tr><td>548311</td><td>Mumbai Indians</td><td>field</td><td>Mumbai Indians</td><td>Won</td></tr><tr><td>548312</td><td>Delhi Daredevils</td><td>field</td><td>Delhi Daredevils</td><td>Won</td></tr><tr><td>548313</td><td>Mumbai Indians</td><td>field</td><td>Pune Warriors</td><td>Lost</td></tr><tr><td>548314</td><td>Kings XI Punjab</td><td>field</td><td>Rajasthan Royals</td><td>Lost</td></tr><tr><td>548315</td><td>Delhi Daredevils</td><td>field</td><td>Royal Challengers Bangalore</td><td>Lost</td></tr><tr><td>548316</td><td>Deccan Chargers</td><td>field</td><td>Chennai Super Kings</td><td>Lost</td></tr><tr><td>548317</td><td>Kolkata Knight Riders</td><td>field</td><td>Rajasthan Royals</td><td>Lost</td></tr><tr><td>548318</td><td>Pune Warriors</td><td>bat</td><td>Pune Warriors</td><td>Won</td></tr><tr><td>548319</td><td>Deccan Chargers</td><td>bat</td><td>Mumbai Indians</td><td>Lost</td></tr><tr><td>548320</td><td>Royal Challengers Bangalore</td><td>field</td><td>Kolkata Knight Riders</td><td>Lost</td></tr><tr><td>548321</td><td>Delhi Daredevils</td><td>field</td><td>Delhi Daredevils</td><td>Won</td></tr><tr><td>548322</td><td>Rajasthan Royals</td><td>field</td><td>Mumbai Indians</td><td>Lost</td></tr><tr><td>548323</td><td>Royal Challengers Bangalore</td><td>bat</td><td>Chennai Super Kings</td><td>Lost</td></tr><tr><td>548324</td><td>Kings XI Punjab</td><td>field</td><td>Kings XI Punjab</td><td>Won</td></tr><tr><td>548325</td><td>Rajasthan Royals</td><td>bat</td><td>Kolkata Knight Riders</td><td>Lost</td></tr><tr><td>548326</td><td>Deccan Chargers</td><td>bat</td><td>Delhi Daredevils</td><td>Lost</td></tr><tr><td>548327</td><td>Chennai Super Kings</td><td>bat</td><td>Pune Warriors</td><td>Lost</td></tr><tr><td>548328</td><td>Kolkata Knight Riders</td><td>field</td><td>Kings XI Punjab</td><td>Lost</td></tr><tr><td>548329</td><td>Rajasthan Royals</td><td>bat</td><td>Rajasthan Royals</td><td>Won</td></tr><tr><td>548330</td><td>Delhi Daredevils</td><td>field</td><td>Delhi Daredevils</td><td>Won</td></tr><tr><td>548331</td><td>Deccan Chargers</td><td>bat</td><td>Rajasthan Royals</td><td>Lost</td></tr><tr><td>548332</td><td>Pune Warriors</td><td>bat</td><td>Royal Challengers Bangalore</td><td>Lost</td></tr><tr><td>548333</td><td>Kings XI Punjab</td><td>bat</td><td>Kolkata Knight Riders</td><td>Lost</td></tr><tr><td>548334</td><td>Deccan Chargers</td><td>bat</td><td>Delhi Daredevils</td><td>Lost</td></tr><tr><td>548335</td><td>Pune Warriors</td><td>field</td><td>Chennai Super Kings</td><td>Lost</td></tr><tr><td>548336</td><td>Royal Challengers Bangalore</td><td>field</td><td>Royal Challengers Bangalore</td><td>Won</td></tr><tr><td>548337</td><td>Rajasthan Royals</td><td>bat</td><td>Chennai Super Kings</td><td>Lost</td></tr><tr><td>548338</td><td>Delhi Daredevils</td><td>field</td><td>Pune Warriors</td><td>Lost</td></tr><tr><td>548339</td><td>Mumbai Indians</td><td>bat</td><td>Kings XI Punjab</td><td>Lost</td></tr><tr><td>548340</td><td>Kolkata Knight Riders</td><td>field</td><td>Kolkata Knight Riders</td><td>Won</td></tr><tr><td>548341</td><td>Rajasthan Royals</td><td>field</td><td>Royal Challengers Bangalore</td><td>Lost</td></tr><tr><td>548342</td><td>Pune Warriors</td><td>bat</td><td>Delhi Daredevils</td><td>Lost</td></tr><tr><td>548344</td><td>Kings XI Punjab</td><td>bat</td><td>Mumbai Indians</td><td>Lost</td></tr><tr><td>548346</td><td>Deccan Chargers</td><td>bat</td><td>Deccan Chargers</td><td>Won</td></tr><tr><td>548347</td><td>Mumbai Indians</td><td>field</td><td>Delhi Daredevils</td><td>Lost</td></tr><tr><td>548348</td><td>Kings XI Punjab</td><td>bat</td><td>Kings XI Punjab</td><td>Won</td></tr><tr><td>548349</td><td>Kolkata Knight Riders</td><td>bat</td><td>Kolkata Knight Riders</td><td>Won</td></tr><tr><td>548350</td><td>Delhi Daredevils</td><td>bat</td><td>Delhi Daredevils</td><td>Won</td></tr><tr><td>548351</td><td>Mumbai Indians</td><td>field</td><td>Mumbai Indians</td><td>Won</td></tr><tr><td>548352</td><td>Chennai Super Kings</td><td>bat</td><td>Kolkata Knight Riders</td><td>Lost</td></tr><tr><td>548353</td><td>Deccan Chargers</td><td>bat</td><td>Deccan Chargers</td><td>Won</td></tr><tr><td>548354</td><td>Rajasthan Royals</td><td>bat</td><td>Delhi Daredevils</td><td>Lost</td></tr><tr><td>548355</td><td>Kings XI Punjab</td><td>field</td><td>Kings XI Punjab</td><td>Won</td></tr><tr><td>548356</td><td>Mumbai Indians</td><td>bat</td><td>Mumbai Indians</td><td>Won</td></tr><tr><td>548357</td><td>Chennai Super Kings</td><td>bat</td><td>Chennai Super Kings</td><td>Won</td></tr><tr><td>548358</td><td>Kolkata Knight Riders</td><td>bat</td><td>Kolkata Knight Riders</td><td>Won</td></tr><tr><td>548359</td><td>Rajasthan Royals</td><td>bat</td><td>Rajasthan Royals</td><td>Won</td></tr><tr><td>548360</td><td>Mumbai Indians</td><td>field</td><td>Mumbai Indians</td><td>Won</td></tr><tr><td>548361</td><td>Royal Challengers Bangalore</td><td>field</td><td>Royal Challengers Bangalore</td><td>Won</td></tr><tr><td>548362</td><td>Delhi Daredevils</td><td>bat</td><td>Kolkata Knight Riders</td><td>Lost</td></tr><tr><td>548363</td><td>Pune Warriors</td><td>bat</td><td>Rajasthan Royals</td><td>Lost</td></tr><tr><td>548364</td><td>Deccan Chargers</td><td>field</td><td>Kings XI Punjab</td><td>Lost</td></tr><tr><td>548365</td><td>Royal Challengers Bangalore</td><td>field</td><td>Royal Challengers Bangalore</td><td>Won</td></tr><tr><td>548366</td><td>Chennai Super Kings</td><td>field</td><td>Chennai Super Kings</td><td>Won</td></tr><tr><td>548367</td><td>Pune Warriors</td><td>field</td><td>Royal Challengers Bangalore</td><td>Lost</td></tr><tr><td>548368</td><td>Mumbai Indians</td><td>bat</td><td>Mumbai Indians</td><td>Won</td></tr><tr><td>548369</td><td>Chennai Super Kings</td><td>field</td><td>Chennai Super Kings</td><td>Won</td></tr><tr><td>548370</td><td>Rajasthan Royals</td><td>bat</td><td>Rajasthan Royals</td><td>Won</td></tr><tr><td>548371</td><td>Deccan Chargers</td><td>bat</td><td>Kings XI Punjab</td><td>Lost</td></tr><tr><td>548372</td><td>Mumbai Indians</td><td>field</td><td>Mumbai Indians</td><td>Won</td></tr><tr><td>548373</td><td>Chennai Super Kings</td><td>field</td><td>Chennai Super Kings</td><td>Won</td></tr><tr><td>548374</td><td>Kings XI Punjab</td><td>bat</td><td>Delhi Daredevils</td><td>Lost</td></tr><tr><td>548375</td><td>Mumbai Indians</td><td>field</td><td>Kolkata Knight Riders</td><td>Lost</td></tr><tr><td>548376</td><td>Kings XI Punjab</td><td>field</td><td>Kings XI Punjab</td><td>Won</td></tr><tr><td>548377</td><td>Delhi Daredevils</td><td>field</td><td>Royal Challengers Bangalore</td><td>Lost</td></tr><tr><td>548378</td><td>Rajasthan Royals</td><td>bat</td><td>Deccan Chargers</td><td>Lost</td></tr><tr><td>548379</td><td>Delhi Daredevils</td><td>field</td><td>Delhi Daredevils</td><td>Won</td></tr><tr><td>548380</td><td>Kolkata Knight Riders</td><td>bat</td><td>Kolkata Knight Riders</td><td>Won</td></tr><tr><td>548381</td><td>Royal Challengers Bangalore</td><td>field</td><td>Deccan Chargers</td><td>Lost</td></tr><tr><td>548382</td><td>Rajasthan Royals</td><td>bat</td><td>Mumbai Indians</td><td>Lost</td></tr><tr><td>548383</td><td>Kolkata Knight Riders</td><td>bat</td><td>Kolkata Knight Riders</td><td>Won</td></tr><tr><td>548384</td><td>Mumbai Indians</td><td>field</td><td>Chennai Super Kings</td><td>Lost</td></tr><tr><td>548385</td><td>Delhi Daredevils</td><td>field</td><td>Chennai Super Kings</td><td>Lost</td></tr><tr><td>548386</td><td>Chennai Super Kings</td><td>bat</td><td>Kolkata Knight Riders</td><td>Lost</td></tr><tr><td>598003</td><td>Kolkata Knight Riders</td><td>field</td><td>Kolkata Knight Riders</td><td>Won</td></tr><tr><td>598004</td><td>Mumbai Indians</td><td>field</td><td>Royal Challengers Bangalore</td><td>Lost</td></tr><tr><td>598005</td><td>Pune Warriors</td><td>field</td><td>Sunrisers Hyderabad</td><td>Lost</td></tr><tr><td>598006</td><td>Rajasthan Royals</td><td>bat</td><td>Rajasthan Royals</td><td>Won</td></tr><tr><td>598007</td><td>Mumbai Indians</td><td>bat</td><td>Mumbai Indians</td><td>Won</td></tr><tr><td>598008</td><td>Pune Warriors</td><td>bat</td><td>Kings XI Punjab</td><td>Lost</td></tr><tr><td>598009</td><td>Royal Challengers Bangalore</td><td>bat</td><td>Sunrisers Hyderabad</td><td>Lost</td></tr><tr><td>598010</td><td>Kolkata Knight Riders</td><td>field</td><td>Rajasthan Royals</td><td>Lost</td></tr><tr><td>598011</td><td>Mumbai Indians</td><td>bat</td><td>Mumbai Indians</td><td>Won</td></tr><tr><td>598012</td><td>Chennai Super Kings</td><td>field</td><td>Chennai Super Kings</td><td>Won</td></tr><tr><td>598013</td><td>Royal Challengers Bangalore</td><td>field</td><td>Royal Challengers Bangalore</td><td>Won</td></tr><tr><td>598014</td><td>Rajasthan Royals</td><td>bat</td><td>Pune Warriors</td><td>Lost</td></tr><tr><td>598015</td><td>Delhi Daredevils</td><td>bat</td><td>Sunrisers Hyderabad</td><td>Lost</td></tr><tr><td>598016</td><td>Mumbai Indians</td><td>bat</td><td>Mumbai Indians</td><td>Won</td></tr><tr><td>598017</td><td>Chennai Super Kings</td><td>field</td><td>Chennai Super Kings</td><td>Won</td></tr><tr><td>598018</td><td>Kolkata Knight Riders</td><td>bat</td><td>Kolkata Knight Riders</td><td>Won</td></tr><tr><td>598019</td><td>Rajasthan Royals</td><td>field</td><td>Rajasthan Royals</td><td>Won</td></tr><tr><td>598020</td><td>Pune Warriors</td><td>bat</td><td>Pune Warriors</td><td>Won</td></tr><tr><td>598021</td><td>Kolkata Knight Riders</td><td>field</td><td>Kings XI Punjab</td><td>Lost</td></tr><tr><td>598022</td><td>Royal Challengers Bangalore</td><td>field</td><td>Royal Challengers Bangalore</td><td>Won</td></tr><tr><td>598023</td><td>Pune Warriors</td><td>field</td><td>Sunrisers Hyderabad</td><td>Lost</td></tr><tr><td>598024</td><td>Rajasthan Royals</td><td>bat</td><td>Rajasthan Royals</td><td>Won</td></tr><tr><td>598025</td><td>Chennai Super Kings</td><td>bat</td><td>Chennai Super Kings</td><td>Won</td></tr><tr><td>598026</td><td>Kings XI Punjab</td><td>bat</td><td>Sunrisers Hyderabad</td><td>Lost</td></tr><tr><td>598027</td><td>Kolkata Knight Riders</td><td>bat</td><td>Chennai Super Kings</td><td>Lost</td></tr><tr><td>598028</td><td>Royal Challengers Bangalore</td><td>field</td><td>Royal Challengers Bangalore</td><td>Won</td></tr><tr><td>598029</td><td>Mumbai Indians</td><td>bat</td><td>Delhi Daredevils</td><td>Lost</td></tr><tr><td>598030</td><td>Kings XI Punjab</td><td>field</td><td>Kings XI Punjab</td><td>Won</td></tr><tr><td>598031</td><td>Rajasthan Royals</td><td>bat</td><td>Chennai Super Kings</td><td>Lost</td></tr><tr><td>598032</td><td>Pune Warriors</td><td>field</td><td>Royal Challengers Bangalore</td><td>Lost</td></tr><tr><td>598033</td><td>Delhi Daredevils</td><td>field</td><td>Kings XI Punjab</td><td>Lost</td></tr><tr><td>598034</td><td>Kolkata Knight Riders</td><td>bat</td><td>Mumbai Indians</td><td>Lost</td></tr><tr><td>598035</td><td>Sunrisers Hyderabad</td><td>bat</td><td>Chennai Super Kings</td><td>Lost</td></tr><tr><td>598036</td><td>Kings XI Punjab</td><td>bat</td><td>Kolkata Knight Riders</td><td>Lost</td></tr><tr><td>598037</td><td>Sunrisers Hyderabad</td><td>bat</td><td>Rajasthan Royals</td><td>Lost</td></tr><tr><td>598038</td><td>Mumbai Indians</td><td>bat</td><td>Mumbai Indians</td><td>Won</td></tr><tr><td>598039</td><td>Kolkata Knight Riders</td><td>field</td><td>Chennai Super Kings</td><td>Lost</td></tr><tr><td>598040</td><td>Pune Warriors</td><td>field</td><td>Delhi Daredevils</td><td>Lost</td></tr><tr><td>598041</td><td>Rajasthan Royals</td><td>field</td><td>Rajasthan Royals</td><td>Won</td></tr><tr><td>598042</td><td>Mumbai Indians</td><td>bat</td><td>Mumbai Indians</td><td>Won</td></tr><tr><td>598043</td><td>Chennai Super Kings</td><td>bat</td><td>Chennai Super Kings</td><td>Won</td></tr><tr><td>598044</td><td>Mumbai Indians</td><td>bat</td><td>Sunrisers Hyderabad</td><td>Lost</td></tr><tr><td>598045</td><td>Kolkata Knight Riders</td><td>bat</td><td>Delhi Daredevils</td><td>Lost</td></tr><tr><td>598046</td><td>Chennai Super Kings</td><td>bat</td><td>Chennai Super Kings</td><td>Won</td></tr><tr><td>598047</td><td>Royal Challengers Bangalore</td><td>bat</td><td>Royal Challengers Bangalore</td><td>Won</td></tr><tr><td>598048</td><td>Rajasthan Royals</td><td>bat</td><td>Kolkata Knight Riders</td><td>Lost</td></tr><tr><td>598049</td><td>Delhi Daredevils</td><td>bat</td><td>Sunrisers Hyderabad</td><td>Lost</td></tr><tr><td>598050</td><td>Kings XI Punjab</td><td>field</td><td>Kings XI Punjab</td><td>Won</td></tr><tr><td>598051</td><td>Mumbai Indians</td><td>bat</td><td>Mumbai Indians</td><td>Won</td></tr><tr><td>598052</td><td>Pune Warriors</td><td>bat</td><td>Rajasthan Royals</td><td>Lost</td></tr><tr><td>598053</td><td>Sunrisers Hyderabad</td><td>bat</td><td>Royal Challengers Bangalore</td><td>Lost</td></tr><tr><td>598054</td><td>Delhi Daredevils</td><td>bat</td><td>Rajasthan Royals</td><td>Lost</td></tr><tr><td>598055</td><td>Mumbai Indians</td><td>bat</td><td>Mumbai Indians</td><td>Won</td></tr><tr><td>598056</td><td>Sunrisers Hyderabad</td><td>field</td><td>Chennai Super Kings</td><td>Lost</td></tr><tr><td>598057</td><td>Rajasthan Royals</td><td>field</td><td>Rajasthan Royals</td><td>Won</td></tr><tr><td>598058</td><td>Kolkata Knight Riders</td><td>bat</td><td>Kolkata Knight Riders</td><td>Won</td></tr><tr><td>598059</td><td>Delhi Daredevils</td><td>field</td><td>Royal Challengers Bangalore</td><td>Lost</td></tr><tr><td>598060</td><td>Pune Warriors</td><td>bat</td><td>Mumbai Indians</td><td>Lost</td></tr><tr><td>598061</td><td>Kings XI Punjab</td><td>field</td><td>Sunrisers Hyderabad</td><td>Lost</td></tr><tr><td>598062</td><td>Kolkata Knight Riders</td><td>field</td><td>Kolkata Knight Riders</td><td>Won</td></tr><tr><td>598063</td><td>Rajasthan Royals</td><td>field</td><td>Rajasthan Royals</td><td>Won</td></tr><tr><td>598064</td><td>Kings XI Punjab</td><td>field</td><td>Kings XI Punjab</td><td>Won</td></tr><tr><td>598065</td><td>Sunrisers Hyderabad</td><td>bat</td><td>Mumbai Indians</td><td>Lost</td></tr><tr><td>598066</td><td>Kolkata Knight Riders</td><td>field</td><td>Pune Warriors</td><td>Lost</td></tr><tr><td>598067</td><td>Chennai Super Kings</td><td>bat</td><td>Chennai Super Kings</td><td>Won</td></tr><tr><td>598068</td><td>Rajasthan Royals</td><td>field</td><td>Mumbai Indians</td><td>Lost</td></tr><tr><td>598069</td><td>Kings XI Punjab</td><td>field</td><td>Kings XI Punjab</td><td>Won</td></tr><tr><td>598070</td><td>Sunrisers Hyderabad</td><td>bat</td><td>Sunrisers Hyderabad</td><td>Won</td></tr><tr><td>598071</td><td>Mumbai Indians</td><td>field</td><td>Kings XI Punjab</td><td>Lost</td></tr><tr><td>598072</td><td>Pune Warriors</td><td>bat</td><td>Pune Warriors</td><td>Won</td></tr><tr><td>598073</td><td>Chennai Super Kings</td><td>field</td><td>Royal Challengers Bangalore</td><td>Lost</td></tr><tr><td>598074</td><td>Kolkata Knight Riders</td><td>bat</td><td>Sunrisers Hyderabad</td><td>Lost</td></tr><tr><td>598075</td><td>Chennai Super Kings</td><td>bat</td><td>Chennai Super Kings</td><td>Won</td></tr><tr><td>598076</td><td>Sunrisers Hyderabad</td><td>bat</td><td>Rajasthan Royals</td><td>Lost</td></tr><tr><td>598077</td><td>Rajasthan Royals</td><td>bat</td><td>Mumbai Indians</td><td>Lost</td></tr><tr><td>598078</td><td>Mumbai Indians</td><td>bat</td><td>Mumbai Indians</td><td>Won</td></tr><tr><td>729284</td><td>Kolkata Knight Riders</td><td>bat</td><td>Kolkata Knight Riders</td><td>Won</td></tr><tr><td>729286</td><td>Royal Challengers Bangalore</td><td>field</td><td>Royal Challengers Bangalore</td><td>Won</td></tr><tr><td>729288</td><td>Chennai Super Kings</td><td>bat</td><td>Kings XI Punjab</td><td>Lost</td></tr><tr><td>729290</td><td>Rajasthan Royals</td><td>field</td><td>Rajasthan Royals</td><td>Won</td></tr><tr><td>729292</td><td>Royal Challengers Bangalore</td><td>field</td><td>Royal Challengers Bangalore</td><td>Won</td></tr><tr><td>729294</td><td>Kolkata Knight Riders</td><td>bat</td><td>Delhi Daredevils</td><td>Lost</td></tr><tr><td>729296</td><td>Kings XI Punjab</td><td>field</td><td>Kings XI Punjab</td><td>Won</td></tr><tr><td>729298</td><td>Chennai Super Kings</td><td>bat</td><td>Chennai Super Kings</td><td>Won</td></tr><tr><td>729300</td><td>Sunrisers Hyderabad</td><td>field</td><td>Kings XI Punjab</td><td>Lost</td></tr><tr><td>729302</td><td>Rajasthan Royals</td><td>field</td><td>Chennai Super Kings</td><td>Lost</td></tr><tr><td>729304</td><td>Royal Challengers Bangalore</td><td>field</td><td>Kolkata Knight Riders</td><td>Lost</td></tr><tr><td>729306</td><td>Sunrisers Hyderabad</td><td>bat</td><td>Sunrisers Hyderabad</td><td>Won</td></tr><tr><td>729308</td><td>Mumbai Indians</td><td>bat</td><td>Chennai Super Kings</td><td>Lost</td></tr><tr><td>729310</td><td>Rajasthan Royals</td><td>field</td><td>Rajasthan Royals</td><td>Won</td></tr><tr><td>729312</td><td>Kolkata Knight Riders</td><td>field</td><td>Kings XI Punjab</td><td>Lost</td></tr><tr><td>729314</td><td>Mumbai Indians</td><td>bat</td><td>Delhi Daredevils</td><td>Lost</td></tr><tr><td>729316</td><td>Sunrisers Hyderabad</td><td>bat</td><td>Chennai Super Kings</td><td>Lost</td></tr><tr><td>729318</td><td>Kings XI Punjab</td><td>field</td><td>Kings XI Punjab</td><td>Won</td></tr><tr><td>729320</td><td>Rajasthan Royals</td><td>bat</td><td>Rajasthan Royals</td><td>Won</td></tr><tr><td>729322</td><td>Mumbai Indians</td><td>field</td><td>Sunrisers Hyderabad</td><td>Lost</td></tr><tr><td>733976</td><td>Chennai Super Kings</td><td>bat</td><td>Chennai Super Kings</td><td>Won</td></tr><tr><td>733978</td><td>Kings XI Punjab</td><td>bat</td><td>Mumbai Indians</td><td>Lost</td></tr><tr><td>733980</td><td>Rajasthan Royals</td><td>field</td><td>Rajasthan Royals</td><td>Won</td></tr><tr><td>733982</td><td>Royal Challengers Bangalore</td><td>field</td><td>Royal Challengers Bangalore</td><td>Won</td></tr><tr><td>733984</td><td>Kolkata Knight Riders</td><td>field</td><td>Rajasthan Royals</td><td>Lost</td></tr><tr><td>733986</td><td>Chennai Super Kings</td><td>field</td><td>Chennai Super Kings</td><td>Won</td></tr><tr><td>733988</td><td>Royal Challengers Bangalore</td><td>field</td><td>Mumbai Indians</td><td>Lost</td></tr><tr><td>733990</td><td>Delhi Daredevils</td><td>bat</td><td>Kolkata Knight Riders</td><td>Lost</td></tr><tr><td>733992</td><td>Chennai Super Kings</td><td>field</td><td>Kings XI Punjab</td><td>Lost</td></tr><tr><td>733994</td><td>Rajasthan Royals</td><td>field</td><td>Sunrisers Hyderabad</td><td>Lost</td></tr><tr><td>733996</td><td>Royal Challengers Bangalore</td><td>field</td><td>Kings XI Punjab</td><td>Lost</td></tr><tr><td>733998</td><td>Sunrisers Hyderabad</td><td>field</td><td>Sunrisers Hyderabad</td><td>Won</td></tr><tr><td>734000</td><td>Chennai Super Kings</td><td>field</td><td>Chennai Super Kings</td><td>Won</td></tr><tr><td>734002</td><td>Kolkata Knight Riders</td><td>field</td><td>Kolkata Knight Riders</td><td>Won</td></tr><tr><td>734004</td><td>Royal Challengers Bangalore</td><td>bat</td><td>Rajasthan Royals</td><td>Lost</td></tr><tr><td>734006</td><td>Sunrisers Hyderabad</td><td>bat</td><td>Mumbai Indians</td><td>Lost</td></tr><tr><td>734008</td><td>Rajasthan Royals</td><td>bat</td><td>Chennai Super Kings</td><td>Lost</td></tr><tr><td>734010</td><td>Delhi Daredevils</td><td>field</td><td>Royal Challengers Bangalore</td><td>Lost</td></tr><tr><td>734012</td><td>Kings XI Punjab</td><td>field</td><td>Kings XI Punjab</td><td>Won</td></tr><tr><td>734014</td><td>Kolkata Knight Riders</td><td>field</td><td>Kolkata Knight Riders</td><td>Won</td></tr><tr><td>734016</td><td>Delhi Daredevils</td><td>field</td><td>Rajasthan Royals</td><td>Lost</td></tr><tr><td>734018</td><td>Chennai Super Kings</td><td>bat</td><td>Royal Challengers Bangalore</td><td>Lost</td></tr><tr><td>734020</td><td>Sunrisers Hyderabad</td><td>bat</td><td>Kolkata Knight Riders</td><td>Lost</td></tr><tr><td>734022</td><td>Mumbai Indians</td><td>bat</td><td>Mumbai Indians</td><td>Won</td></tr><tr><td>734024</td><td>Kings XI Punjab</td><td>field</td><td>Kings XI Punjab</td><td>Won</td></tr><tr><td>734026</td><td>Royal Challengers Bangalore</td><td>bat</td><td>Sunrisers Hyderabad</td><td>Lost</td></tr><tr><td>734028</td><td>Kolkata Knight Riders</td><td>field</td><td>Kolkata Knight Riders</td><td>Won</td></tr><tr><td>734030</td><td>Mumbai Indians</td><td>field</td><td>Mumbai Indians</td><td>Won</td></tr><tr><td>734032</td><td>Royal Challengers Bangalore</td><td>field</td><td>Kolkata Knight Riders</td><td>Lost</td></tr><tr><td>734034</td><td>Sunrisers Hyderabad</td><td>field</td><td>Sunrisers Hyderabad</td><td>Won</td></tr><tr><td>734036</td><td>Delhi Daredevils</td><td>field</td><td>Mumbai Indians</td><td>Lost</td></tr><tr><td>734038</td><td>Rajasthan Royals</td><td>field</td><td>Kings XI Punjab</td><td>Lost</td></tr><tr><td>734040</td><td>Chennai Super Kings</td><td>field</td><td>Chennai Super Kings</td><td>Won</td></tr><tr><td>734042</td><td>Kolkata Knight Riders</td><td>field</td><td>Kolkata Knight Riders</td><td>Won</td></tr><tr><td>734044</td><td>Kings XI Punjab</td><td>field</td><td>Kings XI Punjab</td><td>Won</td></tr><tr><td>734046</td><td>Mumbai Indians</td><td>field</td><td>Mumbai Indians</td><td>Won</td></tr><tr><td>734048</td><td>Kings XI Punjab</td><td>field</td><td>Kolkata Knight Riders</td><td>Lost</td></tr><tr><td>734050</td><td>Chennai Super Kings</td><td>field</td><td>Chennai Super Kings</td><td>Won</td></tr><tr><td>734052</td><td>Chennai Super Kings</td><td>field</td><td>Kings XI Punjab</td><td>Lost</td></tr><tr><td>734054</td><td>Kolkata Knight Riders</td><td>field</td><td>Kolkata Knight Riders</td><td>Won</td></tr><tr><td>829710</td><td>Kolkata Knight Riders</td><td>field</td><td>Kolkata Knight Riders</td><td>Won</td></tr><tr><td>829712</td><td>Delhi Daredevils</td><td>field</td><td>Chennai Super Kings</td><td>Lost</td></tr><tr><td>829714</td><td>Kings XI Punjab</td><td>field</td><td>Rajasthan Royals</td><td>Lost</td></tr><tr><td>829716</td><td>Chennai Super Kings</td><td>bat</td><td>Chennai Super Kings</td><td>Won</td></tr><tr><td>829718</td><td>Royal Challengers Bangalore</td><td>field</td><td>Royal Challengers Bangalore</td><td>Won</td></tr><tr><td>829720</td><td>Rajasthan Royals</td><td>field</td><td>Rajasthan Royals</td><td>Won</td></tr><tr><td>829722</td><td>Mumbai Indians</td><td>field</td><td>Kings XI Punjab</td><td>Lost</td></tr><tr><td>829724</td><td>Sunrisers Hyderabad</td><td>field</td><td>Sunrisers Hyderabad</td><td>Won</td></tr><tr><td>829726</td><td>Mumbai Indians</td><td>bat</td><td>Rajasthan Royals</td><td>Lost</td></tr><tr><td>829728</td><td>Kolkata Knight Riders</td><td>field</td><td>Kolkata Knight Riders</td><td>Won</td></tr><tr><td>829730</td><td>Kings XI Punjab</td><td>bat</td><td>Delhi Daredevils</td><td>Lost</td></tr><tr><td>829732</td><td>Rajasthan Royals</td><td>field</td><td>Rajasthan Royals</td><td>Won</td></tr><tr><td>829734</td><td>Mumbai Indians</td><td>bat</td><td>Chennai Super Kings</td><td>Lost</td></tr><tr><td>829736</td><td>Delhi Daredevils</td><td>bat</td><td>Delhi Daredevils</td><td>Won</td></tr><tr><td>829738</td><td>Kolkata Knight Riders</td><td>field</td><td>Kolkata Knight Riders</td><td>Won</td></tr><tr><td>829740</td><td>Chennai Super Kings</td><td>bat</td><td>Rajasthan Royals</td><td>Lost</td></tr><tr><td>829742</td><td>Royal Challengers Bangalore</td><td>field</td><td>Mumbai Indians</td><td>Lost</td></tr><tr><td>829744</td><td>Kolkata Knight Riders</td><td>field</td><td>Kolkata Knight Riders</td><td>Won</td></tr><tr><td>829746</td><td>Kings XI Punjab</td><td>field</td><td>Kings XI Punjab</td><td>Won</td></tr><tr><td>829748</td><td>Kolkata Knight Riders</td><td>field</td><td>Sunrisers Hyderabad</td><td>Lost</td></tr><tr><td>829750</td><td>Royal Challengers Bangalore</td><td>field</td><td>Chennai Super Kings</td><td>Lost</td></tr><tr><td>829752</td><td>Mumbai Indians</td><td>field</td><td>Delhi Daredevils</td><td>Lost</td></tr><tr><td>829754</td><td>Royal Challengers Bangalore</td><td>field</td><td>Royal Challengers Bangalore</td><td>Won</td></tr><tr><td>829756</td><td>Mumbai Indians</td><td>bat</td><td>Mumbai Indians</td><td>Won</td></tr><tr><td>829758</td><td>Chennai Super Kings</td><td>bat</td><td>Chennai Super Kings</td><td>Won</td></tr><tr><td>829762</td><td>Royal Challengers Bangalore</td><td>field</td><td>Royal Challengers Bangalore</td><td>Won</td></tr><tr><td>829764</td><td>Kings XI Punjab</td><td>field</td><td>Sunrisers Hyderabad</td><td>Lost</td></tr><tr><td>829766</td><td>Kolkata Knight Riders</td><td>bat</td><td>Kolkata Knight Riders</td><td>Won</td></tr><tr><td>829768</td><td>Rajasthan Royals</td><td>field</td><td>NULL</td><td>Lost</td></tr><tr><td>829770</td><td>Kolkata Knight Riders</td><td>field</td><td>Chennai Super Kings</td><td>Lost</td></tr><tr><td>829772</td><td>Delhi Daredevils</td><td>field</td><td>Delhi Daredevils</td><td>Won</td></tr><tr><td>829774</td><td>Rajasthan Royals</td><td>field</td><td>Mumbai Indians</td><td>Lost</td></tr><tr><td>829776</td><td>Royal Challengers Bangalore</td><td>field</td><td>Royal Challengers Bangalore</td><td>Won</td></tr><tr><td>829778</td><td>Chennai Super Kings</td><td>field</td><td>Sunrisers Hyderabad</td><td>Lost</td></tr><tr><td>829780</td><td>Mumbai Indians</td><td>bat</td><td>Mumbai Indians</td><td>Won</td></tr><tr><td>829782</td><td>Delhi Daredevils</td><td>field</td><td>Rajasthan Royals</td><td>Lost</td></tr><tr><td>829784</td><td>Chennai Super Kings</td><td>bat</td><td>Chennai Super Kings</td><td>Won</td></tr><tr><td>829786</td><td>Sunrisers Hyderabad</td><td>field</td><td>Kolkata Knight Riders</td><td>Lost</td></tr><tr><td>829788</td><td>Delhi Daredevils</td><td>bat</td><td>Mumbai Indians</td><td>Lost</td></tr><tr><td>829790</td><td>Kings XI Punjab</td><td>field</td><td>Royal Challengers Bangalore</td><td>Lost</td></tr><tr><td>829792</td><td>Rajasthan Royals</td><td>field</td><td>Sunrisers Hyderabad</td><td>Lost</td></tr><tr><td>829794</td><td>Chennai Super Kings</td><td>bat</td><td>Mumbai Indians</td><td>Lost</td></tr><tr><td>829796</td><td>Kings XI Punjab</td><td>bat</td><td>Kolkata Knight Riders</td><td>Lost</td></tr><tr><td>829798</td><td>Sunrisers Hyderabad</td><td>bat</td><td>Sunrisers Hyderabad</td><td>Won</td></tr><tr><td>829800</td><td>Royal Challengers Bangalore</td><td>bat</td><td>Royal Challengers Bangalore</td><td>Won</td></tr><tr><td>829802</td><td>Chennai Super Kings</td><td>bat</td><td>Chennai Super Kings</td><td>Won</td></tr><tr><td>829804</td><td>Sunrisers Hyderabad</td><td>bat</td><td>Sunrisers Hyderabad</td><td>Won</td></tr><tr><td>829806</td><td>Chennai Super Kings</td><td>bat</td><td>Delhi Daredevils</td><td>Lost</td></tr><tr><td>829808</td><td>Royal Challengers Bangalore</td><td>field</td><td>Kings XI Punjab</td><td>Lost</td></tr><tr><td>829810</td><td>Kolkata Knight Riders</td><td>field</td><td>Mumbai Indians</td><td>Lost</td></tr><tr><td>829812</td><td>Sunrisers Hyderabad</td><td>bat</td><td>Royal Challengers Bangalore</td><td>Lost</td></tr><tr><td>829814</td><td>Kings XI Punjab</td><td>bat</td><td>Chennai Super Kings</td><td>Lost</td></tr><tr><td>829816</td><td>Rajasthan Royals</td><td>bat</td><td>Rajasthan Royals</td><td>Won</td></tr><tr><td>829818</td><td>Royal Challengers Bangalore</td><td>field</td><td>NULL</td><td>Lost</td></tr><tr><td>829820</td><td>Sunrisers Hyderabad</td><td>bat</td><td>Mumbai Indians</td><td>Lost</td></tr><tr><td>829822</td><td>Mumbai Indians</td><td>bat</td><td>Mumbai Indians</td><td>Won</td></tr><tr><td>829824</td><td>Royal Challengers Bangalore</td><td>bat</td><td>Royal Challengers Bangalore</td><td>Won</td></tr><tr><td>829826</td><td>Chennai Super Kings</td><td>field</td><td>Chennai Super Kings</td><td>Won</td></tr><tr><td>829828</td><td>Chennai Super Kings</td><td>field</td><td>Mumbai Indians</td><td>Lost</td></tr><tr><td>980906</td><td>Mumbai Indians</td><td>bat</td><td>Rising Pune Supergiants</td><td>Lost</td></tr><tr><td>980908</td><td>Kolkata Knight Riders</td><td>field</td><td>Kolkata Knight Riders</td><td>Won</td></tr><tr><td>980910</td><td>Gujarat Lions</td><td>field</td><td>Gujarat Lions</td><td>Won</td></tr><tr><td>980912</td><td>Sunrisers Hyderabad</td><td>field</td><td>Royal Challengers Bangalore</td><td>Lost</td></tr><tr><td>980914</td><td>Mumbai Indians</td><td>field</td><td>Mumbai Indians</td><td>Won</td></tr><tr><td>980916</td><td>Rising Pune Supergiants</td><td>bat</td><td>Gujarat Lions</td><td>Lost</td></tr><tr><td>980918</td><td>Delhi Daredevils</td><td>field</td><td>Delhi Daredevils</td><td>Won</td></tr><tr><td>980920</td><td>Sunrisers Hyderabad</td><td>bat</td><td>Kolkata Knight Riders</td><td>Lost</td></tr><tr><td>980922</td><td>Gujarat Lions</td><td>field</td><td>Gujarat Lions</td><td>Won</td></tr><tr><td>980924</td><td>Rising Pune Supergiants</td><td>bat</td><td>Kings XI Punjab</td><td>Lost</td></tr><tr><td>980926</td><td>Delhi Daredevils</td><td>field</td><td>Delhi Daredevils</td><td>Won</td></tr><tr><td>980928</td><td>Sunrisers Hyderabad</td><td>field</td><td>Sunrisers Hyderabad</td><td>Won</td></tr><tr><td>980930</td><td>Kolkata Knight Riders</td><td>field</td><td>Kolkata Knight Riders</td><td>Won</td></tr><tr><td>980932</td><td>Mumbai Indians</td><td>field</td><td>Mumbai Indians</td><td>Won</td></tr><tr><td>980934</td><td>Sunrisers Hyderabad</td><td>field</td><td>Sunrisers Hyderabad</td><td>Won</td></tr><tr><td>980936</td><td>Rising Pune Supergiants</td><td>field</td><td>Royal Challengers Bangalore</td><td>Lost</td></tr><tr><td>980938</td><td>Mumbai Indians</td><td>field</td><td>Delhi Daredevils</td><td>Lost</td></tr><tr><td>980940</td><td>Sunrisers Hyderabad</td><td>field</td><td>Sunrisers Hyderabad</td><td>Won</td></tr><tr><td>980942</td><td>Royal Challengers Bangalore</td><td>bat</td><td>Gujarat Lions</td><td>Lost</td></tr><tr><td>980944</td><td>Kolkata Knight Riders</td><td>field</td><td>Kolkata Knight Riders</td><td>Won</td></tr><tr><td>980946</td><td>Kings XI Punjab</td><td>field</td><td>Mumbai Indians</td><td>Lost</td></tr><tr><td>980948</td><td>Rising Pune Supergiants</td><td>field</td><td>Rising Pune Supergiants</td><td>Won</td></tr><tr><td>980950</td><td>Delhi Daredevils</td><td>field</td><td>Gujarat Lions</td><td>Lost</td></tr><tr><td>980952</td><td>Mumbai Indians</td><td>field</td><td>Mumbai Indians</td><td>Won</td></tr><tr><td>980954</td><td>Gujarat Lions</td><td>field</td><td>Gujarat Lions</td><td>Won</td></tr><tr><td>980956</td><td>Kolkata Knight Riders</td><td>field</td><td>Delhi Daredevils</td><td>Lost</td></tr><tr><td>980958</td><td>Royal Challengers Bangalore</td><td>field</td><td>Sunrisers Hyderabad</td><td>Lost</td></tr><tr><td>980960</td><td>Gujarat Lions</td><td>field</td><td>Kings XI Punjab</td><td>Lost</td></tr><tr><td>980962</td><td>Mumbai Indians</td><td>field</td><td>Mumbai Indians</td><td>Won</td></tr><tr><td>980964</td><td>Kolkata Knight Riders</td><td>field</td><td>Kolkata Knight Riders</td><td>Won</td></tr><tr><td>980966</td><td>Delhi Daredevils</td><td>field</td><td>Delhi Daredevils</td><td>Won</td></tr><tr><td>980968</td><td>Kings XI Punjab</td><td>field</td><td>Kolkata Knight Riders</td><td>Lost</td></tr><tr><td>980970</td><td>Rising Pune Supergiants</td><td>field</td><td>Rising Pune Supergiants</td><td>Won</td></tr><tr><td>980972</td><td>Sunrisers Hyderabad</td><td>field</td><td>Sunrisers Hyderabad</td><td>Won</td></tr><tr><td>980974</td><td>Royal Challengers Bangalore</td><td>field</td><td>Royal Challengers Bangalore</td><td>Won</td></tr><tr><td>980976</td><td>Delhi Daredevils</td><td>field</td><td>Kings XI Punjab</td><td>Lost</td></tr><tr><td>980978</td><td>Mumbai Indians</td><td>field</td><td>Sunrisers Hyderabad</td><td>Lost</td></tr><tr><td>980980</td><td>Gujarat Lions</td><td>field</td><td>Gujarat Lions</td><td>Won</td></tr><tr><td>980982</td><td>Kings XI Punjab</td><td>field</td><td>Royal Challengers Bangalore</td><td>Lost</td></tr><tr><td>980984</td><td>Sunrisers Hyderabad</td><td>bat</td><td>Sunrisers Hyderabad</td><td>Won</td></tr><tr><td>980986</td><td>Mumbai Indians</td><td>field</td><td>Mumbai Indians</td><td>Won</td></tr><tr><td>980988</td><td>Delhi Daredevils</td><td>field</td><td>Delhi Daredevils</td><td>Won</td></tr><tr><td>980990</td><td>Mumbai Indians</td><td>bat</td><td>Kings XI Punjab</td><td>Lost</td></tr><tr><td>980992</td><td>Gujarat Lions</td><td>field</td><td>Royal Challengers Bangalore</td><td>Lost</td></tr><tr><td>980994</td><td>Rising Pune Supergiants</td><td>bat</td><td>Kolkata Knight Riders</td><td>Lost</td></tr><tr><td>980996</td><td>Kings XI Punjab</td><td>bat</td><td>Sunrisers Hyderabad</td><td>Lost</td></tr><tr><td>980998</td><td>Delhi Daredevils</td><td>field</td><td>Mumbai Indians</td><td>Lost</td></tr><tr><td>981000</td><td>Royal Challengers Bangalore</td><td>field</td><td>Royal Challengers Bangalore</td><td>Won</td></tr><tr><td>981002</td><td>Rising Pune Supergiants</td><td>field</td><td>Rising Pune Supergiants</td><td>Won</td></tr><tr><td>981004</td><td>Kings XI Punjab</td><td>field</td><td>Royal Challengers Bangalore</td><td>Lost</td></tr><tr><td>981006</td><td>Gujarat Lions</td><td>field</td><td>Gujarat Lions</td><td>Won</td></tr><tr><td>981008</td><td>Delhi Daredevils</td><td>field</td><td>Delhi Daredevils</td><td>Won</td></tr><tr><td>981010</td><td>Kings XI Punjab</td><td>bat</td><td>Rising Pune Supergiants</td><td>Lost</td></tr><tr><td>981012</td><td>Gujarat Lions</td><td>field</td><td>Gujarat Lions</td><td>Won</td></tr><tr><td>981014</td><td>Sunrisers Hyderabad</td><td>field</td><td>Kolkata Knight Riders</td><td>Lost</td></tr><tr><td>981016</td><td>Royal Challengers Bangalore</td><td>field</td><td>Royal Challengers Bangalore</td><td>Won</td></tr><tr><td>981018</td><td>Royal Challengers Bangalore</td><td>field</td><td>Royal Challengers Bangalore</td><td>Won</td></tr><tr><td>981020</td><td>Kolkata Knight Riders</td><td>field</td><td>Sunrisers Hyderabad</td><td>Lost</td></tr><tr><td>981022</td><td>Sunrisers Hyderabad</td><td>field</td><td>Sunrisers Hyderabad</td><td>Won</td></tr><tr><td>981024</td><td>Sunrisers Hyderabad</td><td>bat</td><td>Sunrisers Hyderabad</td><td>Won</td></tr><tr><td>1082591</td><td>Royal Challengers Bangalore</td><td>Field</td><td>Sunrisers Hyderabad</td><td>Lost</td></tr><tr><td>1082592</td><td>Rising Pune Supergiant</td><td>Field</td><td>Rising Pune Supergiants</td><td>Lost</td></tr><tr><td>1082593</td><td>Kolkata Knight Riders</td><td>Field</td><td>Kolkata Knight Riders</td><td>Won</td></tr><tr><td>1082594</td><td>Kings XI Punjab</td><td>Field</td><td>Kings XI Punjab</td><td>Won</td></tr><tr><td>1082595</td><td>Royal Challengers Bangalore</td><td>Bat</td><td>Royal Challengers Bangalore</td><td>Won</td></tr><tr><td>1082596</td><td>Sunrisers Hyderabad</td><td>Field</td><td>Sunrisers Hyderabad</td><td>Won</td></tr><tr><td>1082597</td><td>Mumbai Indians</td><td>Field</td><td>Mumbai Indians</td><td>Won</td></tr><tr><td>1082598</td><td>Royal Challengers Bangalore</td><td>Bat</td><td>Kings XI Punjab</td><td>Lost</td></tr><tr><td>1082599</td><td>Rising Pune Supergiants</td><td>Field</td><td>Delhi Daredevils</td><td>Lost</td></tr><tr><td>1082600</td><td>Mumbai Indians</td><td>Field</td><td>Mumbai Indians</td><td>Won</td></tr><tr><td>1082601</td><td>Kolkata Knight Riders</td><td>Field</td><td>Kolkata Knight Riders</td><td>Won</td></tr><tr><td>1082602</td><td>Mumbai Indians</td><td>Field</td><td>Mumbai Indians</td><td>Won</td></tr><tr><td>1082603</td><td>Gujarat Lions</td><td>Field</td><td>Gujarat Lions</td><td>Won</td></tr><tr><td>1082604</td><td>Sunrisers Hyderabad</td><td>Field</td><td>Kolkata Knight Riders</td><td>Lost</td></tr><tr><td>1082605</td><td>Delhi Daredevils</td><td>Bat</td><td>Delhi Daredevils</td><td>Won</td></tr><tr><td>1082606</td><td>Mumbai Indians</td><td>Field</td><td>Mumbai Indians</td><td>Won</td></tr><tr><td>1082607</td><td>Royal Challengers Bangalore</td><td>Field</td><td>Rising Pune Supergiants</td><td>Lost</td></tr><tr><td>1082608</td><td>Delhi Daredevils</td><td>Bat</td><td>Kolkata Knight Riders</td><td>Lost</td></tr><tr><td>1082609</td><td>Kings XI Punjab</td><td>Field</td><td>Sunrisers Hyderabad</td><td>Lost</td></tr><tr><td>1082610</td><td>Gujarat Lions</td><td>Field</td><td>Royal Challengers Bangalore</td><td>Lost</td></tr><tr><td>1082611</td><td>Sunrisers Hyderabad</td><td>Bat</td><td>Sunrisers Hyderabad</td><td>Won</td></tr><tr><td>1082612</td><td>Mumbai Indians</td><td>Field</td><td>Mumbai Indians</td><td>Won</td></tr><tr><td>1082613</td><td>Gujarat Lions</td><td>Field</td><td>Gujarat Lions</td><td>Won</td></tr><tr><td>1082614</td><td>Delhi Daredevils</td><td>Field</td><td>Mumbai Indians</td><td>Lost</td></tr><tr><td>1082615</td><td>Rising Pune Supergiants</td><td>Field</td><td>Rising Pune Supergiants</td><td>Won</td></tr><tr><td>1082616</td><td>Gujarat Lions</td><td>Field</td><td>Kings XI Punjab</td><td>Lost</td></tr><tr><td>1082617</td><td>Royal Challengers Bangalore</td><td>Field</td><td>Kolkata Knight Riders</td><td>Lost</td></tr><tr><td>1082618</td><td>Mumbai Indians</td><td>Field</td><td>Rising Pune Supergiants</td><td>Lost</td></tr><tr><td>1082619</td><td>null</td><td>NA</td><td>abandoned</td><td>Lost</td></tr><tr><td>1082620</td><td>Kolkata Knight Riders</td><td>Field</td><td>Kolkata Knight Riders</td><td>Won</td></tr><tr><td>1082621</td><td>Gujarat Lions</td><td>Field</td><td>Gujarat Lions</td><td>Won</td></tr><tr><td>1082622</td><td>Kolkata Knight Riders</td><td>Field</td><td>Kolkata Knight Riders</td><td>Won</td></tr><tr><td>1082623</td><td>Kings XI Punjab</td><td>Field</td><td>Sunrisers Hyderabad</td><td>Lost</td></tr><tr><td>1082624</td><td>Royal Challengers Bangalore</td><td>Field</td><td>Rising Pune Supergiants</td><td>Lost</td></tr><tr><td>1082625</td><td>Gujarat Lions</td><td>Bat</td><td>tied</td><td>Lost</td></tr><tr><td>1082626</td><td>Kings XI Punjab</td><td>Field</td><td>Kings XI Punjab</td><td>Won</td></tr><tr><td>1082627</td><td>Kolkata Knight Riders</td><td>Field</td><td>Sunrisers Hyderabad</td><td>Lost</td></tr><tr><td>1082628</td><td>Royal Challengers Bangalore</td><td>Bat</td><td>Mumbai Indians</td><td>Lost</td></tr><tr><td>1082629</td><td>Rising Pune Supergiants</td><td>Field</td><td>Rising Pune Supergiants</td><td>Won</td></tr><tr><td>1082630</td><td>Delhi Daredevils</td><td>Field</td><td>Delhi Daredevils</td><td>Won</td></tr><tr><td>1082631</td><td>Rising Pune Supergiants</td><td>Field</td><td>Rising Pune Supergiants</td><td>Won</td></tr><tr><td>1082632</td><td>Delhi Daredevils</td><td>Field</td><td>Delhi Daredevils</td><td>Won</td></tr><tr><td>1082633</td><td>Royal Challengers Bangalore</td><td>Field</td><td>Kings XI Punjab</td><td>Lost</td></tr><tr><td>1082634</td><td>Sunrisers Hyderabad</td><td>Field</td><td>Rising Pune Supergiants</td><td>Lost</td></tr><tr><td>1082635</td><td>Delhi Daredevils</td><td>Field</td><td>Mumbai Indians</td><td>Lost</td></tr><tr><td>1082636</td><td>Kolkata Knight Riders</td><td>Field</td><td>Kolkata Knight Riders</td><td>Won</td></tr><tr><td>1082637</td><td>Gujarat Lions</td><td>Field</td><td>Gujarat Lions</td><td>Won</td></tr><tr><td>1082638</td><td>Mumbai Indians</td><td>Bat</td><td>Sunrisers Hyderabad</td><td>Lost</td></tr><tr><td>1082639</td><td>Kolkata Knight Riders</td><td>Field</td><td>Kings XI Punjab</td><td>Lost</td></tr><tr><td>1082640</td><td>Delhi Daredevils</td><td>Field</td><td>Delhi Daredevils</td><td>Won</td></tr><tr><td>1082641</td><td>Mumbai Indians</td><td>Field</td><td>Kings XI Punjab</td><td>Lost</td></tr><tr><td>1082642</td><td>Delhi Daredevils</td><td>Bat</td><td>Delhi Daredevils</td><td>Won</td></tr><tr><td>1082643</td><td>Sunrisers Hyderabad</td><td>Field</td><td>Sunrisers Hyderabad</td><td>Won</td></tr><tr><td>1082644</td><td>Kolkata Knight Riders</td><td>Field</td><td>Mumbai Indians</td><td>Lost</td></tr><tr><td>1082645</td><td>Rising Pune Supergiants</td><td>Field</td><td>Rising Pune Supergiants</td><td>Won</td></tr><tr><td>1082646</td><td>Royal Challengers Bangalore</td><td>Bat</td><td>Royal Challengers Bangalore</td><td>Won</td></tr><tr><td>1082647</td><td>Mumbai Indians</td><td>Field</td><td>Rising Pune Supergiants</td><td>Lost</td></tr><tr><td>1082648</td><td>Kolkata Knight Riders</td><td>Field</td><td>Kolkata Knight Riders</td><td>Won</td></tr><tr><td>1082649</td><td>Mumbai Indians</td><td>Field</td><td>Mumbai Indians</td><td>Won</td></tr><tr><td>1082650</td><td>Mumbai Indians</td><td>Bat</td><td>Mumbai Indians</td><td>Won</td></tr></tbody></table></div>"
      ]
     },
     "metadata": {
      "application/vnd.databricks.v1+output": {
       "addedWidgets": {},
       "aggData": [],
       "aggError": "",
       "aggOverflow": false,
       "aggSchema": [],
       "aggSeriesLimitReached": false,
       "aggType": "",
       "arguments": {},
       "columnCustomDisplayInfos": {},
       "data": [
        [
         335987,
         "Royal Challengers Bangalore",
         "field",
         "Kolkata Knight Riders",
         "Lost"
        ],
        [
         335988,
         "Chennai Super Kings",
         "bat",
         "Chennai Super Kings",
         "Won"
        ],
        [
         335989,
         "Rajasthan Royals",
         "bat",
         "Delhi Daredevils",
         "Lost"
        ],
        [
         335990,
         "Mumbai Indians",
         "bat",
         "Royal Challengers Bangalore",
         "Lost"
        ],
        [
         335991,
         "Deccan Chargers",
         "bat",
         "Kolkata Knight Riders",
         "Lost"
        ],
        [
         335992,
         "Kings XI Punjab",
         "bat",
         "Rajasthan Royals",
         "Lost"
        ],
        [
         335993,
         "Deccan Chargers",
         "bat",
         "Delhi Daredevils",
         "Lost"
        ],
        [
         335994,
         "Mumbai Indians",
         "field",
         "Chennai Super Kings",
         "Lost"
        ],
        [
         335995,
         "Rajasthan Royals",
         "field",
         "Rajasthan Royals",
         "Won"
        ],
        [
         335996,
         "Mumbai Indians",
         "field",
         "Kings XI Punjab",
         "Lost"
        ],
        [
         335997,
         "Rajasthan Royals",
         "field",
         "Rajasthan Royals",
         "Won"
        ],
        [
         335998,
         "Kolkata Knight Riders",
         "bat",
         "Chennai Super Kings",
         "Lost"
        ],
        [
         335999,
         "Deccan Chargers",
         "field",
         "Deccan Chargers",
         "Won"
        ],
        [
         336000,
         "Delhi Daredevils",
         "bat",
         "Kings XI Punjab",
         "Lost"
        ],
        [
         336001,
         "Chennai Super Kings",
         "bat",
         "Chennai Super Kings",
         "Won"
        ],
        [
         336002,
         "Kolkata Knight Riders",
         "bat",
         "Mumbai Indians",
         "Lost"
        ],
        [
         336003,
         "Royal Challengers Bangalore",
         "field",
         "Delhi Daredevils",
         "Lost"
        ],
        [
         336004,
         "Kings XI Punjab",
         "field",
         "Kings XI Punjab",
         "Won"
        ],
        [
         336005,
         "Rajasthan Royals",
         "bat",
         "Rajasthan Royals",
         "Won"
        ],
        [
         336006,
         "Chennai Super Kings",
         "bat",
         "Delhi Daredevils",
         "Lost"
        ],
        [
         336007,
         "Deccan Chargers",
         "bat",
         "Royal Challengers Bangalore",
         "Lost"
        ],
        [
         336008,
         "Kings XI Punjab",
         "bat",
         "Kings XI Punjab",
         "Won"
        ],
        [
         336009,
         "Delhi Daredevils",
         "field",
         "Mumbai Indians",
         "Lost"
        ],
        [
         336010,
         "Chennai Super Kings",
         "bat",
         "Rajasthan Royals",
         "Lost"
        ],
        [
         336011,
         "Kings XI Punjab",
         "field",
         "Kings XI Punjab",
         "Won"
        ],
        [
         336012,
         "Deccan Chargers",
         "field",
         "Deccan Chargers",
         "Won"
        ],
        [
         336013,
         "Mumbai Indians",
         "field",
         "Mumbai Indians",
         "Won"
        ],
        [
         336014,
         "Chennai Super Kings",
         "field",
         "Chennai Super Kings",
         "Won"
        ],
        [
         336015,
         "Kolkata Knight Riders",
         "bat",
         "Kolkata Knight Riders",
         "Won"
        ],
        [
         336016,
         "Rajasthan Royals",
         "field",
         "Rajasthan Royals",
         "Won"
        ],
        [
         336017,
         "Mumbai Indians",
         "field",
         "Mumbai Indians",
         "Won"
        ],
        [
         336018,
         "Kings XI Punjab",
         "field",
         "Chennai Super Kings",
         "Lost"
        ],
        [
         336019,
         "Kolkata Knight Riders",
         "bat",
         "Kolkata Knight Riders",
         "Won"
        ],
        [
         336020,
         "Rajasthan Royals",
         "field",
         "Rajasthan Royals",
         "Won"
        ],
        [
         336021,
         "Royal Challengers Bangalore",
         "bat",
         "Kings XI Punjab",
         "Lost"
        ],
        [
         336022,
         "Kolkata Knight Riders",
         "bat",
         "Kolkata Knight Riders",
         "Won"
        ],
        [
         336023,
         "Mumbai Indians",
         "field",
         "Mumbai Indians",
         "Won"
        ],
        [
         336024,
         "Rajasthan Royals",
         "field",
         "Kings XI Punjab",
         "Lost"
        ],
        [
         336025,
         "Deccan Chargers",
         "field",
         "Delhi Daredevils",
         "Lost"
        ],
        [
         336026,
         "Mumbai Indians",
         "field",
         "Mumbai Indians",
         "Won"
        ],
        [
         336027,
         "Delhi Daredevils",
         "bat",
         "Kings XI Punjab",
         "Lost"
        ],
        [
         336028,
         "Royal Challengers Bangalore",
         "field",
         "Rajasthan Royals",
         "Lost"
        ],
        [
         336029,
         "Deccan Chargers",
         "field",
         "Mumbai Indians",
         "Lost"
        ],
        [
         336030,
         "Kolkata Knight Riders",
         "bat",
         "Chennai Super Kings",
         "Lost"
        ],
        [
         336031,
         "Delhi Daredevils",
         "field",
         "Delhi Daredevils",
         "Won"
        ],
        [
         336032,
         "Rajasthan Royals",
         "field",
         "Rajasthan Royals",
         "Won"
        ],
        [
         336033,
         "Mumbai Indians",
         "field",
         "Kings XI Punjab",
         "Lost"
        ],
        [
         336034,
         "Royal Challengers Bangalore",
         "bat",
         "Royal Challengers Bangalore",
         "Won"
        ],
        [
         336036,
         "Kings XI Punjab",
         "field",
         "Kings XI Punjab",
         "Won"
        ],
        [
         336037,
         "Delhi Daredevils",
         "field",
         "Delhi Daredevils",
         "Won"
        ],
        [
         336038,
         "Rajasthan Royals",
         "bat",
         "Rajasthan Royals",
         "Won"
        ],
        [
         336039,
         "Deccan Chargers",
         "field",
         "Royal Challengers Bangalore",
         "Lost"
        ],
        [
         336040,
         "Kings XI Punjab",
         "bat",
         "Kolkata Knight Riders",
         "Lost"
        ],
        [
         336041,
         "Rajasthan Royals",
         "field",
         "Rajasthan Royals",
         "Won"
        ],
        [
         336042,
         "Deccan Chargers",
         "bat",
         "Chennai Super Kings",
         "Lost"
        ],
        [
         336043,
         "Delhi Daredevils",
         "field",
         "Rajasthan Royals",
         "Lost"
        ],
        [
         336044,
         "Kings XI Punjab",
         "bat",
         "Chennai Super Kings",
         "Lost"
        ],
        [
         336045,
         "Rajasthan Royals",
         "field",
         "Rajasthan Royals",
         "Won"
        ],
        [
         392186,
         "Chennai Super Kings",
         "field",
         "Mumbai Indians",
         "Lost"
        ],
        [
         392187,
         "Royal Challengers Bangalore",
         "bat",
         "Royal Challengers Bangalore",
         "Won"
        ],
        [
         392188,
         "Delhi Daredevils",
         "field",
         "Delhi Daredevils",
         "Won"
        ],
        [
         392189,
         "Kolkata Knight Riders",
         "bat",
         "Deccan Chargers",
         "Lost"
        ],
        [
         392190,
         "Chennai Super Kings",
         "bat",
         "Chennai Super Kings",
         "Won"
        ],
        [
         392191,
         "Kolkata Knight Riders",
         "field",
         "Kolkata Knight Riders",
         "Won"
        ],
        [
         392193,
         "Deccan Chargers",
         "bat",
         "Deccan Chargers",
         "Won"
        ],
        [
         392194,
         "Delhi Daredevils",
         "bat",
         "Delhi Daredevils",
         "Won"
        ],
        [
         392195,
         "Kolkata Knight Riders",
         "field",
         "Rajasthan Royals",
         "Lost"
        ],
        [
         392196,
         "Royal Challengers Bangalore",
         "bat",
         "Kings XI Punjab",
         "Lost"
        ],
        [
         392197,
         "Deccan Chargers",
         "bat",
         "Deccan Chargers",
         "Won"
        ],
        [
         392199,
         "Royal Challengers Bangalore",
         "bat",
         "Delhi Daredevils",
         "Lost"
        ],
        [
         392200,
         "Kings XI Punjab",
         "bat",
         "Kings XI Punjab",
         "Won"
        ],
        [
         392201,
         "Deccan Chargers",
         "field",
         "Deccan Chargers",
         "Won"
        ],
        [
         392202,
         "Mumbai Indians",
         "bat",
         "Mumbai Indians",
         "Won"
        ],
        [
         392203,
         "Delhi Daredevils",
         "bat",
         "Rajasthan Royals",
         "Lost"
        ],
        [
         392204,
         "Kolkata Knight Riders",
         "bat",
         "Royal Challengers Bangalore",
         "Lost"
        ],
        [
         392205,
         "Kings XI Punjab",
         "bat",
         "Kings XI Punjab",
         "Won"
        ],
        [
         392206,
         "Delhi Daredevils",
         "field",
         "Delhi Daredevils",
         "Won"
        ],
        [
         392207,
         "Rajasthan Royals",
         "field",
         "Chennai Super Kings",
         "Lost"
        ],
        [
         392208,
         "Mumbai Indians",
         "bat",
         "Mumbai Indians",
         "Won"
        ],
        [
         392209,
         "Royal Challengers Bangalore",
         "bat",
         "Royal Challengers Bangalore",
         "Won"
        ],
        [
         392210,
         "Deccan Chargers",
         "bat",
         "Rajasthan Royals",
         "Lost"
        ],
        [
         392211,
         "Delhi Daredevils",
         "field",
         "Chennai Super Kings",
         "Lost"
        ],
        [
         392212,
         "Kolkata Knight Riders",
         "bat",
         "Kings XI Punjab",
         "Lost"
        ],
        [
         392213,
         "Mumbai Indians",
         "bat",
         "Royal Challengers Bangalore",
         "Lost"
        ],
        [
         392214,
         "Chennai Super Kings",
         "bat",
         "Chennai Super Kings",
         "Won"
        ],
        [
         392215,
         "Kings XI Punjab",
         "field",
         "Rajasthan Royals",
         "Lost"
        ],
        [
         392216,
         "Kolkata Knight Riders",
         "bat",
         "Delhi Daredevils",
         "Lost"
        ],
        [
         392217,
         "Deccan Chargers",
         "bat",
         "Deccan Chargers",
         "Won"
        ],
        [
         392218,
         "Rajasthan Royals",
         "field",
         "Rajasthan Royals",
         "Won"
        ],
        [
         392219,
         "Chennai Super Kings",
         "bat",
         "Chennai Super Kings",
         "Won"
        ],
        [
         392220,
         "Mumbai Indians",
         "bat",
         "Delhi Daredevils",
         "Lost"
        ],
        [
         392221,
         "Kings XI Punjab",
         "field",
         "Kings XI Punjab",
         "Won"
        ],
        [
         392222,
         "Rajasthan Royals",
         "bat",
         "Chennai Super Kings",
         "Lost"
        ],
        [
         392223,
         "Mumbai Indians",
         "bat",
         "Mumbai Indians",
         "Won"
        ],
        [
         392224,
         "Delhi Daredevils",
         "field",
         "Delhi Daredevils",
         "Won"
        ],
        [
         392225,
         "Deccan Chargers",
         "bat",
         "Deccan Chargers",
         "Won"
        ],
        [
         392226,
         "Royal Challengers Bangalore",
         "field",
         "Royal Challengers Bangalore",
         "Won"
        ],
        [
         392227,
         "Kings XI Punjab",
         "bat",
         "Mumbai Indians",
         "Lost"
        ],
        [
         392228,
         "Deccan Chargers",
         "field",
         "Delhi Daredevils",
         "Lost"
        ],
        [
         392229,
         "Chennai Super Kings",
         "bat",
         "Royal Challengers Bangalore",
         "Lost"
        ],
        [
         392230,
         "Rajasthan Royals",
         "bat",
         "Rajasthan Royals",
         "Won"
        ],
        [
         392231,
         "Kings XI Punjab",
         "field",
         "Kings XI Punjab",
         "Won"
        ],
        [
         392232,
         "Mumbai Indians",
         "bat",
         "Chennai Super Kings",
         "Lost"
        ],
        [
         392233,
         "Deccan Chargers",
         "field",
         "Deccan Chargers",
         "Won"
        ],
        [
         392234,
         "Deccan Chargers",
         "field",
         "Kings XI Punjab",
         "Lost"
        ],
        [
         392235,
         "Delhi Daredevils",
         "bat",
         "Delhi Daredevils",
         "Won"
        ],
        [
         392236,
         "Chennai Super Kings",
         "bat",
         "Kolkata Knight Riders",
         "Lost"
        ],
        [
         392237,
         "Delhi Daredevils",
         "bat",
         "Royal Challengers Bangalore",
         "Lost"
        ],
        [
         392238,
         "Kolkata Knight Riders",
         "field",
         "Kolkata Knight Riders",
         "Won"
        ],
        [
         392239,
         "Chennai Super Kings",
         "bat",
         "Chennai Super Kings",
         "Won"
        ],
        [
         392240,
         "Delhi Daredevils",
         "field",
         "Delhi Daredevils",
         "Won"
        ],
        [
         392241,
         "Royal Challengers Bangalore",
         "bat",
         "Royal Challengers Bangalore",
         "Won"
        ],
        [
         392242,
         "Deccan Chargers",
         "field",
         "Deccan Chargers",
         "Won"
        ],
        [
         392243,
         "Royal Challengers Bangalore",
         "field",
         "Royal Challengers Bangalore",
         "Won"
        ],
        [
         392244,
         "Royal Challengers Bangalore",
         "field",
         "Deccan Chargers",
         "Lost"
        ],
        [
         419111,
         "Deccan Chargers",
         "field",
         "Kolkata Knight Riders",
         "Lost"
        ],
        [
         419112,
         "Mumbai Indians",
         "bat",
         "Mumbai Indians",
         "Won"
        ],
        [
         419113,
         "Delhi Daredevils",
         "field",
         "Delhi Daredevils",
         "Won"
        ],
        [
         419114,
         "Kolkata Knight Riders",
         "field",
         "Kolkata Knight Riders",
         "Won"
        ],
        [
         419115,
         "Deccan Chargers",
         "bat",
         "Deccan Chargers",
         "Won"
        ],
        [
         419116,
         "Delhi Daredevils",
         "field",
         "Delhi Daredevils",
         "Won"
        ],
        [
         419117,
         "Kings XI Punjab",
         "bat",
         "Royal Challengers Bangalore",
         "Lost"
        ],
        [
         419118,
         "Chennai Super Kings",
         "bat",
         "Chennai Super Kings",
         "Won"
        ],
        [
         419119,
         "Delhi Daredevils",
         "field",
         "Mumbai Indians",
         "Lost"
        ],
        [
         419120,
         "Royal Challengers Bangalore",
         "field",
         "Royal Challengers Bangalore",
         "Won"
        ],
        [
         419121,
         "Delhi Daredevils",
         "bat",
         "Chennai Super Kings",
         "Lost"
        ],
        [
         419122,
         "Kings XI Punjab",
         "field",
         "Deccan Chargers",
         "Lost"
        ],
        [
         419123,
         "Rajasthan Royals",
         "bat",
         "Rajasthan Royals",
         "Won"
        ],
        [
         419124,
         "Mumbai Indians",
         "bat",
         "Royal Challengers Bangalore",
         "Lost"
        ],
        [
         419125,
         "Deccan Chargers",
         "bat",
         "Deccan Chargers",
         "Won"
        ],
        [
         419126,
         "Chennai Super Kings",
         "field",
         "Kings XI Punjab",
         "Lost"
        ],
        [
         419127,
         "Kolkata Knight Riders",
         "bat",
         "Mumbai Indians",
         "Lost"
        ],
        [
         419128,
         "Chennai Super Kings",
         "field",
         "Royal Challengers Bangalore",
         "Lost"
        ],
        [
         419129,
         "Kings XI Punjab",
         "field",
         "Rajasthan Royals",
         "Lost"
        ],
        [
         419130,
         "Mumbai Indians",
         "field",
         "Mumbai Indians",
         "Won"
        ],
        [
         419131,
         "Deccan Chargers",
         "bat",
         "Rajasthan Royals",
         "Lost"
        ],
        [
         419132,
         "Kolkata Knight Riders",
         "bat",
         "Kolkata Knight Riders",
         "Won"
        ],
        [
         419133,
         "Royal Challengers Bangalore",
         "field",
         "Delhi Daredevils",
         "Lost"
        ],
        [
         419134,
         "Rajasthan Royals",
         "bat",
         "Rajasthan Royals",
         "Won"
        ],
        [
         419135,
         "Deccan Chargers",
         "field",
         "Mumbai Indians",
         "Lost"
        ],
        [
         419136,
         "Delhi Daredevils",
         "bat",
         "Delhi Daredevils",
         "Won"
        ],
        [
         419137,
         "Mumbai Indians",
         "field",
         "Mumbai Indians",
         "Won"
        ],
        [
         419138,
         "Royal Challengers Bangalore",
         "bat",
         "Chennai Super Kings",
         "Lost"
        ],
        [
         419139,
         "Delhi Daredevils",
         "bat",
         "Delhi Daredevils",
         "Won"
        ],
        [
         419140,
         "Kolkata Knight Riders",
         "bat",
         "Kolkata Knight Riders",
         "Won"
        ],
        [
         419141,
         "Kings XI Punjab",
         "bat",
         "Royal Challengers Bangalore",
         "Lost"
        ],
        [
         419142,
         "Chennai Super Kings",
         "bat",
         "Chennai Super Kings",
         "Won"
        ],
        [
         419143,
         "Mumbai Indians",
         "bat",
         "Mumbai Indians",
         "Won"
        ],
        [
         419144,
         "Kolkata Knight Riders",
         "bat",
         "Kings XI Punjab",
         "Lost"
        ],
        [
         419145,
         "Delhi Daredevils",
         "bat",
         "Delhi Daredevils",
         "Won"
        ],
        [
         419146,
         "Rajasthan Royals",
         "bat",
         "Rajasthan Royals",
         "Won"
        ],
        [
         419147,
         "Chennai Super Kings",
         "bat",
         "Chennai Super Kings",
         "Won"
        ],
        [
         419148,
         "Kings XI Punjab",
         "bat",
         "Rajasthan Royals",
         "Lost"
        ],
        [
         419149,
         "Kolkata Knight Riders",
         "bat",
         "Kolkata Knight Riders",
         "Won"
        ],
        [
         419150,
         "Deccan Chargers",
         "field",
         "Deccan Chargers",
         "Won"
        ],
        [
         419151,
         "Mumbai Indians",
         "bat",
         "Kings XI Punjab",
         "Lost"
        ],
        [
         419152,
         "Chennai Super Kings",
         "bat",
         "Deccan Chargers",
         "Lost"
        ],
        [
         419153,
         "Royal Challengers Bangalore",
         "field",
         "Royal Challengers Bangalore",
         "Won"
        ],
        [
         419154,
         "Delhi Daredevils",
         "bat",
         "Kings XI Punjab",
         "Lost"
        ],
        [
         419155,
         "Rajasthan Royals",
         "field",
         "Mumbai Indians",
         "Lost"
        ],
        [
         419156,
         "Royal Challengers Bangalore",
         "field",
         "Deccan Chargers",
         "Lost"
        ],
        [
         419157,
         "Mumbai Indians",
         "bat",
         "Mumbai Indians",
         "Won"
        ],
        [
         419158,
         "Kolkata Knight Riders",
         "bat",
         "Chennai Super Kings",
         "Lost"
        ],
        [
         419159,
         "Rajasthan Royals",
         "bat",
         "Royal Challengers Bangalore",
         "Lost"
        ],
        [
         419160,
         "Chennai Super Kings",
         "bat",
         "Delhi Daredevils",
         "Lost"
        ],
        [
         419161,
         "Deccan Chargers",
         "field",
         "Deccan Chargers",
         "Won"
        ],
        [
         419162,
         "Royal Challengers Bangalore",
         "field",
         "Mumbai Indians",
         "Lost"
        ],
        [
         419163,
         "Rajasthan Royals",
         "bat",
         "Kolkata Knight Riders",
         "Lost"
        ],
        [
         419164,
         "Chennai Super Kings",
         "field",
         "Chennai Super Kings",
         "Won"
        ],
        [
         419165,
         "Deccan Chargers",
         "bat",
         "Deccan Chargers",
         "Won"
        ],
        [
         419166,
         "Mumbai Indians",
         "bat",
         "Kolkata Knight Riders",
         "Lost"
        ],
        [
         419167,
         "Mumbai Indians",
         "bat",
         "Mumbai Indians",
         "Won"
        ],
        [
         419168,
         "Chennai Super Kings",
         "bat",
         "Chennai Super Kings",
         "Won"
        ],
        [
         419169,
         "Deccan Chargers",
         "bat",
         "Royal Challengers Bangalore",
         "Lost"
        ],
        [
         419170,
         "Chennai Super Kings",
         "bat",
         "Chennai Super Kings",
         "Won"
        ],
        [
         501203,
         "Chennai Super Kings",
         "bat",
         "Chennai Super Kings",
         "Won"
        ],
        [
         501204,
         "Rajasthan Royals",
         "field",
         "Rajasthan Royals",
         "Won"
        ],
        [
         501205,
         "Kochi Tuskers Kerala",
         "bat",
         "Royal Challengers Bangalore",
         "Lost"
        ],
        [
         501206,
         "Delhi Daredevils",
         "bat",
         "Mumbai Indians",
         "Lost"
        ],
        [
         501207,
         "Kings XI Punjab",
         "bat",
         "Pune Warriors",
         "Lost"
        ],
        [
         501208,
         "Kolkata Knight Riders",
         "bat",
         "Kolkata Knight Riders",
         "Won"
        ],
        [
         501209,
         "Delhi Daredevils",
         "bat",
         "Rajasthan Royals",
         "Lost"
        ],
        [
         501210,
         "Mumbai Indians",
         "field",
         "Mumbai Indians",
         "Won"
        ],
        [
         501211,
         "Kings XI Punjab",
         "field",
         "Kings XI Punjab",
         "Won"
        ],
        [
         501212,
         "Kochi Tuskers Kerala",
         "bat",
         "Pune Warriors",
         "Lost"
        ],
        [
         501213,
         "Royal Challengers Bangalore",
         "field",
         "Deccan Chargers",
         "Lost"
        ],
        [
         501214,
         "Kolkata Knight Riders",
         "field",
         "Kolkata Knight Riders",
         "Won"
        ],
        [
         501215,
         "Kochi Tuskers Kerala",
         "field",
         "Kochi Tuskers Kerala",
         "Won"
        ],
        [
         501216,
         "Chennai Super Kings",
         "bat",
         "Chennai Super Kings",
         "Won"
        ],
        [
         501217,
         "Kings XI Punjab",
         "field",
         "Kings XI Punjab",
         "Won"
        ],
        [
         501218,
         "Delhi Daredevils",
         "field",
         "Delhi Daredevils",
         "Won"
        ],
        [
         501219,
         "Kolkata Knight Riders",
         "field",
         "Kolkata Knight Riders",
         "Won"
        ],
        [
         501220,
         "Kochi Tuskers Kerala",
         "field",
         "Kochi Tuskers Kerala",
         "Won"
        ],
        [
         501221,
         "Deccan Chargers",
         "bat",
         "Deccan Chargers",
         "Won"
        ],
        [
         501223,
         "Pune Warriors",
         "bat",
         "Mumbai Indians",
         "Lost"
        ],
        [
         501224,
         "Kolkata Knight Riders",
         "field",
         "Kochi Tuskers Kerala",
         "Lost"
        ],
        [
         501225,
         "Rajasthan Royals",
         "field",
         "Kings XI Punjab",
         "Lost"
        ],
        [
         501226,
         "Chennai Super Kings",
         "field",
         "Mumbai Indians",
         "Lost"
        ],
        [
         501227,
         "Royal Challengers Bangalore",
         "field",
         "Royal Challengers Bangalore",
         "Won"
        ],
        [
         501228,
         "Kings XI Punjab",
         "field",
         "Delhi Daredevils",
         "Lost"
        ],
        [
         501229,
         "Deccan Chargers",
         "field",
         "Mumbai Indians",
         "Lost"
        ],
        [
         501230,
         "Rajasthan Royals",
         "field",
         "Rajasthan Royals",
         "Won"
        ],
        [
         501231,
         "Pune Warriors",
         "field",
         "Chennai Super Kings",
         "Lost"
        ],
        [
         501232,
         "Royal Challengers Bangalore",
         "field",
         "Royal Challengers Bangalore",
         "Won"
        ],
        [
         501233,
         "Pune Warriors",
         "bat",
         "Chennai Super Kings",
         "Lost"
        ],
        [
         501234,
         "Kochi Tuskers Kerala",
         "field",
         "Deccan Chargers",
         "Lost"
        ],
        [
         501235,
         "Delhi Daredevils",
         "field",
         "Kolkata Knight Riders",
         "Lost"
        ],
        [
         501236,
         "Rajasthan Royals",
         "field",
         "Rajasthan Royals",
         "Won"
        ],
        [
         501237,
         "Pune Warriors",
         "field",
         "Royal Challengers Bangalore",
         "Lost"
        ],
        [
         501238,
         "Delhi Daredevils",
         "bat",
         "Delhi Daredevils",
         "Won"
        ],
        [
         501239,
         "Kolkata Knight Riders",
         "field",
         "Kolkata Knight Riders",
         "Won"
        ],
        [
         501240,
         "Rajasthan Royals",
         "field",
         "Rajasthan Royals",
         "Won"
        ],
        [
         501241,
         "Chennai Super Kings",
         "bat",
         "Chennai Super Kings",
         "Won"
        ],
        [
         501242,
         "Kings XI Punjab",
         "field",
         "Mumbai Indians",
         "Lost"
        ],
        [
         501243,
         "Kochi Tuskers Kerala",
         "field",
         "Kochi Tuskers Kerala",
         "Won"
        ],
        [
         501244,
         "Deccan Chargers",
         "field",
         "Kolkata Knight Riders",
         "Lost"
        ],
        [
         501245,
         "Rajasthan Royals",
         "bat",
         "Chennai Super Kings",
         "Lost"
        ],
        [
         501246,
         "Pune Warriors",
         "field",
         "Mumbai Indians",
         "Lost"
        ],
        [
         501247,
         "Kolkata Knight Riders",
         "field",
         "Kochi Tuskers Kerala",
         "Lost"
        ],
        [
         501248,
         "Delhi Daredevils",
         "field",
         "Delhi Daredevils",
         "Won"
        ],
        [
         501249,
         "Kings XI Punjab",
         "field",
         "Royal Challengers Bangalore",
         "Lost"
        ],
        [
         501250,
         "Chennai Super Kings",
         "bat",
         "Kolkata Knight Riders",
         "Lost"
        ],
        [
         501251,
         "Delhi Daredevils",
         "field",
         "Mumbai Indians",
         "Lost"
        ],
        [
         501252,
         "Kochi Tuskers Kerala",
         "bat",
         "Royal Challengers Bangalore",
         "Lost"
        ],
        [
         501253,
         "Kings XI Punjab",
         "bat",
         "Pune Warriors",
         "Lost"
        ],
        [
         501254,
         "Rajasthan Royals",
         "field",
         "Chennai Super Kings",
         "Lost"
        ],
        [
         501255,
         "Deccan Chargers",
         "bat",
         "Pune Warriors",
         "Lost"
        ],
        [
         501256,
         "Mumbai Indians",
         "field",
         "Kings XI Punjab",
         "Lost"
        ],
        [
         501257,
         "Royal Challengers Bangalore",
         "field",
         "Royal Challengers Bangalore",
         "Won"
        ],
        [
         501258,
         "Chennai Super Kings",
         "bat",
         "Chennai Super Kings",
         "Won"
        ],
        [
         501259,
         "Kings XI Punjab",
         "field",
         "Kings XI Punjab",
         "Won"
        ],
        [
         501260,
         "Royal Challengers Bangalore",
         "field",
         "Royal Challengers Bangalore",
         "Won"
        ],
        [
         501261,
         "Deccan Chargers",
         "bat",
         "Deccan Chargers",
         "Won"
        ],
        [
         501262,
         "Delhi Daredevils",
         "field",
         "Kings XI Punjab",
         "Lost"
        ],
        [
         501263,
         "Kochi Tuskers Kerala",
         "field",
         "Kochi Tuskers Kerala",
         "Won"
        ],
        [
         501264,
         "Deccan Chargers",
         "field",
         "Deccan Chargers",
         "Won"
        ],
        [
         501265,
         "Kings XI Punjab",
         "bat",
         "Kings XI Punjab",
         "Won"
        ],
        [
         501266,
         "Chennai Super Kings",
         "bat",
         "Chennai Super Kings",
         "Won"
        ],
        [
         501267,
         "Kolkata Knight Riders",
         "field",
         "Kolkata Knight Riders",
         "Won"
        ],
        [
         501268,
         "Mumbai Indians",
         "bat",
         "Rajasthan Royals",
         "Lost"
        ],
        [
         501269,
         "Kings XI Punjab",
         "field",
         "Deccan Chargers",
         "Lost"
        ],
        [
         501270,
         "Delhi Daredevils",
         "bat",
         "NULL",
         "Lost"
        ],
        [
         501271,
         "Royal Challengers Bangalore",
         "field",
         "Royal Challengers Bangalore",
         "Won"
        ],
        [
         501272,
         "Mumbai Indians",
         "field",
         "Mumbai Indians",
         "Won"
        ],
        [
         501273,
         "Chennai Super Kings",
         "field",
         "Chennai Super Kings",
         "Won"
        ],
        [
         501274,
         "Mumbai Indians",
         "field",
         "Mumbai Indians",
         "Won"
        ],
        [
         501275,
         "Mumbai Indians",
         "field",
         "Royal Challengers Bangalore",
         "Lost"
        ],
        [
         501276,
         "Chennai Super Kings",
         "bat",
         "Chennai Super Kings",
         "Won"
        ],
        [
         548311,
         "Mumbai Indians",
         "field",
         "Mumbai Indians",
         "Won"
        ],
        [
         548312,
         "Delhi Daredevils",
         "field",
         "Delhi Daredevils",
         "Won"
        ],
        [
         548313,
         "Mumbai Indians",
         "field",
         "Pune Warriors",
         "Lost"
        ],
        [
         548314,
         "Kings XI Punjab",
         "field",
         "Rajasthan Royals",
         "Lost"
        ],
        [
         548315,
         "Delhi Daredevils",
         "field",
         "Royal Challengers Bangalore",
         "Lost"
        ],
        [
         548316,
         "Deccan Chargers",
         "field",
         "Chennai Super Kings",
         "Lost"
        ],
        [
         548317,
         "Kolkata Knight Riders",
         "field",
         "Rajasthan Royals",
         "Lost"
        ],
        [
         548318,
         "Pune Warriors",
         "bat",
         "Pune Warriors",
         "Won"
        ],
        [
         548319,
         "Deccan Chargers",
         "bat",
         "Mumbai Indians",
         "Lost"
        ],
        [
         548320,
         "Royal Challengers Bangalore",
         "field",
         "Kolkata Knight Riders",
         "Lost"
        ],
        [
         548321,
         "Delhi Daredevils",
         "field",
         "Delhi Daredevils",
         "Won"
        ],
        [
         548322,
         "Rajasthan Royals",
         "field",
         "Mumbai Indians",
         "Lost"
        ],
        [
         548323,
         "Royal Challengers Bangalore",
         "bat",
         "Chennai Super Kings",
         "Lost"
        ],
        [
         548324,
         "Kings XI Punjab",
         "field",
         "Kings XI Punjab",
         "Won"
        ],
        [
         548325,
         "Rajasthan Royals",
         "bat",
         "Kolkata Knight Riders",
         "Lost"
        ],
        [
         548326,
         "Deccan Chargers",
         "bat",
         "Delhi Daredevils",
         "Lost"
        ],
        [
         548327,
         "Chennai Super Kings",
         "bat",
         "Pune Warriors",
         "Lost"
        ],
        [
         548328,
         "Kolkata Knight Riders",
         "field",
         "Kings XI Punjab",
         "Lost"
        ],
        [
         548329,
         "Rajasthan Royals",
         "bat",
         "Rajasthan Royals",
         "Won"
        ],
        [
         548330,
         "Delhi Daredevils",
         "field",
         "Delhi Daredevils",
         "Won"
        ],
        [
         548331,
         "Deccan Chargers",
         "bat",
         "Rajasthan Royals",
         "Lost"
        ],
        [
         548332,
         "Pune Warriors",
         "bat",
         "Royal Challengers Bangalore",
         "Lost"
        ],
        [
         548333,
         "Kings XI Punjab",
         "bat",
         "Kolkata Knight Riders",
         "Lost"
        ],
        [
         548334,
         "Deccan Chargers",
         "bat",
         "Delhi Daredevils",
         "Lost"
        ],
        [
         548335,
         "Pune Warriors",
         "field",
         "Chennai Super Kings",
         "Lost"
        ],
        [
         548336,
         "Royal Challengers Bangalore",
         "field",
         "Royal Challengers Bangalore",
         "Won"
        ],
        [
         548337,
         "Rajasthan Royals",
         "bat",
         "Chennai Super Kings",
         "Lost"
        ],
        [
         548338,
         "Delhi Daredevils",
         "field",
         "Pune Warriors",
         "Lost"
        ],
        [
         548339,
         "Mumbai Indians",
         "bat",
         "Kings XI Punjab",
         "Lost"
        ],
        [
         548340,
         "Kolkata Knight Riders",
         "field",
         "Kolkata Knight Riders",
         "Won"
        ],
        [
         548341,
         "Rajasthan Royals",
         "field",
         "Royal Challengers Bangalore",
         "Lost"
        ],
        [
         548342,
         "Pune Warriors",
         "bat",
         "Delhi Daredevils",
         "Lost"
        ],
        [
         548344,
         "Kings XI Punjab",
         "bat",
         "Mumbai Indians",
         "Lost"
        ],
        [
         548346,
         "Deccan Chargers",
         "bat",
         "Deccan Chargers",
         "Won"
        ],
        [
         548347,
         "Mumbai Indians",
         "field",
         "Delhi Daredevils",
         "Lost"
        ],
        [
         548348,
         "Kings XI Punjab",
         "bat",
         "Kings XI Punjab",
         "Won"
        ],
        [
         548349,
         "Kolkata Knight Riders",
         "bat",
         "Kolkata Knight Riders",
         "Won"
        ],
        [
         548350,
         "Delhi Daredevils",
         "bat",
         "Delhi Daredevils",
         "Won"
        ],
        [
         548351,
         "Mumbai Indians",
         "field",
         "Mumbai Indians",
         "Won"
        ],
        [
         548352,
         "Chennai Super Kings",
         "bat",
         "Kolkata Knight Riders",
         "Lost"
        ],
        [
         548353,
         "Deccan Chargers",
         "bat",
         "Deccan Chargers",
         "Won"
        ],
        [
         548354,
         "Rajasthan Royals",
         "bat",
         "Delhi Daredevils",
         "Lost"
        ],
        [
         548355,
         "Kings XI Punjab",
         "field",
         "Kings XI Punjab",
         "Won"
        ],
        [
         548356,
         "Mumbai Indians",
         "bat",
         "Mumbai Indians",
         "Won"
        ],
        [
         548357,
         "Chennai Super Kings",
         "bat",
         "Chennai Super Kings",
         "Won"
        ],
        [
         548358,
         "Kolkata Knight Riders",
         "bat",
         "Kolkata Knight Riders",
         "Won"
        ],
        [
         548359,
         "Rajasthan Royals",
         "bat",
         "Rajasthan Royals",
         "Won"
        ],
        [
         548360,
         "Mumbai Indians",
         "field",
         "Mumbai Indians",
         "Won"
        ],
        [
         548361,
         "Royal Challengers Bangalore",
         "field",
         "Royal Challengers Bangalore",
         "Won"
        ],
        [
         548362,
         "Delhi Daredevils",
         "bat",
         "Kolkata Knight Riders",
         "Lost"
        ],
        [
         548363,
         "Pune Warriors",
         "bat",
         "Rajasthan Royals",
         "Lost"
        ],
        [
         548364,
         "Deccan Chargers",
         "field",
         "Kings XI Punjab",
         "Lost"
        ],
        [
         548365,
         "Royal Challengers Bangalore",
         "field",
         "Royal Challengers Bangalore",
         "Won"
        ],
        [
         548366,
         "Chennai Super Kings",
         "field",
         "Chennai Super Kings",
         "Won"
        ],
        [
         548367,
         "Pune Warriors",
         "field",
         "Royal Challengers Bangalore",
         "Lost"
        ],
        [
         548368,
         "Mumbai Indians",
         "bat",
         "Mumbai Indians",
         "Won"
        ],
        [
         548369,
         "Chennai Super Kings",
         "field",
         "Chennai Super Kings",
         "Won"
        ],
        [
         548370,
         "Rajasthan Royals",
         "bat",
         "Rajasthan Royals",
         "Won"
        ],
        [
         548371,
         "Deccan Chargers",
         "bat",
         "Kings XI Punjab",
         "Lost"
        ],
        [
         548372,
         "Mumbai Indians",
         "field",
         "Mumbai Indians",
         "Won"
        ],
        [
         548373,
         "Chennai Super Kings",
         "field",
         "Chennai Super Kings",
         "Won"
        ],
        [
         548374,
         "Kings XI Punjab",
         "bat",
         "Delhi Daredevils",
         "Lost"
        ],
        [
         548375,
         "Mumbai Indians",
         "field",
         "Kolkata Knight Riders",
         "Lost"
        ],
        [
         548376,
         "Kings XI Punjab",
         "field",
         "Kings XI Punjab",
         "Won"
        ],
        [
         548377,
         "Delhi Daredevils",
         "field",
         "Royal Challengers Bangalore",
         "Lost"
        ],
        [
         548378,
         "Rajasthan Royals",
         "bat",
         "Deccan Chargers",
         "Lost"
        ],
        [
         548379,
         "Delhi Daredevils",
         "field",
         "Delhi Daredevils",
         "Won"
        ],
        [
         548380,
         "Kolkata Knight Riders",
         "bat",
         "Kolkata Knight Riders",
         "Won"
        ],
        [
         548381,
         "Royal Challengers Bangalore",
         "field",
         "Deccan Chargers",
         "Lost"
        ],
        [
         548382,
         "Rajasthan Royals",
         "bat",
         "Mumbai Indians",
         "Lost"
        ],
        [
         548383,
         "Kolkata Knight Riders",
         "bat",
         "Kolkata Knight Riders",
         "Won"
        ],
        [
         548384,
         "Mumbai Indians",
         "field",
         "Chennai Super Kings",
         "Lost"
        ],
        [
         548385,
         "Delhi Daredevils",
         "field",
         "Chennai Super Kings",
         "Lost"
        ],
        [
         548386,
         "Chennai Super Kings",
         "bat",
         "Kolkata Knight Riders",
         "Lost"
        ],
        [
         598003,
         "Kolkata Knight Riders",
         "field",
         "Kolkata Knight Riders",
         "Won"
        ],
        [
         598004,
         "Mumbai Indians",
         "field",
         "Royal Challengers Bangalore",
         "Lost"
        ],
        [
         598005,
         "Pune Warriors",
         "field",
         "Sunrisers Hyderabad",
         "Lost"
        ],
        [
         598006,
         "Rajasthan Royals",
         "bat",
         "Rajasthan Royals",
         "Won"
        ],
        [
         598007,
         "Mumbai Indians",
         "bat",
         "Mumbai Indians",
         "Won"
        ],
        [
         598008,
         "Pune Warriors",
         "bat",
         "Kings XI Punjab",
         "Lost"
        ],
        [
         598009,
         "Royal Challengers Bangalore",
         "bat",
         "Sunrisers Hyderabad",
         "Lost"
        ],
        [
         598010,
         "Kolkata Knight Riders",
         "field",
         "Rajasthan Royals",
         "Lost"
        ],
        [
         598011,
         "Mumbai Indians",
         "bat",
         "Mumbai Indians",
         "Won"
        ],
        [
         598012,
         "Chennai Super Kings",
         "field",
         "Chennai Super Kings",
         "Won"
        ],
        [
         598013,
         "Royal Challengers Bangalore",
         "field",
         "Royal Challengers Bangalore",
         "Won"
        ],
        [
         598014,
         "Rajasthan Royals",
         "bat",
         "Pune Warriors",
         "Lost"
        ],
        [
         598015,
         "Delhi Daredevils",
         "bat",
         "Sunrisers Hyderabad",
         "Lost"
        ],
        [
         598016,
         "Mumbai Indians",
         "bat",
         "Mumbai Indians",
         "Won"
        ],
        [
         598017,
         "Chennai Super Kings",
         "field",
         "Chennai Super Kings",
         "Won"
        ],
        [
         598018,
         "Kolkata Knight Riders",
         "bat",
         "Kolkata Knight Riders",
         "Won"
        ],
        [
         598019,
         "Rajasthan Royals",
         "field",
         "Rajasthan Royals",
         "Won"
        ],
        [
         598020,
         "Pune Warriors",
         "bat",
         "Pune Warriors",
         "Won"
        ],
        [
         598021,
         "Kolkata Knight Riders",
         "field",
         "Kings XI Punjab",
         "Lost"
        ],
        [
         598022,
         "Royal Challengers Bangalore",
         "field",
         "Royal Challengers Bangalore",
         "Won"
        ],
        [
         598023,
         "Pune Warriors",
         "field",
         "Sunrisers Hyderabad",
         "Lost"
        ],
        [
         598024,
         "Rajasthan Royals",
         "bat",
         "Rajasthan Royals",
         "Won"
        ],
        [
         598025,
         "Chennai Super Kings",
         "bat",
         "Chennai Super Kings",
         "Won"
        ],
        [
         598026,
         "Kings XI Punjab",
         "bat",
         "Sunrisers Hyderabad",
         "Lost"
        ],
        [
         598027,
         "Kolkata Knight Riders",
         "bat",
         "Chennai Super Kings",
         "Lost"
        ],
        [
         598028,
         "Royal Challengers Bangalore",
         "field",
         "Royal Challengers Bangalore",
         "Won"
        ],
        [
         598029,
         "Mumbai Indians",
         "bat",
         "Delhi Daredevils",
         "Lost"
        ],
        [
         598030,
         "Kings XI Punjab",
         "field",
         "Kings XI Punjab",
         "Won"
        ],
        [
         598031,
         "Rajasthan Royals",
         "bat",
         "Chennai Super Kings",
         "Lost"
        ],
        [
         598032,
         "Pune Warriors",
         "field",
         "Royal Challengers Bangalore",
         "Lost"
        ],
        [
         598033,
         "Delhi Daredevils",
         "field",
         "Kings XI Punjab",
         "Lost"
        ],
        [
         598034,
         "Kolkata Knight Riders",
         "bat",
         "Mumbai Indians",
         "Lost"
        ],
        [
         598035,
         "Sunrisers Hyderabad",
         "bat",
         "Chennai Super Kings",
         "Lost"
        ],
        [
         598036,
         "Kings XI Punjab",
         "bat",
         "Kolkata Knight Riders",
         "Lost"
        ],
        [
         598037,
         "Sunrisers Hyderabad",
         "bat",
         "Rajasthan Royals",
         "Lost"
        ],
        [
         598038,
         "Mumbai Indians",
         "bat",
         "Mumbai Indians",
         "Won"
        ],
        [
         598039,
         "Kolkata Knight Riders",
         "field",
         "Chennai Super Kings",
         "Lost"
        ],
        [
         598040,
         "Pune Warriors",
         "field",
         "Delhi Daredevils",
         "Lost"
        ],
        [
         598041,
         "Rajasthan Royals",
         "field",
         "Rajasthan Royals",
         "Won"
        ],
        [
         598042,
         "Mumbai Indians",
         "bat",
         "Mumbai Indians",
         "Won"
        ],
        [
         598043,
         "Chennai Super Kings",
         "bat",
         "Chennai Super Kings",
         "Won"
        ],
        [
         598044,
         "Mumbai Indians",
         "bat",
         "Sunrisers Hyderabad",
         "Lost"
        ],
        [
         598045,
         "Kolkata Knight Riders",
         "bat",
         "Delhi Daredevils",
         "Lost"
        ],
        [
         598046,
         "Chennai Super Kings",
         "bat",
         "Chennai Super Kings",
         "Won"
        ],
        [
         598047,
         "Royal Challengers Bangalore",
         "bat",
         "Royal Challengers Bangalore",
         "Won"
        ],
        [
         598048,
         "Rajasthan Royals",
         "bat",
         "Kolkata Knight Riders",
         "Lost"
        ],
        [
         598049,
         "Delhi Daredevils",
         "bat",
         "Sunrisers Hyderabad",
         "Lost"
        ],
        [
         598050,
         "Kings XI Punjab",
         "field",
         "Kings XI Punjab",
         "Won"
        ],
        [
         598051,
         "Mumbai Indians",
         "bat",
         "Mumbai Indians",
         "Won"
        ],
        [
         598052,
         "Pune Warriors",
         "bat",
         "Rajasthan Royals",
         "Lost"
        ],
        [
         598053,
         "Sunrisers Hyderabad",
         "bat",
         "Royal Challengers Bangalore",
         "Lost"
        ],
        [
         598054,
         "Delhi Daredevils",
         "bat",
         "Rajasthan Royals",
         "Lost"
        ],
        [
         598055,
         "Mumbai Indians",
         "bat",
         "Mumbai Indians",
         "Won"
        ],
        [
         598056,
         "Sunrisers Hyderabad",
         "field",
         "Chennai Super Kings",
         "Lost"
        ],
        [
         598057,
         "Rajasthan Royals",
         "field",
         "Rajasthan Royals",
         "Won"
        ],
        [
         598058,
         "Kolkata Knight Riders",
         "bat",
         "Kolkata Knight Riders",
         "Won"
        ],
        [
         598059,
         "Delhi Daredevils",
         "field",
         "Royal Challengers Bangalore",
         "Lost"
        ],
        [
         598060,
         "Pune Warriors",
         "bat",
         "Mumbai Indians",
         "Lost"
        ],
        [
         598061,
         "Kings XI Punjab",
         "field",
         "Sunrisers Hyderabad",
         "Lost"
        ],
        [
         598062,
         "Kolkata Knight Riders",
         "field",
         "Kolkata Knight Riders",
         "Won"
        ],
        [
         598063,
         "Rajasthan Royals",
         "field",
         "Rajasthan Royals",
         "Won"
        ],
        [
         598064,
         "Kings XI Punjab",
         "field",
         "Kings XI Punjab",
         "Won"
        ],
        [
         598065,
         "Sunrisers Hyderabad",
         "bat",
         "Mumbai Indians",
         "Lost"
        ],
        [
         598066,
         "Kolkata Knight Riders",
         "field",
         "Pune Warriors",
         "Lost"
        ],
        [
         598067,
         "Chennai Super Kings",
         "bat",
         "Chennai Super Kings",
         "Won"
        ],
        [
         598068,
         "Rajasthan Royals",
         "field",
         "Mumbai Indians",
         "Lost"
        ],
        [
         598069,
         "Kings XI Punjab",
         "field",
         "Kings XI Punjab",
         "Won"
        ],
        [
         598070,
         "Sunrisers Hyderabad",
         "bat",
         "Sunrisers Hyderabad",
         "Won"
        ],
        [
         598071,
         "Mumbai Indians",
         "field",
         "Kings XI Punjab",
         "Lost"
        ],
        [
         598072,
         "Pune Warriors",
         "bat",
         "Pune Warriors",
         "Won"
        ],
        [
         598073,
         "Chennai Super Kings",
         "field",
         "Royal Challengers Bangalore",
         "Lost"
        ],
        [
         598074,
         "Kolkata Knight Riders",
         "bat",
         "Sunrisers Hyderabad",
         "Lost"
        ],
        [
         598075,
         "Chennai Super Kings",
         "bat",
         "Chennai Super Kings",
         "Won"
        ],
        [
         598076,
         "Sunrisers Hyderabad",
         "bat",
         "Rajasthan Royals",
         "Lost"
        ],
        [
         598077,
         "Rajasthan Royals",
         "bat",
         "Mumbai Indians",
         "Lost"
        ],
        [
         598078,
         "Mumbai Indians",
         "bat",
         "Mumbai Indians",
         "Won"
        ],
        [
         729284,
         "Kolkata Knight Riders",
         "bat",
         "Kolkata Knight Riders",
         "Won"
        ],
        [
         729286,
         "Royal Challengers Bangalore",
         "field",
         "Royal Challengers Bangalore",
         "Won"
        ],
        [
         729288,
         "Chennai Super Kings",
         "bat",
         "Kings XI Punjab",
         "Lost"
        ],
        [
         729290,
         "Rajasthan Royals",
         "field",
         "Rajasthan Royals",
         "Won"
        ],
        [
         729292,
         "Royal Challengers Bangalore",
         "field",
         "Royal Challengers Bangalore",
         "Won"
        ],
        [
         729294,
         "Kolkata Knight Riders",
         "bat",
         "Delhi Daredevils",
         "Lost"
        ],
        [
         729296,
         "Kings XI Punjab",
         "field",
         "Kings XI Punjab",
         "Won"
        ],
        [
         729298,
         "Chennai Super Kings",
         "bat",
         "Chennai Super Kings",
         "Won"
        ],
        [
         729300,
         "Sunrisers Hyderabad",
         "field",
         "Kings XI Punjab",
         "Lost"
        ],
        [
         729302,
         "Rajasthan Royals",
         "field",
         "Chennai Super Kings",
         "Lost"
        ],
        [
         729304,
         "Royal Challengers Bangalore",
         "field",
         "Kolkata Knight Riders",
         "Lost"
        ],
        [
         729306,
         "Sunrisers Hyderabad",
         "bat",
         "Sunrisers Hyderabad",
         "Won"
        ],
        [
         729308,
         "Mumbai Indians",
         "bat",
         "Chennai Super Kings",
         "Lost"
        ],
        [
         729310,
         "Rajasthan Royals",
         "field",
         "Rajasthan Royals",
         "Won"
        ],
        [
         729312,
         "Kolkata Knight Riders",
         "field",
         "Kings XI Punjab",
         "Lost"
        ],
        [
         729314,
         "Mumbai Indians",
         "bat",
         "Delhi Daredevils",
         "Lost"
        ],
        [
         729316,
         "Sunrisers Hyderabad",
         "bat",
         "Chennai Super Kings",
         "Lost"
        ],
        [
         729318,
         "Kings XI Punjab",
         "field",
         "Kings XI Punjab",
         "Won"
        ],
        [
         729320,
         "Rajasthan Royals",
         "bat",
         "Rajasthan Royals",
         "Won"
        ],
        [
         729322,
         "Mumbai Indians",
         "field",
         "Sunrisers Hyderabad",
         "Lost"
        ],
        [
         733976,
         "Chennai Super Kings",
         "bat",
         "Chennai Super Kings",
         "Won"
        ],
        [
         733978,
         "Kings XI Punjab",
         "bat",
         "Mumbai Indians",
         "Lost"
        ],
        [
         733980,
         "Rajasthan Royals",
         "field",
         "Rajasthan Royals",
         "Won"
        ],
        [
         733982,
         "Royal Challengers Bangalore",
         "field",
         "Royal Challengers Bangalore",
         "Won"
        ],
        [
         733984,
         "Kolkata Knight Riders",
         "field",
         "Rajasthan Royals",
         "Lost"
        ],
        [
         733986,
         "Chennai Super Kings",
         "field",
         "Chennai Super Kings",
         "Won"
        ],
        [
         733988,
         "Royal Challengers Bangalore",
         "field",
         "Mumbai Indians",
         "Lost"
        ],
        [
         733990,
         "Delhi Daredevils",
         "bat",
         "Kolkata Knight Riders",
         "Lost"
        ],
        [
         733992,
         "Chennai Super Kings",
         "field",
         "Kings XI Punjab",
         "Lost"
        ],
        [
         733994,
         "Rajasthan Royals",
         "field",
         "Sunrisers Hyderabad",
         "Lost"
        ],
        [
         733996,
         "Royal Challengers Bangalore",
         "field",
         "Kings XI Punjab",
         "Lost"
        ],
        [
         733998,
         "Sunrisers Hyderabad",
         "field",
         "Sunrisers Hyderabad",
         "Won"
        ],
        [
         734000,
         "Chennai Super Kings",
         "field",
         "Chennai Super Kings",
         "Won"
        ],
        [
         734002,
         "Kolkata Knight Riders",
         "field",
         "Kolkata Knight Riders",
         "Won"
        ],
        [
         734004,
         "Royal Challengers Bangalore",
         "bat",
         "Rajasthan Royals",
         "Lost"
        ],
        [
         734006,
         "Sunrisers Hyderabad",
         "bat",
         "Mumbai Indians",
         "Lost"
        ],
        [
         734008,
         "Rajasthan Royals",
         "bat",
         "Chennai Super Kings",
         "Lost"
        ],
        [
         734010,
         "Delhi Daredevils",
         "field",
         "Royal Challengers Bangalore",
         "Lost"
        ],
        [
         734012,
         "Kings XI Punjab",
         "field",
         "Kings XI Punjab",
         "Won"
        ],
        [
         734014,
         "Kolkata Knight Riders",
         "field",
         "Kolkata Knight Riders",
         "Won"
        ],
        [
         734016,
         "Delhi Daredevils",
         "field",
         "Rajasthan Royals",
         "Lost"
        ],
        [
         734018,
         "Chennai Super Kings",
         "bat",
         "Royal Challengers Bangalore",
         "Lost"
        ],
        [
         734020,
         "Sunrisers Hyderabad",
         "bat",
         "Kolkata Knight Riders",
         "Lost"
        ],
        [
         734022,
         "Mumbai Indians",
         "bat",
         "Mumbai Indians",
         "Won"
        ],
        [
         734024,
         "Kings XI Punjab",
         "field",
         "Kings XI Punjab",
         "Won"
        ],
        [
         734026,
         "Royal Challengers Bangalore",
         "bat",
         "Sunrisers Hyderabad",
         "Lost"
        ],
        [
         734028,
         "Kolkata Knight Riders",
         "field",
         "Kolkata Knight Riders",
         "Won"
        ],
        [
         734030,
         "Mumbai Indians",
         "field",
         "Mumbai Indians",
         "Won"
        ],
        [
         734032,
         "Royal Challengers Bangalore",
         "field",
         "Kolkata Knight Riders",
         "Lost"
        ],
        [
         734034,
         "Sunrisers Hyderabad",
         "field",
         "Sunrisers Hyderabad",
         "Won"
        ],
        [
         734036,
         "Delhi Daredevils",
         "field",
         "Mumbai Indians",
         "Lost"
        ],
        [
         734038,
         "Rajasthan Royals",
         "field",
         "Kings XI Punjab",
         "Lost"
        ],
        [
         734040,
         "Chennai Super Kings",
         "field",
         "Chennai Super Kings",
         "Won"
        ],
        [
         734042,
         "Kolkata Knight Riders",
         "field",
         "Kolkata Knight Riders",
         "Won"
        ],
        [
         734044,
         "Kings XI Punjab",
         "field",
         "Kings XI Punjab",
         "Won"
        ],
        [
         734046,
         "Mumbai Indians",
         "field",
         "Mumbai Indians",
         "Won"
        ],
        [
         734048,
         "Kings XI Punjab",
         "field",
         "Kolkata Knight Riders",
         "Lost"
        ],
        [
         734050,
         "Chennai Super Kings",
         "field",
         "Chennai Super Kings",
         "Won"
        ],
        [
         734052,
         "Chennai Super Kings",
         "field",
         "Kings XI Punjab",
         "Lost"
        ],
        [
         734054,
         "Kolkata Knight Riders",
         "field",
         "Kolkata Knight Riders",
         "Won"
        ],
        [
         829710,
         "Kolkata Knight Riders",
         "field",
         "Kolkata Knight Riders",
         "Won"
        ],
        [
         829712,
         "Delhi Daredevils",
         "field",
         "Chennai Super Kings",
         "Lost"
        ],
        [
         829714,
         "Kings XI Punjab",
         "field",
         "Rajasthan Royals",
         "Lost"
        ],
        [
         829716,
         "Chennai Super Kings",
         "bat",
         "Chennai Super Kings",
         "Won"
        ],
        [
         829718,
         "Royal Challengers Bangalore",
         "field",
         "Royal Challengers Bangalore",
         "Won"
        ],
        [
         829720,
         "Rajasthan Royals",
         "field",
         "Rajasthan Royals",
         "Won"
        ],
        [
         829722,
         "Mumbai Indians",
         "field",
         "Kings XI Punjab",
         "Lost"
        ],
        [
         829724,
         "Sunrisers Hyderabad",
         "field",
         "Sunrisers Hyderabad",
         "Won"
        ],
        [
         829726,
         "Mumbai Indians",
         "bat",
         "Rajasthan Royals",
         "Lost"
        ],
        [
         829728,
         "Kolkata Knight Riders",
         "field",
         "Kolkata Knight Riders",
         "Won"
        ],
        [
         829730,
         "Kings XI Punjab",
         "bat",
         "Delhi Daredevils",
         "Lost"
        ],
        [
         829732,
         "Rajasthan Royals",
         "field",
         "Rajasthan Royals",
         "Won"
        ],
        [
         829734,
         "Mumbai Indians",
         "bat",
         "Chennai Super Kings",
         "Lost"
        ],
        [
         829736,
         "Delhi Daredevils",
         "bat",
         "Delhi Daredevils",
         "Won"
        ],
        [
         829738,
         "Kolkata Knight Riders",
         "field",
         "Kolkata Knight Riders",
         "Won"
        ],
        [
         829740,
         "Chennai Super Kings",
         "bat",
         "Rajasthan Royals",
         "Lost"
        ],
        [
         829742,
         "Royal Challengers Bangalore",
         "field",
         "Mumbai Indians",
         "Lost"
        ],
        [
         829744,
         "Kolkata Knight Riders",
         "field",
         "Kolkata Knight Riders",
         "Won"
        ],
        [
         829746,
         "Kings XI Punjab",
         "field",
         "Kings XI Punjab",
         "Won"
        ],
        [
         829748,
         "Kolkata Knight Riders",
         "field",
         "Sunrisers Hyderabad",
         "Lost"
        ],
        [
         829750,
         "Royal Challengers Bangalore",
         "field",
         "Chennai Super Kings",
         "Lost"
        ],
        [
         829752,
         "Mumbai Indians",
         "field",
         "Delhi Daredevils",
         "Lost"
        ],
        [
         829754,
         "Royal Challengers Bangalore",
         "field",
         "Royal Challengers Bangalore",
         "Won"
        ],
        [
         829756,
         "Mumbai Indians",
         "bat",
         "Mumbai Indians",
         "Won"
        ],
        [
         829758,
         "Chennai Super Kings",
         "bat",
         "Chennai Super Kings",
         "Won"
        ],
        [
         829762,
         "Royal Challengers Bangalore",
         "field",
         "Royal Challengers Bangalore",
         "Won"
        ],
        [
         829764,
         "Kings XI Punjab",
         "field",
         "Sunrisers Hyderabad",
         "Lost"
        ],
        [
         829766,
         "Kolkata Knight Riders",
         "bat",
         "Kolkata Knight Riders",
         "Won"
        ],
        [
         829768,
         "Rajasthan Royals",
         "field",
         "NULL",
         "Lost"
        ],
        [
         829770,
         "Kolkata Knight Riders",
         "field",
         "Chennai Super Kings",
         "Lost"
        ],
        [
         829772,
         "Delhi Daredevils",
         "field",
         "Delhi Daredevils",
         "Won"
        ],
        [
         829774,
         "Rajasthan Royals",
         "field",
         "Mumbai Indians",
         "Lost"
        ],
        [
         829776,
         "Royal Challengers Bangalore",
         "field",
         "Royal Challengers Bangalore",
         "Won"
        ],
        [
         829778,
         "Chennai Super Kings",
         "field",
         "Sunrisers Hyderabad",
         "Lost"
        ],
        [
         829780,
         "Mumbai Indians",
         "bat",
         "Mumbai Indians",
         "Won"
        ],
        [
         829782,
         "Delhi Daredevils",
         "field",
         "Rajasthan Royals",
         "Lost"
        ],
        [
         829784,
         "Chennai Super Kings",
         "bat",
         "Chennai Super Kings",
         "Won"
        ],
        [
         829786,
         "Sunrisers Hyderabad",
         "field",
         "Kolkata Knight Riders",
         "Lost"
        ],
        [
         829788,
         "Delhi Daredevils",
         "bat",
         "Mumbai Indians",
         "Lost"
        ],
        [
         829790,
         "Kings XI Punjab",
         "field",
         "Royal Challengers Bangalore",
         "Lost"
        ],
        [
         829792,
         "Rajasthan Royals",
         "field",
         "Sunrisers Hyderabad",
         "Lost"
        ],
        [
         829794,
         "Chennai Super Kings",
         "bat",
         "Mumbai Indians",
         "Lost"
        ],
        [
         829796,
         "Kings XI Punjab",
         "bat",
         "Kolkata Knight Riders",
         "Lost"
        ],
        [
         829798,
         "Sunrisers Hyderabad",
         "bat",
         "Sunrisers Hyderabad",
         "Won"
        ],
        [
         829800,
         "Royal Challengers Bangalore",
         "bat",
         "Royal Challengers Bangalore",
         "Won"
        ],
        [
         829802,
         "Chennai Super Kings",
         "bat",
         "Chennai Super Kings",
         "Won"
        ],
        [
         829804,
         "Sunrisers Hyderabad",
         "bat",
         "Sunrisers Hyderabad",
         "Won"
        ],
        [
         829806,
         "Chennai Super Kings",
         "bat",
         "Delhi Daredevils",
         "Lost"
        ],
        [
         829808,
         "Royal Challengers Bangalore",
         "field",
         "Kings XI Punjab",
         "Lost"
        ],
        [
         829810,
         "Kolkata Knight Riders",
         "field",
         "Mumbai Indians",
         "Lost"
        ],
        [
         829812,
         "Sunrisers Hyderabad",
         "bat",
         "Royal Challengers Bangalore",
         "Lost"
        ],
        [
         829814,
         "Kings XI Punjab",
         "bat",
         "Chennai Super Kings",
         "Lost"
        ],
        [
         829816,
         "Rajasthan Royals",
         "bat",
         "Rajasthan Royals",
         "Won"
        ],
        [
         829818,
         "Royal Challengers Bangalore",
         "field",
         "NULL",
         "Lost"
        ],
        [
         829820,
         "Sunrisers Hyderabad",
         "bat",
         "Mumbai Indians",
         "Lost"
        ],
        [
         829822,
         "Mumbai Indians",
         "bat",
         "Mumbai Indians",
         "Won"
        ],
        [
         829824,
         "Royal Challengers Bangalore",
         "bat",
         "Royal Challengers Bangalore",
         "Won"
        ],
        [
         829826,
         "Chennai Super Kings",
         "field",
         "Chennai Super Kings",
         "Won"
        ],
        [
         829828,
         "Chennai Super Kings",
         "field",
         "Mumbai Indians",
         "Lost"
        ],
        [
         980906,
         "Mumbai Indians",
         "bat",
         "Rising Pune Supergiants",
         "Lost"
        ],
        [
         980908,
         "Kolkata Knight Riders",
         "field",
         "Kolkata Knight Riders",
         "Won"
        ],
        [
         980910,
         "Gujarat Lions",
         "field",
         "Gujarat Lions",
         "Won"
        ],
        [
         980912,
         "Sunrisers Hyderabad",
         "field",
         "Royal Challengers Bangalore",
         "Lost"
        ],
        [
         980914,
         "Mumbai Indians",
         "field",
         "Mumbai Indians",
         "Won"
        ],
        [
         980916,
         "Rising Pune Supergiants",
         "bat",
         "Gujarat Lions",
         "Lost"
        ],
        [
         980918,
         "Delhi Daredevils",
         "field",
         "Delhi Daredevils",
         "Won"
        ],
        [
         980920,
         "Sunrisers Hyderabad",
         "bat",
         "Kolkata Knight Riders",
         "Lost"
        ],
        [
         980922,
         "Gujarat Lions",
         "field",
         "Gujarat Lions",
         "Won"
        ],
        [
         980924,
         "Rising Pune Supergiants",
         "bat",
         "Kings XI Punjab",
         "Lost"
        ],
        [
         980926,
         "Delhi Daredevils",
         "field",
         "Delhi Daredevils",
         "Won"
        ],
        [
         980928,
         "Sunrisers Hyderabad",
         "field",
         "Sunrisers Hyderabad",
         "Won"
        ],
        [
         980930,
         "Kolkata Knight Riders",
         "field",
         "Kolkata Knight Riders",
         "Won"
        ],
        [
         980932,
         "Mumbai Indians",
         "field",
         "Mumbai Indians",
         "Won"
        ],
        [
         980934,
         "Sunrisers Hyderabad",
         "field",
         "Sunrisers Hyderabad",
         "Won"
        ],
        [
         980936,
         "Rising Pune Supergiants",
         "field",
         "Royal Challengers Bangalore",
         "Lost"
        ],
        [
         980938,
         "Mumbai Indians",
         "field",
         "Delhi Daredevils",
         "Lost"
        ],
        [
         980940,
         "Sunrisers Hyderabad",
         "field",
         "Sunrisers Hyderabad",
         "Won"
        ],
        [
         980942,
         "Royal Challengers Bangalore",
         "bat",
         "Gujarat Lions",
         "Lost"
        ],
        [
         980944,
         "Kolkata Knight Riders",
         "field",
         "Kolkata Knight Riders",
         "Won"
        ],
        [
         980946,
         "Kings XI Punjab",
         "field",
         "Mumbai Indians",
         "Lost"
        ],
        [
         980948,
         "Rising Pune Supergiants",
         "field",
         "Rising Pune Supergiants",
         "Won"
        ],
        [
         980950,
         "Delhi Daredevils",
         "field",
         "Gujarat Lions",
         "Lost"
        ],
        [
         980952,
         "Mumbai Indians",
         "field",
         "Mumbai Indians",
         "Won"
        ],
        [
         980954,
         "Gujarat Lions",
         "field",
         "Gujarat Lions",
         "Won"
        ],
        [
         980956,
         "Kolkata Knight Riders",
         "field",
         "Delhi Daredevils",
         "Lost"
        ],
        [
         980958,
         "Royal Challengers Bangalore",
         "field",
         "Sunrisers Hyderabad",
         "Lost"
        ],
        [
         980960,
         "Gujarat Lions",
         "field",
         "Kings XI Punjab",
         "Lost"
        ],
        [
         980962,
         "Mumbai Indians",
         "field",
         "Mumbai Indians",
         "Won"
        ],
        [
         980964,
         "Kolkata Knight Riders",
         "field",
         "Kolkata Knight Riders",
         "Won"
        ],
        [
         980966,
         "Delhi Daredevils",
         "field",
         "Delhi Daredevils",
         "Won"
        ],
        [
         980968,
         "Kings XI Punjab",
         "field",
         "Kolkata Knight Riders",
         "Lost"
        ],
        [
         980970,
         "Rising Pune Supergiants",
         "field",
         "Rising Pune Supergiants",
         "Won"
        ],
        [
         980972,
         "Sunrisers Hyderabad",
         "field",
         "Sunrisers Hyderabad",
         "Won"
        ],
        [
         980974,
         "Royal Challengers Bangalore",
         "field",
         "Royal Challengers Bangalore",
         "Won"
        ],
        [
         980976,
         "Delhi Daredevils",
         "field",
         "Kings XI Punjab",
         "Lost"
        ],
        [
         980978,
         "Mumbai Indians",
         "field",
         "Sunrisers Hyderabad",
         "Lost"
        ],
        [
         980980,
         "Gujarat Lions",
         "field",
         "Gujarat Lions",
         "Won"
        ],
        [
         980982,
         "Kings XI Punjab",
         "field",
         "Royal Challengers Bangalore",
         "Lost"
        ],
        [
         980984,
         "Sunrisers Hyderabad",
         "bat",
         "Sunrisers Hyderabad",
         "Won"
        ],
        [
         980986,
         "Mumbai Indians",
         "field",
         "Mumbai Indians",
         "Won"
        ],
        [
         980988,
         "Delhi Daredevils",
         "field",
         "Delhi Daredevils",
         "Won"
        ],
        [
         980990,
         "Mumbai Indians",
         "bat",
         "Kings XI Punjab",
         "Lost"
        ],
        [
         980992,
         "Gujarat Lions",
         "field",
         "Royal Challengers Bangalore",
         "Lost"
        ],
        [
         980994,
         "Rising Pune Supergiants",
         "bat",
         "Kolkata Knight Riders",
         "Lost"
        ],
        [
         980996,
         "Kings XI Punjab",
         "bat",
         "Sunrisers Hyderabad",
         "Lost"
        ],
        [
         980998,
         "Delhi Daredevils",
         "field",
         "Mumbai Indians",
         "Lost"
        ],
        [
         981000,
         "Royal Challengers Bangalore",
         "field",
         "Royal Challengers Bangalore",
         "Won"
        ],
        [
         981002,
         "Rising Pune Supergiants",
         "field",
         "Rising Pune Supergiants",
         "Won"
        ],
        [
         981004,
         "Kings XI Punjab",
         "field",
         "Royal Challengers Bangalore",
         "Lost"
        ],
        [
         981006,
         "Gujarat Lions",
         "field",
         "Gujarat Lions",
         "Won"
        ],
        [
         981008,
         "Delhi Daredevils",
         "field",
         "Delhi Daredevils",
         "Won"
        ],
        [
         981010,
         "Kings XI Punjab",
         "bat",
         "Rising Pune Supergiants",
         "Lost"
        ],
        [
         981012,
         "Gujarat Lions",
         "field",
         "Gujarat Lions",
         "Won"
        ],
        [
         981014,
         "Sunrisers Hyderabad",
         "field",
         "Kolkata Knight Riders",
         "Lost"
        ],
        [
         981016,
         "Royal Challengers Bangalore",
         "field",
         "Royal Challengers Bangalore",
         "Won"
        ],
        [
         981018,
         "Royal Challengers Bangalore",
         "field",
         "Royal Challengers Bangalore",
         "Won"
        ],
        [
         981020,
         "Kolkata Knight Riders",
         "field",
         "Sunrisers Hyderabad",
         "Lost"
        ],
        [
         981022,
         "Sunrisers Hyderabad",
         "field",
         "Sunrisers Hyderabad",
         "Won"
        ],
        [
         981024,
         "Sunrisers Hyderabad",
         "bat",
         "Sunrisers Hyderabad",
         "Won"
        ],
        [
         1082591,
         "Royal Challengers Bangalore",
         "Field",
         "Sunrisers Hyderabad",
         "Lost"
        ],
        [
         1082592,
         "Rising Pune Supergiant",
         "Field",
         "Rising Pune Supergiants",
         "Lost"
        ],
        [
         1082593,
         "Kolkata Knight Riders",
         "Field",
         "Kolkata Knight Riders",
         "Won"
        ],
        [
         1082594,
         "Kings XI Punjab",
         "Field",
         "Kings XI Punjab",
         "Won"
        ],
        [
         1082595,
         "Royal Challengers Bangalore",
         "Bat",
         "Royal Challengers Bangalore",
         "Won"
        ],
        [
         1082596,
         "Sunrisers Hyderabad",
         "Field",
         "Sunrisers Hyderabad",
         "Won"
        ],
        [
         1082597,
         "Mumbai Indians",
         "Field",
         "Mumbai Indians",
         "Won"
        ],
        [
         1082598,
         "Royal Challengers Bangalore",
         "Bat",
         "Kings XI Punjab",
         "Lost"
        ],
        [
         1082599,
         "Rising Pune Supergiants",
         "Field",
         "Delhi Daredevils",
         "Lost"
        ],
        [
         1082600,
         "Mumbai Indians",
         "Field",
         "Mumbai Indians",
         "Won"
        ],
        [
         1082601,
         "Kolkata Knight Riders",
         "Field",
         "Kolkata Knight Riders",
         "Won"
        ],
        [
         1082602,
         "Mumbai Indians",
         "Field",
         "Mumbai Indians",
         "Won"
        ],
        [
         1082603,
         "Gujarat Lions",
         "Field",
         "Gujarat Lions",
         "Won"
        ],
        [
         1082604,
         "Sunrisers Hyderabad",
         "Field",
         "Kolkata Knight Riders",
         "Lost"
        ],
        [
         1082605,
         "Delhi Daredevils",
         "Bat",
         "Delhi Daredevils",
         "Won"
        ],
        [
         1082606,
         "Mumbai Indians",
         "Field",
         "Mumbai Indians",
         "Won"
        ],
        [
         1082607,
         "Royal Challengers Bangalore",
         "Field",
         "Rising Pune Supergiants",
         "Lost"
        ],
        [
         1082608,
         "Delhi Daredevils",
         "Bat",
         "Kolkata Knight Riders",
         "Lost"
        ],
        [
         1082609,
         "Kings XI Punjab",
         "Field",
         "Sunrisers Hyderabad",
         "Lost"
        ],
        [
         1082610,
         "Gujarat Lions",
         "Field",
         "Royal Challengers Bangalore",
         "Lost"
        ],
        [
         1082611,
         "Sunrisers Hyderabad",
         "Bat",
         "Sunrisers Hyderabad",
         "Won"
        ],
        [
         1082612,
         "Mumbai Indians",
         "Field",
         "Mumbai Indians",
         "Won"
        ],
        [
         1082613,
         "Gujarat Lions",
         "Field",
         "Gujarat Lions",
         "Won"
        ],
        [
         1082614,
         "Delhi Daredevils",
         "Field",
         "Mumbai Indians",
         "Lost"
        ],
        [
         1082615,
         "Rising Pune Supergiants",
         "Field",
         "Rising Pune Supergiants",
         "Won"
        ],
        [
         1082616,
         "Gujarat Lions",
         "Field",
         "Kings XI Punjab",
         "Lost"
        ],
        [
         1082617,
         "Royal Challengers Bangalore",
         "Field",
         "Kolkata Knight Riders",
         "Lost"
        ],
        [
         1082618,
         "Mumbai Indians",
         "Field",
         "Rising Pune Supergiants",
         "Lost"
        ],
        [
         1082619,
         null,
         "NA",
         "abandoned",
         "Lost"
        ],
        [
         1082620,
         "Kolkata Knight Riders",
         "Field",
         "Kolkata Knight Riders",
         "Won"
        ],
        [
         1082621,
         "Gujarat Lions",
         "Field",
         "Gujarat Lions",
         "Won"
        ],
        [
         1082622,
         "Kolkata Knight Riders",
         "Field",
         "Kolkata Knight Riders",
         "Won"
        ],
        [
         1082623,
         "Kings XI Punjab",
         "Field",
         "Sunrisers Hyderabad",
         "Lost"
        ],
        [
         1082624,
         "Royal Challengers Bangalore",
         "Field",
         "Rising Pune Supergiants",
         "Lost"
        ],
        [
         1082625,
         "Gujarat Lions",
         "Bat",
         "tied",
         "Lost"
        ],
        [
         1082626,
         "Kings XI Punjab",
         "Field",
         "Kings XI Punjab",
         "Won"
        ],
        [
         1082627,
         "Kolkata Knight Riders",
         "Field",
         "Sunrisers Hyderabad",
         "Lost"
        ],
        [
         1082628,
         "Royal Challengers Bangalore",
         "Bat",
         "Mumbai Indians",
         "Lost"
        ],
        [
         1082629,
         "Rising Pune Supergiants",
         "Field",
         "Rising Pune Supergiants",
         "Won"
        ],
        [
         1082630,
         "Delhi Daredevils",
         "Field",
         "Delhi Daredevils",
         "Won"
        ],
        [
         1082631,
         "Rising Pune Supergiants",
         "Field",
         "Rising Pune Supergiants",
         "Won"
        ],
        [
         1082632,
         "Delhi Daredevils",
         "Field",
         "Delhi Daredevils",
         "Won"
        ],
        [
         1082633,
         "Royal Challengers Bangalore",
         "Field",
         "Kings XI Punjab",
         "Lost"
        ],
        [
         1082634,
         "Sunrisers Hyderabad",
         "Field",
         "Rising Pune Supergiants",
         "Lost"
        ],
        [
         1082635,
         "Delhi Daredevils",
         "Field",
         "Mumbai Indians",
         "Lost"
        ],
        [
         1082636,
         "Kolkata Knight Riders",
         "Field",
         "Kolkata Knight Riders",
         "Won"
        ],
        [
         1082637,
         "Gujarat Lions",
         "Field",
         "Gujarat Lions",
         "Won"
        ],
        [
         1082638,
         "Mumbai Indians",
         "Bat",
         "Sunrisers Hyderabad",
         "Lost"
        ],
        [
         1082639,
         "Kolkata Knight Riders",
         "Field",
         "Kings XI Punjab",
         "Lost"
        ],
        [
         1082640,
         "Delhi Daredevils",
         "Field",
         "Delhi Daredevils",
         "Won"
        ],
        [
         1082641,
         "Mumbai Indians",
         "Field",
         "Kings XI Punjab",
         "Lost"
        ],
        [
         1082642,
         "Delhi Daredevils",
         "Bat",
         "Delhi Daredevils",
         "Won"
        ],
        [
         1082643,
         "Sunrisers Hyderabad",
         "Field",
         "Sunrisers Hyderabad",
         "Won"
        ],
        [
         1082644,
         "Kolkata Knight Riders",
         "Field",
         "Mumbai Indians",
         "Lost"
        ],
        [
         1082645,
         "Rising Pune Supergiants",
         "Field",
         "Rising Pune Supergiants",
         "Won"
        ],
        [
         1082646,
         "Royal Challengers Bangalore",
         "Bat",
         "Royal Challengers Bangalore",
         "Won"
        ],
        [
         1082647,
         "Mumbai Indians",
         "Field",
         "Rising Pune Supergiants",
         "Lost"
        ],
        [
         1082648,
         "Kolkata Knight Riders",
         "Field",
         "Kolkata Knight Riders",
         "Won"
        ],
        [
         1082649,
         "Mumbai Indians",
         "Field",
         "Mumbai Indians",
         "Won"
        ],
        [
         1082650,
         "Mumbai Indians",
         "Bat",
         "Mumbai Indians",
         "Won"
        ]
       ],
       "datasetInfos": [],
       "dbfsResultPath": null,
       "isJsonSchema": true,
       "metadata": {},
       "overflow": false,
       "plotOptions": {
        "customPlotOptions": {},
        "displayType": "table",
        "pivotAggregation": null,
        "pivotColumns": null,
        "xColumns": null,
        "yColumns": null
       },
       "removedWidgets": [],
       "schema": [
        {
         "metadata": "{}",
         "name": "match_id",
         "type": "\"integer\""
        },
        {
         "metadata": "{}",
         "name": "toss_winner",
         "type": "\"string\""
        },
        {
         "metadata": "{}",
         "name": "toss_name",
         "type": "\"string\""
        },
        {
         "metadata": "{}",
         "name": "match_winner",
         "type": "\"string\""
        },
        {
         "metadata": "{}",
         "name": "match_outcome",
         "type": "\"string\""
        }
       ],
       "type": "table"
      }
     },
     "output_type": "display_data"
    }
   ],
   "source": [
    "%sql\n",
    "/*** Impact of Toss in individual matches ***/\n",
    "SELECT m.match_id, m.toss_winner, m.toss_name, m.match_winner,\n",
    "       CASE WHEN m.toss_winner = m.match_winner THEN 'Won' ELSE 'Lost' END AS match_outcome\n",
    "FROM global_temp.match m\n",
    "WHERE m.toss_name IS NOT NULL\n",
    "ORDER BY m.match_id"
   ]
  },
  {
   "cell_type": "code",
   "execution_count": 0,
   "metadata": {
    "application/vnd.databricks.v1+cell": {
     "cellMetadata": {},
     "inputWidgets": {},
     "nuid": "fa007e51-95be-407d-94e4-6b609dc7781b",
     "showTitle": false,
     "title": ""
    }
   },
   "outputs": [],
   "source": []
  }
 ],
 "metadata": {
  "application/vnd.databricks.v1+notebook": {
   "dashboards": [],
   "language": "python",
   "notebookMetadata": {
    "pythonIndentUnit": 4
   },
   "notebookName": "4.Analysis_Using_Spark_Sql",
   "widgets": {}
  }
 },
 "nbformat": 4,
 "nbformat_minor": 0
}
